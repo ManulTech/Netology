{
 "cells": [
  {
   "cell_type": "code",
   "execution_count": 1,
   "metadata": {},
   "outputs": [],
   "source": [
    "import numpy as np"
   ]
  },
  {
   "cell_type": "code",
   "execution_count": 2,
   "metadata": {},
   "outputs": [],
   "source": [
    "a = np.random.normal(size=(10, 1))\n",
    "b = np.random.normal(size=(1, 10))"
   ]
  },
  {
   "cell_type": "code",
   "execution_count": 4,
   "metadata": {},
   "outputs": [
    {
     "data": {
      "text/plain": [
       "array([[ 0.29621728],\n",
       "       [ 0.9880077 ],\n",
       "       [-1.31668752],\n",
       "       [ 0.56741443],\n",
       "       [ 0.45660853],\n",
       "       [ 0.01831206],\n",
       "       [ 2.32980003],\n",
       "       [ 0.75711759],\n",
       "       [ 1.62282643],\n",
       "       [ 1.63063887]])"
      ]
     },
     "execution_count": 4,
     "metadata": {},
     "output_type": "execute_result"
    }
   ],
   "source": [
    "a"
   ]
  },
  {
   "cell_type": "code",
   "execution_count": 5,
   "metadata": {},
   "outputs": [
    {
     "data": {
      "text/plain": [
       "array([[ 0.4126144 , -1.69647769,  0.45853356,  0.84207443, -1.660322  ,\n",
       "        -0.68425768,  0.8556869 ,  0.92217086,  0.64986287,  1.20707598]])"
      ]
     },
     "execution_count": 5,
     "metadata": {},
     "output_type": "execute_result"
    }
   ],
   "source": [
    "b"
   ]
  },
  {
   "cell_type": "code",
   "execution_count": 6,
   "metadata": {},
   "outputs": [
    {
     "data": {
      "text/plain": [
       "array([[ 0.12222351, -0.502526  ,  0.13582556,  0.24943699, -0.49181606,\n",
       "        -0.20268895,  0.25346924,  0.27316294,  0.19250061,  0.35755676],\n",
       "       [ 0.4076662 , -1.67613302,  0.45303468,  0.83197601, -1.64041091,\n",
       "        -0.67605186,  0.84542524,  0.91111191,  0.64206952,  1.19260036],\n",
       "       [-0.54328423,  2.233731  , -0.60374541, -1.10874889,  2.18612525,\n",
       "         0.90095355, -1.12667226, -1.21421086, -0.85566632, -1.58934187],\n",
       "       [ 0.23412336, -0.96260593,  0.26017856,  0.47780518, -0.94209066,\n",
       "        -0.38825768,  0.4855291 ,  0.52325306,  0.36874157,  0.68491233],\n",
       "       [ 0.18840325, -0.77462618,  0.20937033,  0.38449836, -0.75811718,\n",
       "        -0.31243789,  0.39071393,  0.42107108,  0.29673293,  0.55116118],\n",
       "       [ 0.00755582, -0.03106601,  0.0083967 ,  0.01542012, -0.03040392,\n",
       "        -0.01253017,  0.01566939,  0.01688685,  0.01190033,  0.02210405],\n",
       "       [ 0.96130904, -3.95245378,  1.0682915 ,  1.96186503, -3.86821825,\n",
       "        -1.59418357,  1.99357937,  2.14847371,  1.51405053,  2.81224566],\n",
       "       [ 0.31239762, -1.2844331 ,  0.34716382,  0.63754936, -1.25705899,\n",
       "        -0.51806353,  0.6478556 ,  0.69819178,  0.49202261,  0.91389846],\n",
       "       [ 0.66960155, -2.75308883,  0.74412037,  1.36654063, -2.69441442,\n",
       "        -1.11043145,  1.38863131,  1.49652325,  1.05461463,  1.9588748 ],\n",
       "       [ 0.67282508, -2.76634247,  0.74770264,  1.37311929, -2.70738559,\n",
       "        -1.11577718,  1.39531632,  1.50372765,  1.05969165,  1.96830501]])"
      ]
     },
     "execution_count": 6,
     "metadata": {},
     "output_type": "execute_result"
    }
   ],
   "source": [
    "np.dot(a, b)"
   ]
  },
  {
   "cell_type": "code",
   "execution_count": 3,
   "metadata": {},
   "outputs": [
    {
     "data": {
      "text/plain": [
       "(10, 10)"
      ]
     },
     "execution_count": 3,
     "metadata": {},
     "output_type": "execute_result"
    }
   ],
   "source": [
    "result = np.dot(a, b)\n",
    "result.shape"
   ]
  },
  {
   "cell_type": "code",
   "execution_count": 7,
   "metadata": {},
   "outputs": [],
   "source": [
    "aLength = np.linalg.norm( a )\n",
    "bLength = np.linalg.norm( b )"
   ]
  },
  {
   "cell_type": "code",
   "execution_count": 8,
   "metadata": {},
   "outputs": [
    {
     "data": {
      "text/plain": [
       "3.823885417110984"
      ]
     },
     "execution_count": 8,
     "metadata": {},
     "output_type": "execute_result"
    }
   ],
   "source": [
    "aLength"
   ]
  },
  {
   "cell_type": "code",
   "execution_count": 9,
   "metadata": {},
   "outputs": [
    {
     "data": {
      "text/plain": [
       "3.2641171273455383"
      ]
     },
     "execution_count": 9,
     "metadata": {},
     "output_type": "execute_result"
    }
   ],
   "source": [
    "bLength"
   ]
  },
  {
   "cell_type": "code",
   "execution_count": 11,
   "metadata": {},
   "outputs": [
    {
     "data": {
      "text/plain": [
       "array([[1., 0.],\n",
       "       [0., 1.]])"
      ]
     },
     "execution_count": 11,
     "metadata": {},
     "output_type": "execute_result"
    }
   ],
   "source": [
    "np.eye(2)"
   ]
  },
  {
   "cell_type": "code",
   "execution_count": null,
   "metadata": {},
   "outputs": [],
   "source": []
  }
 ],
 "metadata": {
  "kernelspec": {
   "display_name": "Python 3",
   "language": "python",
   "name": "python3"
  },
  "language_info": {
   "codemirror_mode": {
    "name": "ipython",
    "version": 3
   },
   "file_extension": ".py",
   "mimetype": "text/x-python",
   "name": "python",
   "nbconvert_exporter": "python",
   "pygments_lexer": "ipython3",
   "version": "3.7.6"
  }
 },
 "nbformat": 4,
 "nbformat_minor": 4
}
