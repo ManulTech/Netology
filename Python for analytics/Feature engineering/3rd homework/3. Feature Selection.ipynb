{
 "cells": [
  {
   "cell_type": "markdown",
   "metadata": {},
   "source": [
    "# Feature Selection\n",
    "\n",
    "**Задание**\n",
    "\n",
    "Вы получили основные навыки обработки данных, теперь пора испытать их на практике. Сейчас вам предстоит заняться задачей классификации.\n",
    "\n",
    "Представлен датасет центра приюта животных, и вашей задачей будет обучить модель таким образом, чтобы  по определенным признакам была возможность максимально уверенно предсказать метки 'Adoption' и 'Transfer' (столбец “outcome_type”).\n",
    "\n",
    "Здесь вы вольны делать что угодно. Я хочу видеть от вас:\n",
    "1. Проверка наличия/обработка пропусков\n",
    "2. Проверьте взаимосвязи между признаками\n",
    "3. Попробуйте создать свои признаки\n",
    "4. Удалите лишние\n",
    "5. Обратите внимание на текстовые столбцы. Подумайте, что можно извлечь полезного оттуда\n",
    "6. Использование профайлера вам поможет.\n",
    "7. Не забывайте, что у вас есть PCA (Метод главных компонент). Он может пригодиться.\n",
    "\n",
    "Вспомните о всем, что я говорил на предыдущих занятиях. Не все будет пригодится, но в жизни вам никто не будет говорить, что использовать :)\n",
    "\n",
    "Хорошим классификатором для этой задачи будет \"Случайный лес\" (https://scikit-learn.org/stable/modules/generated/sklearn.ensemble.RandomForestClassifier.html)\n",
    "\n",
    "Понимать суть работы \"леса\" не обязательно на данном этапе, но качество предсказаний будет выше, чем с линейным классификатором. (если желаете, вот гайд https://adataanalyst.com/scikit-learn/linear-classification-method/)\n",
    "\n",
    "Желаю успеха :)"
   ]
  },
  {
   "cell_type": "code",
   "execution_count": 1,
   "metadata": {},
   "outputs": [],
   "source": [
    "import numpy as np\n",
    "import pandas as pd\n",
    "import seaborn as sns\n",
    "\n",
    "from matplotlib import pyplot as plt\n",
    "%matplotlib inline\n",
    "\n",
    "import warnings\n",
    "warnings.simplefilter(\"ignore\")"
   ]
  },
  {
   "cell_type": "code",
   "execution_count": 2,
   "metadata": {
    "scrolled": true
   },
   "outputs": [
    {
     "data": {
      "text/html": [
       "<div>\n",
       "<style scoped>\n",
       "    .dataframe tbody tr th:only-of-type {\n",
       "        vertical-align: middle;\n",
       "    }\n",
       "\n",
       "    .dataframe tbody tr th {\n",
       "        vertical-align: top;\n",
       "    }\n",
       "\n",
       "    .dataframe thead th {\n",
       "        text-align: right;\n",
       "    }\n",
       "</style>\n",
       "<table border=\"1\" class=\"dataframe\">\n",
       "  <thead>\n",
       "    <tr style=\"text-align: right;\">\n",
       "      <th></th>\n",
       "      <th>age_upon_outcome</th>\n",
       "      <th>animal_id</th>\n",
       "      <th>animal_type</th>\n",
       "      <th>breed</th>\n",
       "      <th>color</th>\n",
       "      <th>date_of_birth</th>\n",
       "      <th>datetime</th>\n",
       "      <th>monthyear</th>\n",
       "      <th>name</th>\n",
       "      <th>outcome_subtype</th>\n",
       "      <th>outcome_type</th>\n",
       "      <th>sex_upon_outcome</th>\n",
       "    </tr>\n",
       "  </thead>\n",
       "  <tbody>\n",
       "    <tr>\n",
       "      <td>0</td>\n",
       "      <td>2 weeks</td>\n",
       "      <td>A684346</td>\n",
       "      <td>Cat</td>\n",
       "      <td>Domestic Shorthair Mix</td>\n",
       "      <td>Orange Tabby</td>\n",
       "      <td>2014-07-07T00:00:00</td>\n",
       "      <td>2014-07-22T16:04:00</td>\n",
       "      <td>2014-07-22T16:04:00</td>\n",
       "      <td>NaN</td>\n",
       "      <td>Partner</td>\n",
       "      <td>Transfer</td>\n",
       "      <td>Intact Male</td>\n",
       "    </tr>\n",
       "    <tr>\n",
       "      <td>1</td>\n",
       "      <td>1 year</td>\n",
       "      <td>A666430</td>\n",
       "      <td>Dog</td>\n",
       "      <td>Beagle Mix</td>\n",
       "      <td>White/Brown</td>\n",
       "      <td>2012-11-06T00:00:00</td>\n",
       "      <td>2013-11-07T11:47:00</td>\n",
       "      <td>2013-11-07T11:47:00</td>\n",
       "      <td>Lucy</td>\n",
       "      <td>Partner</td>\n",
       "      <td>Transfer</td>\n",
       "      <td>Spayed Female</td>\n",
       "    </tr>\n",
       "    <tr>\n",
       "      <td>2</td>\n",
       "      <td>1 year</td>\n",
       "      <td>A675708</td>\n",
       "      <td>Dog</td>\n",
       "      <td>Pit Bull</td>\n",
       "      <td>Blue/White</td>\n",
       "      <td>2013-03-31T00:00:00</td>\n",
       "      <td>2014-06-03T14:20:00</td>\n",
       "      <td>2014-06-03T14:20:00</td>\n",
       "      <td>*Johnny</td>\n",
       "      <td>NaN</td>\n",
       "      <td>Adoption</td>\n",
       "      <td>Neutered Male</td>\n",
       "    </tr>\n",
       "    <tr>\n",
       "      <td>3</td>\n",
       "      <td>9 years</td>\n",
       "      <td>A680386</td>\n",
       "      <td>Dog</td>\n",
       "      <td>Miniature Schnauzer Mix</td>\n",
       "      <td>White</td>\n",
       "      <td>2005-06-02T00:00:00</td>\n",
       "      <td>2014-06-15T15:50:00</td>\n",
       "      <td>2014-06-15T15:50:00</td>\n",
       "      <td>Monday</td>\n",
       "      <td>Partner</td>\n",
       "      <td>Transfer</td>\n",
       "      <td>Neutered Male</td>\n",
       "    </tr>\n",
       "    <tr>\n",
       "      <td>4</td>\n",
       "      <td>5 months</td>\n",
       "      <td>A683115</td>\n",
       "      <td>Other</td>\n",
       "      <td>Bat Mix</td>\n",
       "      <td>Brown</td>\n",
       "      <td>2014-01-07T00:00:00</td>\n",
       "      <td>2014-07-07T14:04:00</td>\n",
       "      <td>2014-07-07T14:04:00</td>\n",
       "      <td>NaN</td>\n",
       "      <td>Rabies Risk</td>\n",
       "      <td>Euthanasia</td>\n",
       "      <td>Unknown</td>\n",
       "    </tr>\n",
       "  </tbody>\n",
       "</table>\n",
       "</div>"
      ],
      "text/plain": [
       "  age_upon_outcome animal_id animal_type                    breed  \\\n",
       "0          2 weeks   A684346         Cat   Domestic Shorthair Mix   \n",
       "1           1 year   A666430         Dog               Beagle Mix   \n",
       "2           1 year   A675708         Dog                 Pit Bull   \n",
       "3          9 years   A680386         Dog  Miniature Schnauzer Mix   \n",
       "4         5 months   A683115       Other                  Bat Mix   \n",
       "\n",
       "          color        date_of_birth             datetime  \\\n",
       "0  Orange Tabby  2014-07-07T00:00:00  2014-07-22T16:04:00   \n",
       "1   White/Brown  2012-11-06T00:00:00  2013-11-07T11:47:00   \n",
       "2    Blue/White  2013-03-31T00:00:00  2014-06-03T14:20:00   \n",
       "3         White  2005-06-02T00:00:00  2014-06-15T15:50:00   \n",
       "4         Brown  2014-01-07T00:00:00  2014-07-07T14:04:00   \n",
       "\n",
       "             monthyear     name outcome_subtype outcome_type sex_upon_outcome  \n",
       "0  2014-07-22T16:04:00      NaN         Partner     Transfer      Intact Male  \n",
       "1  2013-11-07T11:47:00     Lucy         Partner     Transfer    Spayed Female  \n",
       "2  2014-06-03T14:20:00  *Johnny             NaN     Adoption    Neutered Male  \n",
       "3  2014-06-15T15:50:00   Monday         Partner     Transfer    Neutered Male  \n",
       "4  2014-07-07T14:04:00      NaN     Rabies Risk   Euthanasia          Unknown  "
      ]
     },
     "execution_count": 2,
     "metadata": {},
     "output_type": "execute_result"
    }
   ],
   "source": [
    "df = pd.read_csv(\"./data/aac_shelter_outcomes.csv\", sep=\",\", encoding=\"utf-8\")\n",
    "df.head()"
   ]
  },
  {
   "cell_type": "markdown",
   "metadata": {},
   "source": [
    "Посмотрим заодно и на размер датасета:"
   ]
  },
  {
   "cell_type": "code",
   "execution_count": 3,
   "metadata": {},
   "outputs": [
    {
     "data": {
      "text/plain": [
       "(78256, 12)"
      ]
     },
     "execution_count": 3,
     "metadata": {},
     "output_type": "execute_result"
    }
   ],
   "source": [
    "df.shape"
   ]
  },
  {
   "cell_type": "markdown",
   "metadata": {},
   "source": [
    "## Первичная работа\n",
    "\n",
    "### Проверка на пропуски"
   ]
  },
  {
   "cell_type": "code",
   "execution_count": 4,
   "metadata": {},
   "outputs": [
    {
     "name": "stdout",
     "output_type": "stream",
     "text": [
      "COL: age_upon_outcome, NAN: 8\n",
      "COL: animal_id, NAN: 0\n",
      "COL: animal_type, NAN: 0\n",
      "COL: breed, NAN: 0\n",
      "COL: color, NAN: 0\n",
      "COL: date_of_birth, NAN: 0\n",
      "COL: datetime, NAN: 0\n",
      "COL: monthyear, NAN: 0\n",
      "COL: name, NAN: 23886\n",
      "COL: outcome_subtype, NAN: 42293\n",
      "COL: outcome_type, NAN: 12\n",
      "COL: sex_upon_outcome, NAN: 2\n"
     ]
    }
   ],
   "source": [
    "for col in df.columns:\n",
    "    print(f\"COL: {col}, NAN: {df[col].isnull().sum()}\") "
   ]
  },
  {
   "cell_type": "markdown",
   "metadata": {},
   "source": [
    "Очень много пропусков в колонках `outcome_subtype` (примерно половина), `name`. Единичные пропуски в `age_upon_outcome`, `outcome_type` и `sex_upon_outcome`.\n",
    "\n",
    "**Вывод:** \n",
    "\n",
    "* `outcome_subtype` удаляем,\n",
    "\n",
    "* `name` переводим в категорию: было имя или нет,\n",
    "\n",
    "* `age_upon_outcome`, `outcome_type` и `sex_upon_outcome` пока не трогаем."
   ]
  },
  {
   "cell_type": "markdown",
   "metadata": {},
   "source": [
    "### Проверка дублей\n",
    "\n",
    "#### Одинаковые столбцы?\n",
    "\n",
    "Столбцы `monthyear` и `datetime` выглядят подозрительно похоже. Проверим, совпадают ли они?"
   ]
  },
  {
   "cell_type": "code",
   "execution_count": 5,
   "metadata": {},
   "outputs": [
    {
     "data": {
      "text/plain": [
       "True"
      ]
     },
     "execution_count": 5,
     "metadata": {},
     "output_type": "execute_result"
    }
   ],
   "source": [
    "(df[\"monthyear\"] == df[\"datetime\"]).all()"
   ]
  },
  {
   "cell_type": "markdown",
   "metadata": {},
   "source": [
    "Совпадают.\n",
    "\n",
    "**Вывод:** удаляем `datetime` (мне меньше нравится название)."
   ]
  },
  {
   "cell_type": "markdown",
   "metadata": {},
   "source": [
    "#### Одинаковые `animal_id`?"
   ]
  },
  {
   "cell_type": "code",
   "execution_count": 6,
   "metadata": {},
   "outputs": [
    {
     "data": {
      "text/plain": [
       "19       A684460\n",
       "22       A666660\n",
       "37       A665344\n",
       "47       A660098\n",
       "52       A688352\n",
       "          ...   \n",
       "78225    A756164\n",
       "78227    A756164\n",
       "78246    A738395\n",
       "78247    A761266\n",
       "78249    A761265\n",
       "Name: animal_id, Length: 13266, dtype: object"
      ]
     },
     "execution_count": 6,
     "metadata": {},
     "output_type": "execute_result"
    }
   ],
   "source": [
    "df[df[\"animal_id\"].duplicated(keep=False)][\"animal_id\"]"
   ]
  },
  {
   "cell_type": "markdown",
   "metadata": {},
   "source": [
    "Ого, 13266 животных, которые попадали в шелтер больше одного раза! Это придётся учесть.\n",
    "\n",
    "**Вывод:** добавлю категорию `repeat`, чтобы учитывать это повторное попадание."
   ]
  },
  {
   "cell_type": "markdown",
   "metadata": {},
   "source": [
    "### Убираем лишнее\n",
    "\n",
    "* `outcome_subtype` — слишком много пропусков\n",
    "\n",
    "* `datetime` — не несущий смысла столбец\n",
    "\n",
    "* `outcome_type`, который не `Transfer` и не `Adoption` — не целевые переменные для предсказания"
   ]
  },
  {
   "cell_type": "code",
   "execution_count": 7,
   "metadata": {},
   "outputs": [
    {
     "data": {
      "text/html": [
       "<div>\n",
       "<style scoped>\n",
       "    .dataframe tbody tr th:only-of-type {\n",
       "        vertical-align: middle;\n",
       "    }\n",
       "\n",
       "    .dataframe tbody tr th {\n",
       "        vertical-align: top;\n",
       "    }\n",
       "\n",
       "    .dataframe thead th {\n",
       "        text-align: right;\n",
       "    }\n",
       "</style>\n",
       "<table border=\"1\" class=\"dataframe\">\n",
       "  <thead>\n",
       "    <tr style=\"text-align: right;\">\n",
       "      <th></th>\n",
       "      <th>age_upon_outcome</th>\n",
       "      <th>animal_id</th>\n",
       "      <th>animal_type</th>\n",
       "      <th>breed</th>\n",
       "      <th>color</th>\n",
       "      <th>date_of_birth</th>\n",
       "      <th>monthyear</th>\n",
       "      <th>name</th>\n",
       "      <th>outcome_type</th>\n",
       "      <th>sex_upon_outcome</th>\n",
       "    </tr>\n",
       "  </thead>\n",
       "  <tbody>\n",
       "    <tr>\n",
       "      <td>0</td>\n",
       "      <td>2 weeks</td>\n",
       "      <td>A684346</td>\n",
       "      <td>Cat</td>\n",
       "      <td>Domestic Shorthair Mix</td>\n",
       "      <td>Orange Tabby</td>\n",
       "      <td>2014-07-07T00:00:00</td>\n",
       "      <td>2014-07-22T16:04:00</td>\n",
       "      <td>NaN</td>\n",
       "      <td>Transfer</td>\n",
       "      <td>Intact Male</td>\n",
       "    </tr>\n",
       "    <tr>\n",
       "      <td>1</td>\n",
       "      <td>1 year</td>\n",
       "      <td>A666430</td>\n",
       "      <td>Dog</td>\n",
       "      <td>Beagle Mix</td>\n",
       "      <td>White/Brown</td>\n",
       "      <td>2012-11-06T00:00:00</td>\n",
       "      <td>2013-11-07T11:47:00</td>\n",
       "      <td>Lucy</td>\n",
       "      <td>Transfer</td>\n",
       "      <td>Spayed Female</td>\n",
       "    </tr>\n",
       "    <tr>\n",
       "      <td>2</td>\n",
       "      <td>1 year</td>\n",
       "      <td>A675708</td>\n",
       "      <td>Dog</td>\n",
       "      <td>Pit Bull</td>\n",
       "      <td>Blue/White</td>\n",
       "      <td>2013-03-31T00:00:00</td>\n",
       "      <td>2014-06-03T14:20:00</td>\n",
       "      <td>*Johnny</td>\n",
       "      <td>Adoption</td>\n",
       "      <td>Neutered Male</td>\n",
       "    </tr>\n",
       "    <tr>\n",
       "      <td>3</td>\n",
       "      <td>9 years</td>\n",
       "      <td>A680386</td>\n",
       "      <td>Dog</td>\n",
       "      <td>Miniature Schnauzer Mix</td>\n",
       "      <td>White</td>\n",
       "      <td>2005-06-02T00:00:00</td>\n",
       "      <td>2014-06-15T15:50:00</td>\n",
       "      <td>Monday</td>\n",
       "      <td>Transfer</td>\n",
       "      <td>Neutered Male</td>\n",
       "    </tr>\n",
       "    <tr>\n",
       "      <td>4</td>\n",
       "      <td>5 months</td>\n",
       "      <td>A683115</td>\n",
       "      <td>Other</td>\n",
       "      <td>Bat Mix</td>\n",
       "      <td>Brown</td>\n",
       "      <td>2014-01-07T00:00:00</td>\n",
       "      <td>2014-07-07T14:04:00</td>\n",
       "      <td>NaN</td>\n",
       "      <td>Euthanasia</td>\n",
       "      <td>Unknown</td>\n",
       "    </tr>\n",
       "  </tbody>\n",
       "</table>\n",
       "</div>"
      ],
      "text/plain": [
       "  age_upon_outcome animal_id animal_type                    breed  \\\n",
       "0          2 weeks   A684346         Cat   Domestic Shorthair Mix   \n",
       "1           1 year   A666430         Dog               Beagle Mix   \n",
       "2           1 year   A675708         Dog                 Pit Bull   \n",
       "3          9 years   A680386         Dog  Miniature Schnauzer Mix   \n",
       "4         5 months   A683115       Other                  Bat Mix   \n",
       "\n",
       "          color        date_of_birth            monthyear     name  \\\n",
       "0  Orange Tabby  2014-07-07T00:00:00  2014-07-22T16:04:00      NaN   \n",
       "1   White/Brown  2012-11-06T00:00:00  2013-11-07T11:47:00     Lucy   \n",
       "2    Blue/White  2013-03-31T00:00:00  2014-06-03T14:20:00  *Johnny   \n",
       "3         White  2005-06-02T00:00:00  2014-06-15T15:50:00   Monday   \n",
       "4         Brown  2014-01-07T00:00:00  2014-07-07T14:04:00      NaN   \n",
       "\n",
       "  outcome_type sex_upon_outcome  \n",
       "0     Transfer      Intact Male  \n",
       "1     Transfer    Spayed Female  \n",
       "2     Adoption    Neutered Male  \n",
       "3     Transfer    Neutered Male  \n",
       "4   Euthanasia          Unknown  "
      ]
     },
     "execution_count": 7,
     "metadata": {},
     "output_type": "execute_result"
    }
   ],
   "source": [
    "df.drop([\"outcome_subtype\", \"datetime\"], axis=1, inplace=True)\n",
    "df.head()"
   ]
  },
  {
   "cell_type": "code",
   "execution_count": 8,
   "metadata": {},
   "outputs": [
    {
     "data": {
      "text/html": [
       "<div>\n",
       "<style scoped>\n",
       "    .dataframe tbody tr th:only-of-type {\n",
       "        vertical-align: middle;\n",
       "    }\n",
       "\n",
       "    .dataframe tbody tr th {\n",
       "        vertical-align: top;\n",
       "    }\n",
       "\n",
       "    .dataframe thead th {\n",
       "        text-align: right;\n",
       "    }\n",
       "</style>\n",
       "<table border=\"1\" class=\"dataframe\">\n",
       "  <thead>\n",
       "    <tr style=\"text-align: right;\">\n",
       "      <th></th>\n",
       "      <th>age_upon_outcome</th>\n",
       "      <th>animal_id</th>\n",
       "      <th>animal_type</th>\n",
       "      <th>breed</th>\n",
       "      <th>color</th>\n",
       "      <th>date_of_birth</th>\n",
       "      <th>monthyear</th>\n",
       "      <th>name</th>\n",
       "      <th>outcome_type</th>\n",
       "      <th>sex_upon_outcome</th>\n",
       "    </tr>\n",
       "  </thead>\n",
       "  <tbody>\n",
       "    <tr>\n",
       "      <td>0</td>\n",
       "      <td>2 weeks</td>\n",
       "      <td>A684346</td>\n",
       "      <td>Cat</td>\n",
       "      <td>Domestic Shorthair Mix</td>\n",
       "      <td>Orange Tabby</td>\n",
       "      <td>2014-07-07T00:00:00</td>\n",
       "      <td>2014-07-22T16:04:00</td>\n",
       "      <td>NaN</td>\n",
       "      <td>Transfer</td>\n",
       "      <td>Intact Male</td>\n",
       "    </tr>\n",
       "    <tr>\n",
       "      <td>1</td>\n",
       "      <td>1 year</td>\n",
       "      <td>A666430</td>\n",
       "      <td>Dog</td>\n",
       "      <td>Beagle Mix</td>\n",
       "      <td>White/Brown</td>\n",
       "      <td>2012-11-06T00:00:00</td>\n",
       "      <td>2013-11-07T11:47:00</td>\n",
       "      <td>Lucy</td>\n",
       "      <td>Transfer</td>\n",
       "      <td>Spayed Female</td>\n",
       "    </tr>\n",
       "    <tr>\n",
       "      <td>2</td>\n",
       "      <td>1 year</td>\n",
       "      <td>A675708</td>\n",
       "      <td>Dog</td>\n",
       "      <td>Pit Bull</td>\n",
       "      <td>Blue/White</td>\n",
       "      <td>2013-03-31T00:00:00</td>\n",
       "      <td>2014-06-03T14:20:00</td>\n",
       "      <td>*Johnny</td>\n",
       "      <td>Adoption</td>\n",
       "      <td>Neutered Male</td>\n",
       "    </tr>\n",
       "    <tr>\n",
       "      <td>3</td>\n",
       "      <td>9 years</td>\n",
       "      <td>A680386</td>\n",
       "      <td>Dog</td>\n",
       "      <td>Miniature Schnauzer Mix</td>\n",
       "      <td>White</td>\n",
       "      <td>2005-06-02T00:00:00</td>\n",
       "      <td>2014-06-15T15:50:00</td>\n",
       "      <td>Monday</td>\n",
       "      <td>Transfer</td>\n",
       "      <td>Neutered Male</td>\n",
       "    </tr>\n",
       "    <tr>\n",
       "      <td>4</td>\n",
       "      <td>4 months</td>\n",
       "      <td>A664462</td>\n",
       "      <td>Dog</td>\n",
       "      <td>Leonberger Mix</td>\n",
       "      <td>Brown/White</td>\n",
       "      <td>2013-06-03T00:00:00</td>\n",
       "      <td>2013-10-07T13:06:00</td>\n",
       "      <td>*Edgar</td>\n",
       "      <td>Transfer</td>\n",
       "      <td>Intact Male</td>\n",
       "    </tr>\n",
       "  </tbody>\n",
       "</table>\n",
       "</div>"
      ],
      "text/plain": [
       "  age_upon_outcome animal_id animal_type                    breed  \\\n",
       "0          2 weeks   A684346         Cat   Domestic Shorthair Mix   \n",
       "1           1 year   A666430         Dog               Beagle Mix   \n",
       "2           1 year   A675708         Dog                 Pit Bull   \n",
       "3          9 years   A680386         Dog  Miniature Schnauzer Mix   \n",
       "4         4 months   A664462         Dog           Leonberger Mix   \n",
       "\n",
       "          color        date_of_birth            monthyear     name  \\\n",
       "0  Orange Tabby  2014-07-07T00:00:00  2014-07-22T16:04:00      NaN   \n",
       "1   White/Brown  2012-11-06T00:00:00  2013-11-07T11:47:00     Lucy   \n",
       "2    Blue/White  2013-03-31T00:00:00  2014-06-03T14:20:00  *Johnny   \n",
       "3         White  2005-06-02T00:00:00  2014-06-15T15:50:00   Monday   \n",
       "4   Brown/White  2013-06-03T00:00:00  2013-10-07T13:06:00   *Edgar   \n",
       "\n",
       "  outcome_type sex_upon_outcome  \n",
       "0     Transfer      Intact Male  \n",
       "1     Transfer    Spayed Female  \n",
       "2     Adoption    Neutered Male  \n",
       "3     Transfer    Neutered Male  \n",
       "4     Transfer      Intact Male  "
      ]
     },
     "execution_count": 8,
     "metadata": {},
     "output_type": "execute_result"
    }
   ],
   "source": [
    "categories_to_keep = [\"Transfer\", \"Adoption\"]\n",
    "df = df[df[\"outcome_type\"].isin(categories_to_keep)].reset_index(drop=True)\n",
    "df.head()"
   ]
  },
  {
   "cell_type": "markdown",
   "metadata": {},
   "source": [
    "Посмотрим, насколько датасет стал меньше:"
   ]
  },
  {
   "cell_type": "code",
   "execution_count": 9,
   "metadata": {
    "scrolled": true
   },
   "outputs": [
    {
     "data": {
      "text/plain": [
       "(56611, 10)"
      ]
     },
     "execution_count": 9,
     "metadata": {},
     "output_type": "execute_result"
    }
   ],
   "source": [
    "df.shape"
   ]
  },
  {
   "cell_type": "markdown",
   "metadata": {},
   "source": [
    "-22 тысячи примеров, неплохо.\n",
    "\n",
    "А сколько дублей животных осталось?"
   ]
  },
  {
   "cell_type": "code",
   "execution_count": 10,
   "metadata": {},
   "outputs": [
    {
     "data": {
      "text/plain": [
       "14       A684460\n",
       "32       A665344\n",
       "44       A688352\n",
       "66       A674053\n",
       "67       A688036\n",
       "          ...   \n",
       "56562    A758320\n",
       "56563    A762931\n",
       "56565    A760749\n",
       "56587    A756164\n",
       "56588    A756164\n",
       "Name: animal_id, Length: 7171, dtype: object"
      ]
     },
     "execution_count": 10,
     "metadata": {},
     "output_type": "execute_result"
    }
   ],
   "source": [
    "df[df[\"animal_id\"].duplicated(keep=False)][\"animal_id\"]"
   ]
  },
  {
   "cell_type": "markdown",
   "metadata": {},
   "source": [
    "Стало почти в два раза меньше (7100 против ~13000), но всё равно много."
   ]
  },
  {
   "cell_type": "markdown",
   "metadata": {},
   "source": [
    "## Предобработка"
   ]
  },
  {
   "cell_type": "markdown",
   "metadata": {},
   "source": [
    "### Имя\n",
    "\n",
    "Как и хотела, сделаю отдельную категорию для питомцев с именем. После этого изначальный столбец удалю."
   ]
  },
  {
   "cell_type": "code",
   "execution_count": 11,
   "metadata": {},
   "outputs": [],
   "source": [
    "def extract_name(df_data):\n",
    "    has_name = 0\n",
    "    if df_data != \"NaN\":\n",
    "        has_name = 1\n",
    "    return has_name"
   ]
  },
  {
   "cell_type": "code",
   "execution_count": 12,
   "metadata": {},
   "outputs": [
    {
     "data": {
      "text/html": [
       "<div>\n",
       "<style scoped>\n",
       "    .dataframe tbody tr th:only-of-type {\n",
       "        vertical-align: middle;\n",
       "    }\n",
       "\n",
       "    .dataframe tbody tr th {\n",
       "        vertical-align: top;\n",
       "    }\n",
       "\n",
       "    .dataframe thead th {\n",
       "        text-align: right;\n",
       "    }\n",
       "</style>\n",
       "<table border=\"1\" class=\"dataframe\">\n",
       "  <thead>\n",
       "    <tr style=\"text-align: right;\">\n",
       "      <th></th>\n",
       "      <th>age_upon_outcome</th>\n",
       "      <th>animal_id</th>\n",
       "      <th>animal_type</th>\n",
       "      <th>breed</th>\n",
       "      <th>color</th>\n",
       "      <th>date_of_birth</th>\n",
       "      <th>monthyear</th>\n",
       "      <th>outcome_type</th>\n",
       "      <th>sex_upon_outcome</th>\n",
       "      <th>has_name</th>\n",
       "    </tr>\n",
       "  </thead>\n",
       "  <tbody>\n",
       "    <tr>\n",
       "      <td>0</td>\n",
       "      <td>2 weeks</td>\n",
       "      <td>A684346</td>\n",
       "      <td>Cat</td>\n",
       "      <td>Domestic Shorthair Mix</td>\n",
       "      <td>Orange Tabby</td>\n",
       "      <td>2014-07-07T00:00:00</td>\n",
       "      <td>2014-07-22T16:04:00</td>\n",
       "      <td>Transfer</td>\n",
       "      <td>Intact Male</td>\n",
       "      <td>0</td>\n",
       "    </tr>\n",
       "    <tr>\n",
       "      <td>1</td>\n",
       "      <td>1 year</td>\n",
       "      <td>A666430</td>\n",
       "      <td>Dog</td>\n",
       "      <td>Beagle Mix</td>\n",
       "      <td>White/Brown</td>\n",
       "      <td>2012-11-06T00:00:00</td>\n",
       "      <td>2013-11-07T11:47:00</td>\n",
       "      <td>Transfer</td>\n",
       "      <td>Spayed Female</td>\n",
       "      <td>1</td>\n",
       "    </tr>\n",
       "    <tr>\n",
       "      <td>2</td>\n",
       "      <td>1 year</td>\n",
       "      <td>A675708</td>\n",
       "      <td>Dog</td>\n",
       "      <td>Pit Bull</td>\n",
       "      <td>Blue/White</td>\n",
       "      <td>2013-03-31T00:00:00</td>\n",
       "      <td>2014-06-03T14:20:00</td>\n",
       "      <td>Adoption</td>\n",
       "      <td>Neutered Male</td>\n",
       "      <td>1</td>\n",
       "    </tr>\n",
       "    <tr>\n",
       "      <td>3</td>\n",
       "      <td>9 years</td>\n",
       "      <td>A680386</td>\n",
       "      <td>Dog</td>\n",
       "      <td>Miniature Schnauzer Mix</td>\n",
       "      <td>White</td>\n",
       "      <td>2005-06-02T00:00:00</td>\n",
       "      <td>2014-06-15T15:50:00</td>\n",
       "      <td>Transfer</td>\n",
       "      <td>Neutered Male</td>\n",
       "      <td>1</td>\n",
       "    </tr>\n",
       "    <tr>\n",
       "      <td>4</td>\n",
       "      <td>4 months</td>\n",
       "      <td>A664462</td>\n",
       "      <td>Dog</td>\n",
       "      <td>Leonberger Mix</td>\n",
       "      <td>Brown/White</td>\n",
       "      <td>2013-06-03T00:00:00</td>\n",
       "      <td>2013-10-07T13:06:00</td>\n",
       "      <td>Transfer</td>\n",
       "      <td>Intact Male</td>\n",
       "      <td>1</td>\n",
       "    </tr>\n",
       "  </tbody>\n",
       "</table>\n",
       "</div>"
      ],
      "text/plain": [
       "  age_upon_outcome animal_id animal_type                    breed  \\\n",
       "0          2 weeks   A684346         Cat   Domestic Shorthair Mix   \n",
       "1           1 year   A666430         Dog               Beagle Mix   \n",
       "2           1 year   A675708         Dog                 Pit Bull   \n",
       "3          9 years   A680386         Dog  Miniature Schnauzer Mix   \n",
       "4         4 months   A664462         Dog           Leonberger Mix   \n",
       "\n",
       "          color        date_of_birth            monthyear outcome_type  \\\n",
       "0  Orange Tabby  2014-07-07T00:00:00  2014-07-22T16:04:00     Transfer   \n",
       "1   White/Brown  2012-11-06T00:00:00  2013-11-07T11:47:00     Transfer   \n",
       "2    Blue/White  2013-03-31T00:00:00  2014-06-03T14:20:00     Adoption   \n",
       "3         White  2005-06-02T00:00:00  2014-06-15T15:50:00     Transfer   \n",
       "4   Brown/White  2013-06-03T00:00:00  2013-10-07T13:06:00     Transfer   \n",
       "\n",
       "  sex_upon_outcome  has_name  \n",
       "0      Intact Male         0  \n",
       "1    Spayed Female         1  \n",
       "2    Neutered Male         1  \n",
       "3    Neutered Male         1  \n",
       "4      Intact Male         1  "
      ]
     },
     "execution_count": 12,
     "metadata": {},
     "output_type": "execute_result"
    }
   ],
   "source": [
    "df[\"has_name\"] = df[\"name\"].fillna(value=\"NaN\").apply(extract_name)\n",
    "df.drop([\"name\"], axis=1, inplace=True)\n",
    "df.head()"
   ]
  },
  {
   "cell_type": "markdown",
   "metadata": {},
   "source": [
    "### Выделение признаков пола и фертильности\n",
    "\n",
    "У нас сейчас есть столбец `sex_upon_outcome`. Возможно, его стоит поделить на два разных признака — пол `sex` и фертильность животного `fertility`. Исходный столбец после этого удалим, чтобы не мешался."
   ]
  },
  {
   "cell_type": "code",
   "execution_count": 13,
   "metadata": {},
   "outputs": [],
   "source": [
    "def extract_sex(df_data):\n",
    "    sex = \"\"\n",
    "    if \"Male\" in df_data:\n",
    "        sex = \"male\"\n",
    "    elif \"Female\" in df_data:\n",
    "        sex = \"female\"\n",
    "    else:\n",
    "        sex = \"Unknown\"\n",
    "    return sex"
   ]
  },
  {
   "cell_type": "code",
   "execution_count": 14,
   "metadata": {},
   "outputs": [],
   "source": [
    "def extract_fertility(df_data):\n",
    "    fertility = \"\"\n",
    "    if (\"Spayed\" in df_data) or (\"Neutered\" in df_data):\n",
    "        fertility = \"sterilized\"\n",
    "    elif \"Intact\" in df_data:\n",
    "        fertility = \"intact\"\n",
    "    else:\n",
    "        fertility = \"Unknown\"\n",
    "    return fertility"
   ]
  },
  {
   "cell_type": "code",
   "execution_count": 15,
   "metadata": {},
   "outputs": [
    {
     "data": {
      "text/html": [
       "<div>\n",
       "<style scoped>\n",
       "    .dataframe tbody tr th:only-of-type {\n",
       "        vertical-align: middle;\n",
       "    }\n",
       "\n",
       "    .dataframe tbody tr th {\n",
       "        vertical-align: top;\n",
       "    }\n",
       "\n",
       "    .dataframe thead th {\n",
       "        text-align: right;\n",
       "    }\n",
       "</style>\n",
       "<table border=\"1\" class=\"dataframe\">\n",
       "  <thead>\n",
       "    <tr style=\"text-align: right;\">\n",
       "      <th></th>\n",
       "      <th>age_upon_outcome</th>\n",
       "      <th>animal_id</th>\n",
       "      <th>animal_type</th>\n",
       "      <th>breed</th>\n",
       "      <th>color</th>\n",
       "      <th>date_of_birth</th>\n",
       "      <th>monthyear</th>\n",
       "      <th>outcome_type</th>\n",
       "      <th>has_name</th>\n",
       "      <th>sex</th>\n",
       "      <th>fertility</th>\n",
       "    </tr>\n",
       "  </thead>\n",
       "  <tbody>\n",
       "    <tr>\n",
       "      <td>0</td>\n",
       "      <td>2 weeks</td>\n",
       "      <td>A684346</td>\n",
       "      <td>Cat</td>\n",
       "      <td>Domestic Shorthair Mix</td>\n",
       "      <td>Orange Tabby</td>\n",
       "      <td>2014-07-07T00:00:00</td>\n",
       "      <td>2014-07-22T16:04:00</td>\n",
       "      <td>Transfer</td>\n",
       "      <td>0</td>\n",
       "      <td>male</td>\n",
       "      <td>intact</td>\n",
       "    </tr>\n",
       "    <tr>\n",
       "      <td>1</td>\n",
       "      <td>1 year</td>\n",
       "      <td>A666430</td>\n",
       "      <td>Dog</td>\n",
       "      <td>Beagle Mix</td>\n",
       "      <td>White/Brown</td>\n",
       "      <td>2012-11-06T00:00:00</td>\n",
       "      <td>2013-11-07T11:47:00</td>\n",
       "      <td>Transfer</td>\n",
       "      <td>1</td>\n",
       "      <td>female</td>\n",
       "      <td>sterilized</td>\n",
       "    </tr>\n",
       "    <tr>\n",
       "      <td>2</td>\n",
       "      <td>1 year</td>\n",
       "      <td>A675708</td>\n",
       "      <td>Dog</td>\n",
       "      <td>Pit Bull</td>\n",
       "      <td>Blue/White</td>\n",
       "      <td>2013-03-31T00:00:00</td>\n",
       "      <td>2014-06-03T14:20:00</td>\n",
       "      <td>Adoption</td>\n",
       "      <td>1</td>\n",
       "      <td>male</td>\n",
       "      <td>sterilized</td>\n",
       "    </tr>\n",
       "    <tr>\n",
       "      <td>3</td>\n",
       "      <td>9 years</td>\n",
       "      <td>A680386</td>\n",
       "      <td>Dog</td>\n",
       "      <td>Miniature Schnauzer Mix</td>\n",
       "      <td>White</td>\n",
       "      <td>2005-06-02T00:00:00</td>\n",
       "      <td>2014-06-15T15:50:00</td>\n",
       "      <td>Transfer</td>\n",
       "      <td>1</td>\n",
       "      <td>male</td>\n",
       "      <td>sterilized</td>\n",
       "    </tr>\n",
       "    <tr>\n",
       "      <td>4</td>\n",
       "      <td>4 months</td>\n",
       "      <td>A664462</td>\n",
       "      <td>Dog</td>\n",
       "      <td>Leonberger Mix</td>\n",
       "      <td>Brown/White</td>\n",
       "      <td>2013-06-03T00:00:00</td>\n",
       "      <td>2013-10-07T13:06:00</td>\n",
       "      <td>Transfer</td>\n",
       "      <td>1</td>\n",
       "      <td>male</td>\n",
       "      <td>intact</td>\n",
       "    </tr>\n",
       "  </tbody>\n",
       "</table>\n",
       "</div>"
      ],
      "text/plain": [
       "  age_upon_outcome animal_id animal_type                    breed  \\\n",
       "0          2 weeks   A684346         Cat   Domestic Shorthair Mix   \n",
       "1           1 year   A666430         Dog               Beagle Mix   \n",
       "2           1 year   A675708         Dog                 Pit Bull   \n",
       "3          9 years   A680386         Dog  Miniature Schnauzer Mix   \n",
       "4         4 months   A664462         Dog           Leonberger Mix   \n",
       "\n",
       "          color        date_of_birth            monthyear outcome_type  \\\n",
       "0  Orange Tabby  2014-07-07T00:00:00  2014-07-22T16:04:00     Transfer   \n",
       "1   White/Brown  2012-11-06T00:00:00  2013-11-07T11:47:00     Transfer   \n",
       "2    Blue/White  2013-03-31T00:00:00  2014-06-03T14:20:00     Adoption   \n",
       "3         White  2005-06-02T00:00:00  2014-06-15T15:50:00     Transfer   \n",
       "4   Brown/White  2013-06-03T00:00:00  2013-10-07T13:06:00     Transfer   \n",
       "\n",
       "   has_name     sex   fertility  \n",
       "0         0    male      intact  \n",
       "1         1  female  sterilized  \n",
       "2         1    male  sterilized  \n",
       "3         1    male  sterilized  \n",
       "4         1    male      intact  "
      ]
     },
     "execution_count": 15,
     "metadata": {},
     "output_type": "execute_result"
    }
   ],
   "source": [
    "df[\"sex\"] = df[\"sex_upon_outcome\"].apply(extract_sex)\n",
    "df[\"fertility\"] = df[\"sex_upon_outcome\"].apply(extract_fertility)\n",
    "df.drop(columns=[\"sex_upon_outcome\"], inplace=True)\n",
    "df.head()"
   ]
  },
  {
   "cell_type": "markdown",
   "metadata": {},
   "source": [
    "### Возраст на момент выпуска из шелтера\n",
    "\n",
    "Возраст в шелтере можно спокойно посчитать по такой формуле:\n",
    "\n",
    "* `age_days` = `monthyear` - `date_of_birth`, \n",
    "* округлить получившееся значение до дней, \n",
    "* перевести его в целочисленный тип."
   ]
  },
  {
   "cell_type": "code",
   "execution_count": 16,
   "metadata": {
    "scrolled": true
   },
   "outputs": [
    {
     "data": {
      "text/html": [
       "<div>\n",
       "<style scoped>\n",
       "    .dataframe tbody tr th:only-of-type {\n",
       "        vertical-align: middle;\n",
       "    }\n",
       "\n",
       "    .dataframe tbody tr th {\n",
       "        vertical-align: top;\n",
       "    }\n",
       "\n",
       "    .dataframe thead th {\n",
       "        text-align: right;\n",
       "    }\n",
       "</style>\n",
       "<table border=\"1\" class=\"dataframe\">\n",
       "  <thead>\n",
       "    <tr style=\"text-align: right;\">\n",
       "      <th></th>\n",
       "      <th>animal_id</th>\n",
       "      <th>animal_type</th>\n",
       "      <th>breed</th>\n",
       "      <th>color</th>\n",
       "      <th>outcome_type</th>\n",
       "      <th>has_name</th>\n",
       "      <th>sex</th>\n",
       "      <th>fertility</th>\n",
       "      <th>age_days</th>\n",
       "    </tr>\n",
       "  </thead>\n",
       "  <tbody>\n",
       "    <tr>\n",
       "      <td>0</td>\n",
       "      <td>A684346</td>\n",
       "      <td>Cat</td>\n",
       "      <td>Domestic Shorthair Mix</td>\n",
       "      <td>Orange Tabby</td>\n",
       "      <td>Transfer</td>\n",
       "      <td>0</td>\n",
       "      <td>male</td>\n",
       "      <td>intact</td>\n",
       "      <td>15</td>\n",
       "    </tr>\n",
       "    <tr>\n",
       "      <td>1</td>\n",
       "      <td>A666430</td>\n",
       "      <td>Dog</td>\n",
       "      <td>Beagle Mix</td>\n",
       "      <td>White/Brown</td>\n",
       "      <td>Transfer</td>\n",
       "      <td>1</td>\n",
       "      <td>female</td>\n",
       "      <td>sterilized</td>\n",
       "      <td>366</td>\n",
       "    </tr>\n",
       "    <tr>\n",
       "      <td>2</td>\n",
       "      <td>A675708</td>\n",
       "      <td>Dog</td>\n",
       "      <td>Pit Bull</td>\n",
       "      <td>Blue/White</td>\n",
       "      <td>Adoption</td>\n",
       "      <td>1</td>\n",
       "      <td>male</td>\n",
       "      <td>sterilized</td>\n",
       "      <td>429</td>\n",
       "    </tr>\n",
       "    <tr>\n",
       "      <td>3</td>\n",
       "      <td>A680386</td>\n",
       "      <td>Dog</td>\n",
       "      <td>Miniature Schnauzer Mix</td>\n",
       "      <td>White</td>\n",
       "      <td>Transfer</td>\n",
       "      <td>1</td>\n",
       "      <td>male</td>\n",
       "      <td>sterilized</td>\n",
       "      <td>3300</td>\n",
       "    </tr>\n",
       "    <tr>\n",
       "      <td>4</td>\n",
       "      <td>A664462</td>\n",
       "      <td>Dog</td>\n",
       "      <td>Leonberger Mix</td>\n",
       "      <td>Brown/White</td>\n",
       "      <td>Transfer</td>\n",
       "      <td>1</td>\n",
       "      <td>male</td>\n",
       "      <td>intact</td>\n",
       "      <td>126</td>\n",
       "    </tr>\n",
       "  </tbody>\n",
       "</table>\n",
       "</div>"
      ],
      "text/plain": [
       "  animal_id animal_type                    breed         color outcome_type  \\\n",
       "0   A684346         Cat   Domestic Shorthair Mix  Orange Tabby     Transfer   \n",
       "1   A666430         Dog               Beagle Mix   White/Brown     Transfer   \n",
       "2   A675708         Dog                 Pit Bull    Blue/White     Adoption   \n",
       "3   A680386         Dog  Miniature Schnauzer Mix         White     Transfer   \n",
       "4   A664462         Dog           Leonberger Mix   Brown/White     Transfer   \n",
       "\n",
       "   has_name     sex   fertility  age_days  \n",
       "0         0    male      intact        15  \n",
       "1         1  female  sterilized       366  \n",
       "2         1    male  sterilized       429  \n",
       "3         1    male  sterilized      3300  \n",
       "4         1    male      intact       126  "
      ]
     },
     "execution_count": 16,
     "metadata": {},
     "output_type": "execute_result"
    }
   ],
   "source": [
    "age_series = pd.to_datetime(df[\"monthyear\"]) - pd.to_datetime(df[\"date_of_birth\"])\n",
    "df[\"age_days\"] = age_series.astype(\"timedelta64[D]\").astype(int)\n",
    "df.drop([\"age_upon_outcome\", \"date_of_birth\", \"monthyear\"], axis=1, inplace=True)\n",
    "df.head()"
   ]
  },
  {
   "cell_type": "markdown",
   "metadata": {},
   "source": [
    "### Повторные попадания\n",
    "\n",
    "Если животное попадает в шелтер повторно, присвоим ему также категорию `returning_animal`, но перед этим посмотрим: есть ли выбросы? Может, какие-то животные возвращаются особенно часто?"
   ]
  },
  {
   "cell_type": "code",
   "execution_count": 17,
   "metadata": {},
   "outputs": [
    {
     "data": {
      "text/plain": [
       "<matplotlib.axes._subplots.AxesSubplot at 0x1267e9780>"
      ]
     },
     "execution_count": 17,
     "metadata": {},
     "output_type": "execute_result"
    },
    {
     "data": {
      "image/png": "[encoded data removed]",
      "text/plain": [
       "<Figure size 432x288 with 1 Axes>"
      ]
     },
     "metadata": {
      "needs_background": "light"
     },
     "output_type": "display_data"
    }
   ],
   "source": [
    "dups = df[df.duplicated(subset=[\"animal_id\"])]\n",
    "dups.pivot_table(index=[\"animal_id\"], aggfunc=\"size\").hist()"
   ]
  },
  {
   "cell_type": "markdown",
   "metadata": {},
   "source": [
    "Вроде как нет, все в основном возвращаются один раз, так что мудрить с категориями не будем."
   ]
  },
  {
   "cell_type": "code",
   "execution_count": 18,
   "metadata": {},
   "outputs": [
    {
     "data": {
      "text/html": [
       "<div>\n",
       "<style scoped>\n",
       "    .dataframe tbody tr th:only-of-type {\n",
       "        vertical-align: middle;\n",
       "    }\n",
       "\n",
       "    .dataframe tbody tr th {\n",
       "        vertical-align: top;\n",
       "    }\n",
       "\n",
       "    .dataframe thead th {\n",
       "        text-align: right;\n",
       "    }\n",
       "</style>\n",
       "<table border=\"1\" class=\"dataframe\">\n",
       "  <thead>\n",
       "    <tr style=\"text-align: right;\">\n",
       "      <th></th>\n",
       "      <th>animal_type</th>\n",
       "      <th>breed</th>\n",
       "      <th>color</th>\n",
       "      <th>outcome_type</th>\n",
       "      <th>has_name</th>\n",
       "      <th>sex</th>\n",
       "      <th>fertility</th>\n",
       "      <th>age_days</th>\n",
       "      <th>returning</th>\n",
       "    </tr>\n",
       "  </thead>\n",
       "  <tbody>\n",
       "    <tr>\n",
       "      <td>0</td>\n",
       "      <td>Cat</td>\n",
       "      <td>Domestic Shorthair Mix</td>\n",
       "      <td>Orange Tabby</td>\n",
       "      <td>Transfer</td>\n",
       "      <td>0</td>\n",
       "      <td>male</td>\n",
       "      <td>intact</td>\n",
       "      <td>15</td>\n",
       "      <td>0</td>\n",
       "    </tr>\n",
       "    <tr>\n",
       "      <td>1</td>\n",
       "      <td>Dog</td>\n",
       "      <td>Beagle Mix</td>\n",
       "      <td>White/Brown</td>\n",
       "      <td>Transfer</td>\n",
       "      <td>1</td>\n",
       "      <td>female</td>\n",
       "      <td>sterilized</td>\n",
       "      <td>366</td>\n",
       "      <td>0</td>\n",
       "    </tr>\n",
       "    <tr>\n",
       "      <td>2</td>\n",
       "      <td>Dog</td>\n",
       "      <td>Pit Bull</td>\n",
       "      <td>Blue/White</td>\n",
       "      <td>Adoption</td>\n",
       "      <td>1</td>\n",
       "      <td>male</td>\n",
       "      <td>sterilized</td>\n",
       "      <td>429</td>\n",
       "      <td>0</td>\n",
       "    </tr>\n",
       "    <tr>\n",
       "      <td>3</td>\n",
       "      <td>Dog</td>\n",
       "      <td>Miniature Schnauzer Mix</td>\n",
       "      <td>White</td>\n",
       "      <td>Transfer</td>\n",
       "      <td>1</td>\n",
       "      <td>male</td>\n",
       "      <td>sterilized</td>\n",
       "      <td>3300</td>\n",
       "      <td>0</td>\n",
       "    </tr>\n",
       "    <tr>\n",
       "      <td>4</td>\n",
       "      <td>Dog</td>\n",
       "      <td>Leonberger Mix</td>\n",
       "      <td>Brown/White</td>\n",
       "      <td>Transfer</td>\n",
       "      <td>1</td>\n",
       "      <td>male</td>\n",
       "      <td>intact</td>\n",
       "      <td>126</td>\n",
       "      <td>0</td>\n",
       "    </tr>\n",
       "  </tbody>\n",
       "</table>\n",
       "</div>"
      ],
      "text/plain": [
       "  animal_type                    breed         color outcome_type  has_name  \\\n",
       "0         Cat   Domestic Shorthair Mix  Orange Tabby     Transfer         0   \n",
       "1         Dog               Beagle Mix   White/Brown     Transfer         1   \n",
       "2         Dog                 Pit Bull    Blue/White     Adoption         1   \n",
       "3         Dog  Miniature Schnauzer Mix         White     Transfer         1   \n",
       "4         Dog           Leonberger Mix   Brown/White     Transfer         1   \n",
       "\n",
       "      sex   fertility  age_days  returning  \n",
       "0    male      intact        15          0  \n",
       "1  female  sterilized       366          0  \n",
       "2    male  sterilized       429          0  \n",
       "3    male  sterilized      3300          0  \n",
       "4    male      intact       126          0  "
      ]
     },
     "execution_count": 18,
     "metadata": {},
     "output_type": "execute_result"
    }
   ],
   "source": [
    "df[\"returning\"] = df.duplicated(subset=[\"animal_id\"]).astype(int)\n",
    "df.drop([\"animal_id\"], axis=1, inplace=True)\n",
    "df.head()"
   ]
  },
  {
   "cell_type": "markdown",
   "metadata": {},
   "source": [
    "### Окрас\n",
    "\n",
    "Посмотрим, сколько разных окрасов бывает:"
   ]
  },
  {
   "cell_type": "code",
   "execution_count": 19,
   "metadata": {},
   "outputs": [
    {
     "data": {
      "text/plain": [
       "Black/White              6111\n",
       "Black                    5141\n",
       "Brown Tabby              3975\n",
       "Brown Tabby/White        2083\n",
       "Orange Tabby             1914\n",
       "                         ... \n",
       "Brown Tabby/Gray            1\n",
       "Seal Point/Buff             1\n",
       "Lynx Point/Gray Tabby       1\n",
       "Cream/Silver                1\n",
       "White/Silver Tabby          1\n",
       "Name: color, Length: 475, dtype: int64"
      ]
     },
     "execution_count": 19,
     "metadata": {},
     "output_type": "execute_result"
    }
   ],
   "source": [
    "df[\"color\"].value_counts()"
   ]
  },
  {
   "cell_type": "markdown",
   "metadata": {},
   "source": [
    "Ой, много! А если оставить только первый цвет?"
   ]
  },
  {
   "cell_type": "code",
   "execution_count": 20,
   "metadata": {},
   "outputs": [],
   "source": [
    "def extract_first_color(df_data):\n",
    "    color = df_data\n",
    "    if \"/\" in df_data:\n",
    "        color = df_data.split(\"/\")[0]\n",
    "    return color\n",
    "\n",
    "df[\"main_color\"] = df[\"color\"].apply(extract_first_color)"
   ]
  },
  {
   "cell_type": "code",
   "execution_count": 21,
   "metadata": {},
   "outputs": [
    {
     "data": {
      "text/plain": [
       "Black                13887\n",
       "White                 6918\n",
       "Brown Tabby           6126\n",
       "Brown                 3818\n",
       "Tan                   3616\n",
       "Orange Tabby          2894\n",
       "Blue                  2661\n",
       "Blue Tabby            1524\n",
       "Tricolor              1477\n",
       "Brown Brindle         1423\n",
       "Red                   1342\n",
       "Tortie                1319\n",
       "Calico                1309\n",
       "Torbie                 942\n",
       "Chocolate              802\n",
       "Cream Tabby            674\n",
       "Sable                  592\n",
       "Cream                  477\n",
       "Gray                   477\n",
       "Lynx Point             424\n",
       "Yellow                 388\n",
       "Buff                   378\n",
       "Fawn                   359\n",
       "Seal Point             314\n",
       "Blue Merle             246\n",
       "Black Tabby            218\n",
       "Flame Point            181\n",
       "Black Brindle          180\n",
       "Gray Tabby             178\n",
       "Black Smoke            136\n",
       "Brown Merle            134\n",
       "Orange                 110\n",
       "Gold                   104\n",
       "Blue Tick               95\n",
       "Silver Tabby            86\n",
       "Red Tick                84\n",
       "Lilac Point             74\n",
       "Red Merle               71\n",
       "Tortie Point            69\n",
       "Silver                  63\n",
       "Yellow Brindle          57\n",
       "Apricot                 52\n",
       "Blue Point              51\n",
       "Chocolate Point         51\n",
       "Calico Point            50\n",
       "Blue Cream              39\n",
       "Green                   33\n",
       "Liver                   21\n",
       "Blue Tiger              19\n",
       "Pink                    15\n",
       "Brown Tiger             13\n",
       "Blue Smoke              11\n",
       "Silver Lynx Point       11\n",
       "Agouti                  11\n",
       "Liver Tick               5\n",
       "Black Tiger              1\n",
       "Ruddy                    1\n",
       "Name: main_color, dtype: int64"
      ]
     },
     "execution_count": 21,
     "metadata": {},
     "output_type": "execute_result"
    }
   ],
   "source": [
    "df[\"main_color\"].value_counts()"
   ]
  },
  {
   "cell_type": "markdown",
   "metadata": {},
   "source": [
    "Уже лучше. Оставим этот столбец в таком виде."
   ]
  },
  {
   "cell_type": "code",
   "execution_count": 22,
   "metadata": {},
   "outputs": [
    {
     "data": {
      "text/html": [
       "<div>\n",
       "<style scoped>\n",
       "    .dataframe tbody tr th:only-of-type {\n",
       "        vertical-align: middle;\n",
       "    }\n",
       "\n",
       "    .dataframe tbody tr th {\n",
       "        vertical-align: top;\n",
       "    }\n",
       "\n",
       "    .dataframe thead th {\n",
       "        text-align: right;\n",
       "    }\n",
       "</style>\n",
       "<table border=\"1\" class=\"dataframe\">\n",
       "  <thead>\n",
       "    <tr style=\"text-align: right;\">\n",
       "      <th></th>\n",
       "      <th>animal_type</th>\n",
       "      <th>breed</th>\n",
       "      <th>outcome_type</th>\n",
       "      <th>has_name</th>\n",
       "      <th>sex</th>\n",
       "      <th>fertility</th>\n",
       "      <th>age_days</th>\n",
       "      <th>returning</th>\n",
       "      <th>main_color</th>\n",
       "    </tr>\n",
       "  </thead>\n",
       "  <tbody>\n",
       "    <tr>\n",
       "      <td>0</td>\n",
       "      <td>Cat</td>\n",
       "      <td>Domestic Shorthair Mix</td>\n",
       "      <td>Transfer</td>\n",
       "      <td>0</td>\n",
       "      <td>male</td>\n",
       "      <td>intact</td>\n",
       "      <td>15</td>\n",
       "      <td>0</td>\n",
       "      <td>Orange Tabby</td>\n",
       "    </tr>\n",
       "    <tr>\n",
       "      <td>1</td>\n",
       "      <td>Dog</td>\n",
       "      <td>Beagle Mix</td>\n",
       "      <td>Transfer</td>\n",
       "      <td>1</td>\n",
       "      <td>female</td>\n",
       "      <td>sterilized</td>\n",
       "      <td>366</td>\n",
       "      <td>0</td>\n",
       "      <td>White</td>\n",
       "    </tr>\n",
       "    <tr>\n",
       "      <td>2</td>\n",
       "      <td>Dog</td>\n",
       "      <td>Pit Bull</td>\n",
       "      <td>Adoption</td>\n",
       "      <td>1</td>\n",
       "      <td>male</td>\n",
       "      <td>sterilized</td>\n",
       "      <td>429</td>\n",
       "      <td>0</td>\n",
       "      <td>Blue</td>\n",
       "    </tr>\n",
       "    <tr>\n",
       "      <td>3</td>\n",
       "      <td>Dog</td>\n",
       "      <td>Miniature Schnauzer Mix</td>\n",
       "      <td>Transfer</td>\n",
       "      <td>1</td>\n",
       "      <td>male</td>\n",
       "      <td>sterilized</td>\n",
       "      <td>3300</td>\n",
       "      <td>0</td>\n",
       "      <td>White</td>\n",
       "    </tr>\n",
       "    <tr>\n",
       "      <td>4</td>\n",
       "      <td>Dog</td>\n",
       "      <td>Leonberger Mix</td>\n",
       "      <td>Transfer</td>\n",
       "      <td>1</td>\n",
       "      <td>male</td>\n",
       "      <td>intact</td>\n",
       "      <td>126</td>\n",
       "      <td>0</td>\n",
       "      <td>Brown</td>\n",
       "    </tr>\n",
       "  </tbody>\n",
       "</table>\n",
       "</div>"
      ],
      "text/plain": [
       "  animal_type                    breed outcome_type  has_name     sex  \\\n",
       "0         Cat   Domestic Shorthair Mix     Transfer         0    male   \n",
       "1         Dog               Beagle Mix     Transfer         1  female   \n",
       "2         Dog                 Pit Bull     Adoption         1    male   \n",
       "3         Dog  Miniature Schnauzer Mix     Transfer         1    male   \n",
       "4         Dog           Leonberger Mix     Transfer         1    male   \n",
       "\n",
       "    fertility  age_days  returning    main_color  \n",
       "0      intact        15          0  Orange Tabby  \n",
       "1  sterilized       366          0         White  \n",
       "2  sterilized       429          0          Blue  \n",
       "3  sterilized      3300          0         White  \n",
       "4      intact       126          0         Brown  "
      ]
     },
     "execution_count": 22,
     "metadata": {},
     "output_type": "execute_result"
    }
   ],
   "source": [
    "df.drop([\"color\"], axis=1, inplace=True)\n",
    "df.head()"
   ]
  },
  {
   "cell_type": "markdown",
   "metadata": {},
   "source": [
    "### Порода\n",
    "\n",
    "Посмотрим, что есть:"
   ]
  },
  {
   "cell_type": "code",
   "execution_count": 23,
   "metadata": {},
   "outputs": [
    {
     "data": {
      "text/plain": [
       "Domestic Shorthair Mix                20809\n",
       "Pit Bull Mix                           3509\n",
       "Chihuahua Shorthair Mix                3399\n",
       "Labrador Retriever Mix                 3258\n",
       "Domestic Medium Hair Mix               2049\n",
       "                                      ...  \n",
       "Boston Terrier/Miniature Schnauzer        1\n",
       "Akita/German Shepherd                     1\n",
       "Old English Sheepdog                      1\n",
       "Australian Shepherd/Siberian Husky        1\n",
       "Cockatoo Mix                              1\n",
       "Name: breed, Length: 1803, dtype: int64"
      ]
     },
     "execution_count": 23,
     "metadata": {},
     "output_type": "execute_result"
    }
   ],
   "source": [
    "df[\"breed\"].value_counts()"
   ]
  },
  {
   "cell_type": "markdown",
   "metadata": {},
   "source": [
    "Судя по всему, породы бывают чистые и смешанные (mix). Объединим породы вместе и заведём дополнительный признак для метисов:"
   ]
  },
  {
   "cell_type": "code",
   "execution_count": 24,
   "metadata": {},
   "outputs": [],
   "source": [
    "def extract_mix(df_data):\n",
    "    is_mix = 0\n",
    "    if df_data.endswith(\"Mix\"):\n",
    "        is_mix = 1\n",
    "    return is_mix\n",
    "\n",
    "def transform_breed(df_data):\n",
    "    if df_data.endswith(\"Mix\"):\n",
    "        df_data = df_data[:-4]\n",
    "    return df_data"
   ]
  },
  {
   "cell_type": "code",
   "execution_count": 25,
   "metadata": {
    "scrolled": true
   },
   "outputs": [
    {
     "data": {
      "text/html": [
       "<div>\n",
       "<style scoped>\n",
       "    .dataframe tbody tr th:only-of-type {\n",
       "        vertical-align: middle;\n",
       "    }\n",
       "\n",
       "    .dataframe tbody tr th {\n",
       "        vertical-align: top;\n",
       "    }\n",
       "\n",
       "    .dataframe thead th {\n",
       "        text-align: right;\n",
       "    }\n",
       "</style>\n",
       "<table border=\"1\" class=\"dataframe\">\n",
       "  <thead>\n",
       "    <tr style=\"text-align: right;\">\n",
       "      <th></th>\n",
       "      <th>animal_type</th>\n",
       "      <th>breed</th>\n",
       "      <th>outcome_type</th>\n",
       "      <th>has_name</th>\n",
       "      <th>sex</th>\n",
       "      <th>fertility</th>\n",
       "      <th>age_days</th>\n",
       "      <th>returning</th>\n",
       "      <th>main_color</th>\n",
       "      <th>is_mix</th>\n",
       "    </tr>\n",
       "  </thead>\n",
       "  <tbody>\n",
       "    <tr>\n",
       "      <td>0</td>\n",
       "      <td>Cat</td>\n",
       "      <td>Domestic Shorthair</td>\n",
       "      <td>Transfer</td>\n",
       "      <td>0</td>\n",
       "      <td>male</td>\n",
       "      <td>intact</td>\n",
       "      <td>15</td>\n",
       "      <td>0</td>\n",
       "      <td>Orange Tabby</td>\n",
       "      <td>1</td>\n",
       "    </tr>\n",
       "    <tr>\n",
       "      <td>1</td>\n",
       "      <td>Dog</td>\n",
       "      <td>Beagle</td>\n",
       "      <td>Transfer</td>\n",
       "      <td>1</td>\n",
       "      <td>female</td>\n",
       "      <td>sterilized</td>\n",
       "      <td>366</td>\n",
       "      <td>0</td>\n",
       "      <td>White</td>\n",
       "      <td>1</td>\n",
       "    </tr>\n",
       "    <tr>\n",
       "      <td>2</td>\n",
       "      <td>Dog</td>\n",
       "      <td>Pit Bull</td>\n",
       "      <td>Adoption</td>\n",
       "      <td>1</td>\n",
       "      <td>male</td>\n",
       "      <td>sterilized</td>\n",
       "      <td>429</td>\n",
       "      <td>0</td>\n",
       "      <td>Blue</td>\n",
       "      <td>0</td>\n",
       "    </tr>\n",
       "    <tr>\n",
       "      <td>3</td>\n",
       "      <td>Dog</td>\n",
       "      <td>Miniature Schnauzer</td>\n",
       "      <td>Transfer</td>\n",
       "      <td>1</td>\n",
       "      <td>male</td>\n",
       "      <td>sterilized</td>\n",
       "      <td>3300</td>\n",
       "      <td>0</td>\n",
       "      <td>White</td>\n",
       "      <td>1</td>\n",
       "    </tr>\n",
       "    <tr>\n",
       "      <td>4</td>\n",
       "      <td>Dog</td>\n",
       "      <td>Leonberger</td>\n",
       "      <td>Transfer</td>\n",
       "      <td>1</td>\n",
       "      <td>male</td>\n",
       "      <td>intact</td>\n",
       "      <td>126</td>\n",
       "      <td>0</td>\n",
       "      <td>Brown</td>\n",
       "      <td>1</td>\n",
       "    </tr>\n",
       "  </tbody>\n",
       "</table>\n",
       "</div>"
      ],
      "text/plain": [
       "  animal_type                breed outcome_type  has_name     sex   fertility  \\\n",
       "0         Cat   Domestic Shorthair     Transfer         0    male      intact   \n",
       "1         Dog               Beagle     Transfer         1  female  sterilized   \n",
       "2         Dog             Pit Bull     Adoption         1    male  sterilized   \n",
       "3         Dog  Miniature Schnauzer     Transfer         1    male  sterilized   \n",
       "4         Dog           Leonberger     Transfer         1    male      intact   \n",
       "\n",
       "   age_days  returning    main_color  is_mix  \n",
       "0        15          0  Orange Tabby       1  \n",
       "1       366          0         White       1  \n",
       "2       429          0          Blue       0  \n",
       "3      3300          0         White       1  \n",
       "4       126          0         Brown       1  "
      ]
     },
     "execution_count": 25,
     "metadata": {},
     "output_type": "execute_result"
    }
   ],
   "source": [
    "df[\"is_mix\"] = df[\"breed\"].apply(extract_mix)\n",
    "df[\"breed\"] = df[\"breed\"].apply(transform_breed)\n",
    "df.head()"
   ]
  },
  {
   "cell_type": "markdown",
   "metadata": {},
   "source": [
    "## Зависимости\n",
    "\n",
    "Посмотрим на корреляцию признаков, если она есть:"
   ]
  },
  {
   "cell_type": "code",
   "execution_count": 26,
   "metadata": {},
   "outputs": [
    {
     "data": {
      "text/plain": [
       "<matplotlib.axes._subplots.AxesSubplot at 0x12ab670f0>"
      ]
     },
     "execution_count": 26,
     "metadata": {},
     "output_type": "execute_result"
    },
    {
     "data": {
      "image/png": "[encoded data removed]",
      "text/plain": [
       "<Figure size 792x648 with 2 Axes>"
      ]
     },
     "metadata": {
      "needs_background": "light"
     },
     "output_type": "display_data"
    }
   ],
   "source": [
    "corr = df.corr()\n",
    "mask = np.triu(np.ones_like(corr, dtype=np.bool))\n",
    "f, ax = plt.subplots(figsize=(11, 9))\n",
    "cmap = sns.diverging_palette(220, 10, as_cmap=True)\n",
    "sns.heatmap(corr, mask=mask, cmap=cmap, vmax=.3, center=0,\n",
    "            square=True, linewidths=.5, cbar_kws={\"shrink\": .5})"
   ]
  },
  {
   "cell_type": "markdown",
   "metadata": {},
   "source": [
    "Чем старше животное, тем более вероятно, что у него есть кличка — логично. Выбрасывать ничего не будем — это всё же разные по сути своей признаки."
   ]
  },
  {
   "cell_type": "markdown",
   "metadata": {},
   "source": [
    "## Кодирование признаков"
   ]
  },
  {
   "cell_type": "markdown",
   "metadata": {},
   "source": [
    "Признаки `animal_type`, `sex`, `fertility` закодируем через LabelEncoder."
   ]
  },
  {
   "cell_type": "code",
   "execution_count": 27,
   "metadata": {},
   "outputs": [],
   "source": [
    "from sklearn.preprocessing import LabelEncoder"
   ]
  },
  {
   "cell_type": "code",
   "execution_count": 28,
   "metadata": {},
   "outputs": [
    {
     "data": {
      "text/html": [
       "<div>\n",
       "<style scoped>\n",
       "    .dataframe tbody tr th:only-of-type {\n",
       "        vertical-align: middle;\n",
       "    }\n",
       "\n",
       "    .dataframe tbody tr th {\n",
       "        vertical-align: top;\n",
       "    }\n",
       "\n",
       "    .dataframe thead th {\n",
       "        text-align: right;\n",
       "    }\n",
       "</style>\n",
       "<table border=\"1\" class=\"dataframe\">\n",
       "  <thead>\n",
       "    <tr style=\"text-align: right;\">\n",
       "      <th></th>\n",
       "      <th>animal_type</th>\n",
       "      <th>breed</th>\n",
       "      <th>outcome_type</th>\n",
       "      <th>has_name</th>\n",
       "      <th>sex</th>\n",
       "      <th>fertility</th>\n",
       "      <th>age_days</th>\n",
       "      <th>returning</th>\n",
       "      <th>main_color</th>\n",
       "      <th>is_mix</th>\n",
       "    </tr>\n",
       "  </thead>\n",
       "  <tbody>\n",
       "    <tr>\n",
       "      <td>0</td>\n",
       "      <td>1</td>\n",
       "      <td>Domestic Shorthair</td>\n",
       "      <td>Transfer</td>\n",
       "      <td>0</td>\n",
       "      <td>2</td>\n",
       "      <td>1</td>\n",
       "      <td>15</td>\n",
       "      <td>0</td>\n",
       "      <td>Orange Tabby</td>\n",
       "      <td>1</td>\n",
       "    </tr>\n",
       "    <tr>\n",
       "      <td>1</td>\n",
       "      <td>2</td>\n",
       "      <td>Beagle</td>\n",
       "      <td>Transfer</td>\n",
       "      <td>1</td>\n",
       "      <td>1</td>\n",
       "      <td>2</td>\n",
       "      <td>366</td>\n",
       "      <td>0</td>\n",
       "      <td>White</td>\n",
       "      <td>1</td>\n",
       "    </tr>\n",
       "    <tr>\n",
       "      <td>2</td>\n",
       "      <td>2</td>\n",
       "      <td>Pit Bull</td>\n",
       "      <td>Adoption</td>\n",
       "      <td>1</td>\n",
       "      <td>2</td>\n",
       "      <td>2</td>\n",
       "      <td>429</td>\n",
       "      <td>0</td>\n",
       "      <td>Blue</td>\n",
       "      <td>0</td>\n",
       "    </tr>\n",
       "    <tr>\n",
       "      <td>3</td>\n",
       "      <td>2</td>\n",
       "      <td>Miniature Schnauzer</td>\n",
       "      <td>Transfer</td>\n",
       "      <td>1</td>\n",
       "      <td>2</td>\n",
       "      <td>2</td>\n",
       "      <td>3300</td>\n",
       "      <td>0</td>\n",
       "      <td>White</td>\n",
       "      <td>1</td>\n",
       "    </tr>\n",
       "    <tr>\n",
       "      <td>4</td>\n",
       "      <td>2</td>\n",
       "      <td>Leonberger</td>\n",
       "      <td>Transfer</td>\n",
       "      <td>1</td>\n",
       "      <td>2</td>\n",
       "      <td>1</td>\n",
       "      <td>126</td>\n",
       "      <td>0</td>\n",
       "      <td>Brown</td>\n",
       "      <td>1</td>\n",
       "    </tr>\n",
       "  </tbody>\n",
       "</table>\n",
       "</div>"
      ],
      "text/plain": [
       "   animal_type                breed outcome_type  has_name  sex  fertility  \\\n",
       "0            1   Domestic Shorthair     Transfer         0    2          1   \n",
       "1            2               Beagle     Transfer         1    1          2   \n",
       "2            2             Pit Bull     Adoption         1    2          2   \n",
       "3            2  Miniature Schnauzer     Transfer         1    2          2   \n",
       "4            2           Leonberger     Transfer         1    2          1   \n",
       "\n",
       "   age_days  returning    main_color  is_mix  \n",
       "0        15          0  Orange Tabby       1  \n",
       "1       366          0         White       1  \n",
       "2       429          0          Blue       0  \n",
       "3      3300          0         White       1  \n",
       "4       126          0         Brown       1  "
      ]
     },
     "execution_count": 28,
     "metadata": {},
     "output_type": "execute_result"
    }
   ],
   "source": [
    "le = LabelEncoder()\n",
    "\n",
    "df[\"animal_type\"] = le.fit_transform(df[\"animal_type\"])\n",
    "df[\"sex\"] = le.fit_transform(df[\"sex\"])\n",
    "df[\"fertility\"] = le.fit_transform(df[\"fertility\"])\n",
    "\n",
    "df.head()"
   ]
  },
  {
   "cell_type": "markdown",
   "metadata": {},
   "source": [
    "Признаки породы и окраса нужно категоризировать, чтобы его переварила машина. Воспользуемся one-hot encoding."
   ]
  },
  {
   "cell_type": "code",
   "execution_count": 29,
   "metadata": {
    "scrolled": true
   },
   "outputs": [
    {
     "data": {
      "text/html": [
       "<div>\n",
       "<style scoped>\n",
       "    .dataframe tbody tr th:only-of-type {\n",
       "        vertical-align: middle;\n",
       "    }\n",
       "\n",
       "    .dataframe tbody tr th {\n",
       "        vertical-align: top;\n",
       "    }\n",
       "\n",
       "    .dataframe thead th {\n",
       "        text-align: right;\n",
       "    }\n",
       "</style>\n",
       "<table border=\"1\" class=\"dataframe\">\n",
       "  <thead>\n",
       "    <tr style=\"text-align: right;\">\n",
       "      <th></th>\n",
       "      <th>animal_type</th>\n",
       "      <th>outcome_type</th>\n",
       "      <th>has_name</th>\n",
       "      <th>sex</th>\n",
       "      <th>fertility</th>\n",
       "      <th>age_days</th>\n",
       "      <th>returning</th>\n",
       "      <th>is_mix</th>\n",
       "      <th>breed_Abyssinian</th>\n",
       "      <th>breed_Affenpinscher</th>\n",
       "      <th>...</th>\n",
       "      <th>main_color_Silver Lynx Point</th>\n",
       "      <th>main_color_Silver Tabby</th>\n",
       "      <th>main_color_Tan</th>\n",
       "      <th>main_color_Torbie</th>\n",
       "      <th>main_color_Tortie</th>\n",
       "      <th>main_color_Tortie Point</th>\n",
       "      <th>main_color_Tricolor</th>\n",
       "      <th>main_color_White</th>\n",
       "      <th>main_color_Yellow</th>\n",
       "      <th>main_color_Yellow Brindle</th>\n",
       "    </tr>\n",
       "  </thead>\n",
       "  <tbody>\n",
       "    <tr>\n",
       "      <td>0</td>\n",
       "      <td>1</td>\n",
       "      <td>Transfer</td>\n",
       "      <td>0</td>\n",
       "      <td>2</td>\n",
       "      <td>1</td>\n",
       "      <td>15</td>\n",
       "      <td>0</td>\n",
       "      <td>1</td>\n",
       "      <td>0</td>\n",
       "      <td>0</td>\n",
       "      <td>...</td>\n",
       "      <td>0</td>\n",
       "      <td>0</td>\n",
       "      <td>0</td>\n",
       "      <td>0</td>\n",
       "      <td>0</td>\n",
       "      <td>0</td>\n",
       "      <td>0</td>\n",
       "      <td>0</td>\n",
       "      <td>0</td>\n",
       "      <td>0</td>\n",
       "    </tr>\n",
       "    <tr>\n",
       "      <td>1</td>\n",
       "      <td>2</td>\n",
       "      <td>Transfer</td>\n",
       "      <td>1</td>\n",
       "      <td>1</td>\n",
       "      <td>2</td>\n",
       "      <td>366</td>\n",
       "      <td>0</td>\n",
       "      <td>1</td>\n",
       "      <td>0</td>\n",
       "      <td>0</td>\n",
       "      <td>...</td>\n",
       "      <td>0</td>\n",
       "      <td>0</td>\n",
       "      <td>0</td>\n",
       "      <td>0</td>\n",
       "      <td>0</td>\n",
       "      <td>0</td>\n",
       "      <td>0</td>\n",
       "      <td>1</td>\n",
       "      <td>0</td>\n",
       "      <td>0</td>\n",
       "    </tr>\n",
       "    <tr>\n",
       "      <td>2</td>\n",
       "      <td>2</td>\n",
       "      <td>Adoption</td>\n",
       "      <td>1</td>\n",
       "      <td>2</td>\n",
       "      <td>2</td>\n",
       "      <td>429</td>\n",
       "      <td>0</td>\n",
       "      <td>0</td>\n",
       "      <td>0</td>\n",
       "      <td>0</td>\n",
       "      <td>...</td>\n",
       "      <td>0</td>\n",
       "      <td>0</td>\n",
       "      <td>0</td>\n",
       "      <td>0</td>\n",
       "      <td>0</td>\n",
       "      <td>0</td>\n",
       "      <td>0</td>\n",
       "      <td>0</td>\n",
       "      <td>0</td>\n",
       "      <td>0</td>\n",
       "    </tr>\n",
       "    <tr>\n",
       "      <td>3</td>\n",
       "      <td>2</td>\n",
       "      <td>Transfer</td>\n",
       "      <td>1</td>\n",
       "      <td>2</td>\n",
       "      <td>2</td>\n",
       "      <td>3300</td>\n",
       "      <td>0</td>\n",
       "      <td>1</td>\n",
       "      <td>0</td>\n",
       "      <td>0</td>\n",
       "      <td>...</td>\n",
       "      <td>0</td>\n",
       "      <td>0</td>\n",
       "      <td>0</td>\n",
       "      <td>0</td>\n",
       "      <td>0</td>\n",
       "      <td>0</td>\n",
       "      <td>0</td>\n",
       "      <td>1</td>\n",
       "      <td>0</td>\n",
       "      <td>0</td>\n",
       "    </tr>\n",
       "    <tr>\n",
       "      <td>4</td>\n",
       "      <td>2</td>\n",
       "      <td>Transfer</td>\n",
       "      <td>1</td>\n",
       "      <td>2</td>\n",
       "      <td>1</td>\n",
       "      <td>126</td>\n",
       "      <td>0</td>\n",
       "      <td>1</td>\n",
       "      <td>0</td>\n",
       "      <td>0</td>\n",
       "      <td>...</td>\n",
       "      <td>0</td>\n",
       "      <td>0</td>\n",
       "      <td>0</td>\n",
       "      <td>0</td>\n",
       "      <td>0</td>\n",
       "      <td>0</td>\n",
       "      <td>0</td>\n",
       "      <td>0</td>\n",
       "      <td>0</td>\n",
       "      <td>0</td>\n",
       "    </tr>\n",
       "  </tbody>\n",
       "</table>\n",
       "<p>5 rows × 1687 columns</p>\n",
       "</div>"
      ],
      "text/plain": [
       "   animal_type outcome_type  has_name  sex  fertility  age_days  returning  \\\n",
       "0            1     Transfer         0    2          1        15          0   \n",
       "1            2     Transfer         1    1          2       366          0   \n",
       "2            2     Adoption         1    2          2       429          0   \n",
       "3            2     Transfer         1    2          2      3300          0   \n",
       "4            2     Transfer         1    2          1       126          0   \n",
       "\n",
       "   is_mix  breed_Abyssinian  breed_Affenpinscher  ...  \\\n",
       "0       1                 0                    0  ...   \n",
       "1       1                 0                    0  ...   \n",
       "2       0                 0                    0  ...   \n",
       "3       1                 0                    0  ...   \n",
       "4       1                 0                    0  ...   \n",
       "\n",
       "   main_color_Silver Lynx Point  main_color_Silver Tabby  main_color_Tan  \\\n",
       "0                             0                        0               0   \n",
       "1                             0                        0               0   \n",
       "2                             0                        0               0   \n",
       "3                             0                        0               0   \n",
       "4                             0                        0               0   \n",
       "\n",
       "   main_color_Torbie  main_color_Tortie  main_color_Tortie Point  \\\n",
       "0                  0                  0                        0   \n",
       "1                  0                  0                        0   \n",
       "2                  0                  0                        0   \n",
       "3                  0                  0                        0   \n",
       "4                  0                  0                        0   \n",
       "\n",
       "   main_color_Tricolor  main_color_White  main_color_Yellow  \\\n",
       "0                    0                 0                  0   \n",
       "1                    0                 1                  0   \n",
       "2                    0                 0                  0   \n",
       "3                    0                 1                  0   \n",
       "4                    0                 0                  0   \n",
       "\n",
       "   main_color_Yellow Brindle  \n",
       "0                          0  \n",
       "1                          0  \n",
       "2                          0  \n",
       "3                          0  \n",
       "4                          0  \n",
       "\n",
       "[5 rows x 1687 columns]"
      ]
     },
     "execution_count": 29,
     "metadata": {},
     "output_type": "execute_result"
    }
   ],
   "source": [
    "df = pd.get_dummies(df, columns=[\"breed\", \"main_color\"])\n",
    "df.head()"
   ]
  },
  {
   "cell_type": "markdown",
   "metadata": {},
   "source": [
    "## Обучение"
   ]
  },
  {
   "cell_type": "markdown",
   "metadata": {},
   "source": [
    "Отделяем признаки для обучения от целевого:"
   ]
  },
  {
   "cell_type": "code",
   "execution_count": 30,
   "metadata": {},
   "outputs": [],
   "source": [
    "X = df.drop([\"outcome_type\"], axis=1)\n",
    "y = df[\"outcome_type\"].values"
   ]
  },
  {
   "cell_type": "markdown",
   "metadata": {},
   "source": [
    "Преобразуем целевой признак через LabelEncoder, чтобы можно было считать метрики качества:"
   ]
  },
  {
   "cell_type": "code",
   "execution_count": 31,
   "metadata": {},
   "outputs": [],
   "source": [
    "y = le.fit_transform(y)"
   ]
  },
  {
   "cell_type": "markdown",
   "metadata": {},
   "source": [
    "Финальная проверка: первая размерность должна совпасть."
   ]
  },
  {
   "cell_type": "code",
   "execution_count": 32,
   "metadata": {},
   "outputs": [
    {
     "name": "stdout",
     "output_type": "stream",
     "text": [
      "(56611, 1686) (56611,)\n"
     ]
    }
   ],
   "source": [
    "print(X.shape, y.shape)"
   ]
  },
  {
   "cell_type": "markdown",
   "metadata": {},
   "source": [
    "Делим выборки на обучающую и тестовую:"
   ]
  },
  {
   "cell_type": "code",
   "execution_count": 33,
   "metadata": {},
   "outputs": [],
   "source": [
    "from sklearn.model_selection import train_test_split"
   ]
  },
  {
   "cell_type": "code",
   "execution_count": 34,
   "metadata": {},
   "outputs": [],
   "source": [
    "X_train, X_test, y_train, y_test = train_test_split(X, y,\n",
    "                                                    test_size=0.33, \n",
    "                                                    random_state=42)"
   ]
  },
  {
   "cell_type": "markdown",
   "metadata": {},
   "source": [
    "Обучаем модель:"
   ]
  },
  {
   "cell_type": "code",
   "execution_count": 35,
   "metadata": {},
   "outputs": [],
   "source": [
    "from sklearn.ensemble import RandomForestClassifier"
   ]
  },
  {
   "cell_type": "code",
   "execution_count": 36,
   "metadata": {},
   "outputs": [
    {
     "data": {
      "text/plain": [
       "RandomForestClassifier(random_state=42)"
      ]
     },
     "execution_count": 36,
     "metadata": {},
     "output_type": "execute_result"
    }
   ],
   "source": [
    "forest = RandomForestClassifier(random_state=42)\n",
    "forest.fit(X_train, y_train)"
   ]
  },
  {
   "cell_type": "markdown",
   "metadata": {},
   "source": [
    "Проверяем:"
   ]
  },
  {
   "cell_type": "code",
   "execution_count": 37,
   "metadata": {},
   "outputs": [],
   "source": [
    "from sklearn.metrics import classification_report"
   ]
  },
  {
   "cell_type": "code",
   "execution_count": 38,
   "metadata": {},
   "outputs": [
    {
     "name": "stdout",
     "output_type": "stream",
     "text": [
      "              precision    recall  f1-score   support\n",
      "\n",
      "           0       0.80      0.84      0.82     10927\n",
      "           1       0.76      0.71      0.73      7755\n",
      "\n",
      "    accuracy                           0.79     18682\n",
      "   macro avg       0.78      0.78      0.78     18682\n",
      "weighted avg       0.79      0.79      0.79     18682\n",
      "\n"
     ]
    }
   ],
   "source": [
    "y_pred = forest.predict(X_test)\n",
    "print(classification_report(y_test, y_pred))"
   ]
  },
  {
   "cell_type": "markdown",
   "metadata": {},
   "source": [
    "## Важность признаков\n",
    "\n",
    "Построю 10 самых важных признаков и их вклад в предсказания модели."
   ]
  },
  {
   "cell_type": "code",
   "execution_count": 39,
   "metadata": {},
   "outputs": [
    {
     "data": {
      "image/png": "[encoded data removed]",
      "text/plain": [
       "<Figure size 720x720 with 1 Axes>"
      ]
     },
     "metadata": {
      "needs_background": "light"
     },
     "output_type": "display_data"
    }
   ],
   "source": [
    "headers = list(X_train.columns.values)\n",
    "feature_imp = pd.Series(forest.feature_importances_, index=headers).sort_values(ascending=False)\n",
    "\n",
    "f, ax = plt.subplots(figsize=(10, 10))\n",
    "sns.barplot(x=feature_imp[:11], y=feature_imp.index[:11])\n",
    "\n",
    "plt.xlabel(\"Важность\")\n",
    "plt.ylabel(\"Признаки\")\n",
    "plt.title(\"Наиболее важные признаки\");"
   ]
  },
  {
   "cell_type": "markdown",
   "metadata": {},
   "source": [
    "## Сжатие размерности, PCA\n",
    "\n",
    "PCA подходит, когда у нас есть какой-то один признак с сильной вариативностью — в нашем случае это возраст.\n",
    "\n",
    "Попробуем снижать размерности в интервале [1; 10]. "
   ]
  },
  {
   "cell_type": "code",
   "execution_count": 40,
   "metadata": {},
   "outputs": [],
   "source": [
    "from sklearn.decomposition import PCA\n",
    "from sklearn.metrics import f1_score"
   ]
  },
  {
   "cell_type": "code",
   "execution_count": 41,
   "metadata": {
    "scrolled": true
   },
   "outputs": [
    {
     "name": "stdout",
     "output_type": "stream",
     "text": [
      "              precision    recall  f1-score   support\n",
      "\n",
      "           0       0.76      0.84      0.80     10927\n",
      "           1       0.74      0.63      0.68      7755\n",
      "\n",
      "    accuracy                           0.75     18682\n",
      "   macro avg       0.75      0.74      0.74     18682\n",
      "weighted avg       0.75      0.75      0.75     18682\n",
      "\n",
      "              precision    recall  f1-score   support\n",
      "\n",
      "           0       0.78      0.85      0.81     10927\n",
      "           1       0.76      0.66      0.71      7755\n",
      "\n",
      "    accuracy                           0.77     18682\n",
      "   macro avg       0.77      0.75      0.76     18682\n",
      "weighted avg       0.77      0.77      0.77     18682\n",
      "\n",
      "              precision    recall  f1-score   support\n",
      "\n",
      "           0       0.80      0.86      0.83     10927\n",
      "           1       0.78      0.69      0.73      7755\n",
      "\n",
      "    accuracy                           0.79     18682\n",
      "   macro avg       0.79      0.78      0.78     18682\n",
      "weighted avg       0.79      0.79      0.79     18682\n",
      "\n",
      "              precision    recall  f1-score   support\n",
      "\n",
      "           0       0.80      0.86      0.83     10927\n",
      "           1       0.79      0.70      0.74      7755\n",
      "\n",
      "    accuracy                           0.80     18682\n",
      "   macro avg       0.79      0.78      0.79     18682\n",
      "weighted avg       0.79      0.80      0.79     18682\n",
      "\n",
      "              precision    recall  f1-score   support\n",
      "\n",
      "           0       0.80      0.86      0.83     10927\n",
      "           1       0.78      0.70      0.74      7755\n",
      "\n",
      "    accuracy                           0.79     18682\n",
      "   macro avg       0.79      0.78      0.78     18682\n",
      "weighted avg       0.79      0.79      0.79     18682\n",
      "\n",
      "              precision    recall  f1-score   support\n",
      "\n",
      "           0       0.80      0.86      0.83     10927\n",
      "           1       0.78      0.70      0.74      7755\n",
      "\n",
      "    accuracy                           0.79     18682\n",
      "   macro avg       0.79      0.78      0.78     18682\n",
      "weighted avg       0.79      0.79      0.79     18682\n",
      "\n",
      "              precision    recall  f1-score   support\n",
      "\n",
      "           0       0.80      0.85      0.83     10927\n",
      "           1       0.77      0.70      0.74      7755\n",
      "\n",
      "    accuracy                           0.79     18682\n",
      "   macro avg       0.79      0.78      0.78     18682\n",
      "weighted avg       0.79      0.79      0.79     18682\n",
      "\n",
      "              precision    recall  f1-score   support\n",
      "\n",
      "           0       0.80      0.85      0.83     10927\n",
      "           1       0.77      0.70      0.74      7755\n",
      "\n",
      "    accuracy                           0.79     18682\n",
      "   macro avg       0.79      0.78      0.78     18682\n",
      "weighted avg       0.79      0.79      0.79     18682\n",
      "\n",
      "              precision    recall  f1-score   support\n",
      "\n",
      "           0       0.80      0.85      0.83     10927\n",
      "           1       0.77      0.70      0.74      7755\n",
      "\n",
      "    accuracy                           0.79     18682\n",
      "   macro avg       0.79      0.78      0.78     18682\n",
      "weighted avg       0.79      0.79      0.79     18682\n",
      "\n",
      "              precision    recall  f1-score   support\n",
      "\n",
      "           0       0.80      0.85      0.83     10927\n",
      "           1       0.77      0.70      0.74      7755\n",
      "\n",
      "    accuracy                           0.79     18682\n",
      "   macro avg       0.79      0.78      0.78     18682\n",
      "weighted avg       0.79      0.79      0.79     18682\n",
      "\n"
     ]
    }
   ],
   "source": [
    "results = []\n",
    "for n_dimensions in range(1, 11):\n",
    "    pca = PCA(n_components=n_dimensions)\n",
    "    pca.fit(X)\n",
    "    # преобразуем train и test\n",
    "    X_train_pca = pca.transform(X_train)\n",
    "    X_test_pca = pca.transform(X_test)\n",
    "    # запускаем модель\n",
    "    forest_pca = RandomForestClassifier(random_state=42)\n",
    "    forest_pca.fit(X_train_pca, y_train)\n",
    "    # проверяем\n",
    "    y_pred_pca = forest_pca.predict(X_test_pca)\n",
    "    results.append(f1_score(y_test, y_pred_pca))\n",
    "    print(classification_report(y_test, y_pred_pca))"
   ]
  },
  {
   "cell_type": "code",
   "execution_count": 42,
   "metadata": {},
   "outputs": [
    {
     "data": {
      "image/png": "[encoded data removed]",
      "text/plain": [
       "<Figure size 720x720 with 1 Axes>"
      ]
     },
     "metadata": {
      "needs_background": "light"
     },
     "output_type": "display_data"
    }
   ],
   "source": [
    "f, ax = plt.subplots(figsize=(10, 10))\n",
    "sns.lineplot(x=range(1, 11), y=results)\n",
    "\n",
    "plt.xlabel(\"Размерность пространства\")\n",
    "plt.ylabel(\"F1-мера модели\")\n",
    "plt.title(\"Зависимость качества от размерности\");"
   ]
  },
  {
   "cell_type": "markdown",
   "metadata": {},
   "source": [
    "Видно, что, начиная с размерности, равной 3, F1-мера начинает колебаться от 0.73 до 0.74. Кажется, что это «потолок», но попробуем на всякий случай ещё раз на большем интервале:"
   ]
  },
  {
   "cell_type": "code",
   "execution_count": 43,
   "metadata": {},
   "outputs": [
    {
     "data": {
      "image/png": "[encoded data removed]",
      "text/plain": [
       "<Figure size 1152x648 with 1 Axes>"
      ]
     },
     "metadata": {
      "needs_background": "light"
     },
     "output_type": "display_data"
    }
   ],
   "source": [
    "results = []\n",
    "n_dims = range(1, 101)\n",
    "\n",
    "for n_dimensions in n_dims:\n",
    "    pca = PCA(n_components=n_dimensions)\n",
    "    pca.fit(X)\n",
    "    X_train_pca = pca.transform(X_train)\n",
    "    X_test_pca = pca.transform(X_test)\n",
    "    forest_pca = RandomForestClassifier(random_state=42)\n",
    "    forest_pca.fit(X_train_pca, y_train)\n",
    "    y_pred_pca = forest_pca.predict(X_test_pca)\n",
    "    results.append(f1_score(y_test, y_pred_pca))\n",
    "    \n",
    "f, ax = plt.subplots(figsize=(16, 9))\n",
    "sns.lineplot(x=n_dims, y=results)\n",
    "\n",
    "plt.xlabel(\"Размерность пространства\")\n",
    "plt.ylabel(\"F1-мера модели\")\n",
    "plt.title(\"Зависимость качества от размерности (1–100)\");"
   ]
  },
  {
   "cell_type": "markdown",
   "metadata": {},
   "source": [
    "Колебания так и продолжаются, но они совсем незначительные — значит, с этими данными и выбранным случайным лесом мы не «пробьём» отметку в 0.74 и можно продолжать эксперименты уже с другими моделями."
   ]
  }
 ],
 "metadata": {
  "kernelspec": {
   "display_name": "Python 3",
   "language": "python",
   "name": "python3"
  },
  "language_info": {
   "codemirror_mode": {
    "name": "ipython",
    "version": 3
   },
   "file_extension": ".py",
   "mimetype": "text/x-python",
   "name": "python",
   "nbconvert_exporter": "python",
   "pygments_lexer": "ipython3",
   "version": "3.7.6"
  }
 },
 "nbformat": 4,
 "nbformat_minor": 2
}
