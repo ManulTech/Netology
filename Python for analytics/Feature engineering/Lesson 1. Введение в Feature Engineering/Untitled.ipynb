{
 "cells": [
  {
   "cell_type": "markdown",
   "metadata": {},
   "source": [
    "#### Домашнее задание.\n",
    "\n",
    "Необходимо запустить практическую часть занятия, и посмотреть самому то, о чём говорили на лекции.\n",
    "По образу практики, попробуйте создать искусственный датасет с лишними столбцами.\n",
    "Целевую метку, при правильной обработке данных, формируйте таким образом, чтобы без затруднений её смогла описать линейная модель.\n",
    "Ориентируйтесь на то, что было показано во время занятия, и каждый шаг описывайте в markdown. Здесь важно видеть ваш ход мысли.\n",
    "Не бойтесь ошибиться или написать не то. Данное задание не имеет какого-то “правильного” решения. Цель - достичь базового понимания проблемы.\n",
    "Чем больше вы фантазируете, тем лучше :) Тем не менее, старайтесь представить те ситуации, которые по-вашему мнению могли бы быть в реальных данных. Успеха!"
   ]
  },
  {
   "cell_type": "code",
   "execution_count": 1,
   "metadata": {},
   "outputs": [],
   "source": [
    "import pandas as pd"
   ]
  },
  {
   "cell_type": "markdown",
   "metadata": {},
   "source": [
    "### Датасет по автомобилям\n",
    "Датасет, по которому можно будет предсказывать цену на автомобиль"
   ]
  },
  {
   "cell_type": "markdown",
   "metadata": {},
   "source": [
    "manufacturer\n",
    "model\n",
    "released year\n",
    "car body\n",
    "num-of-doors\n",
    "drive-wheels\n",
    "engine-location\n",
    "fuel_type (бензин, дизель, электро, гибрид)\n",
    "horsepower\n",
    "city-mpg (расход по городу)\n",
    "highway-mpg (расход по трассе)\n",
    "price\n",
    "number-of-owners\n",
    "number-of-car-accidents\n",
    "highway-mpg"
   ]
  },
  {
   "cell_type": "code",
   "execution_count": 7,
   "metadata": {},
   "outputs": [
    {
     "data": {
      "text/html": [
       "<div>\n",
       "<style scoped>\n",
       "    .dataframe tbody tr th:only-of-type {\n",
       "        vertical-align: middle;\n",
       "    }\n",
       "\n",
       "    .dataframe tbody tr th {\n",
       "        vertical-align: top;\n",
       "    }\n",
       "\n",
       "    .dataframe thead th {\n",
       "        text-align: right;\n",
       "    }\n",
       "</style>\n",
       "<table border=\"1\" class=\"dataframe\">\n",
       "  <thead>\n",
       "    <tr style=\"text-align: right;\">\n",
       "      <th></th>\n",
       "      <th>manufacturer</th>\n",
       "      <th>model</th>\n",
       "      <th>released year</th>\n",
       "      <th>car body</th>\n",
       "      <th>num-of-doors</th>\n",
       "      <th>drive-wheels</th>\n",
       "      <th>engine-location</th>\n",
       "      <th>fuel_type</th>\n",
       "      <th>horsepower</th>\n",
       "      <th>city-mpg</th>\n",
       "      <th>highway-mpg</th>\n",
       "      <th>price</th>\n",
       "      <th>number-of-owners</th>\n",
       "      <th>number-of-car-accidents</th>\n",
       "      <th>highway-mpg</th>\n",
       "    </tr>\n",
       "  </thead>\n",
       "  <tbody>\n",
       "  </tbody>\n",
       "</table>\n",
       "</div>"
      ],
      "text/plain": [
       "Empty DataFrame\n",
       "Columns: [manufacturer, model, released year, car body, num-of-doors, drive-wheels, engine-location, fuel_type, horsepower, city-mpg, highway-mpg, price, number-of-owners, number-of-car-accidents, highway-mpg]\n",
       "Index: []"
      ]
     },
     "execution_count": 7,
     "metadata": {},
     "output_type": "execute_result"
    }
   ],
   "source": [
    "df = pd.DataFrame(columns=[\n",
    "    'manufacturer',\n",
    "    'model',\n",
    "    'released year',\n",
    "    'car body',\n",
    "    'num-of-doors',\n",
    "    'drive-wheels',\n",
    "    'engine-location',\n",
    "    'fuel_type',\n",
    "    'horsepower',\n",
    "    'city-mpg',\n",
    "    'highway-mpg',\n",
    "    'price',\n",
    "    'number-of-owners',\n",
    "    'number-of-car-accidents',\n",
    "])\n",
    "df"
   ]
  },
  {
   "cell_type": "markdown",
   "metadata": {},
   "source": [
    "Для того, чтобы достроить линейную модель предсказания нужно:\n",
    "1. manufacturer заменить на 1, 2, 3 и т.п. Например tesla = 1, тогда все машины с теслой будут иметь признак 1, opel 2. Хотя это не самое изящное решние, так как производителей авто - тысячи. \n",
    "\n",
    "2. model - аналогично. Но с той разницей, что машины tesla будут начинаться на 11 (где первая 1 это значение из колонки model). После этого колонку manufacture можно удалить\n",
    "\n",
    "Как бы вы решили 1 и 2 пункт?\n",
    "\n",
    "3. realeased year - без изменений\n",
    "\n",
    "4. car body, engine-location можно использовать one hot enconding\n",
    "\n",
    "5. drive-wheels, fuel_type - lable coding (или так же one hot enconding)\n",
    "\n",
    "6. engine-location бинарный 0 или 1 \n",
    "\n",
    "7. city-mpg и highway-mpg разделил бы друг на друга и создал новый признак.\n",
    "\n",
    "8. Возможно как-то можно ввести некий коэффициент модели/класса автомобиля. Вроде мерседес стоит дороже жигули. Но как это сделать сходу не придумал. Есть идеи? Это скорее относится к пунктам 1 и 2."
   ]
  }
 ],
 "metadata": {
  "kernelspec": {
   "display_name": "Python 3",
   "language": "python",
   "name": "python3"
  },
  "language_info": {
   "codemirror_mode": {
    "name": "ipython",
    "version": 3
   },
   "file_extension": ".py",
   "mimetype": "text/x-python",
   "name": "python",
   "nbconvert_exporter": "python",
   "pygments_lexer": "ipython3",
   "version": "3.7.6"
  }
 },
 "nbformat": 4,
 "nbformat_minor": 4
}
