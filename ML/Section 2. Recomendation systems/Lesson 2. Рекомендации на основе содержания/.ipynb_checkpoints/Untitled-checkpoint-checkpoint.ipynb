{
 "cells": [
  {
   "cell_type": "code",
   "execution_count": 1,
   "metadata": {},
   "outputs": [],
   "source": [
    "import pandas as pd\n",
    "import numpy as np\n",
    "\n",
    "from tqdm import tqdm_notebook as tqdm\n",
    "\n",
    "from sklearn.feature_extraction.text import TfidfTransformer, CountVectorizer\n",
    "from sklearn.neighbors import NearestNeighbors\n",
    "\n",
    "%matplotlib inline"
   ]
  },
  {
   "cell_type": "code",
   "execution_count": 2,
   "metadata": {},
   "outputs": [],
   "source": [
    "#links = pd.read_csv('links.csv')\n",
    "movies = pd.read_csv('movies.csv')\n",
    "ratings = pd.read_csv('ratings.csv')\n",
    "tags = pd.read_csv('tags.csv')"
   ]
  },
  {
   "cell_type": "code",
   "execution_count": 3,
   "metadata": {},
   "outputs": [
    {
     "data": {
      "text/plain": [
       "((9742, 3), (3683, 4), (100836, 4))"
      ]
     },
     "execution_count": 3,
     "metadata": {},
     "output_type": "execute_result"
    }
   ],
   "source": [
    "movies.shape, tags.shape, ratings.shape"
   ]
  },
  {
   "cell_type": "code",
   "execution_count": 4,
   "metadata": {},
   "outputs": [
    {
     "data": {
      "text/html": [
       "<div>\n",
       "<style scoped>\n",
       "    .dataframe tbody tr th:only-of-type {\n",
       "        vertical-align: middle;\n",
       "    }\n",
       "\n",
       "    .dataframe tbody tr th {\n",
       "        vertical-align: top;\n",
       "    }\n",
       "\n",
       "    .dataframe thead th {\n",
       "        text-align: right;\n",
       "    }\n",
       "</style>\n",
       "<table border=\"1\" class=\"dataframe\">\n",
       "  <thead>\n",
       "    <tr style=\"text-align: right;\">\n",
       "      <th></th>\n",
       "      <th>movieId</th>\n",
       "      <th>title</th>\n",
       "      <th>genres</th>\n",
       "    </tr>\n",
       "  </thead>\n",
       "  <tbody>\n",
       "    <tr>\n",
       "      <th>0</th>\n",
       "      <td>1</td>\n",
       "      <td>Toy Story (1995)</td>\n",
       "      <td>Adventure|Animation|Children|Comedy|Fantasy</td>\n",
       "    </tr>\n",
       "    <tr>\n",
       "      <th>1</th>\n",
       "      <td>2</td>\n",
       "      <td>Jumanji (1995)</td>\n",
       "      <td>Adventure|Children|Fantasy</td>\n",
       "    </tr>\n",
       "    <tr>\n",
       "      <th>2</th>\n",
       "      <td>3</td>\n",
       "      <td>Grumpier Old Men (1995)</td>\n",
       "      <td>Comedy|Romance</td>\n",
       "    </tr>\n",
       "    <tr>\n",
       "      <th>3</th>\n",
       "      <td>4</td>\n",
       "      <td>Waiting to Exhale (1995)</td>\n",
       "      <td>Comedy|Drama|Romance</td>\n",
       "    </tr>\n",
       "    <tr>\n",
       "      <th>4</th>\n",
       "      <td>5</td>\n",
       "      <td>Father of the Bride Part II (1995)</td>\n",
       "      <td>Comedy</td>\n",
       "    </tr>\n",
       "  </tbody>\n",
       "</table>\n",
       "</div>"
      ],
      "text/plain": [
       "   movieId                               title  \\\n",
       "0        1                    Toy Story (1995)   \n",
       "1        2                      Jumanji (1995)   \n",
       "2        3             Grumpier Old Men (1995)   \n",
       "3        4            Waiting to Exhale (1995)   \n",
       "4        5  Father of the Bride Part II (1995)   \n",
       "\n",
       "                                        genres  \n",
       "0  Adventure|Animation|Children|Comedy|Fantasy  \n",
       "1                   Adventure|Children|Fantasy  \n",
       "2                               Comedy|Romance  \n",
       "3                         Comedy|Drama|Romance  \n",
       "4                                       Comedy  "
      ]
     },
     "execution_count": 4,
     "metadata": {},
     "output_type": "execute_result"
    }
   ],
   "source": [
    "movies.head()"
   ]
  },
  {
   "cell_type": "code",
   "execution_count": 5,
   "metadata": {},
   "outputs": [
    {
     "data": {
      "text/plain": [
       "193609"
      ]
     },
     "execution_count": 5,
     "metadata": {},
     "output_type": "execute_result"
    }
   ],
   "source": [
    "movies.movieId.max()"
   ]
  },
  {
   "cell_type": "code",
   "execution_count": 6,
   "metadata": {},
   "outputs": [
    {
     "data": {
      "text/html": [
       "<div>\n",
       "<style scoped>\n",
       "    .dataframe tbody tr th:only-of-type {\n",
       "        vertical-align: middle;\n",
       "    }\n",
       "\n",
       "    .dataframe tbody tr th {\n",
       "        vertical-align: top;\n",
       "    }\n",
       "\n",
       "    .dataframe thead th {\n",
       "        text-align: right;\n",
       "    }\n",
       "</style>\n",
       "<table border=\"1\" class=\"dataframe\">\n",
       "  <thead>\n",
       "    <tr style=\"text-align: right;\">\n",
       "      <th></th>\n",
       "      <th>userId</th>\n",
       "      <th>movieId</th>\n",
       "      <th>rating</th>\n",
       "      <th>timestamp</th>\n",
       "    </tr>\n",
       "  </thead>\n",
       "  <tbody>\n",
       "    <tr>\n",
       "      <th>0</th>\n",
       "      <td>1</td>\n",
       "      <td>1</td>\n",
       "      <td>4.0</td>\n",
       "      <td>964982703</td>\n",
       "    </tr>\n",
       "    <tr>\n",
       "      <th>1</th>\n",
       "      <td>1</td>\n",
       "      <td>3</td>\n",
       "      <td>4.0</td>\n",
       "      <td>964981247</td>\n",
       "    </tr>\n",
       "    <tr>\n",
       "      <th>2</th>\n",
       "      <td>1</td>\n",
       "      <td>6</td>\n",
       "      <td>4.0</td>\n",
       "      <td>964982224</td>\n",
       "    </tr>\n",
       "    <tr>\n",
       "      <th>3</th>\n",
       "      <td>1</td>\n",
       "      <td>47</td>\n",
       "      <td>5.0</td>\n",
       "      <td>964983815</td>\n",
       "    </tr>\n",
       "    <tr>\n",
       "      <th>4</th>\n",
       "      <td>1</td>\n",
       "      <td>50</td>\n",
       "      <td>5.0</td>\n",
       "      <td>964982931</td>\n",
       "    </tr>\n",
       "  </tbody>\n",
       "</table>\n",
       "</div>"
      ],
      "text/plain": [
       "   userId  movieId  rating  timestamp\n",
       "0       1        1     4.0  964982703\n",
       "1       1        3     4.0  964981247\n",
       "2       1        6     4.0  964982224\n",
       "3       1       47     5.0  964983815\n",
       "4       1       50     5.0  964982931"
      ]
     },
     "execution_count": 6,
     "metadata": {},
     "output_type": "execute_result"
    }
   ],
   "source": [
    "ratings.head()"
   ]
  },
  {
   "cell_type": "markdown",
   "metadata": {},
   "source": [
    "### Самые активные пользователи"
   ]
  },
  {
   "cell_type": "code",
   "execution_count": 7,
   "metadata": {},
   "outputs": [
    {
     "data": {
      "text/plain": [
       "414    2698\n",
       "599    2478\n",
       "474    2108\n",
       "Name: userId, dtype: int64"
      ]
     },
     "execution_count": 7,
     "metadata": {},
     "output_type": "execute_result"
    }
   ],
   "source": [
    "ratings.userId.value_counts().head(3)"
   ]
  },
  {
   "cell_type": "markdown",
   "metadata": {},
   "source": [
    "Едем дальше"
   ]
  },
  {
   "cell_type": "code",
   "execution_count": 8,
   "metadata": {},
   "outputs": [
    {
     "data": {
      "text/html": [
       "<div>\n",
       "<style scoped>\n",
       "    .dataframe tbody tr th:only-of-type {\n",
       "        vertical-align: middle;\n",
       "    }\n",
       "\n",
       "    .dataframe tbody tr th {\n",
       "        vertical-align: top;\n",
       "    }\n",
       "\n",
       "    .dataframe thead th {\n",
       "        text-align: right;\n",
       "    }\n",
       "</style>\n",
       "<table border=\"1\" class=\"dataframe\">\n",
       "  <thead>\n",
       "    <tr style=\"text-align: right;\">\n",
       "      <th></th>\n",
       "      <th>userId</th>\n",
       "      <th>movieId</th>\n",
       "      <th>tag</th>\n",
       "      <th>timestamp</th>\n",
       "    </tr>\n",
       "  </thead>\n",
       "  <tbody>\n",
       "    <tr>\n",
       "      <th>0</th>\n",
       "      <td>2</td>\n",
       "      <td>60756</td>\n",
       "      <td>funny</td>\n",
       "      <td>1445714994</td>\n",
       "    </tr>\n",
       "    <tr>\n",
       "      <th>1</th>\n",
       "      <td>2</td>\n",
       "      <td>60756</td>\n",
       "      <td>Highly quotable</td>\n",
       "      <td>1445714996</td>\n",
       "    </tr>\n",
       "    <tr>\n",
       "      <th>2</th>\n",
       "      <td>2</td>\n",
       "      <td>60756</td>\n",
       "      <td>will ferrell</td>\n",
       "      <td>1445714992</td>\n",
       "    </tr>\n",
       "    <tr>\n",
       "      <th>3</th>\n",
       "      <td>2</td>\n",
       "      <td>89774</td>\n",
       "      <td>Boxing story</td>\n",
       "      <td>1445715207</td>\n",
       "    </tr>\n",
       "    <tr>\n",
       "      <th>4</th>\n",
       "      <td>2</td>\n",
       "      <td>89774</td>\n",
       "      <td>MMA</td>\n",
       "      <td>1445715200</td>\n",
       "    </tr>\n",
       "  </tbody>\n",
       "</table>\n",
       "</div>"
      ],
      "text/plain": [
       "   userId  movieId              tag   timestamp\n",
       "0       2    60756            funny  1445714994\n",
       "1       2    60756  Highly quotable  1445714996\n",
       "2       2    60756     will ferrell  1445714992\n",
       "3       2    89774     Boxing story  1445715207\n",
       "4       2    89774              MMA  1445715200"
      ]
     },
     "execution_count": 8,
     "metadata": {},
     "output_type": "execute_result"
    }
   ],
   "source": [
    "tags.head()"
   ]
  },
  {
   "cell_type": "code",
   "execution_count": 9,
   "metadata": {},
   "outputs": [
    {
     "data": {
      "text/plain": [
       "((9742,), (11853, 6), (3683, 4))"
      ]
     },
     "execution_count": 9,
     "metadata": {},
     "output_type": "execute_result"
    }
   ],
   "source": [
    "movies_with_tags = pd.merge(movies, tags, on='movieId', how='left')\n",
    "movies_with_tags.movieId.unique().shape, movies_with_tags.shape, tags.shape"
   ]
  },
  {
   "cell_type": "code",
   "execution_count": 10,
   "metadata": {},
   "outputs": [
    {
     "data": {
      "text/html": [
       "<div>\n",
       "<style scoped>\n",
       "    .dataframe tbody tr th:only-of-type {\n",
       "        vertical-align: middle;\n",
       "    }\n",
       "\n",
       "    .dataframe tbody tr th {\n",
       "        vertical-align: top;\n",
       "    }\n",
       "\n",
       "    .dataframe thead th {\n",
       "        text-align: right;\n",
       "    }\n",
       "</style>\n",
       "<table border=\"1\" class=\"dataframe\">\n",
       "  <thead>\n",
       "    <tr style=\"text-align: right;\">\n",
       "      <th></th>\n",
       "      <th>movieId</th>\n",
       "      <th>title</th>\n",
       "      <th>genres</th>\n",
       "      <th>userId</th>\n",
       "      <th>tag</th>\n",
       "      <th>timestamp</th>\n",
       "    </tr>\n",
       "  </thead>\n",
       "  <tbody>\n",
       "    <tr>\n",
       "      <th>0</th>\n",
       "      <td>1</td>\n",
       "      <td>Toy Story (1995)</td>\n",
       "      <td>Adventure|Animation|Children|Comedy|Fantasy</td>\n",
       "      <td>336.0</td>\n",
       "      <td>pixar</td>\n",
       "      <td>1.139046e+09</td>\n",
       "    </tr>\n",
       "    <tr>\n",
       "      <th>1</th>\n",
       "      <td>1</td>\n",
       "      <td>Toy Story (1995)</td>\n",
       "      <td>Adventure|Animation|Children|Comedy|Fantasy</td>\n",
       "      <td>474.0</td>\n",
       "      <td>pixar</td>\n",
       "      <td>1.137207e+09</td>\n",
       "    </tr>\n",
       "    <tr>\n",
       "      <th>2</th>\n",
       "      <td>1</td>\n",
       "      <td>Toy Story (1995)</td>\n",
       "      <td>Adventure|Animation|Children|Comedy|Fantasy</td>\n",
       "      <td>567.0</td>\n",
       "      <td>fun</td>\n",
       "      <td>1.525286e+09</td>\n",
       "    </tr>\n",
       "    <tr>\n",
       "      <th>3</th>\n",
       "      <td>2</td>\n",
       "      <td>Jumanji (1995)</td>\n",
       "      <td>Adventure|Children|Fantasy</td>\n",
       "      <td>62.0</td>\n",
       "      <td>fantasy</td>\n",
       "      <td>1.528844e+09</td>\n",
       "    </tr>\n",
       "    <tr>\n",
       "      <th>4</th>\n",
       "      <td>2</td>\n",
       "      <td>Jumanji (1995)</td>\n",
       "      <td>Adventure|Children|Fantasy</td>\n",
       "      <td>62.0</td>\n",
       "      <td>magic board game</td>\n",
       "      <td>1.528844e+09</td>\n",
       "    </tr>\n",
       "  </tbody>\n",
       "</table>\n",
       "</div>"
      ],
      "text/plain": [
       "   movieId             title                                       genres  \\\n",
       "0        1  Toy Story (1995)  Adventure|Animation|Children|Comedy|Fantasy   \n",
       "1        1  Toy Story (1995)  Adventure|Animation|Children|Comedy|Fantasy   \n",
       "2        1  Toy Story (1995)  Adventure|Animation|Children|Comedy|Fantasy   \n",
       "3        2    Jumanji (1995)                   Adventure|Children|Fantasy   \n",
       "4        2    Jumanji (1995)                   Adventure|Children|Fantasy   \n",
       "\n",
       "   userId               tag     timestamp  \n",
       "0   336.0             pixar  1.139046e+09  \n",
       "1   474.0             pixar  1.137207e+09  \n",
       "2   567.0               fun  1.525286e+09  \n",
       "3    62.0           fantasy  1.528844e+09  \n",
       "4    62.0  magic board game  1.528844e+09  "
      ]
     },
     "execution_count": 10,
     "metadata": {},
     "output_type": "execute_result"
    }
   ],
   "source": [
    "movies_with_tags.head()"
   ]
  },
  {
   "cell_type": "markdown",
   "metadata": {},
   "source": [
    "### Собираем и объединяем теги для каждого фильма от разных пользователей"
   ]
  },
  {
   "cell_type": "code",
   "execution_count": 11,
   "metadata": {},
   "outputs": [
    {
     "name": "stderr",
     "output_type": "stream",
     "text": [
      "<ipython-input-11-2897d6071177>:4: TqdmDeprecationWarning: This function will be removed in tqdm==5.0.0\n",
      "Please use `tqdm.notebook.tqdm` instead of `tqdm.tqdm_notebook`\n",
      "  for movie, group in tqdm(movies_with_tags.groupby('title')):\n"
     ]
    },
    {
     "data": {
      "application/vnd.jupyter.widget-view+json": {
       "model_id": "63ef77963f8a474d9616358cb7f693d5",
       "version_major": 2,
       "version_minor": 0
      },
      "text/plain": [
       "HBox(children=(FloatProgress(value=0.0, max=9737.0), HTML(value='')))"
      ]
     },
     "metadata": {},
     "output_type": "display_data"
    },
    {
     "name": "stdout",
     "output_type": "stream",
     "text": [
      "\n"
     ]
    }
   ],
   "source": [
    "tag_strings = []\n",
    "movies_list = []\n",
    "\n",
    "for movie, group in tqdm(movies_with_tags.groupby('title')):\n",
    "    tag_strings.append(' '.join([str(s).replace(' ', '').replace('-', '') for s in group.tag.values]))\n",
    "    movies_list.append(movie)"
   ]
  },
  {
   "cell_type": "code",
   "execution_count": 12,
   "metadata": {},
   "outputs": [
    {
     "data": {
      "text/plain": [
       "[\"'71 (2014)\",\n",
       " \"'Hellboy': The Seeds of Creation (2004)\",\n",
       " \"'Round Midnight (1986)\",\n",
       " \"'Salem's Lot (2004)\",\n",
       " \"'Til There Was You (1997)\",\n",
       " \"'Tis the Season for Love (2015)\",\n",
       " \"'burbs, The (1989)\",\n",
       " \"'night Mother (1986)\",\n",
       " '(500) Days of Summer (2009)',\n",
       " '*batteries not included (1987)']"
      ]
     },
     "execution_count": 12,
     "metadata": {},
     "output_type": "execute_result"
    }
   ],
   "source": [
    "movies_list[:10]"
   ]
  },
  {
   "cell_type": "code",
   "execution_count": 13,
   "metadata": {},
   "outputs": [
    {
     "data": {
      "text/plain": [
       "['nan',\n",
       " 'nan',\n",
       " 'nan',\n",
       " 'nan',\n",
       " 'nan',\n",
       " 'nan',\n",
       " 'nan',\n",
       " 'nan',\n",
       " 'artistic Funny humorous inspiring intelligent quirky romance ZooeyDeschanel',\n",
       " 'nan']"
      ]
     },
     "execution_count": 13,
     "metadata": {},
     "output_type": "execute_result"
    }
   ],
   "source": [
    "tag_strings[:10]"
   ]
  },
  {
   "cell_type": "code",
   "execution_count": 14,
   "metadata": {},
   "outputs": [
    {
     "data": {
      "text/plain": [
       "(9737, 9737)"
      ]
     },
     "execution_count": 14,
     "metadata": {},
     "output_type": "execute_result"
    }
   ],
   "source": [
    "len(movies_list), len(tag_strings)"
   ]
  },
  {
   "cell_type": "markdown",
   "metadata": {},
   "source": [
    "### Уберём nan"
   ]
  },
  {
   "cell_type": "code",
   "execution_count": 15,
   "metadata": {},
   "outputs": [],
   "source": [
    "tag_strings = [str(s).replace('nan', '') for s in tag_strings]"
   ]
  },
  {
   "cell_type": "code",
   "execution_count": 16,
   "metadata": {},
   "outputs": [
    {
     "data": {
      "text/html": [
       "<div>\n",
       "<style scoped>\n",
       "    .dataframe tbody tr th:only-of-type {\n",
       "        vertical-align: middle;\n",
       "    }\n",
       "\n",
       "    .dataframe tbody tr th {\n",
       "        vertical-align: top;\n",
       "    }\n",
       "\n",
       "    .dataframe thead th {\n",
       "        text-align: right;\n",
       "    }\n",
       "</style>\n",
       "<table border=\"1\" class=\"dataframe\">\n",
       "  <thead>\n",
       "    <tr style=\"text-align: right;\">\n",
       "      <th></th>\n",
       "      <th>title</th>\n",
       "      <th>tag</th>\n",
       "    </tr>\n",
       "  </thead>\n",
       "  <tbody>\n",
       "    <tr>\n",
       "      <th>0</th>\n",
       "      <td>'71 (2014)</td>\n",
       "      <td></td>\n",
       "    </tr>\n",
       "    <tr>\n",
       "      <th>1</th>\n",
       "      <td>'Hellboy': The Seeds of Creation (2004)</td>\n",
       "      <td></td>\n",
       "    </tr>\n",
       "    <tr>\n",
       "      <th>2</th>\n",
       "      <td>'Round Midnight (1986)</td>\n",
       "      <td></td>\n",
       "    </tr>\n",
       "    <tr>\n",
       "      <th>3</th>\n",
       "      <td>'Salem's Lot (2004)</td>\n",
       "      <td></td>\n",
       "    </tr>\n",
       "    <tr>\n",
       "      <th>4</th>\n",
       "      <td>'Til There Was You (1997)</td>\n",
       "      <td></td>\n",
       "    </tr>\n",
       "    <tr>\n",
       "      <th>5</th>\n",
       "      <td>'Tis the Season for Love (2015)</td>\n",
       "      <td></td>\n",
       "    </tr>\n",
       "    <tr>\n",
       "      <th>6</th>\n",
       "      <td>'burbs, The (1989)</td>\n",
       "      <td></td>\n",
       "    </tr>\n",
       "    <tr>\n",
       "      <th>7</th>\n",
       "      <td>'night Mother (1986)</td>\n",
       "      <td></td>\n",
       "    </tr>\n",
       "    <tr>\n",
       "      <th>8</th>\n",
       "      <td>(500) Days of Summer (2009)</td>\n",
       "      <td>artistic Funny humorous inspiring intelligent ...</td>\n",
       "    </tr>\n",
       "    <tr>\n",
       "      <th>9</th>\n",
       "      <td>*batteries not included (1987)</td>\n",
       "      <td></td>\n",
       "    </tr>\n",
       "  </tbody>\n",
       "</table>\n",
       "</div>"
      ],
      "text/plain": [
       "                                     title  \\\n",
       "0                               '71 (2014)   \n",
       "1  'Hellboy': The Seeds of Creation (2004)   \n",
       "2                   'Round Midnight (1986)   \n",
       "3                      'Salem's Lot (2004)   \n",
       "4                'Til There Was You (1997)   \n",
       "5          'Tis the Season for Love (2015)   \n",
       "6                       'burbs, The (1989)   \n",
       "7                     'night Mother (1986)   \n",
       "8              (500) Days of Summer (2009)   \n",
       "9           *batteries not included (1987)   \n",
       "\n",
       "                                                 tag  \n",
       "0                                                     \n",
       "1                                                     \n",
       "2                                                     \n",
       "3                                                     \n",
       "4                                                     \n",
       "5                                                     \n",
       "6                                                     \n",
       "7                                                     \n",
       "8  artistic Funny humorous inspiring intelligent ...  \n",
       "9                                                     "
      ]
     },
     "execution_count": 16,
     "metadata": {},
     "output_type": "execute_result"
    }
   ],
   "source": [
    "df = pd.DataFrame(movies_list, columns = ['title'])\n",
    "df['tag'] = tag_strings\n",
    "df.head(10)"
   ]
  },
  {
   "cell_type": "markdown",
   "metadata": {},
   "source": [
    "### Объедним с предыдущим dataframe'ом и удалим лишнее"
   ]
  },
  {
   "cell_type": "code",
   "execution_count": 17,
   "metadata": {},
   "outputs": [
    {
     "data": {
      "text/html": [
       "<div>\n",
       "<style scoped>\n",
       "    .dataframe tbody tr th:only-of-type {\n",
       "        vertical-align: middle;\n",
       "    }\n",
       "\n",
       "    .dataframe tbody tr th {\n",
       "        vertical-align: top;\n",
       "    }\n",
       "\n",
       "    .dataframe thead th {\n",
       "        text-align: right;\n",
       "    }\n",
       "</style>\n",
       "<table border=\"1\" class=\"dataframe\">\n",
       "  <thead>\n",
       "    <tr style=\"text-align: right;\">\n",
       "      <th></th>\n",
       "      <th>movieId</th>\n",
       "      <th>title</th>\n",
       "      <th>genres</th>\n",
       "      <th>userId</th>\n",
       "      <th>tag_x</th>\n",
       "      <th>timestamp</th>\n",
       "      <th>tag_y</th>\n",
       "    </tr>\n",
       "  </thead>\n",
       "  <tbody>\n",
       "    <tr>\n",
       "      <th>0</th>\n",
       "      <td>1</td>\n",
       "      <td>Toy Story (1995)</td>\n",
       "      <td>Adventure|Animation|Children|Comedy|Fantasy</td>\n",
       "      <td>336.0</td>\n",
       "      <td>pixar</td>\n",
       "      <td>1.139046e+09</td>\n",
       "      <td>pixar pixar fun</td>\n",
       "    </tr>\n",
       "    <tr>\n",
       "      <th>1</th>\n",
       "      <td>1</td>\n",
       "      <td>Toy Story (1995)</td>\n",
       "      <td>Adventure|Animation|Children|Comedy|Fantasy</td>\n",
       "      <td>474.0</td>\n",
       "      <td>pixar</td>\n",
       "      <td>1.137207e+09</td>\n",
       "      <td>pixar pixar fun</td>\n",
       "    </tr>\n",
       "    <tr>\n",
       "      <th>2</th>\n",
       "      <td>1</td>\n",
       "      <td>Toy Story (1995)</td>\n",
       "      <td>Adventure|Animation|Children|Comedy|Fantasy</td>\n",
       "      <td>567.0</td>\n",
       "      <td>fun</td>\n",
       "      <td>1.525286e+09</td>\n",
       "      <td>pixar pixar fun</td>\n",
       "    </tr>\n",
       "    <tr>\n",
       "      <th>3</th>\n",
       "      <td>2</td>\n",
       "      <td>Jumanji (1995)</td>\n",
       "      <td>Adventure|Children|Fantasy</td>\n",
       "      <td>62.0</td>\n",
       "      <td>fantasy</td>\n",
       "      <td>1.528844e+09</td>\n",
       "      <td>fantasy magicboardgame RobinWilliams game</td>\n",
       "    </tr>\n",
       "    <tr>\n",
       "      <th>4</th>\n",
       "      <td>2</td>\n",
       "      <td>Jumanji (1995)</td>\n",
       "      <td>Adventure|Children|Fantasy</td>\n",
       "      <td>62.0</td>\n",
       "      <td>magic board game</td>\n",
       "      <td>1.528844e+09</td>\n",
       "      <td>fantasy magicboardgame RobinWilliams game</td>\n",
       "    </tr>\n",
       "  </tbody>\n",
       "</table>\n",
       "</div>"
      ],
      "text/plain": [
       "   movieId             title                                       genres  \\\n",
       "0        1  Toy Story (1995)  Adventure|Animation|Children|Comedy|Fantasy   \n",
       "1        1  Toy Story (1995)  Adventure|Animation|Children|Comedy|Fantasy   \n",
       "2        1  Toy Story (1995)  Adventure|Animation|Children|Comedy|Fantasy   \n",
       "3        2    Jumanji (1995)                   Adventure|Children|Fantasy   \n",
       "4        2    Jumanji (1995)                   Adventure|Children|Fantasy   \n",
       "\n",
       "   userId             tag_x     timestamp  \\\n",
       "0   336.0             pixar  1.139046e+09   \n",
       "1   474.0             pixar  1.137207e+09   \n",
       "2   567.0               fun  1.525286e+09   \n",
       "3    62.0           fantasy  1.528844e+09   \n",
       "4    62.0  magic board game  1.528844e+09   \n",
       "\n",
       "                                       tag_y  \n",
       "0                            pixar pixar fun  \n",
       "1                            pixar pixar fun  \n",
       "2                            pixar pixar fun  \n",
       "3  fantasy magicboardgame RobinWilliams game  \n",
       "4  fantasy magicboardgame RobinWilliams game  "
      ]
     },
     "execution_count": 17,
     "metadata": {},
     "output_type": "execute_result"
    }
   ],
   "source": [
    "movies_with_tags = pd.DataFrame.merge(movies_with_tags, df, on='title')\n",
    "movies_with_tags.head()"
   ]
  },
  {
   "cell_type": "code",
   "execution_count": 18,
   "metadata": {},
   "outputs": [],
   "source": [
    "def change_string(s):\n",
    "    return '|' + s.replace(' ', '|')"
   ]
  },
  {
   "cell_type": "code",
   "execution_count": 19,
   "metadata": {},
   "outputs": [
    {
     "data": {
      "text/html": [
       "<div>\n",
       "<style scoped>\n",
       "    .dataframe tbody tr th:only-of-type {\n",
       "        vertical-align: middle;\n",
       "    }\n",
       "\n",
       "    .dataframe tbody tr th {\n",
       "        vertical-align: top;\n",
       "    }\n",
       "\n",
       "    .dataframe thead th {\n",
       "        text-align: right;\n",
       "    }\n",
       "</style>\n",
       "<table border=\"1\" class=\"dataframe\">\n",
       "  <thead>\n",
       "    <tr style=\"text-align: right;\">\n",
       "      <th></th>\n",
       "      <th>movieId</th>\n",
       "      <th>title</th>\n",
       "      <th>genres</th>\n",
       "      <th>userId</th>\n",
       "      <th>tag_x</th>\n",
       "      <th>timestamp</th>\n",
       "      <th>tag_y</th>\n",
       "    </tr>\n",
       "  </thead>\n",
       "  <tbody>\n",
       "    <tr>\n",
       "      <th>0</th>\n",
       "      <td>1</td>\n",
       "      <td>Toy Story (1995)</td>\n",
       "      <td>Adventure|Animation|Children|Comedy|Fantasy</td>\n",
       "      <td>336.0</td>\n",
       "      <td>pixar</td>\n",
       "      <td>1.139046e+09</td>\n",
       "      <td>|pixar|pixar|fun</td>\n",
       "    </tr>\n",
       "    <tr>\n",
       "      <th>1</th>\n",
       "      <td>1</td>\n",
       "      <td>Toy Story (1995)</td>\n",
       "      <td>Adventure|Animation|Children|Comedy|Fantasy</td>\n",
       "      <td>474.0</td>\n",
       "      <td>pixar</td>\n",
       "      <td>1.137207e+09</td>\n",
       "      <td>|pixar|pixar|fun</td>\n",
       "    </tr>\n",
       "    <tr>\n",
       "      <th>2</th>\n",
       "      <td>1</td>\n",
       "      <td>Toy Story (1995)</td>\n",
       "      <td>Adventure|Animation|Children|Comedy|Fantasy</td>\n",
       "      <td>567.0</td>\n",
       "      <td>fun</td>\n",
       "      <td>1.525286e+09</td>\n",
       "      <td>|pixar|pixar|fun</td>\n",
       "    </tr>\n",
       "    <tr>\n",
       "      <th>3</th>\n",
       "      <td>2</td>\n",
       "      <td>Jumanji (1995)</td>\n",
       "      <td>Adventure|Children|Fantasy</td>\n",
       "      <td>62.0</td>\n",
       "      <td>fantasy</td>\n",
       "      <td>1.528844e+09</td>\n",
       "      <td>|fantasy|magicboardgame|RobinWilliams|game</td>\n",
       "    </tr>\n",
       "    <tr>\n",
       "      <th>4</th>\n",
       "      <td>2</td>\n",
       "      <td>Jumanji (1995)</td>\n",
       "      <td>Adventure|Children|Fantasy</td>\n",
       "      <td>62.0</td>\n",
       "      <td>magic board game</td>\n",
       "      <td>1.528844e+09</td>\n",
       "      <td>|fantasy|magicboardgame|RobinWilliams|game</td>\n",
       "    </tr>\n",
       "  </tbody>\n",
       "</table>\n",
       "</div>"
      ],
      "text/plain": [
       "   movieId             title                                       genres  \\\n",
       "0        1  Toy Story (1995)  Adventure|Animation|Children|Comedy|Fantasy   \n",
       "1        1  Toy Story (1995)  Adventure|Animation|Children|Comedy|Fantasy   \n",
       "2        1  Toy Story (1995)  Adventure|Animation|Children|Comedy|Fantasy   \n",
       "3        2    Jumanji (1995)                   Adventure|Children|Fantasy   \n",
       "4        2    Jumanji (1995)                   Adventure|Children|Fantasy   \n",
       "\n",
       "   userId             tag_x     timestamp  \\\n",
       "0   336.0             pixar  1.139046e+09   \n",
       "1   474.0             pixar  1.137207e+09   \n",
       "2   567.0               fun  1.525286e+09   \n",
       "3    62.0           fantasy  1.528844e+09   \n",
       "4    62.0  magic board game  1.528844e+09   \n",
       "\n",
       "                                        tag_y  \n",
       "0                            |pixar|pixar|fun  \n",
       "1                            |pixar|pixar|fun  \n",
       "2                            |pixar|pixar|fun  \n",
       "3  |fantasy|magicboardgame|RobinWilliams|game  \n",
       "4  |fantasy|magicboardgame|RobinWilliams|game  "
      ]
     },
     "execution_count": 19,
     "metadata": {},
     "output_type": "execute_result"
    }
   ],
   "source": [
    "movies_with_tags['tag_y'] = movies_with_tags['tag_y'].apply(change_string) \n",
    "movies_with_tags.head()"
   ]
  },
  {
   "cell_type": "code",
   "execution_count": 20,
   "metadata": {},
   "outputs": [
    {
     "data": {
      "text/html": [
       "<div>\n",
       "<style scoped>\n",
       "    .dataframe tbody tr th:only-of-type {\n",
       "        vertical-align: middle;\n",
       "    }\n",
       "\n",
       "    .dataframe tbody tr th {\n",
       "        vertical-align: top;\n",
       "    }\n",
       "\n",
       "    .dataframe thead th {\n",
       "        text-align: right;\n",
       "    }\n",
       "</style>\n",
       "<table border=\"1\" class=\"dataframe\">\n",
       "  <thead>\n",
       "    <tr style=\"text-align: right;\">\n",
       "      <th></th>\n",
       "      <th>movieId</th>\n",
       "      <th>title</th>\n",
       "      <th>userId</th>\n",
       "      <th>timestamp</th>\n",
       "      <th>tags_genres</th>\n",
       "    </tr>\n",
       "  </thead>\n",
       "  <tbody>\n",
       "    <tr>\n",
       "      <th>0</th>\n",
       "      <td>1</td>\n",
       "      <td>Toy Story (1995)</td>\n",
       "      <td>336.0</td>\n",
       "      <td>1.139046e+09</td>\n",
       "      <td>Adventure|Animation|Children|Comedy|Fantasy|pi...</td>\n",
       "    </tr>\n",
       "    <tr>\n",
       "      <th>1</th>\n",
       "      <td>1</td>\n",
       "      <td>Toy Story (1995)</td>\n",
       "      <td>474.0</td>\n",
       "      <td>1.137207e+09</td>\n",
       "      <td>Adventure|Animation|Children|Comedy|Fantasy|pi...</td>\n",
       "    </tr>\n",
       "    <tr>\n",
       "      <th>2</th>\n",
       "      <td>1</td>\n",
       "      <td>Toy Story (1995)</td>\n",
       "      <td>567.0</td>\n",
       "      <td>1.525286e+09</td>\n",
       "      <td>Adventure|Animation|Children|Comedy|Fantasy|pi...</td>\n",
       "    </tr>\n",
       "    <tr>\n",
       "      <th>3</th>\n",
       "      <td>2</td>\n",
       "      <td>Jumanji (1995)</td>\n",
       "      <td>62.0</td>\n",
       "      <td>1.528844e+09</td>\n",
       "      <td>Adventure|Children|Fantasy|fantasy|magicboardg...</td>\n",
       "    </tr>\n",
       "    <tr>\n",
       "      <th>4</th>\n",
       "      <td>2</td>\n",
       "      <td>Jumanji (1995)</td>\n",
       "      <td>62.0</td>\n",
       "      <td>1.528844e+09</td>\n",
       "      <td>Adventure|Children|Fantasy|fantasy|magicboardg...</td>\n",
       "    </tr>\n",
       "  </tbody>\n",
       "</table>\n",
       "</div>"
      ],
      "text/plain": [
       "   movieId             title  userId     timestamp  \\\n",
       "0        1  Toy Story (1995)   336.0  1.139046e+09   \n",
       "1        1  Toy Story (1995)   474.0  1.137207e+09   \n",
       "2        1  Toy Story (1995)   567.0  1.525286e+09   \n",
       "3        2    Jumanji (1995)    62.0  1.528844e+09   \n",
       "4        2    Jumanji (1995)    62.0  1.528844e+09   \n",
       "\n",
       "                                         tags_genres  \n",
       "0  Adventure|Animation|Children|Comedy|Fantasy|pi...  \n",
       "1  Adventure|Animation|Children|Comedy|Fantasy|pi...  \n",
       "2  Adventure|Animation|Children|Comedy|Fantasy|pi...  \n",
       "3  Adventure|Children|Fantasy|fantasy|magicboardg...  \n",
       "4  Adventure|Children|Fantasy|fantasy|magicboardg...  "
      ]
     },
     "execution_count": 20,
     "metadata": {},
     "output_type": "execute_result"
    }
   ],
   "source": [
    "movies_with_tags['tags_genres'] = movies_with_tags['genres'] + movies_with_tags['tag_y']\n",
    "movies_with_tags.drop(['genres', 'tag_x', 'tag_y'], axis=1, inplace=True)\n",
    "movies_with_tags.head()"
   ]
  },
  {
   "cell_type": "code",
   "execution_count": 21,
   "metadata": {
    "scrolled": false
   },
   "outputs": [
    {
     "data": {
      "text/html": [
       "<div>\n",
       "<style scoped>\n",
       "    .dataframe tbody tr th:only-of-type {\n",
       "        vertical-align: middle;\n",
       "    }\n",
       "\n",
       "    .dataframe tbody tr th {\n",
       "        vertical-align: top;\n",
       "    }\n",
       "\n",
       "    .dataframe thead th {\n",
       "        text-align: right;\n",
       "    }\n",
       "</style>\n",
       "<table border=\"1\" class=\"dataframe\">\n",
       "  <thead>\n",
       "    <tr style=\"text-align: right;\">\n",
       "      <th></th>\n",
       "      <th>movieId</th>\n",
       "      <th>title</th>\n",
       "      <th>userId</th>\n",
       "      <th>timestamp</th>\n",
       "      <th>tags_genres</th>\n",
       "    </tr>\n",
       "  </thead>\n",
       "  <tbody>\n",
       "    <tr>\n",
       "      <th>8725</th>\n",
       "      <td>69757</td>\n",
       "      <td>(500) Days of Summer (2009)</td>\n",
       "      <td>477.0</td>\n",
       "      <td>1.279956e+09</td>\n",
       "      <td>Comedy|Drama|Romance|artistic|Funny|humorous|i...</td>\n",
       "    </tr>\n",
       "    <tr>\n",
       "      <th>8726</th>\n",
       "      <td>69757</td>\n",
       "      <td>(500) Days of Summer (2009)</td>\n",
       "      <td>477.0</td>\n",
       "      <td>1.279956e+09</td>\n",
       "      <td>Comedy|Drama|Romance|artistic|Funny|humorous|i...</td>\n",
       "    </tr>\n",
       "    <tr>\n",
       "      <th>8727</th>\n",
       "      <td>69757</td>\n",
       "      <td>(500) Days of Summer (2009)</td>\n",
       "      <td>477.0</td>\n",
       "      <td>1.279956e+09</td>\n",
       "      <td>Comedy|Drama|Romance|artistic|Funny|humorous|i...</td>\n",
       "    </tr>\n",
       "    <tr>\n",
       "      <th>8728</th>\n",
       "      <td>69757</td>\n",
       "      <td>(500) Days of Summer (2009)</td>\n",
       "      <td>477.0</td>\n",
       "      <td>1.279956e+09</td>\n",
       "      <td>Comedy|Drama|Romance|artistic|Funny|humorous|i...</td>\n",
       "    </tr>\n",
       "    <tr>\n",
       "      <th>8729</th>\n",
       "      <td>69757</td>\n",
       "      <td>(500) Days of Summer (2009)</td>\n",
       "      <td>477.0</td>\n",
       "      <td>1.279956e+09</td>\n",
       "      <td>Comedy|Drama|Romance|artistic|Funny|humorous|i...</td>\n",
       "    </tr>\n",
       "    <tr>\n",
       "      <th>8730</th>\n",
       "      <td>69757</td>\n",
       "      <td>(500) Days of Summer (2009)</td>\n",
       "      <td>477.0</td>\n",
       "      <td>1.279956e+09</td>\n",
       "      <td>Comedy|Drama|Romance|artistic|Funny|humorous|i...</td>\n",
       "    </tr>\n",
       "    <tr>\n",
       "      <th>8731</th>\n",
       "      <td>69757</td>\n",
       "      <td>(500) Days of Summer (2009)</td>\n",
       "      <td>477.0</td>\n",
       "      <td>1.279956e+09</td>\n",
       "      <td>Comedy|Drama|Romance|artistic|Funny|humorous|i...</td>\n",
       "    </tr>\n",
       "    <tr>\n",
       "      <th>8732</th>\n",
       "      <td>69757</td>\n",
       "      <td>(500) Days of Summer (2009)</td>\n",
       "      <td>477.0</td>\n",
       "      <td>1.279956e+09</td>\n",
       "      <td>Comedy|Drama|Romance|artistic|Funny|humorous|i...</td>\n",
       "    </tr>\n",
       "  </tbody>\n",
       "</table>\n",
       "</div>"
      ],
      "text/plain": [
       "      movieId                        title  userId     timestamp  \\\n",
       "8725    69757  (500) Days of Summer (2009)   477.0  1.279956e+09   \n",
       "8726    69757  (500) Days of Summer (2009)   477.0  1.279956e+09   \n",
       "8727    69757  (500) Days of Summer (2009)   477.0  1.279956e+09   \n",
       "8728    69757  (500) Days of Summer (2009)   477.0  1.279956e+09   \n",
       "8729    69757  (500) Days of Summer (2009)   477.0  1.279956e+09   \n",
       "8730    69757  (500) Days of Summer (2009)   477.0  1.279956e+09   \n",
       "8731    69757  (500) Days of Summer (2009)   477.0  1.279956e+09   \n",
       "8732    69757  (500) Days of Summer (2009)   477.0  1.279956e+09   \n",
       "\n",
       "                                            tags_genres  \n",
       "8725  Comedy|Drama|Romance|artistic|Funny|humorous|i...  \n",
       "8726  Comedy|Drama|Romance|artistic|Funny|humorous|i...  \n",
       "8727  Comedy|Drama|Romance|artistic|Funny|humorous|i...  \n",
       "8728  Comedy|Drama|Romance|artistic|Funny|humorous|i...  \n",
       "8729  Comedy|Drama|Romance|artistic|Funny|humorous|i...  \n",
       "8730  Comedy|Drama|Romance|artistic|Funny|humorous|i...  \n",
       "8731  Comedy|Drama|Romance|artistic|Funny|humorous|i...  \n",
       "8732  Comedy|Drama|Romance|artistic|Funny|humorous|i...  "
      ]
     },
     "execution_count": 21,
     "metadata": {},
     "output_type": "execute_result"
    }
   ],
   "source": [
    "movies_with_tags[movies_with_tags.title == '(500) Days of Summer (2009)']"
   ]
  },
  {
   "cell_type": "code",
   "execution_count": 22,
   "metadata": {},
   "outputs": [],
   "source": [
    "def change_string(s):\n",
    "    return s.replace('|', ' ')"
   ]
  },
  {
   "cell_type": "code",
   "execution_count": 23,
   "metadata": {},
   "outputs": [],
   "source": [
    "movies_with_tags['tags_genres'] = movies_with_tags['tags_genres'].apply(change_string) "
   ]
  },
  {
   "cell_type": "code",
   "execution_count": 24,
   "metadata": {},
   "outputs": [
    {
     "data": {
      "text/html": [
       "<div>\n",
       "<style scoped>\n",
       "    .dataframe tbody tr th:only-of-type {\n",
       "        vertical-align: middle;\n",
       "    }\n",
       "\n",
       "    .dataframe tbody tr th {\n",
       "        vertical-align: top;\n",
       "    }\n",
       "\n",
       "    .dataframe thead th {\n",
       "        text-align: right;\n",
       "    }\n",
       "</style>\n",
       "<table border=\"1\" class=\"dataframe\">\n",
       "  <thead>\n",
       "    <tr style=\"text-align: right;\">\n",
       "      <th></th>\n",
       "      <th>movieId</th>\n",
       "      <th>title</th>\n",
       "      <th>userId</th>\n",
       "      <th>timestamp</th>\n",
       "      <th>tags_genres</th>\n",
       "    </tr>\n",
       "  </thead>\n",
       "  <tbody>\n",
       "    <tr>\n",
       "      <th>8725</th>\n",
       "      <td>69757</td>\n",
       "      <td>(500) Days of Summer (2009)</td>\n",
       "      <td>477.0</td>\n",
       "      <td>1.279956e+09</td>\n",
       "      <td>Comedy Drama Romance artistic Funny humorous i...</td>\n",
       "    </tr>\n",
       "    <tr>\n",
       "      <th>8726</th>\n",
       "      <td>69757</td>\n",
       "      <td>(500) Days of Summer (2009)</td>\n",
       "      <td>477.0</td>\n",
       "      <td>1.279956e+09</td>\n",
       "      <td>Comedy Drama Romance artistic Funny humorous i...</td>\n",
       "    </tr>\n",
       "    <tr>\n",
       "      <th>8727</th>\n",
       "      <td>69757</td>\n",
       "      <td>(500) Days of Summer (2009)</td>\n",
       "      <td>477.0</td>\n",
       "      <td>1.279956e+09</td>\n",
       "      <td>Comedy Drama Romance artistic Funny humorous i...</td>\n",
       "    </tr>\n",
       "    <tr>\n",
       "      <th>8728</th>\n",
       "      <td>69757</td>\n",
       "      <td>(500) Days of Summer (2009)</td>\n",
       "      <td>477.0</td>\n",
       "      <td>1.279956e+09</td>\n",
       "      <td>Comedy Drama Romance artistic Funny humorous i...</td>\n",
       "    </tr>\n",
       "    <tr>\n",
       "      <th>8729</th>\n",
       "      <td>69757</td>\n",
       "      <td>(500) Days of Summer (2009)</td>\n",
       "      <td>477.0</td>\n",
       "      <td>1.279956e+09</td>\n",
       "      <td>Comedy Drama Romance artistic Funny humorous i...</td>\n",
       "    </tr>\n",
       "    <tr>\n",
       "      <th>8730</th>\n",
       "      <td>69757</td>\n",
       "      <td>(500) Days of Summer (2009)</td>\n",
       "      <td>477.0</td>\n",
       "      <td>1.279956e+09</td>\n",
       "      <td>Comedy Drama Romance artistic Funny humorous i...</td>\n",
       "    </tr>\n",
       "    <tr>\n",
       "      <th>8731</th>\n",
       "      <td>69757</td>\n",
       "      <td>(500) Days of Summer (2009)</td>\n",
       "      <td>477.0</td>\n",
       "      <td>1.279956e+09</td>\n",
       "      <td>Comedy Drama Romance artistic Funny humorous i...</td>\n",
       "    </tr>\n",
       "    <tr>\n",
       "      <th>8732</th>\n",
       "      <td>69757</td>\n",
       "      <td>(500) Days of Summer (2009)</td>\n",
       "      <td>477.0</td>\n",
       "      <td>1.279956e+09</td>\n",
       "      <td>Comedy Drama Romance artistic Funny humorous i...</td>\n",
       "    </tr>\n",
       "  </tbody>\n",
       "</table>\n",
       "</div>"
      ],
      "text/plain": [
       "      movieId                        title  userId     timestamp  \\\n",
       "8725    69757  (500) Days of Summer (2009)   477.0  1.279956e+09   \n",
       "8726    69757  (500) Days of Summer (2009)   477.0  1.279956e+09   \n",
       "8727    69757  (500) Days of Summer (2009)   477.0  1.279956e+09   \n",
       "8728    69757  (500) Days of Summer (2009)   477.0  1.279956e+09   \n",
       "8729    69757  (500) Days of Summer (2009)   477.0  1.279956e+09   \n",
       "8730    69757  (500) Days of Summer (2009)   477.0  1.279956e+09   \n",
       "8731    69757  (500) Days of Summer (2009)   477.0  1.279956e+09   \n",
       "8732    69757  (500) Days of Summer (2009)   477.0  1.279956e+09   \n",
       "\n",
       "                                            tags_genres  \n",
       "8725  Comedy Drama Romance artistic Funny humorous i...  \n",
       "8726  Comedy Drama Romance artistic Funny humorous i...  \n",
       "8727  Comedy Drama Romance artistic Funny humorous i...  \n",
       "8728  Comedy Drama Romance artistic Funny humorous i...  \n",
       "8729  Comedy Drama Romance artistic Funny humorous i...  \n",
       "8730  Comedy Drama Romance artistic Funny humorous i...  \n",
       "8731  Comedy Drama Romance artistic Funny humorous i...  \n",
       "8732  Comedy Drama Romance artistic Funny humorous i...  "
      ]
     },
     "execution_count": 24,
     "metadata": {},
     "output_type": "execute_result"
    }
   ],
   "source": [
    "movies_with_tags[movies_with_tags.title == '(500) Days of Summer (2009)']"
   ]
  },
  {
   "cell_type": "markdown",
   "metadata": {},
   "source": [
    "### Добавим средние оценки юзеров, а потом и фильмов"
   ]
  },
  {
   "cell_type": "code",
   "execution_count": 25,
   "metadata": {},
   "outputs": [
    {
     "data": {
      "text/html": [
       "<div>\n",
       "<style scoped>\n",
       "    .dataframe tbody tr th:only-of-type {\n",
       "        vertical-align: middle;\n",
       "    }\n",
       "\n",
       "    .dataframe tbody tr th {\n",
       "        vertical-align: top;\n",
       "    }\n",
       "\n",
       "    .dataframe thead th {\n",
       "        text-align: right;\n",
       "    }\n",
       "</style>\n",
       "<table border=\"1\" class=\"dataframe\">\n",
       "  <thead>\n",
       "    <tr style=\"text-align: right;\">\n",
       "      <th></th>\n",
       "      <th>userId</th>\n",
       "      <th>movieId</th>\n",
       "      <th>rating</th>\n",
       "      <th>timestamp</th>\n",
       "    </tr>\n",
       "  </thead>\n",
       "  <tbody>\n",
       "    <tr>\n",
       "      <th>0</th>\n",
       "      <td>1</td>\n",
       "      <td>1</td>\n",
       "      <td>4.0</td>\n",
       "      <td>964982703</td>\n",
       "    </tr>\n",
       "    <tr>\n",
       "      <th>1</th>\n",
       "      <td>1</td>\n",
       "      <td>3</td>\n",
       "      <td>4.0</td>\n",
       "      <td>964981247</td>\n",
       "    </tr>\n",
       "    <tr>\n",
       "      <th>2</th>\n",
       "      <td>1</td>\n",
       "      <td>6</td>\n",
       "      <td>4.0</td>\n",
       "      <td>964982224</td>\n",
       "    </tr>\n",
       "    <tr>\n",
       "      <th>3</th>\n",
       "      <td>1</td>\n",
       "      <td>47</td>\n",
       "      <td>5.0</td>\n",
       "      <td>964983815</td>\n",
       "    </tr>\n",
       "    <tr>\n",
       "      <th>4</th>\n",
       "      <td>1</td>\n",
       "      <td>50</td>\n",
       "      <td>5.0</td>\n",
       "      <td>964982931</td>\n",
       "    </tr>\n",
       "  </tbody>\n",
       "</table>\n",
       "</div>"
      ],
      "text/plain": [
       "   userId  movieId  rating  timestamp\n",
       "0       1        1     4.0  964982703\n",
       "1       1        3     4.0  964981247\n",
       "2       1        6     4.0  964982224\n",
       "3       1       47     5.0  964983815\n",
       "4       1       50     5.0  964982931"
      ]
     },
     "execution_count": 25,
     "metadata": {},
     "output_type": "execute_result"
    }
   ],
   "source": [
    "ratings.head()"
   ]
  },
  {
   "cell_type": "code",
   "execution_count": 26,
   "metadata": {},
   "outputs": [
    {
     "data": {
      "text/html": [
       "<div>\n",
       "<style scoped>\n",
       "    .dataframe tbody tr th:only-of-type {\n",
       "        vertical-align: middle;\n",
       "    }\n",
       "\n",
       "    .dataframe tbody tr th {\n",
       "        vertical-align: top;\n",
       "    }\n",
       "\n",
       "    .dataframe thead th {\n",
       "        text-align: right;\n",
       "    }\n",
       "</style>\n",
       "<table border=\"1\" class=\"dataframe\">\n",
       "  <thead>\n",
       "    <tr style=\"text-align: right;\">\n",
       "      <th></th>\n",
       "      <th>userId</th>\n",
       "      <th>rating</th>\n",
       "    </tr>\n",
       "  </thead>\n",
       "  <tbody>\n",
       "    <tr>\n",
       "      <th>0</th>\n",
       "      <td>1</td>\n",
       "      <td>4.366379</td>\n",
       "    </tr>\n",
       "    <tr>\n",
       "      <th>1</th>\n",
       "      <td>2</td>\n",
       "      <td>3.948276</td>\n",
       "    </tr>\n",
       "    <tr>\n",
       "      <th>2</th>\n",
       "      <td>3</td>\n",
       "      <td>2.435897</td>\n",
       "    </tr>\n",
       "    <tr>\n",
       "      <th>3</th>\n",
       "      <td>4</td>\n",
       "      <td>3.555556</td>\n",
       "    </tr>\n",
       "    <tr>\n",
       "      <th>4</th>\n",
       "      <td>5</td>\n",
       "      <td>3.636364</td>\n",
       "    </tr>\n",
       "  </tbody>\n",
       "</table>\n",
       "</div>"
      ],
      "text/plain": [
       "   userId    rating\n",
       "0       1  4.366379\n",
       "1       2  3.948276\n",
       "2       3  2.435897\n",
       "3       4  3.555556\n",
       "4       5  3.636364"
      ]
     },
     "execution_count": 26,
     "metadata": {},
     "output_type": "execute_result"
    }
   ],
   "source": [
    "df = ratings.groupby(['userId']).agg({'rating': 'mean'}).reset_index()\n",
    "df.head()"
   ]
  },
  {
   "cell_type": "code",
   "execution_count": 27,
   "metadata": {},
   "outputs": [],
   "source": [
    "### Теперь средний рейтинг нужно обратно добавить в ratings, чтобы потом соединить с movies_with_tags по movieId"
   ]
  },
  {
   "cell_type": "code",
   "execution_count": 28,
   "metadata": {},
   "outputs": [],
   "source": [
    "ratings = pd.DataFrame.merge(ratings, df, on='userId')"
   ]
  },
  {
   "cell_type": "code",
   "execution_count": 29,
   "metadata": {},
   "outputs": [],
   "source": [
    "ratings.rename(columns={'rating_x': 'rating', 'rating_y': 'avg_user_rating' }, inplace=True)"
   ]
  },
  {
   "cell_type": "code",
   "execution_count": 30,
   "metadata": {},
   "outputs": [
    {
     "data": {
      "text/html": [
       "<div>\n",
       "<style scoped>\n",
       "    .dataframe tbody tr th:only-of-type {\n",
       "        vertical-align: middle;\n",
       "    }\n",
       "\n",
       "    .dataframe tbody tr th {\n",
       "        vertical-align: top;\n",
       "    }\n",
       "\n",
       "    .dataframe thead th {\n",
       "        text-align: right;\n",
       "    }\n",
       "</style>\n",
       "<table border=\"1\" class=\"dataframe\">\n",
       "  <thead>\n",
       "    <tr style=\"text-align: right;\">\n",
       "      <th></th>\n",
       "      <th>userId</th>\n",
       "      <th>movieId</th>\n",
       "      <th>rating</th>\n",
       "      <th>timestamp</th>\n",
       "      <th>avg_user_rating</th>\n",
       "    </tr>\n",
       "  </thead>\n",
       "  <tbody>\n",
       "    <tr>\n",
       "      <th>0</th>\n",
       "      <td>1</td>\n",
       "      <td>1</td>\n",
       "      <td>4.0</td>\n",
       "      <td>964982703</td>\n",
       "      <td>4.366379</td>\n",
       "    </tr>\n",
       "    <tr>\n",
       "      <th>1</th>\n",
       "      <td>1</td>\n",
       "      <td>3</td>\n",
       "      <td>4.0</td>\n",
       "      <td>964981247</td>\n",
       "      <td>4.366379</td>\n",
       "    </tr>\n",
       "    <tr>\n",
       "      <th>2</th>\n",
       "      <td>1</td>\n",
       "      <td>6</td>\n",
       "      <td>4.0</td>\n",
       "      <td>964982224</td>\n",
       "      <td>4.366379</td>\n",
       "    </tr>\n",
       "    <tr>\n",
       "      <th>3</th>\n",
       "      <td>1</td>\n",
       "      <td>47</td>\n",
       "      <td>5.0</td>\n",
       "      <td>964983815</td>\n",
       "      <td>4.366379</td>\n",
       "    </tr>\n",
       "    <tr>\n",
       "      <th>4</th>\n",
       "      <td>1</td>\n",
       "      <td>50</td>\n",
       "      <td>5.0</td>\n",
       "      <td>964982931</td>\n",
       "      <td>4.366379</td>\n",
       "    </tr>\n",
       "    <tr>\n",
       "      <th>5</th>\n",
       "      <td>1</td>\n",
       "      <td>70</td>\n",
       "      <td>3.0</td>\n",
       "      <td>964982400</td>\n",
       "      <td>4.366379</td>\n",
       "    </tr>\n",
       "    <tr>\n",
       "      <th>6</th>\n",
       "      <td>1</td>\n",
       "      <td>101</td>\n",
       "      <td>5.0</td>\n",
       "      <td>964980868</td>\n",
       "      <td>4.366379</td>\n",
       "    </tr>\n",
       "    <tr>\n",
       "      <th>7</th>\n",
       "      <td>1</td>\n",
       "      <td>110</td>\n",
       "      <td>4.0</td>\n",
       "      <td>964982176</td>\n",
       "      <td>4.366379</td>\n",
       "    </tr>\n",
       "    <tr>\n",
       "      <th>8</th>\n",
       "      <td>1</td>\n",
       "      <td>151</td>\n",
       "      <td>5.0</td>\n",
       "      <td>964984041</td>\n",
       "      <td>4.366379</td>\n",
       "    </tr>\n",
       "    <tr>\n",
       "      <th>9</th>\n",
       "      <td>1</td>\n",
       "      <td>157</td>\n",
       "      <td>5.0</td>\n",
       "      <td>964984100</td>\n",
       "      <td>4.366379</td>\n",
       "    </tr>\n",
       "  </tbody>\n",
       "</table>\n",
       "</div>"
      ],
      "text/plain": [
       "   userId  movieId  rating  timestamp  avg_user_rating\n",
       "0       1        1     4.0  964982703         4.366379\n",
       "1       1        3     4.0  964981247         4.366379\n",
       "2       1        6     4.0  964982224         4.366379\n",
       "3       1       47     5.0  964983815         4.366379\n",
       "4       1       50     5.0  964982931         4.366379\n",
       "5       1       70     3.0  964982400         4.366379\n",
       "6       1      101     5.0  964980868         4.366379\n",
       "7       1      110     4.0  964982176         4.366379\n",
       "8       1      151     5.0  964984041         4.366379\n",
       "9       1      157     5.0  964984100         4.366379"
      ]
     },
     "execution_count": 30,
     "metadata": {},
     "output_type": "execute_result"
    }
   ],
   "source": [
    "ratings.head(10)"
   ]
  },
  {
   "cell_type": "code",
   "execution_count": 31,
   "metadata": {},
   "outputs": [
    {
     "data": {
      "text/html": [
       "<div>\n",
       "<style scoped>\n",
       "    .dataframe tbody tr th:only-of-type {\n",
       "        vertical-align: middle;\n",
       "    }\n",
       "\n",
       "    .dataframe tbody tr th {\n",
       "        vertical-align: top;\n",
       "    }\n",
       "\n",
       "    .dataframe thead th {\n",
       "        text-align: right;\n",
       "    }\n",
       "</style>\n",
       "<table border=\"1\" class=\"dataframe\">\n",
       "  <thead>\n",
       "    <tr style=\"text-align: right;\">\n",
       "      <th></th>\n",
       "      <th>userId_x</th>\n",
       "      <th>movieId</th>\n",
       "      <th>rating</th>\n",
       "      <th>timestamp_x</th>\n",
       "      <th>avg_user_rating</th>\n",
       "      <th>title</th>\n",
       "      <th>userId_y</th>\n",
       "      <th>timestamp_y</th>\n",
       "      <th>tags_genres</th>\n",
       "    </tr>\n",
       "  </thead>\n",
       "  <tbody>\n",
       "    <tr>\n",
       "      <th>0</th>\n",
       "      <td>1</td>\n",
       "      <td>1</td>\n",
       "      <td>4.0</td>\n",
       "      <td>964982703</td>\n",
       "      <td>4.366379</td>\n",
       "      <td>Toy Story (1995)</td>\n",
       "      <td>336.0</td>\n",
       "      <td>1.139046e+09</td>\n",
       "      <td>Adventure Animation Children Comedy Fantasy pi...</td>\n",
       "    </tr>\n",
       "    <tr>\n",
       "      <th>1</th>\n",
       "      <td>1</td>\n",
       "      <td>1</td>\n",
       "      <td>4.0</td>\n",
       "      <td>964982703</td>\n",
       "      <td>4.366379</td>\n",
       "      <td>Toy Story (1995)</td>\n",
       "      <td>474.0</td>\n",
       "      <td>1.137207e+09</td>\n",
       "      <td>Adventure Animation Children Comedy Fantasy pi...</td>\n",
       "    </tr>\n",
       "    <tr>\n",
       "      <th>2</th>\n",
       "      <td>1</td>\n",
       "      <td>1</td>\n",
       "      <td>4.0</td>\n",
       "      <td>964982703</td>\n",
       "      <td>4.366379</td>\n",
       "      <td>Toy Story (1995)</td>\n",
       "      <td>567.0</td>\n",
       "      <td>1.525286e+09</td>\n",
       "      <td>Adventure Animation Children Comedy Fantasy pi...</td>\n",
       "    </tr>\n",
       "    <tr>\n",
       "      <th>3</th>\n",
       "      <td>5</td>\n",
       "      <td>1</td>\n",
       "      <td>4.0</td>\n",
       "      <td>847434962</td>\n",
       "      <td>3.636364</td>\n",
       "      <td>Toy Story (1995)</td>\n",
       "      <td>336.0</td>\n",
       "      <td>1.139046e+09</td>\n",
       "      <td>Adventure Animation Children Comedy Fantasy pi...</td>\n",
       "    </tr>\n",
       "    <tr>\n",
       "      <th>4</th>\n",
       "      <td>5</td>\n",
       "      <td>1</td>\n",
       "      <td>4.0</td>\n",
       "      <td>847434962</td>\n",
       "      <td>3.636364</td>\n",
       "      <td>Toy Story (1995)</td>\n",
       "      <td>474.0</td>\n",
       "      <td>1.137207e+09</td>\n",
       "      <td>Adventure Animation Children Comedy Fantasy pi...</td>\n",
       "    </tr>\n",
       "  </tbody>\n",
       "</table>\n",
       "</div>"
      ],
      "text/plain": [
       "   userId_x  movieId  rating  timestamp_x  avg_user_rating             title  \\\n",
       "0         1        1     4.0    964982703         4.366379  Toy Story (1995)   \n",
       "1         1        1     4.0    964982703         4.366379  Toy Story (1995)   \n",
       "2         1        1     4.0    964982703         4.366379  Toy Story (1995)   \n",
       "3         5        1     4.0    847434962         3.636364  Toy Story (1995)   \n",
       "4         5        1     4.0    847434962         3.636364  Toy Story (1995)   \n",
       "\n",
       "   userId_y   timestamp_y                                        tags_genres  \n",
       "0     336.0  1.139046e+09  Adventure Animation Children Comedy Fantasy pi...  \n",
       "1     474.0  1.137207e+09  Adventure Animation Children Comedy Fantasy pi...  \n",
       "2     567.0  1.525286e+09  Adventure Animation Children Comedy Fantasy pi...  \n",
       "3     336.0  1.139046e+09  Adventure Animation Children Comedy Fantasy pi...  \n",
       "4     474.0  1.137207e+09  Adventure Animation Children Comedy Fantasy pi...  "
      ]
     },
     "execution_count": 31,
     "metadata": {},
     "output_type": "execute_result"
    }
   ],
   "source": [
    "ratings = pd.DataFrame.merge(ratings, movies_with_tags, on=['movieId'])\n",
    "ratings.head()"
   ]
  },
  {
   "cell_type": "code",
   "execution_count": 32,
   "metadata": {},
   "outputs": [
    {
     "data": {
      "text/html": [
       "<div>\n",
       "<style scoped>\n",
       "    .dataframe tbody tr th:only-of-type {\n",
       "        vertical-align: middle;\n",
       "    }\n",
       "\n",
       "    .dataframe tbody tr th {\n",
       "        vertical-align: top;\n",
       "    }\n",
       "\n",
       "    .dataframe thead th {\n",
       "        text-align: right;\n",
       "    }\n",
       "</style>\n",
       "<table border=\"1\" class=\"dataframe\">\n",
       "  <thead>\n",
       "    <tr style=\"text-align: right;\">\n",
       "      <th></th>\n",
       "      <th>userId</th>\n",
       "      <th>movieId</th>\n",
       "      <th>rating</th>\n",
       "      <th>timestamp_rating</th>\n",
       "      <th>avg_user_rating</th>\n",
       "      <th>title</th>\n",
       "      <th>tags_genres</th>\n",
       "    </tr>\n",
       "  </thead>\n",
       "  <tbody>\n",
       "    <tr>\n",
       "      <th>0</th>\n",
       "      <td>1</td>\n",
       "      <td>1</td>\n",
       "      <td>4.0</td>\n",
       "      <td>964982703</td>\n",
       "      <td>4.366379</td>\n",
       "      <td>Toy Story (1995)</td>\n",
       "      <td>Adventure Animation Children Comedy Fantasy pi...</td>\n",
       "    </tr>\n",
       "    <tr>\n",
       "      <th>1</th>\n",
       "      <td>1</td>\n",
       "      <td>1</td>\n",
       "      <td>4.0</td>\n",
       "      <td>964982703</td>\n",
       "      <td>4.366379</td>\n",
       "      <td>Toy Story (1995)</td>\n",
       "      <td>Adventure Animation Children Comedy Fantasy pi...</td>\n",
       "    </tr>\n",
       "    <tr>\n",
       "      <th>2</th>\n",
       "      <td>1</td>\n",
       "      <td>1</td>\n",
       "      <td>4.0</td>\n",
       "      <td>964982703</td>\n",
       "      <td>4.366379</td>\n",
       "      <td>Toy Story (1995)</td>\n",
       "      <td>Adventure Animation Children Comedy Fantasy pi...</td>\n",
       "    </tr>\n",
       "    <tr>\n",
       "      <th>3</th>\n",
       "      <td>5</td>\n",
       "      <td>1</td>\n",
       "      <td>4.0</td>\n",
       "      <td>847434962</td>\n",
       "      <td>3.636364</td>\n",
       "      <td>Toy Story (1995)</td>\n",
       "      <td>Adventure Animation Children Comedy Fantasy pi...</td>\n",
       "    </tr>\n",
       "    <tr>\n",
       "      <th>4</th>\n",
       "      <td>5</td>\n",
       "      <td>1</td>\n",
       "      <td>4.0</td>\n",
       "      <td>847434962</td>\n",
       "      <td>3.636364</td>\n",
       "      <td>Toy Story (1995)</td>\n",
       "      <td>Adventure Animation Children Comedy Fantasy pi...</td>\n",
       "    </tr>\n",
       "  </tbody>\n",
       "</table>\n",
       "</div>"
      ],
      "text/plain": [
       "   userId  movieId  rating  timestamp_rating  avg_user_rating  \\\n",
       "0       1        1     4.0         964982703         4.366379   \n",
       "1       1        1     4.0         964982703         4.366379   \n",
       "2       1        1     4.0         964982703         4.366379   \n",
       "3       5        1     4.0         847434962         3.636364   \n",
       "4       5        1     4.0         847434962         3.636364   \n",
       "\n",
       "              title                                        tags_genres  \n",
       "0  Toy Story (1995)  Adventure Animation Children Comedy Fantasy pi...  \n",
       "1  Toy Story (1995)  Adventure Animation Children Comedy Fantasy pi...  \n",
       "2  Toy Story (1995)  Adventure Animation Children Comedy Fantasy pi...  \n",
       "3  Toy Story (1995)  Adventure Animation Children Comedy Fantasy pi...  \n",
       "4  Toy Story (1995)  Adventure Animation Children Comedy Fantasy pi...  "
      ]
     },
     "execution_count": 32,
     "metadata": {},
     "output_type": "execute_result"
    }
   ],
   "source": [
    "#переименуем столбцы\n",
    "ratings.rename(columns={'userId_x': 'userId', 'timestamp_x': 'timestamp_rating'}, inplace=True)\n",
    "ratings.drop(['userId_y', 'timestamp_y'], axis=1, inplace=True)\n",
    "ratings.head()"
   ]
  },
  {
   "cell_type": "markdown",
   "metadata": {},
   "source": [
    "### Средняя оценка за фильм"
   ]
  },
  {
   "cell_type": "code",
   "execution_count": 33,
   "metadata": {},
   "outputs": [
    {
     "data": {
      "text/html": [
       "<div>\n",
       "<style scoped>\n",
       "    .dataframe tbody tr th:only-of-type {\n",
       "        vertical-align: middle;\n",
       "    }\n",
       "\n",
       "    .dataframe tbody tr th {\n",
       "        vertical-align: top;\n",
       "    }\n",
       "\n",
       "    .dataframe thead th {\n",
       "        text-align: right;\n",
       "    }\n",
       "</style>\n",
       "<table border=\"1\" class=\"dataframe\">\n",
       "  <thead>\n",
       "    <tr style=\"text-align: right;\">\n",
       "      <th></th>\n",
       "      <th>movieId</th>\n",
       "      <th>rating</th>\n",
       "    </tr>\n",
       "  </thead>\n",
       "  <tbody>\n",
       "    <tr>\n",
       "      <th>0</th>\n",
       "      <td>1</td>\n",
       "      <td>3.920930</td>\n",
       "    </tr>\n",
       "    <tr>\n",
       "      <th>1</th>\n",
       "      <td>2</td>\n",
       "      <td>3.431818</td>\n",
       "    </tr>\n",
       "    <tr>\n",
       "      <th>2</th>\n",
       "      <td>3</td>\n",
       "      <td>3.259615</td>\n",
       "    </tr>\n",
       "    <tr>\n",
       "      <th>3</th>\n",
       "      <td>4</td>\n",
       "      <td>2.357143</td>\n",
       "    </tr>\n",
       "    <tr>\n",
       "      <th>4</th>\n",
       "      <td>5</td>\n",
       "      <td>3.071429</td>\n",
       "    </tr>\n",
       "  </tbody>\n",
       "</table>\n",
       "</div>"
      ],
      "text/plain": [
       "   movieId    rating\n",
       "0        1  3.920930\n",
       "1        2  3.431818\n",
       "2        3  3.259615\n",
       "3        4  2.357143\n",
       "4        5  3.071429"
      ]
     },
     "execution_count": 33,
     "metadata": {},
     "output_type": "execute_result"
    }
   ],
   "source": [
    "df = ratings.groupby('movieId').agg({'rating': 'mean'}).reset_index()\n",
    "df.head()"
   ]
  },
  {
   "cell_type": "code",
   "execution_count": 34,
   "metadata": {},
   "outputs": [],
   "source": [
    "ratings = ratings.merge(df, on='movieId')\n",
    "ratings.rename(columns={'rating_y': 'avg_movie_ratings'}, inplace=True)"
   ]
  },
  {
   "cell_type": "code",
   "execution_count": 35,
   "metadata": {
    "scrolled": true
   },
   "outputs": [
    {
     "data": {
      "text/html": [
       "<div>\n",
       "<style scoped>\n",
       "    .dataframe tbody tr th:only-of-type {\n",
       "        vertical-align: middle;\n",
       "    }\n",
       "\n",
       "    .dataframe tbody tr th {\n",
       "        vertical-align: top;\n",
       "    }\n",
       "\n",
       "    .dataframe thead th {\n",
       "        text-align: right;\n",
       "    }\n",
       "</style>\n",
       "<table border=\"1\" class=\"dataframe\">\n",
       "  <thead>\n",
       "    <tr style=\"text-align: right;\">\n",
       "      <th></th>\n",
       "      <th>userId</th>\n",
       "      <th>movieId</th>\n",
       "      <th>rating_x</th>\n",
       "      <th>timestamp_rating</th>\n",
       "      <th>avg_user_rating</th>\n",
       "      <th>title</th>\n",
       "      <th>tags_genres</th>\n",
       "      <th>avg_movie_ratings</th>\n",
       "    </tr>\n",
       "  </thead>\n",
       "  <tbody>\n",
       "    <tr>\n",
       "      <th>0</th>\n",
       "      <td>1</td>\n",
       "      <td>1</td>\n",
       "      <td>4.0</td>\n",
       "      <td>964982703</td>\n",
       "      <td>4.366379</td>\n",
       "      <td>Toy Story (1995)</td>\n",
       "      <td>Adventure Animation Children Comedy Fantasy pi...</td>\n",
       "      <td>3.92093</td>\n",
       "    </tr>\n",
       "    <tr>\n",
       "      <th>1</th>\n",
       "      <td>1</td>\n",
       "      <td>1</td>\n",
       "      <td>4.0</td>\n",
       "      <td>964982703</td>\n",
       "      <td>4.366379</td>\n",
       "      <td>Toy Story (1995)</td>\n",
       "      <td>Adventure Animation Children Comedy Fantasy pi...</td>\n",
       "      <td>3.92093</td>\n",
       "    </tr>\n",
       "    <tr>\n",
       "      <th>2</th>\n",
       "      <td>1</td>\n",
       "      <td>1</td>\n",
       "      <td>4.0</td>\n",
       "      <td>964982703</td>\n",
       "      <td>4.366379</td>\n",
       "      <td>Toy Story (1995)</td>\n",
       "      <td>Adventure Animation Children Comedy Fantasy pi...</td>\n",
       "      <td>3.92093</td>\n",
       "    </tr>\n",
       "    <tr>\n",
       "      <th>3</th>\n",
       "      <td>5</td>\n",
       "      <td>1</td>\n",
       "      <td>4.0</td>\n",
       "      <td>847434962</td>\n",
       "      <td>3.636364</td>\n",
       "      <td>Toy Story (1995)</td>\n",
       "      <td>Adventure Animation Children Comedy Fantasy pi...</td>\n",
       "      <td>3.92093</td>\n",
       "    </tr>\n",
       "    <tr>\n",
       "      <th>4</th>\n",
       "      <td>5</td>\n",
       "      <td>1</td>\n",
       "      <td>4.0</td>\n",
       "      <td>847434962</td>\n",
       "      <td>3.636364</td>\n",
       "      <td>Toy Story (1995)</td>\n",
       "      <td>Adventure Animation Children Comedy Fantasy pi...</td>\n",
       "      <td>3.92093</td>\n",
       "    </tr>\n",
       "  </tbody>\n",
       "</table>\n",
       "</div>"
      ],
      "text/plain": [
       "   userId  movieId  rating_x  timestamp_rating  avg_user_rating  \\\n",
       "0       1        1       4.0         964982703         4.366379   \n",
       "1       1        1       4.0         964982703         4.366379   \n",
       "2       1        1       4.0         964982703         4.366379   \n",
       "3       5        1       4.0         847434962         3.636364   \n",
       "4       5        1       4.0         847434962         3.636364   \n",
       "\n",
       "              title                                        tags_genres  \\\n",
       "0  Toy Story (1995)  Adventure Animation Children Comedy Fantasy pi...   \n",
       "1  Toy Story (1995)  Adventure Animation Children Comedy Fantasy pi...   \n",
       "2  Toy Story (1995)  Adventure Animation Children Comedy Fantasy pi...   \n",
       "3  Toy Story (1995)  Adventure Animation Children Comedy Fantasy pi...   \n",
       "4  Toy Story (1995)  Adventure Animation Children Comedy Fantasy pi...   \n",
       "\n",
       "   avg_movie_ratings  \n",
       "0            3.92093  \n",
       "1            3.92093  \n",
       "2            3.92093  \n",
       "3            3.92093  \n",
       "4            3.92093  "
      ]
     },
     "execution_count": 35,
     "metadata": {},
     "output_type": "execute_result"
    }
   ],
   "source": [
    "ratings.head()"
   ]
  },
  {
   "cell_type": "code",
   "execution_count": 36,
   "metadata": {},
   "outputs": [
    {
     "data": {
      "text/plain": [
       "285762"
      ]
     },
     "execution_count": 36,
     "metadata": {},
     "output_type": "execute_result"
    }
   ],
   "source": [
    "### удалим дубликатЫ\n",
    "len(ratings)"
   ]
  },
  {
   "cell_type": "code",
   "execution_count": 37,
   "metadata": {},
   "outputs": [
    {
     "data": {
      "text/plain": [
       "100836"
      ]
     },
     "execution_count": 37,
     "metadata": {},
     "output_type": "execute_result"
    }
   ],
   "source": [
    "ratings.drop_duplicates(inplace=True)\n",
    "len(ratings)"
   ]
  },
  {
   "cell_type": "markdown",
   "metadata": {},
   "source": [
    "### Надём id самого активного пользователя"
   ]
  },
  {
   "cell_type": "code",
   "execution_count": 38,
   "metadata": {},
   "outputs": [
    {
     "data": {
      "text/plain": [
       "414    2698\n",
       "599    2478\n",
       "474    2108\n",
       "Name: userId, dtype: int64"
      ]
     },
     "execution_count": 38,
     "metadata": {},
     "output_type": "execute_result"
    }
   ],
   "source": [
    "ratings.userId.value_counts().head(3)"
   ]
  },
  {
   "cell_type": "code",
   "execution_count": 39,
   "metadata": {},
   "outputs": [
    {
     "data": {
      "text/html": [
       "<div>\n",
       "<style scoped>\n",
       "    .dataframe tbody tr th:only-of-type {\n",
       "        vertical-align: middle;\n",
       "    }\n",
       "\n",
       "    .dataframe tbody tr th {\n",
       "        vertical-align: top;\n",
       "    }\n",
       "\n",
       "    .dataframe thead th {\n",
       "        text-align: right;\n",
       "    }\n",
       "</style>\n",
       "<table border=\"1\" class=\"dataframe\">\n",
       "  <thead>\n",
       "    <tr style=\"text-align: right;\">\n",
       "      <th></th>\n",
       "      <th>userId</th>\n",
       "      <th>movieId</th>\n",
       "      <th>rating_x</th>\n",
       "      <th>timestamp_rating</th>\n",
       "      <th>avg_user_rating</th>\n",
       "      <th>title</th>\n",
       "      <th>tags_genres</th>\n",
       "      <th>avg_movie_ratings</th>\n",
       "    </tr>\n",
       "  </thead>\n",
       "  <tbody>\n",
       "    <tr>\n",
       "      <th>438</th>\n",
       "      <td>414</td>\n",
       "      <td>1</td>\n",
       "      <td>4.0</td>\n",
       "      <td>961438127</td>\n",
       "      <td>3.391957</td>\n",
       "      <td>Toy Story (1995)</td>\n",
       "      <td>Adventure Animation Children Comedy Fantasy pi...</td>\n",
       "      <td>3.920930</td>\n",
       "    </tr>\n",
       "    <tr>\n",
       "      <th>717</th>\n",
       "      <td>414</td>\n",
       "      <td>3</td>\n",
       "      <td>4.0</td>\n",
       "      <td>961439278</td>\n",
       "      <td>3.391957</td>\n",
       "      <td>Grumpier Old Men (1995)</td>\n",
       "      <td>Comedy Romance moldy old</td>\n",
       "      <td>3.259615</td>\n",
       "    </tr>\n",
       "    <tr>\n",
       "      <th>818</th>\n",
       "      <td>414</td>\n",
       "      <td>6</td>\n",
       "      <td>3.0</td>\n",
       "      <td>961515642</td>\n",
       "      <td>3.391957</td>\n",
       "      <td>Heat (1995)</td>\n",
       "      <td>Action Crime Thriller</td>\n",
       "      <td>3.946078</td>\n",
       "    </tr>\n",
       "    <tr>\n",
       "      <th>1277</th>\n",
       "      <td>414</td>\n",
       "      <td>47</td>\n",
       "      <td>4.0</td>\n",
       "      <td>961681857</td>\n",
       "      <td>3.391957</td>\n",
       "      <td>Seven (a.k.a. Se7en) (1995)</td>\n",
       "      <td>Mystery Thriller mystery twistending serialkiller</td>\n",
       "      <td>3.975369</td>\n",
       "    </tr>\n",
       "    <tr>\n",
       "      <th>2330</th>\n",
       "      <td>414</td>\n",
       "      <td>50</td>\n",
       "      <td>5.0</td>\n",
       "      <td>961681714</td>\n",
       "      <td>3.391957</td>\n",
       "      <td>Usual Suspects, The (1995)</td>\n",
       "      <td>Crime Mystery Thriller mindfuck suspense thril...</td>\n",
       "      <td>4.237745</td>\n",
       "    </tr>\n",
       "  </tbody>\n",
       "</table>\n",
       "</div>"
      ],
      "text/plain": [
       "      userId  movieId  rating_x  timestamp_rating  avg_user_rating  \\\n",
       "438      414        1       4.0         961438127         3.391957   \n",
       "717      414        3       4.0         961439278         3.391957   \n",
       "818      414        6       3.0         961515642         3.391957   \n",
       "1277     414       47       4.0         961681857         3.391957   \n",
       "2330     414       50       5.0         961681714         3.391957   \n",
       "\n",
       "                            title  \\\n",
       "438              Toy Story (1995)   \n",
       "717       Grumpier Old Men (1995)   \n",
       "818                   Heat (1995)   \n",
       "1277  Seven (a.k.a. Se7en) (1995)   \n",
       "2330   Usual Suspects, The (1995)   \n",
       "\n",
       "                                            tags_genres  avg_movie_ratings  \n",
       "438   Adventure Animation Children Comedy Fantasy pi...           3.920930  \n",
       "717                            Comedy Romance moldy old           3.259615  \n",
       "818                              Action Crime Thriller            3.946078  \n",
       "1277  Mystery Thriller mystery twistending serialkiller           3.975369  \n",
       "2330  Crime Mystery Thriller mindfuck suspense thril...           4.237745  "
      ]
     },
     "execution_count": 39,
     "metadata": {},
     "output_type": "execute_result"
    }
   ],
   "source": [
    "ratings[ratings.userId == 414].head()"
   ]
  },
  {
   "cell_type": "markdown",
   "metadata": {},
   "source": [
    "### Алгоритм\n",
    "1. Найти фильмы, которым пользователь поставил оценки 4 и 5. Собрать теги\n",
    "2. От этих фильмов найти кратчайшее расстояние до всех фильмов\n",
    "3. Исключить фильмы, которые пользователь смотрел\n",
    "4. Вывести результат\n",
    "\n",
    "### Вопрос: правильный это алгоритм или нужно во втором шаге нужно сразу искать расстояние до фильмов, которые пользователь НЕ смотрел? Почему?"
   ]
  },
  {
   "cell_type": "code",
   "execution_count": 40,
   "metadata": {},
   "outputs": [],
   "source": [
    "user_fav_movies = ratings[(ratings.userId == 414) & (ratings.rating_x > 3)]"
   ]
  },
  {
   "cell_type": "code",
   "execution_count": 41,
   "metadata": {},
   "outputs": [
    {
     "data": {
      "text/plain": [
       "1459"
      ]
     },
     "execution_count": 41,
     "metadata": {},
     "output_type": "execute_result"
    }
   ],
   "source": [
    "len(user_fav_movies)"
   ]
  },
  {
   "cell_type": "code",
   "execution_count": 42,
   "metadata": {},
   "outputs": [
    {
     "data": {
      "text/plain": [
       "['Adventure Animation Children Comedy Fantasy pixar pixar fun',\n",
       " 'Comedy Romance moldy old',\n",
       " 'Mystery Thriller mystery twistending serialkiller',\n",
       " 'Crime Mystery Thriller mindfuck suspense thriller tricky twistending heist',\n",
       " 'Adventure Comedy Crime Romance crime offbeatcomedy quirky',\n",
       " 'Action Drama War beautifulscenery epic historical inspirational Medieval melgibson Oscar(BestCinematography) revenge swordfight Scotland',\n",
       " 'Action Drama Romance War ',\n",
       " 'Comedy War ',\n",
       " 'Action Romance Western ',\n",
       " 'Comedy cynical hilarious independentfilm quirky witty generationX']"
      ]
     },
     "execution_count": 42,
     "metadata": {},
     "output_type": "execute_result"
    }
   ],
   "source": [
    "#Теги любимых фильмов\n",
    "user_summary_vector = [change_string(t_g) for t_g in user_fav_movies.tags_genres.values]\n",
    "# Удаляем дубликаты\n",
    "user_summary_vector = list(dict.fromkeys(user_summary_vector))\n",
    "user_summary_vector[:10]"
   ]
  },
  {
   "cell_type": "code",
   "execution_count": 43,
   "metadata": {},
   "outputs": [
    {
     "data": {
      "text/plain": [
       "845"
      ]
     },
     "execution_count": 43,
     "metadata": {},
     "output_type": "execute_result"
    }
   ],
   "source": [
    "len(user_summary_vector)"
   ]
  },
  {
   "cell_type": "code",
   "execution_count": 44,
   "metadata": {},
   "outputs": [],
   "source": [
    "# Найдём расстояние на всём датасете. Удалим из него дубликаты строк, которые там есть за счёт разных userId"
   ]
  },
  {
   "cell_type": "code",
   "execution_count": 45,
   "metadata": {},
   "outputs": [
    {
     "data": {
      "text/html": [
       "<div>\n",
       "<style scoped>\n",
       "    .dataframe tbody tr th:only-of-type {\n",
       "        vertical-align: middle;\n",
       "    }\n",
       "\n",
       "    .dataframe tbody tr th {\n",
       "        vertical-align: top;\n",
       "    }\n",
       "\n",
       "    .dataframe thead th {\n",
       "        text-align: right;\n",
       "    }\n",
       "</style>\n",
       "<table border=\"1\" class=\"dataframe\">\n",
       "  <thead>\n",
       "    <tr style=\"text-align: right;\">\n",
       "      <th></th>\n",
       "      <th>userId</th>\n",
       "      <th>movieId</th>\n",
       "      <th>rating_x</th>\n",
       "      <th>timestamp_rating</th>\n",
       "      <th>avg_user_rating</th>\n",
       "      <th>title</th>\n",
       "      <th>tags_genres</th>\n",
       "      <th>avg_movie_ratings</th>\n",
       "    </tr>\n",
       "  </thead>\n",
       "  <tbody>\n",
       "    <tr>\n",
       "      <th>0</th>\n",
       "      <td>1</td>\n",
       "      <td>1</td>\n",
       "      <td>4.0</td>\n",
       "      <td>964982703</td>\n",
       "      <td>4.366379</td>\n",
       "      <td>Toy Story (1995)</td>\n",
       "      <td>Adventure Animation Children Comedy Fantasy pi...</td>\n",
       "      <td>3.92093</td>\n",
       "    </tr>\n",
       "    <tr>\n",
       "      <th>3</th>\n",
       "      <td>5</td>\n",
       "      <td>1</td>\n",
       "      <td>4.0</td>\n",
       "      <td>847434962</td>\n",
       "      <td>3.636364</td>\n",
       "      <td>Toy Story (1995)</td>\n",
       "      <td>Adventure Animation Children Comedy Fantasy pi...</td>\n",
       "      <td>3.92093</td>\n",
       "    </tr>\n",
       "    <tr>\n",
       "      <th>6</th>\n",
       "      <td>7</td>\n",
       "      <td>1</td>\n",
       "      <td>4.5</td>\n",
       "      <td>1106635946</td>\n",
       "      <td>3.230263</td>\n",
       "      <td>Toy Story (1995)</td>\n",
       "      <td>Adventure Animation Children Comedy Fantasy pi...</td>\n",
       "      <td>3.92093</td>\n",
       "    </tr>\n",
       "    <tr>\n",
       "      <th>9</th>\n",
       "      <td>15</td>\n",
       "      <td>1</td>\n",
       "      <td>2.5</td>\n",
       "      <td>1510577970</td>\n",
       "      <td>3.448148</td>\n",
       "      <td>Toy Story (1995)</td>\n",
       "      <td>Adventure Animation Children Comedy Fantasy pi...</td>\n",
       "      <td>3.92093</td>\n",
       "    </tr>\n",
       "    <tr>\n",
       "      <th>12</th>\n",
       "      <td>17</td>\n",
       "      <td>1</td>\n",
       "      <td>4.5</td>\n",
       "      <td>1305696483</td>\n",
       "      <td>4.209524</td>\n",
       "      <td>Toy Story (1995)</td>\n",
       "      <td>Adventure Animation Children Comedy Fantasy pi...</td>\n",
       "      <td>3.92093</td>\n",
       "    </tr>\n",
       "  </tbody>\n",
       "</table>\n",
       "</div>"
      ],
      "text/plain": [
       "    userId  movieId  rating_x  timestamp_rating  avg_user_rating  \\\n",
       "0        1        1       4.0         964982703         4.366379   \n",
       "3        5        1       4.0         847434962         3.636364   \n",
       "6        7        1       4.5        1106635946         3.230263   \n",
       "9       15        1       2.5        1510577970         3.448148   \n",
       "12      17        1       4.5        1305696483         4.209524   \n",
       "\n",
       "               title                                        tags_genres  \\\n",
       "0   Toy Story (1995)  Adventure Animation Children Comedy Fantasy pi...   \n",
       "3   Toy Story (1995)  Adventure Animation Children Comedy Fantasy pi...   \n",
       "6   Toy Story (1995)  Adventure Animation Children Comedy Fantasy pi...   \n",
       "9   Toy Story (1995)  Adventure Animation Children Comedy Fantasy pi...   \n",
       "12  Toy Story (1995)  Adventure Animation Children Comedy Fantasy pi...   \n",
       "\n",
       "    avg_movie_ratings  \n",
       "0             3.92093  \n",
       "3             3.92093  \n",
       "6             3.92093  \n",
       "9             3.92093  \n",
       "12            3.92093  "
      ]
     },
     "execution_count": 45,
     "metadata": {},
     "output_type": "execute_result"
    }
   ],
   "source": [
    "ratings.head()"
   ]
  },
  {
   "cell_type": "code",
   "execution_count": 46,
   "metadata": {},
   "outputs": [
    {
     "data": {
      "text/plain": [
       "100836"
      ]
     },
     "execution_count": 46,
     "metadata": {},
     "output_type": "execute_result"
    }
   ],
   "source": [
    "len(ratings)"
   ]
  },
  {
   "cell_type": "code",
   "execution_count": 47,
   "metadata": {},
   "outputs": [
    {
     "data": {
      "text/html": [
       "<div>\n",
       "<style scoped>\n",
       "    .dataframe tbody tr th:only-of-type {\n",
       "        vertical-align: middle;\n",
       "    }\n",
       "\n",
       "    .dataframe tbody tr th {\n",
       "        vertical-align: top;\n",
       "    }\n",
       "\n",
       "    .dataframe thead th {\n",
       "        text-align: right;\n",
       "    }\n",
       "</style>\n",
       "<table border=\"1\" class=\"dataframe\">\n",
       "  <thead>\n",
       "    <tr style=\"text-align: right;\">\n",
       "      <th></th>\n",
       "      <th>movieId</th>\n",
       "      <th>title</th>\n",
       "      <th>tags_genres</th>\n",
       "      <th>avg_movie_ratings</th>\n",
       "    </tr>\n",
       "  </thead>\n",
       "  <tbody>\n",
       "    <tr>\n",
       "      <th>0</th>\n",
       "      <td>1</td>\n",
       "      <td>Toy Story (1995)</td>\n",
       "      <td>Adventure Animation Children Comedy Fantasy pi...</td>\n",
       "      <td>3.920930</td>\n",
       "    </tr>\n",
       "    <tr>\n",
       "      <th>645</th>\n",
       "      <td>3</td>\n",
       "      <td>Grumpier Old Men (1995)</td>\n",
       "      <td>Comedy Romance moldy old</td>\n",
       "      <td>3.259615</td>\n",
       "    </tr>\n",
       "    <tr>\n",
       "      <th>749</th>\n",
       "      <td>6</td>\n",
       "      <td>Heat (1995)</td>\n",
       "      <td>Action Crime Thriller</td>\n",
       "      <td>3.946078</td>\n",
       "    </tr>\n",
       "    <tr>\n",
       "      <th>851</th>\n",
       "      <td>47</td>\n",
       "      <td>Seven (a.k.a. Se7en) (1995)</td>\n",
       "      <td>Mystery Thriller mystery twistending serialkiller</td>\n",
       "      <td>3.975369</td>\n",
       "    </tr>\n",
       "    <tr>\n",
       "      <th>1460</th>\n",
       "      <td>50</td>\n",
       "      <td>Usual Suspects, The (1995)</td>\n",
       "      <td>Crime Mystery Thriller mindfuck suspense thril...</td>\n",
       "      <td>4.237745</td>\n",
       "    </tr>\n",
       "  </tbody>\n",
       "</table>\n",
       "</div>"
      ],
      "text/plain": [
       "      movieId                        title  \\\n",
       "0           1             Toy Story (1995)   \n",
       "645         3      Grumpier Old Men (1995)   \n",
       "749         6                  Heat (1995)   \n",
       "851        47  Seven (a.k.a. Se7en) (1995)   \n",
       "1460       50   Usual Suspects, The (1995)   \n",
       "\n",
       "                                            tags_genres  avg_movie_ratings  \n",
       "0     Adventure Animation Children Comedy Fantasy pi...           3.920930  \n",
       "645                            Comedy Romance moldy old           3.259615  \n",
       "749                              Action Crime Thriller            3.946078  \n",
       "851   Mystery Thriller mystery twistending serialkiller           3.975369  \n",
       "1460  Crime Mystery Thriller mindfuck suspense thril...           4.237745  "
      ]
     },
     "execution_count": 47,
     "metadata": {},
     "output_type": "execute_result"
    }
   ],
   "source": [
    "df = ratings.drop(['userId', 'rating_x', 'avg_user_rating', 'timestamp_rating'], axis=1)\n",
    "df.drop_duplicates(inplace=True)\n",
    "df.head()"
   ]
  },
  {
   "cell_type": "code",
   "execution_count": 48,
   "metadata": {},
   "outputs": [
    {
     "data": {
      "text/plain": [
       "9724"
      ]
     },
     "execution_count": 48,
     "metadata": {},
     "output_type": "execute_result"
    }
   ],
   "source": [
    "len(df)"
   ]
  },
  {
   "cell_type": "markdown",
   "metadata": {},
   "source": [
    "### Определяем расстояние на всём датасете"
   ]
  },
  {
   "cell_type": "code",
   "execution_count": 49,
   "metadata": {},
   "outputs": [
    {
     "data": {
      "text/plain": [
       "['Adventure Animation Children Comedy Fantasy pixar pixar fun',\n",
       " 'Comedy Romance moldy old',\n",
       " 'Action Crime Thriller ',\n",
       " 'Mystery Thriller mystery twistending serialkiller',\n",
       " 'Crime Mystery Thriller mindfuck suspense thriller tricky twistending heist']"
      ]
     },
     "execution_count": 49,
     "metadata": {},
     "output_type": "execute_result"
    }
   ],
   "source": [
    "total_summary_vector = [change_string(t_g) for t_g in df.tags_genres.values]\n",
    "total_summary_vector[:5]"
   ]
  },
  {
   "cell_type": "code",
   "execution_count": 50,
   "metadata": {},
   "outputs": [],
   "source": [
    "#Строим модель"
   ]
  },
  {
   "cell_type": "code",
   "execution_count": 51,
   "metadata": {},
   "outputs": [
    {
     "data": {
      "text/plain": [
       "array([0, 1, 2, 3], dtype=int64)"
      ]
     },
     "execution_count": 51,
     "metadata": {},
     "output_type": "execute_result"
    }
   ],
   "source": [
    "count_vect = CountVectorizer()\n",
    "X_train_counts = count_vect.fit_transform(total_summary_vector)\n",
    "np.unique(X_train_counts.toarray())"
   ]
  },
  {
   "cell_type": "code",
   "execution_count": 52,
   "metadata": {},
   "outputs": [
    {
     "data": {
      "text/plain": [
       "array([0.        , 0.02044747, 0.02669129, 0.02763708, 0.02965491,\n",
       "       0.02988952, 0.03198414, 0.03325721, 0.0359677 , 0.03719916])"
      ]
     },
     "execution_count": 52,
     "metadata": {},
     "output_type": "execute_result"
    }
   ],
   "source": [
    "tfidf_transformer = TfidfTransformer()\n",
    "X_train_tfidf = tfidf_transformer.fit_transform(X_train_counts)\n",
    "np.unique(X_train_tfidf.toarray())[:10]"
   ]
  },
  {
   "cell_type": "code",
   "execution_count": 53,
   "metadata": {},
   "outputs": [
    {
     "data": {
      "text/plain": [
       "NearestNeighbors(metric='euclidean', n_jobs=-1, n_neighbors=2)"
      ]
     },
     "execution_count": 53,
     "metadata": {},
     "output_type": "execute_result"
    }
   ],
   "source": [
    "neigh = NearestNeighbors(n_neighbors=2, n_jobs=-1, metric='euclidean') \n",
    "neigh.fit(X_train_tfidf)"
   ]
  },
  {
   "cell_type": "markdown",
   "metadata": {},
   "source": [
    "### Ищем кратчайшее расстояние от любимых фильмов пользователя до всех остальных"
   ]
  },
  {
   "cell_type": "code",
   "execution_count": 54,
   "metadata": {},
   "outputs": [
    {
     "name": "stderr",
     "output_type": "stream",
     "text": [
      "<ipython-input-54-eedc24d9dad2>:2: TqdmDeprecationWarning: This function will be removed in tqdm==5.0.0\n",
      "Please use `tqdm.notebook.tqdm` instead of `tqdm.tqdm_notebook`\n",
      "  for fav_movie in tqdm(user_summary_vector):\n"
     ]
    },
    {
     "data": {
      "application/vnd.jupyter.widget-view+json": {
       "model_id": "bffcbfbba9db4885873184dd5834ead5",
       "version_major": 2,
       "version_minor": 0
      },
      "text/plain": [
       "HBox(children=(FloatProgress(value=0.0, max=845.0), HTML(value='')))"
      ]
     },
     "metadata": {},
     "output_type": "display_data"
    },
    {
     "name": "stdout",
     "output_type": "stream",
     "text": [
      "\n"
     ]
    }
   ],
   "source": [
    "res = []\n",
    "for fav_movie in tqdm(user_summary_vector):\n",
    "    predict = count_vect.transform([fav_movie])\n",
    "    X_train_tfidf2 = tfidf_transformer.transform(predict)\n",
    "    res.append(neigh.kneighbors(X_train_tfidf2, return_distance=True))"
   ]
  },
  {
   "cell_type": "code",
   "execution_count": 55,
   "metadata": {},
   "outputs": [
    {
     "data": {
      "text/plain": [
       "[(array([[0.       , 0.5299753]]), array([[   0, 1600]], dtype=int64)),\n",
       " (array([[0.        , 1.22724096]]), array([[ 1, 43]], dtype=int64)),\n",
       " (array([[0.        , 0.76288536]]), array([[  3, 369]], dtype=int64)),\n",
       " (array([[0.        , 0.91343887]]), array([[  4, 105]], dtype=int64)),\n",
       " (array([[0.        , 0.93867211]]), array([[   6, 3490]], dtype=int64))]"
      ]
     },
     "execution_count": 55,
     "metadata": {},
     "output_type": "execute_result"
    }
   ],
   "source": [
    "res[:5]"
   ]
  },
  {
   "cell_type": "code",
   "execution_count": 56,
   "metadata": {},
   "outputs": [
    {
     "data": {
      "text/plain": [
       "(0.0, 0)"
      ]
     },
     "execution_count": 56,
     "metadata": {},
     "output_type": "execute_result"
    }
   ],
   "source": [
    "res[0][0][0][0], res[0][1][0][0]"
   ]
  },
  {
   "cell_type": "code",
   "execution_count": 57,
   "metadata": {},
   "outputs": [
    {
     "data": {
      "text/plain": [
       "(0.5299752977540516, 1600)"
      ]
     },
     "execution_count": 57,
     "metadata": {},
     "output_type": "execute_result"
    }
   ],
   "source": [
    "res[0][0][0][1], res[0][1][0][1]"
   ]
  },
  {
   "cell_type": "code",
   "execution_count": 58,
   "metadata": {},
   "outputs": [
    {
     "data": {
      "text/plain": [
       "(1.2272409635480188, 43)"
      ]
     },
     "execution_count": 58,
     "metadata": {},
     "output_type": "execute_result"
    }
   ],
   "source": [
    "res[1][0][0][1], res[1][1][0][1]"
   ]
  },
  {
   "cell_type": "markdown",
   "metadata": {},
   "source": [
    "Нужно отсортировать по кратчайшему расстоянию. Для этого оберну в словарь, а затем в список и отсортирую"
   ]
  },
  {
   "cell_type": "code",
   "execution_count": 59,
   "metadata": {},
   "outputs": [],
   "source": [
    "movies = {}\n",
    "for item in res:\n",
    "    movies[item[0][0][1]] = item[1][0][1]"
   ]
  },
  {
   "cell_type": "code",
   "execution_count": 60,
   "metadata": {},
   "outputs": [
    {
     "data": {
      "text/plain": [
       "[0.0,\n",
       " 0.17097181934648664,\n",
       " 0.18724995931653232,\n",
       " 0.18780638427015522,\n",
       " 0.18798190076211213,\n",
       " 0.19072203424233913,\n",
       " 0.19616899928346815,\n",
       " 0.2008189345858794,\n",
       " 0.20193223295235746,\n",
       " 0.2071850777384294,\n",
       " 0.20728851245561541,\n",
       " 0.20862565012255913,\n",
       " 0.21241125012114823,\n",
       " 0.21358058189586043,\n",
       " 0.2136542661602074,\n",
       " 0.2156487178634964,\n",
       " 0.2171592917896356,\n",
       " 0.21871946949976273,\n",
       " 0.22130013559772274,\n",
       " 0.22594678102861676]"
      ]
     },
     "execution_count": 60,
     "metadata": {},
     "output_type": "execute_result"
    }
   ],
   "source": [
    "list_keys = list(movies.keys())\n",
    "list_keys.sort()\n",
    "list_keys[:20]"
   ]
  },
  {
   "cell_type": "code",
   "execution_count": 61,
   "metadata": {},
   "outputs": [],
   "source": [
    "rec_movies_ids = []\n",
    "for key in movies:\n",
    "    for item in list_keys[:20]:\n",
    "        if item == key:\n",
    "            rec_movies_ids.append(movies[key])\n",
    "#     rec_movies_ids.append(movies[key])"
   ]
  },
  {
   "cell_type": "code",
   "execution_count": 62,
   "metadata": {},
   "outputs": [
    {
     "data": {
      "text/plain": [
       "[2840, 1001, 54, 2097, 3193]"
      ]
     },
     "execution_count": 62,
     "metadata": {},
     "output_type": "execute_result"
    }
   ],
   "source": [
    "rec_movies_ids[:5]"
   ]
  },
  {
   "cell_type": "markdown",
   "metadata": {},
   "source": [
    "Теперь нужно убрать фильмы, которые пользователь уже смотрел"
   ]
  },
  {
   "cell_type": "code",
   "execution_count": 63,
   "metadata": {},
   "outputs": [
    {
     "data": {
      "text/plain": [
       "array(['Tales from the Crypt Presents: Demon Knight (1995)',\n",
       "       'Stigmata (1999)', \"'Til There Was You (1997)\",\n",
       "       'American Movie (1999)', 'New York Cop (Nyû Yôku no koppu) (1993)',\n",
       "       'Billy Bathgate (1991)'], dtype=object)"
      ]
     },
     "execution_count": 63,
     "metadata": {},
     "output_type": "execute_result"
    }
   ],
   "source": [
    "watched_movies_id = ratings.loc[ratings.userId == 414, 'movieId']\n",
    "df = ratings[~ratings['movieId'].isin(watched_movies_id)] #список фильмов, которые пользователь не смотрел\n",
    "df[df['movieId'].isin(rec_movies_ids)]['title'].unique()"
   ]
  },
  {
   "cell_type": "code",
   "execution_count": 64,
   "metadata": {},
   "outputs": [
    {
     "data": {
      "text/plain": [
       "array([ 328, 2840,  779, 3007,  284, 5689], dtype=int64)"
      ]
     },
     "execution_count": 64,
     "metadata": {},
     "output_type": "execute_result"
    }
   ],
   "source": [
    "rec_movies_Id = df[df['movieId'].isin(rec_movies_ids)]['movieId'].unique()\n",
    "rec_movies_Id"
   ]
  },
  {
   "cell_type": "markdown",
   "metadata": {},
   "source": [
    "Проверим, что пользователь действительно не смотрел эти фильмы:"
   ]
  },
  {
   "cell_type": "code",
   "execution_count": 65,
   "metadata": {},
   "outputs": [
    {
     "data": {
      "text/html": [
       "<div>\n",
       "<style scoped>\n",
       "    .dataframe tbody tr th:only-of-type {\n",
       "        vertical-align: middle;\n",
       "    }\n",
       "\n",
       "    .dataframe tbody tr th {\n",
       "        vertical-align: top;\n",
       "    }\n",
       "\n",
       "    .dataframe thead th {\n",
       "        text-align: right;\n",
       "    }\n",
       "</style>\n",
       "<table border=\"1\" class=\"dataframe\">\n",
       "  <thead>\n",
       "    <tr style=\"text-align: right;\">\n",
       "      <th></th>\n",
       "      <th>userId</th>\n",
       "      <th>movieId</th>\n",
       "      <th>rating_x</th>\n",
       "      <th>timestamp_rating</th>\n",
       "      <th>avg_user_rating</th>\n",
       "      <th>title</th>\n",
       "      <th>tags_genres</th>\n",
       "      <th>avg_movie_ratings</th>\n",
       "    </tr>\n",
       "  </thead>\n",
       "  <tbody>\n",
       "  </tbody>\n",
       "</table>\n",
       "</div>"
      ],
      "text/plain": [
       "Empty DataFrame\n",
       "Columns: [userId, movieId, rating_x, timestamp_rating, avg_user_rating, title, tags_genres, avg_movie_ratings]\n",
       "Index: []"
      ]
     },
     "execution_count": 65,
     "metadata": {},
     "output_type": "execute_result"
    }
   ],
   "source": [
    "ratings.loc[(ratings['movieId'].isin(rec_movies_Id)) & (ratings['userId'] == 414)]"
   ]
  },
  {
   "cell_type": "markdown",
   "metadata": {},
   "source": [
    "### Часть 2. Предсказание для пользователя 414"
   ]
  },
  {
   "cell_type": "code",
   "execution_count": 66,
   "metadata": {},
   "outputs": [
    {
     "data": {
      "text/html": [
       "<div>\n",
       "<style scoped>\n",
       "    .dataframe tbody tr th:only-of-type {\n",
       "        vertical-align: middle;\n",
       "    }\n",
       "\n",
       "    .dataframe tbody tr th {\n",
       "        vertical-align: top;\n",
       "    }\n",
       "\n",
       "    .dataframe thead th {\n",
       "        text-align: right;\n",
       "    }\n",
       "</style>\n",
       "<table border=\"1\" class=\"dataframe\">\n",
       "  <thead>\n",
       "    <tr style=\"text-align: right;\">\n",
       "      <th></th>\n",
       "      <th>userId</th>\n",
       "      <th>movieId</th>\n",
       "      <th>rating_x</th>\n",
       "      <th>timestamp_rating</th>\n",
       "      <th>avg_user_rating</th>\n",
       "      <th>title</th>\n",
       "      <th>tags_genres</th>\n",
       "      <th>avg_movie_ratings</th>\n",
       "    </tr>\n",
       "  </thead>\n",
       "  <tbody>\n",
       "    <tr>\n",
       "      <th>0</th>\n",
       "      <td>1</td>\n",
       "      <td>1</td>\n",
       "      <td>4.0</td>\n",
       "      <td>964982703</td>\n",
       "      <td>4.366379</td>\n",
       "      <td>Toy Story (1995)</td>\n",
       "      <td>Adventure Animation Children Comedy Fantasy pi...</td>\n",
       "      <td>3.92093</td>\n",
       "    </tr>\n",
       "    <tr>\n",
       "      <th>3</th>\n",
       "      <td>5</td>\n",
       "      <td>1</td>\n",
       "      <td>4.0</td>\n",
       "      <td>847434962</td>\n",
       "      <td>3.636364</td>\n",
       "      <td>Toy Story (1995)</td>\n",
       "      <td>Adventure Animation Children Comedy Fantasy pi...</td>\n",
       "      <td>3.92093</td>\n",
       "    </tr>\n",
       "    <tr>\n",
       "      <th>6</th>\n",
       "      <td>7</td>\n",
       "      <td>1</td>\n",
       "      <td>4.5</td>\n",
       "      <td>1106635946</td>\n",
       "      <td>3.230263</td>\n",
       "      <td>Toy Story (1995)</td>\n",
       "      <td>Adventure Animation Children Comedy Fantasy pi...</td>\n",
       "      <td>3.92093</td>\n",
       "    </tr>\n",
       "    <tr>\n",
       "      <th>9</th>\n",
       "      <td>15</td>\n",
       "      <td>1</td>\n",
       "      <td>2.5</td>\n",
       "      <td>1510577970</td>\n",
       "      <td>3.448148</td>\n",
       "      <td>Toy Story (1995)</td>\n",
       "      <td>Adventure Animation Children Comedy Fantasy pi...</td>\n",
       "      <td>3.92093</td>\n",
       "    </tr>\n",
       "    <tr>\n",
       "      <th>12</th>\n",
       "      <td>17</td>\n",
       "      <td>1</td>\n",
       "      <td>4.5</td>\n",
       "      <td>1305696483</td>\n",
       "      <td>4.209524</td>\n",
       "      <td>Toy Story (1995)</td>\n",
       "      <td>Adventure Animation Children Comedy Fantasy pi...</td>\n",
       "      <td>3.92093</td>\n",
       "    </tr>\n",
       "  </tbody>\n",
       "</table>\n",
       "</div>"
      ],
      "text/plain": [
       "    userId  movieId  rating_x  timestamp_rating  avg_user_rating  \\\n",
       "0        1        1       4.0         964982703         4.366379   \n",
       "3        5        1       4.0         847434962         3.636364   \n",
       "6        7        1       4.5        1106635946         3.230263   \n",
       "9       15        1       2.5        1510577970         3.448148   \n",
       "12      17        1       4.5        1305696483         4.209524   \n",
       "\n",
       "               title                                        tags_genres  \\\n",
       "0   Toy Story (1995)  Adventure Animation Children Comedy Fantasy pi...   \n",
       "3   Toy Story (1995)  Adventure Animation Children Comedy Fantasy pi...   \n",
       "6   Toy Story (1995)  Adventure Animation Children Comedy Fantasy pi...   \n",
       "9   Toy Story (1995)  Adventure Animation Children Comedy Fantasy pi...   \n",
       "12  Toy Story (1995)  Adventure Animation Children Comedy Fantasy pi...   \n",
       "\n",
       "    avg_movie_ratings  \n",
       "0             3.92093  \n",
       "3             3.92093  \n",
       "6             3.92093  \n",
       "9             3.92093  \n",
       "12            3.92093  "
      ]
     },
     "execution_count": 66,
     "metadata": {},
     "output_type": "execute_result"
    }
   ],
   "source": [
    "ratings.head()"
   ]
  },
  {
   "cell_type": "code",
   "execution_count": 67,
   "metadata": {},
   "outputs": [],
   "source": [
    "# Так как буду использовать decision tree, то можно оставить такие колонки как movieId и userId, а вот timepstamp можно удалить"
   ]
  },
  {
   "cell_type": "code",
   "execution_count": 68,
   "metadata": {},
   "outputs": [
    {
     "data": {
      "text/html": [
       "<div>\n",
       "<style scoped>\n",
       "    .dataframe tbody tr th:only-of-type {\n",
       "        vertical-align: middle;\n",
       "    }\n",
       "\n",
       "    .dataframe tbody tr th {\n",
       "        vertical-align: top;\n",
       "    }\n",
       "\n",
       "    .dataframe thead th {\n",
       "        text-align: right;\n",
       "    }\n",
       "</style>\n",
       "<table border=\"1\" class=\"dataframe\">\n",
       "  <thead>\n",
       "    <tr style=\"text-align: right;\">\n",
       "      <th></th>\n",
       "      <th>userId</th>\n",
       "      <th>movieId</th>\n",
       "      <th>rating_x</th>\n",
       "      <th>avg_user_rating</th>\n",
       "      <th>avg_movie_ratings</th>\n",
       "    </tr>\n",
       "  </thead>\n",
       "  <tbody>\n",
       "    <tr>\n",
       "      <th>438</th>\n",
       "      <td>414</td>\n",
       "      <td>1</td>\n",
       "      <td>4.0</td>\n",
       "      <td>3.391957</td>\n",
       "      <td>3.920930</td>\n",
       "    </tr>\n",
       "    <tr>\n",
       "      <th>717</th>\n",
       "      <td>414</td>\n",
       "      <td>3</td>\n",
       "      <td>4.0</td>\n",
       "      <td>3.391957</td>\n",
       "      <td>3.259615</td>\n",
       "    </tr>\n",
       "    <tr>\n",
       "      <th>818</th>\n",
       "      <td>414</td>\n",
       "      <td>6</td>\n",
       "      <td>3.0</td>\n",
       "      <td>3.391957</td>\n",
       "      <td>3.946078</td>\n",
       "    </tr>\n",
       "    <tr>\n",
       "      <th>1277</th>\n",
       "      <td>414</td>\n",
       "      <td>47</td>\n",
       "      <td>4.0</td>\n",
       "      <td>3.391957</td>\n",
       "      <td>3.975369</td>\n",
       "    </tr>\n",
       "    <tr>\n",
       "      <th>2330</th>\n",
       "      <td>414</td>\n",
       "      <td>50</td>\n",
       "      <td>5.0</td>\n",
       "      <td>3.391957</td>\n",
       "      <td>4.237745</td>\n",
       "    </tr>\n",
       "  </tbody>\n",
       "</table>\n",
       "</div>"
      ],
      "text/plain": [
       "      userId  movieId  rating_x  avg_user_rating  avg_movie_ratings\n",
       "438      414        1       4.0         3.391957           3.920930\n",
       "717      414        3       4.0         3.391957           3.259615\n",
       "818      414        6       3.0         3.391957           3.946078\n",
       "1277     414       47       4.0         3.391957           3.975369\n",
       "2330     414       50       5.0         3.391957           4.237745"
      ]
     },
     "execution_count": 68,
     "metadata": {},
     "output_type": "execute_result"
    }
   ],
   "source": [
    "df = ratings.drop(['timestamp_rating', 'title', 'tags_genres'], axis=1)\n",
    "df = df.loc[df.userId == 414]\n",
    "df.head()"
   ]
  },
  {
   "cell_type": "code",
   "execution_count": 69,
   "metadata": {},
   "outputs": [],
   "source": [
    "from sklearn.tree import DecisionTreeClassifier\n",
    "from sklearn.model_selection import train_test_split"
   ]
  },
  {
   "cell_type": "code",
   "execution_count": 70,
   "metadata": {},
   "outputs": [],
   "source": [
    "clf = DecisionTreeClassifier(max_depth=15) ### как выбрать уровень правильно? 15 много или мало?"
   ]
  },
  {
   "cell_type": "code",
   "execution_count": 71,
   "metadata": {},
   "outputs": [],
   "source": [
    "df.rating_x = round(df.rating_x)"
   ]
  },
  {
   "cell_type": "code",
   "execution_count": 72,
   "metadata": {},
   "outputs": [],
   "source": [
    "X = df.drop('rating_x', axis=1)\n",
    "y = df.rating_x"
   ]
  },
  {
   "cell_type": "code",
   "execution_count": 73,
   "metadata": {},
   "outputs": [
    {
     "data": {
      "text/plain": [
       "DecisionTreeClassifier(max_depth=15)"
      ]
     },
     "execution_count": 73,
     "metadata": {},
     "output_type": "execute_result"
    }
   ],
   "source": [
    "clf.fit(X, y)  ### обучаем модель на фильмах, которые пользователь смотрел"
   ]
  },
  {
   "cell_type": "code",
   "execution_count": 75,
   "metadata": {},
   "outputs": [
    {
     "data": {
      "text/plain": [
       "0.8728687916975537"
      ]
     },
     "execution_count": 75,
     "metadata": {},
     "output_type": "execute_result"
    }
   ],
   "source": [
    "clf.score(X, y)"
   ]
  },
  {
   "cell_type": "code",
   "execution_count": 76,
   "metadata": {},
   "outputs": [
    {
     "data": {
      "text/html": [
       "<div>\n",
       "<style scoped>\n",
       "    .dataframe tbody tr th:only-of-type {\n",
       "        vertical-align: middle;\n",
       "    }\n",
       "\n",
       "    .dataframe tbody tr th {\n",
       "        vertical-align: top;\n",
       "    }\n",
       "\n",
       "    .dataframe thead th {\n",
       "        text-align: right;\n",
       "    }\n",
       "</style>\n",
       "<table border=\"1\" class=\"dataframe\">\n",
       "  <thead>\n",
       "    <tr style=\"text-align: right;\">\n",
       "      <th></th>\n",
       "      <th>userId</th>\n",
       "      <th>movieId</th>\n",
       "      <th>avg_user_rating</th>\n",
       "      <th>avg_movie_ratings</th>\n",
       "    </tr>\n",
       "  </thead>\n",
       "  <tbody>\n",
       "    <tr>\n",
       "      <th>0</th>\n",
       "      <td>1</td>\n",
       "      <td>1</td>\n",
       "      <td>4.366379</td>\n",
       "      <td>3.92093</td>\n",
       "    </tr>\n",
       "    <tr>\n",
       "      <th>3</th>\n",
       "      <td>5</td>\n",
       "      <td>1</td>\n",
       "      <td>3.636364</td>\n",
       "      <td>3.92093</td>\n",
       "    </tr>\n",
       "    <tr>\n",
       "      <th>6</th>\n",
       "      <td>7</td>\n",
       "      <td>1</td>\n",
       "      <td>3.230263</td>\n",
       "      <td>3.92093</td>\n",
       "    </tr>\n",
       "    <tr>\n",
       "      <th>9</th>\n",
       "      <td>15</td>\n",
       "      <td>1</td>\n",
       "      <td>3.448148</td>\n",
       "      <td>3.92093</td>\n",
       "    </tr>\n",
       "    <tr>\n",
       "      <th>12</th>\n",
       "      <td>17</td>\n",
       "      <td>1</td>\n",
       "      <td>4.209524</td>\n",
       "      <td>3.92093</td>\n",
       "    </tr>\n",
       "  </tbody>\n",
       "</table>\n",
       "</div>"
      ],
      "text/plain": [
       "    userId  movieId  avg_user_rating  avg_movie_ratings\n",
       "0        1        1         4.366379            3.92093\n",
       "3        5        1         3.636364            3.92093\n",
       "6        7        1         3.230263            3.92093\n",
       "9       15        1         3.448148            3.92093\n",
       "12      17        1         4.209524            3.92093"
      ]
     },
     "execution_count": 76,
     "metadata": {},
     "output_type": "execute_result"
    }
   ],
   "source": [
    "train_df = ratings[~ratings['movieId'].isin(watched_movies_id)]\n",
    "train_df = ratings.drop(['timestamp_rating', 'title', 'tags_genres', 'rating_x'], axis=1)\n",
    "train_df.head()"
   ]
  },
  {
   "cell_type": "code",
   "execution_count": 77,
   "metadata": {},
   "outputs": [
    {
     "data": {
      "text/plain": [
       "array([4., 4., 4., ..., 4., 5., 5.])"
      ]
     },
     "execution_count": 77,
     "metadata": {},
     "output_type": "execute_result"
    }
   ],
   "source": [
    "clf.predict(train_df)"
   ]
  },
  {
   "cell_type": "code",
   "execution_count": 78,
   "metadata": {},
   "outputs": [
    {
     "data": {
      "text/html": [
       "<div>\n",
       "<style scoped>\n",
       "    .dataframe tbody tr th:only-of-type {\n",
       "        vertical-align: middle;\n",
       "    }\n",
       "\n",
       "    .dataframe tbody tr th {\n",
       "        vertical-align: top;\n",
       "    }\n",
       "\n",
       "    .dataframe thead th {\n",
       "        text-align: right;\n",
       "    }\n",
       "</style>\n",
       "<table border=\"1\" class=\"dataframe\">\n",
       "  <thead>\n",
       "    <tr style=\"text-align: right;\">\n",
       "      <th></th>\n",
       "      <th>userId</th>\n",
       "      <th>movieId</th>\n",
       "      <th>avg_user_rating</th>\n",
       "      <th>avg_movie_ratings</th>\n",
       "      <th>Predicted_Rating</th>\n",
       "    </tr>\n",
       "  </thead>\n",
       "  <tbody>\n",
       "    <tr>\n",
       "      <th>0</th>\n",
       "      <td>1</td>\n",
       "      <td>1</td>\n",
       "      <td>4.366379</td>\n",
       "      <td>3.92093</td>\n",
       "      <td>4.0</td>\n",
       "    </tr>\n",
       "    <tr>\n",
       "      <th>3</th>\n",
       "      <td>5</td>\n",
       "      <td>1</td>\n",
       "      <td>3.636364</td>\n",
       "      <td>3.92093</td>\n",
       "      <td>4.0</td>\n",
       "    </tr>\n",
       "    <tr>\n",
       "      <th>6</th>\n",
       "      <td>7</td>\n",
       "      <td>1</td>\n",
       "      <td>3.230263</td>\n",
       "      <td>3.92093</td>\n",
       "      <td>4.0</td>\n",
       "    </tr>\n",
       "    <tr>\n",
       "      <th>9</th>\n",
       "      <td>15</td>\n",
       "      <td>1</td>\n",
       "      <td>3.448148</td>\n",
       "      <td>3.92093</td>\n",
       "      <td>4.0</td>\n",
       "    </tr>\n",
       "    <tr>\n",
       "      <th>12</th>\n",
       "      <td>17</td>\n",
       "      <td>1</td>\n",
       "      <td>4.209524</td>\n",
       "      <td>3.92093</td>\n",
       "      <td>4.0</td>\n",
       "    </tr>\n",
       "  </tbody>\n",
       "</table>\n",
       "</div>"
      ],
      "text/plain": [
       "    userId  movieId  avg_user_rating  avg_movie_ratings  Predicted_Rating\n",
       "0        1        1         4.366379            3.92093               4.0\n",
       "3        5        1         3.636364            3.92093               4.0\n",
       "6        7        1         3.230263            3.92093               4.0\n",
       "9       15        1         3.448148            3.92093               4.0\n",
       "12      17        1         4.209524            3.92093               4.0"
      ]
     },
     "execution_count": 78,
     "metadata": {},
     "output_type": "execute_result"
    }
   ],
   "source": [
    "train_df['Predicted_Rating'] = clf.predict(train_df)\n",
    "train_df.head()"
   ]
  },
  {
   "cell_type": "code",
   "execution_count": 86,
   "metadata": {},
   "outputs": [
    {
     "data": {
      "text/html": [
       "<div>\n",
       "<style scoped>\n",
       "    .dataframe tbody tr th:only-of-type {\n",
       "        vertical-align: middle;\n",
       "    }\n",
       "\n",
       "    .dataframe tbody tr th {\n",
       "        vertical-align: top;\n",
       "    }\n",
       "\n",
       "    .dataframe thead th {\n",
       "        text-align: right;\n",
       "    }\n",
       "</style>\n",
       "<table border=\"1\" class=\"dataframe\">\n",
       "  <thead>\n",
       "    <tr style=\"text-align: right;\">\n",
       "      <th></th>\n",
       "      <th>userId</th>\n",
       "      <th>movieId</th>\n",
       "      <th>avg_user_rating</th>\n",
       "      <th>avg_movie_ratings</th>\n",
       "      <th>Predicted_Rating</th>\n",
       "    </tr>\n",
       "  </thead>\n",
       "  <tbody>\n",
       "    <tr>\n",
       "      <th>273747</th>\n",
       "      <td>113</td>\n",
       "      <td>779</td>\n",
       "      <td>3.646667</td>\n",
       "      <td>4.000000</td>\n",
       "      <td>5.0</td>\n",
       "    </tr>\n",
       "    <tr>\n",
       "      <th>273748</th>\n",
       "      <td>345</td>\n",
       "      <td>779</td>\n",
       "      <td>3.903226</td>\n",
       "      <td>4.000000</td>\n",
       "      <td>5.0</td>\n",
       "    </tr>\n",
       "    <tr>\n",
       "      <th>284904</th>\n",
       "      <td>594</td>\n",
       "      <td>284</td>\n",
       "      <td>3.924569</td>\n",
       "      <td>4.500000</td>\n",
       "      <td>4.0</td>\n",
       "    </tr>\n",
       "    <tr>\n",
       "      <th>280866</th>\n",
       "      <td>603</td>\n",
       "      <td>3007</td>\n",
       "      <td>3.507953</td>\n",
       "      <td>3.750000</td>\n",
       "      <td>4.0</td>\n",
       "    </tr>\n",
       "    <tr>\n",
       "      <th>280865</th>\n",
       "      <td>600</td>\n",
       "      <td>3007</td>\n",
       "      <td>2.991481</td>\n",
       "      <td>3.750000</td>\n",
       "      <td>4.0</td>\n",
       "    </tr>\n",
       "    <tr>\n",
       "      <th>280864</th>\n",
       "      <td>599</td>\n",
       "      <td>3007</td>\n",
       "      <td>2.642050</td>\n",
       "      <td>3.750000</td>\n",
       "      <td>4.0</td>\n",
       "    </tr>\n",
       "    <tr>\n",
       "      <th>280863</th>\n",
       "      <td>462</td>\n",
       "      <td>3007</td>\n",
       "      <td>3.406593</td>\n",
       "      <td>3.750000</td>\n",
       "      <td>4.0</td>\n",
       "    </tr>\n",
       "    <tr>\n",
       "      <th>280862</th>\n",
       "      <td>318</td>\n",
       "      <td>3007</td>\n",
       "      <td>3.755973</td>\n",
       "      <td>3.750000</td>\n",
       "      <td>4.0</td>\n",
       "    </tr>\n",
       "    <tr>\n",
       "      <th>280861</th>\n",
       "      <td>290</td>\n",
       "      <td>3007</td>\n",
       "      <td>4.142322</td>\n",
       "      <td>3.750000</td>\n",
       "      <td>4.0</td>\n",
       "    </tr>\n",
       "    <tr>\n",
       "      <th>236780</th>\n",
       "      <td>547</td>\n",
       "      <td>2840</td>\n",
       "      <td>4.142857</td>\n",
       "      <td>2.869565</td>\n",
       "      <td>2.0</td>\n",
       "    </tr>\n",
       "    <tr>\n",
       "      <th>236776</th>\n",
       "      <td>381</td>\n",
       "      <td>2840</td>\n",
       "      <td>3.542194</td>\n",
       "      <td>2.869565</td>\n",
       "      <td>2.0</td>\n",
       "    </tr>\n",
       "    <tr>\n",
       "      <th>236777</th>\n",
       "      <td>432</td>\n",
       "      <td>2840</td>\n",
       "      <td>3.646154</td>\n",
       "      <td>2.869565</td>\n",
       "      <td>2.0</td>\n",
       "    </tr>\n",
       "    <tr>\n",
       "      <th>236778</th>\n",
       "      <td>452</td>\n",
       "      <td>2840</td>\n",
       "      <td>4.556931</td>\n",
       "      <td>2.869565</td>\n",
       "      <td>2.0</td>\n",
       "    </tr>\n",
       "    <tr>\n",
       "      <th>236779</th>\n",
       "      <td>472</td>\n",
       "      <td>2840</td>\n",
       "      <td>4.120690</td>\n",
       "      <td>2.869565</td>\n",
       "      <td>2.0</td>\n",
       "    </tr>\n",
       "    <tr>\n",
       "      <th>230025</th>\n",
       "      <td>19</td>\n",
       "      <td>328</td>\n",
       "      <td>2.607397</td>\n",
       "      <td>3.150000</td>\n",
       "      <td>2.0</td>\n",
       "    </tr>\n",
       "    <tr>\n",
       "      <th>236781</th>\n",
       "      <td>591</td>\n",
       "      <td>2840</td>\n",
       "      <td>3.277778</td>\n",
       "      <td>2.869565</td>\n",
       "      <td>2.0</td>\n",
       "    </tr>\n",
       "    <tr>\n",
       "      <th>236782</th>\n",
       "      <td>600</td>\n",
       "      <td>2840</td>\n",
       "      <td>2.991481</td>\n",
       "      <td>2.869565</td>\n",
       "      <td>2.0</td>\n",
       "    </tr>\n",
       "    <tr>\n",
       "      <th>236783</th>\n",
       "      <td>603</td>\n",
       "      <td>2840</td>\n",
       "      <td>3.507953</td>\n",
       "      <td>2.869565</td>\n",
       "      <td>2.0</td>\n",
       "    </tr>\n",
       "    <tr>\n",
       "      <th>236784</th>\n",
       "      <td>608</td>\n",
       "      <td>2840</td>\n",
       "      <td>3.134176</td>\n",
       "      <td>2.869565</td>\n",
       "      <td>2.0</td>\n",
       "    </tr>\n",
       "    <tr>\n",
       "      <th>236774</th>\n",
       "      <td>342</td>\n",
       "      <td>2840</td>\n",
       "      <td>2.939394</td>\n",
       "      <td>2.869565</td>\n",
       "      <td>2.0</td>\n",
       "    </tr>\n",
       "    <tr>\n",
       "      <th>236775</th>\n",
       "      <td>380</td>\n",
       "      <td>2840</td>\n",
       "      <td>3.673235</td>\n",
       "      <td>2.869565</td>\n",
       "      <td>2.0</td>\n",
       "    </tr>\n",
       "    <tr>\n",
       "      <th>236773</th>\n",
       "      <td>274</td>\n",
       "      <td>2840</td>\n",
       "      <td>3.235884</td>\n",
       "      <td>2.869565</td>\n",
       "      <td>2.0</td>\n",
       "    </tr>\n",
       "    <tr>\n",
       "      <th>230026</th>\n",
       "      <td>136</td>\n",
       "      <td>328</td>\n",
       "      <td>3.315315</td>\n",
       "      <td>3.150000</td>\n",
       "      <td>2.0</td>\n",
       "    </tr>\n",
       "    <tr>\n",
       "      <th>236762</th>\n",
       "      <td>19</td>\n",
       "      <td>2840</td>\n",
       "      <td>2.607397</td>\n",
       "      <td>2.869565</td>\n",
       "      <td>2.0</td>\n",
       "    </tr>\n",
       "    <tr>\n",
       "      <th>230027</th>\n",
       "      <td>240</td>\n",
       "      <td>328</td>\n",
       "      <td>3.914062</td>\n",
       "      <td>3.150000</td>\n",
       "      <td>2.0</td>\n",
       "    </tr>\n",
       "    <tr>\n",
       "      <th>230028</th>\n",
       "      <td>274</td>\n",
       "      <td>328</td>\n",
       "      <td>3.235884</td>\n",
       "      <td>3.150000</td>\n",
       "      <td>2.0</td>\n",
       "    </tr>\n",
       "    <tr>\n",
       "      <th>230029</th>\n",
       "      <td>353</td>\n",
       "      <td>328</td>\n",
       "      <td>3.488889</td>\n",
       "      <td>3.150000</td>\n",
       "      <td>2.0</td>\n",
       "    </tr>\n",
       "    <tr>\n",
       "      <th>230030</th>\n",
       "      <td>372</td>\n",
       "      <td>328</td>\n",
       "      <td>3.355932</td>\n",
       "      <td>3.150000</td>\n",
       "      <td>2.0</td>\n",
       "    </tr>\n",
       "    <tr>\n",
       "      <th>230031</th>\n",
       "      <td>571</td>\n",
       "      <td>328</td>\n",
       "      <td>2.571429</td>\n",
       "      <td>3.150000</td>\n",
       "      <td>2.0</td>\n",
       "    </tr>\n",
       "    <tr>\n",
       "      <th>230032</th>\n",
       "      <td>599</td>\n",
       "      <td>328</td>\n",
       "      <td>2.642050</td>\n",
       "      <td>3.150000</td>\n",
       "      <td>2.0</td>\n",
       "    </tr>\n",
       "    <tr>\n",
       "      <th>230033</th>\n",
       "      <td>604</td>\n",
       "      <td>328</td>\n",
       "      <td>3.480000</td>\n",
       "      <td>3.150000</td>\n",
       "      <td>2.0</td>\n",
       "    </tr>\n",
       "    <tr>\n",
       "      <th>230034</th>\n",
       "      <td>610</td>\n",
       "      <td>328</td>\n",
       "      <td>3.688556</td>\n",
       "      <td>3.150000</td>\n",
       "      <td>2.0</td>\n",
       "    </tr>\n",
       "    <tr>\n",
       "      <th>236763</th>\n",
       "      <td>68</td>\n",
       "      <td>2840</td>\n",
       "      <td>3.233730</td>\n",
       "      <td>2.869565</td>\n",
       "      <td>2.0</td>\n",
       "    </tr>\n",
       "    <tr>\n",
       "      <th>236772</th>\n",
       "      <td>263</td>\n",
       "      <td>2840</td>\n",
       "      <td>3.716667</td>\n",
       "      <td>2.869565</td>\n",
       "      <td>2.0</td>\n",
       "    </tr>\n",
       "    <tr>\n",
       "      <th>236764</th>\n",
       "      <td>160</td>\n",
       "      <td>2840</td>\n",
       "      <td>2.708238</td>\n",
       "      <td>2.869565</td>\n",
       "      <td>2.0</td>\n",
       "    </tr>\n",
       "    <tr>\n",
       "      <th>236765</th>\n",
       "      <td>178</td>\n",
       "      <td>2840</td>\n",
       "      <td>4.090909</td>\n",
       "      <td>2.869565</td>\n",
       "      <td>2.0</td>\n",
       "    </tr>\n",
       "    <tr>\n",
       "      <th>236766</th>\n",
       "      <td>182</td>\n",
       "      <td>2840</td>\n",
       "      <td>3.511259</td>\n",
       "      <td>2.869565</td>\n",
       "      <td>2.0</td>\n",
       "    </tr>\n",
       "    <tr>\n",
       "      <th>236767</th>\n",
       "      <td>195</td>\n",
       "      <td>2840</td>\n",
       "      <td>3.529412</td>\n",
       "      <td>2.869565</td>\n",
       "      <td>2.0</td>\n",
       "    </tr>\n",
       "    <tr>\n",
       "      <th>236768</th>\n",
       "      <td>208</td>\n",
       "      <td>2840</td>\n",
       "      <td>3.307692</td>\n",
       "      <td>2.869565</td>\n",
       "      <td>2.0</td>\n",
       "    </tr>\n",
       "    <tr>\n",
       "      <th>236769</th>\n",
       "      <td>223</td>\n",
       "      <td>2840</td>\n",
       "      <td>3.273333</td>\n",
       "      <td>2.869565</td>\n",
       "      <td>2.0</td>\n",
       "    </tr>\n",
       "    <tr>\n",
       "      <th>236770</th>\n",
       "      <td>239</td>\n",
       "      <td>2840</td>\n",
       "      <td>4.026882</td>\n",
       "      <td>2.869565</td>\n",
       "      <td>2.0</td>\n",
       "    </tr>\n",
       "    <tr>\n",
       "      <th>236771</th>\n",
       "      <td>254</td>\n",
       "      <td>2840</td>\n",
       "      <td>3.980315</td>\n",
       "      <td>2.869565</td>\n",
       "      <td>2.0</td>\n",
       "    </tr>\n",
       "    <tr>\n",
       "      <th>285036</th>\n",
       "      <td>599</td>\n",
       "      <td>5689</td>\n",
       "      <td>2.642050</td>\n",
       "      <td>2.000000</td>\n",
       "      <td>2.0</td>\n",
       "    </tr>\n",
       "  </tbody>\n",
       "</table>\n",
       "</div>"
      ],
      "text/plain": [
       "        userId  movieId  avg_user_rating  avg_movie_ratings  Predicted_Rating\n",
       "273747     113      779         3.646667           4.000000               5.0\n",
       "273748     345      779         3.903226           4.000000               5.0\n",
       "284904     594      284         3.924569           4.500000               4.0\n",
       "280866     603     3007         3.507953           3.750000               4.0\n",
       "280865     600     3007         2.991481           3.750000               4.0\n",
       "280864     599     3007         2.642050           3.750000               4.0\n",
       "280863     462     3007         3.406593           3.750000               4.0\n",
       "280862     318     3007         3.755973           3.750000               4.0\n",
       "280861     290     3007         4.142322           3.750000               4.0\n",
       "236780     547     2840         4.142857           2.869565               2.0\n",
       "236776     381     2840         3.542194           2.869565               2.0\n",
       "236777     432     2840         3.646154           2.869565               2.0\n",
       "236778     452     2840         4.556931           2.869565               2.0\n",
       "236779     472     2840         4.120690           2.869565               2.0\n",
       "230025      19      328         2.607397           3.150000               2.0\n",
       "236781     591     2840         3.277778           2.869565               2.0\n",
       "236782     600     2840         2.991481           2.869565               2.0\n",
       "236783     603     2840         3.507953           2.869565               2.0\n",
       "236784     608     2840         3.134176           2.869565               2.0\n",
       "236774     342     2840         2.939394           2.869565               2.0\n",
       "236775     380     2840         3.673235           2.869565               2.0\n",
       "236773     274     2840         3.235884           2.869565               2.0\n",
       "230026     136      328         3.315315           3.150000               2.0\n",
       "236762      19     2840         2.607397           2.869565               2.0\n",
       "230027     240      328         3.914062           3.150000               2.0\n",
       "230028     274      328         3.235884           3.150000               2.0\n",
       "230029     353      328         3.488889           3.150000               2.0\n",
       "230030     372      328         3.355932           3.150000               2.0\n",
       "230031     571      328         2.571429           3.150000               2.0\n",
       "230032     599      328         2.642050           3.150000               2.0\n",
       "230033     604      328         3.480000           3.150000               2.0\n",
       "230034     610      328         3.688556           3.150000               2.0\n",
       "236763      68     2840         3.233730           2.869565               2.0\n",
       "236772     263     2840         3.716667           2.869565               2.0\n",
       "236764     160     2840         2.708238           2.869565               2.0\n",
       "236765     178     2840         4.090909           2.869565               2.0\n",
       "236766     182     2840         3.511259           2.869565               2.0\n",
       "236767     195     2840         3.529412           2.869565               2.0\n",
       "236768     208     2840         3.307692           2.869565               2.0\n",
       "236769     223     2840         3.273333           2.869565               2.0\n",
       "236770     239     2840         4.026882           2.869565               2.0\n",
       "236771     254     2840         3.980315           2.869565               2.0\n",
       "285036     599     5689         2.642050           2.000000               2.0"
      ]
     },
     "execution_count": 86,
     "metadata": {},
     "output_type": "execute_result"
    }
   ],
   "source": [
    "train_df.loc[train_df['movieId'].isin(rec_movies_Id)].sort_values(by='Predicted_Rating', ascending=False)"
   ]
  },
  {
   "cell_type": "code",
   "execution_count": 92,
   "metadata": {},
   "outputs": [
    {
     "data": {
      "text/plain": [
       "array([\"'Til There Was You (1997)\", 'American Movie (1999)',\n",
       "       'New York Cop (Nyû Yôku no koppu) (1993)'], dtype=object)"
      ]
     },
     "execution_count": 92,
     "metadata": {},
     "output_type": "execute_result"
    }
   ],
   "source": [
    "ratings.loc[ratings['movieId'].isin([779, 284, 3007])]['title'].unique()"
   ]
  },
  {
   "cell_type": "code",
   "execution_count": null,
   "metadata": {},
   "outputs": [],
   "source": []
  }
 ],
 "metadata": {
  "kernelspec": {
   "display_name": "Python 3",
   "language": "python",
   "name": "python3"
  },
  "language_info": {
   "codemirror_mode": {
    "name": "ipython",
    "version": 3
   },
   "file_extension": ".py",
   "mimetype": "text/x-python",
   "name": "python",
   "nbconvert_exporter": "python",
   "pygments_lexer": "ipython3",
   "version": "3.8.3"
  }
 },
 "nbformat": 4,
 "nbformat_minor": 4
}
