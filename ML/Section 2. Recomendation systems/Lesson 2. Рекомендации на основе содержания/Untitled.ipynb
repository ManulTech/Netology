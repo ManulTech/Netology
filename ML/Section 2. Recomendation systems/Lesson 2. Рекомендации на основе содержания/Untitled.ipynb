{
 "cells": [
  {
   "cell_type": "code",
   "execution_count": 1,
   "metadata": {},
   "outputs": [],
   "source": [
    "import pandas as pd\n",
    "import numpy as np\n",
    "\n",
    "from tqdm import tqdm_notebook as tqdm\n",
    "\n",
    "from sklearn.feature_extraction.text import TfidfTransformer, CountVectorizer\n",
    "from sklearn.neighbors import NearestNeighbors\n",
    "\n",
    "%matplotlib inline"
   ]
  },
  {
   "cell_type": "code",
   "execution_count": 2,
   "metadata": {},
   "outputs": [],
   "source": [
    "#links = pd.read_csv('links.csv')\n",
    "movies = pd.read_csv('movies.csv')\n",
    "ratings = pd.read_csv('ratings.csv')\n",
    "tags = pd.read_csv('tags.csv')"
   ]
  },
  {
   "cell_type": "code",
   "execution_count": 3,
   "metadata": {},
   "outputs": [
    {
     "data": {
      "text/plain": [
       "((9742, 3), (3683, 4), (100836, 4))"
      ]
     },
     "execution_count": 3,
     "metadata": {},
     "output_type": "execute_result"
    }
   ],
   "source": [
    "movies.shape, tags.shape, ratings.shape"
   ]
  },
  {
   "cell_type": "code",
   "execution_count": 4,
   "metadata": {},
   "outputs": [
    {
     "data": {
      "text/html": [
       "<div>\n",
       "<style scoped>\n",
       "    .dataframe tbody tr th:only-of-type {\n",
       "        vertical-align: middle;\n",
       "    }\n",
       "\n",
       "    .dataframe tbody tr th {\n",
       "        vertical-align: top;\n",
       "    }\n",
       "\n",
       "    .dataframe thead th {\n",
       "        text-align: right;\n",
       "    }\n",
       "</style>\n",
       "<table border=\"1\" class=\"dataframe\">\n",
       "  <thead>\n",
       "    <tr style=\"text-align: right;\">\n",
       "      <th></th>\n",
       "      <th>movieId</th>\n",
       "      <th>title</th>\n",
       "      <th>genres</th>\n",
       "    </tr>\n",
       "  </thead>\n",
       "  <tbody>\n",
       "    <tr>\n",
       "      <th>0</th>\n",
       "      <td>1</td>\n",
       "      <td>Toy Story (1995)</td>\n",
       "      <td>Adventure|Animation|Children|Comedy|Fantasy</td>\n",
       "    </tr>\n",
       "    <tr>\n",
       "      <th>1</th>\n",
       "      <td>2</td>\n",
       "      <td>Jumanji (1995)</td>\n",
       "      <td>Adventure|Children|Fantasy</td>\n",
       "    </tr>\n",
       "    <tr>\n",
       "      <th>2</th>\n",
       "      <td>3</td>\n",
       "      <td>Grumpier Old Men (1995)</td>\n",
       "      <td>Comedy|Romance</td>\n",
       "    </tr>\n",
       "    <tr>\n",
       "      <th>3</th>\n",
       "      <td>4</td>\n",
       "      <td>Waiting to Exhale (1995)</td>\n",
       "      <td>Comedy|Drama|Romance</td>\n",
       "    </tr>\n",
       "    <tr>\n",
       "      <th>4</th>\n",
       "      <td>5</td>\n",
       "      <td>Father of the Bride Part II (1995)</td>\n",
       "      <td>Comedy</td>\n",
       "    </tr>\n",
       "  </tbody>\n",
       "</table>\n",
       "</div>"
      ],
      "text/plain": [
       "   movieId                               title  \\\n",
       "0        1                    Toy Story (1995)   \n",
       "1        2                      Jumanji (1995)   \n",
       "2        3             Grumpier Old Men (1995)   \n",
       "3        4            Waiting to Exhale (1995)   \n",
       "4        5  Father of the Bride Part II (1995)   \n",
       "\n",
       "                                        genres  \n",
       "0  Adventure|Animation|Children|Comedy|Fantasy  \n",
       "1                   Adventure|Children|Fantasy  \n",
       "2                               Comedy|Romance  \n",
       "3                         Comedy|Drama|Romance  \n",
       "4                                       Comedy  "
      ]
     },
     "execution_count": 4,
     "metadata": {},
     "output_type": "execute_result"
    }
   ],
   "source": [
    "movies.head()"
   ]
  },
  {
   "cell_type": "code",
   "execution_count": 5,
   "metadata": {},
   "outputs": [
    {
     "data": {
      "text/html": [
       "<div>\n",
       "<style scoped>\n",
       "    .dataframe tbody tr th:only-of-type {\n",
       "        vertical-align: middle;\n",
       "    }\n",
       "\n",
       "    .dataframe tbody tr th {\n",
       "        vertical-align: top;\n",
       "    }\n",
       "\n",
       "    .dataframe thead th {\n",
       "        text-align: right;\n",
       "    }\n",
       "</style>\n",
       "<table border=\"1\" class=\"dataframe\">\n",
       "  <thead>\n",
       "    <tr style=\"text-align: right;\">\n",
       "      <th></th>\n",
       "      <th>userId</th>\n",
       "      <th>movieId</th>\n",
       "      <th>rating</th>\n",
       "      <th>timestamp</th>\n",
       "    </tr>\n",
       "  </thead>\n",
       "  <tbody>\n",
       "    <tr>\n",
       "      <th>0</th>\n",
       "      <td>1</td>\n",
       "      <td>1</td>\n",
       "      <td>4.0</td>\n",
       "      <td>964982703</td>\n",
       "    </tr>\n",
       "    <tr>\n",
       "      <th>1</th>\n",
       "      <td>1</td>\n",
       "      <td>3</td>\n",
       "      <td>4.0</td>\n",
       "      <td>964981247</td>\n",
       "    </tr>\n",
       "    <tr>\n",
       "      <th>2</th>\n",
       "      <td>1</td>\n",
       "      <td>6</td>\n",
       "      <td>4.0</td>\n",
       "      <td>964982224</td>\n",
       "    </tr>\n",
       "    <tr>\n",
       "      <th>3</th>\n",
       "      <td>1</td>\n",
       "      <td>47</td>\n",
       "      <td>5.0</td>\n",
       "      <td>964983815</td>\n",
       "    </tr>\n",
       "    <tr>\n",
       "      <th>4</th>\n",
       "      <td>1</td>\n",
       "      <td>50</td>\n",
       "      <td>5.0</td>\n",
       "      <td>964982931</td>\n",
       "    </tr>\n",
       "  </tbody>\n",
       "</table>\n",
       "</div>"
      ],
      "text/plain": [
       "   userId  movieId  rating  timestamp\n",
       "0       1        1     4.0  964982703\n",
       "1       1        3     4.0  964981247\n",
       "2       1        6     4.0  964982224\n",
       "3       1       47     5.0  964983815\n",
       "4       1       50     5.0  964982931"
      ]
     },
     "execution_count": 5,
     "metadata": {},
     "output_type": "execute_result"
    }
   ],
   "source": [
    "ratings.head()"
   ]
  },
  {
   "cell_type": "markdown",
   "metadata": {},
   "source": [
    "### Самые активные пользователи"
   ]
  },
  {
   "cell_type": "code",
   "execution_count": 6,
   "metadata": {},
   "outputs": [
    {
     "data": {
      "text/plain": [
       "414    2698\n",
       "599    2478\n",
       "474    2108\n",
       "Name: userId, dtype: int64"
      ]
     },
     "execution_count": 6,
     "metadata": {},
     "output_type": "execute_result"
    }
   ],
   "source": [
    "ratings.userId.value_counts().head(3)"
   ]
  },
  {
   "cell_type": "markdown",
   "metadata": {},
   "source": [
    "Едем дальше"
   ]
  },
  {
   "cell_type": "code",
   "execution_count": 7,
   "metadata": {},
   "outputs": [
    {
     "data": {
      "text/html": [
       "<div>\n",
       "<style scoped>\n",
       "    .dataframe tbody tr th:only-of-type {\n",
       "        vertical-align: middle;\n",
       "    }\n",
       "\n",
       "    .dataframe tbody tr th {\n",
       "        vertical-align: top;\n",
       "    }\n",
       "\n",
       "    .dataframe thead th {\n",
       "        text-align: right;\n",
       "    }\n",
       "</style>\n",
       "<table border=\"1\" class=\"dataframe\">\n",
       "  <thead>\n",
       "    <tr style=\"text-align: right;\">\n",
       "      <th></th>\n",
       "      <th>userId</th>\n",
       "      <th>movieId</th>\n",
       "      <th>tag</th>\n",
       "      <th>timestamp</th>\n",
       "    </tr>\n",
       "  </thead>\n",
       "  <tbody>\n",
       "    <tr>\n",
       "      <th>0</th>\n",
       "      <td>2</td>\n",
       "      <td>60756</td>\n",
       "      <td>funny</td>\n",
       "      <td>1445714994</td>\n",
       "    </tr>\n",
       "    <tr>\n",
       "      <th>1</th>\n",
       "      <td>2</td>\n",
       "      <td>60756</td>\n",
       "      <td>Highly quotable</td>\n",
       "      <td>1445714996</td>\n",
       "    </tr>\n",
       "    <tr>\n",
       "      <th>2</th>\n",
       "      <td>2</td>\n",
       "      <td>60756</td>\n",
       "      <td>will ferrell</td>\n",
       "      <td>1445714992</td>\n",
       "    </tr>\n",
       "    <tr>\n",
       "      <th>3</th>\n",
       "      <td>2</td>\n",
       "      <td>89774</td>\n",
       "      <td>Boxing story</td>\n",
       "      <td>1445715207</td>\n",
       "    </tr>\n",
       "    <tr>\n",
       "      <th>4</th>\n",
       "      <td>2</td>\n",
       "      <td>89774</td>\n",
       "      <td>MMA</td>\n",
       "      <td>1445715200</td>\n",
       "    </tr>\n",
       "  </tbody>\n",
       "</table>\n",
       "</div>"
      ],
      "text/plain": [
       "   userId  movieId              tag   timestamp\n",
       "0       2    60756            funny  1445714994\n",
       "1       2    60756  Highly quotable  1445714996\n",
       "2       2    60756     will ferrell  1445714992\n",
       "3       2    89774     Boxing story  1445715207\n",
       "4       2    89774              MMA  1445715200"
      ]
     },
     "execution_count": 7,
     "metadata": {},
     "output_type": "execute_result"
    }
   ],
   "source": [
    "tags.head()"
   ]
  },
  {
   "cell_type": "code",
   "execution_count": 8,
   "metadata": {},
   "outputs": [
    {
     "data": {
      "text/plain": [
       "((9742,), (11853, 6), (3683, 4))"
      ]
     },
     "execution_count": 8,
     "metadata": {},
     "output_type": "execute_result"
    }
   ],
   "source": [
    "movies_with_tags = pd.merge(movies, tags, on='movieId', how='left')\n",
    "movies_with_tags.movieId.unique().shape, movies_with_tags.shape, tags.shape"
   ]
  },
  {
   "cell_type": "code",
   "execution_count": 9,
   "metadata": {},
   "outputs": [
    {
     "data": {
      "text/html": [
       "<div>\n",
       "<style scoped>\n",
       "    .dataframe tbody tr th:only-of-type {\n",
       "        vertical-align: middle;\n",
       "    }\n",
       "\n",
       "    .dataframe tbody tr th {\n",
       "        vertical-align: top;\n",
       "    }\n",
       "\n",
       "    .dataframe thead th {\n",
       "        text-align: right;\n",
       "    }\n",
       "</style>\n",
       "<table border=\"1\" class=\"dataframe\">\n",
       "  <thead>\n",
       "    <tr style=\"text-align: right;\">\n",
       "      <th></th>\n",
       "      <th>movieId</th>\n",
       "      <th>title</th>\n",
       "      <th>genres</th>\n",
       "      <th>userId</th>\n",
       "      <th>tag</th>\n",
       "      <th>timestamp</th>\n",
       "    </tr>\n",
       "  </thead>\n",
       "  <tbody>\n",
       "    <tr>\n",
       "      <th>0</th>\n",
       "      <td>1</td>\n",
       "      <td>Toy Story (1995)</td>\n",
       "      <td>Adventure|Animation|Children|Comedy|Fantasy</td>\n",
       "      <td>336.0</td>\n",
       "      <td>pixar</td>\n",
       "      <td>1.139046e+09</td>\n",
       "    </tr>\n",
       "    <tr>\n",
       "      <th>1</th>\n",
       "      <td>1</td>\n",
       "      <td>Toy Story (1995)</td>\n",
       "      <td>Adventure|Animation|Children|Comedy|Fantasy</td>\n",
       "      <td>474.0</td>\n",
       "      <td>pixar</td>\n",
       "      <td>1.137207e+09</td>\n",
       "    </tr>\n",
       "    <tr>\n",
       "      <th>2</th>\n",
       "      <td>1</td>\n",
       "      <td>Toy Story (1995)</td>\n",
       "      <td>Adventure|Animation|Children|Comedy|Fantasy</td>\n",
       "      <td>567.0</td>\n",
       "      <td>fun</td>\n",
       "      <td>1.525286e+09</td>\n",
       "    </tr>\n",
       "    <tr>\n",
       "      <th>3</th>\n",
       "      <td>2</td>\n",
       "      <td>Jumanji (1995)</td>\n",
       "      <td>Adventure|Children|Fantasy</td>\n",
       "      <td>62.0</td>\n",
       "      <td>fantasy</td>\n",
       "      <td>1.528844e+09</td>\n",
       "    </tr>\n",
       "    <tr>\n",
       "      <th>4</th>\n",
       "      <td>2</td>\n",
       "      <td>Jumanji (1995)</td>\n",
       "      <td>Adventure|Children|Fantasy</td>\n",
       "      <td>62.0</td>\n",
       "      <td>magic board game</td>\n",
       "      <td>1.528844e+09</td>\n",
       "    </tr>\n",
       "  </tbody>\n",
       "</table>\n",
       "</div>"
      ],
      "text/plain": [
       "   movieId             title                                       genres  \\\n",
       "0        1  Toy Story (1995)  Adventure|Animation|Children|Comedy|Fantasy   \n",
       "1        1  Toy Story (1995)  Adventure|Animation|Children|Comedy|Fantasy   \n",
       "2        1  Toy Story (1995)  Adventure|Animation|Children|Comedy|Fantasy   \n",
       "3        2    Jumanji (1995)                   Adventure|Children|Fantasy   \n",
       "4        2    Jumanji (1995)                   Adventure|Children|Fantasy   \n",
       "\n",
       "   userId               tag     timestamp  \n",
       "0   336.0             pixar  1.139046e+09  \n",
       "1   474.0             pixar  1.137207e+09  \n",
       "2   567.0               fun  1.525286e+09  \n",
       "3    62.0           fantasy  1.528844e+09  \n",
       "4    62.0  magic board game  1.528844e+09  "
      ]
     },
     "execution_count": 9,
     "metadata": {},
     "output_type": "execute_result"
    }
   ],
   "source": [
    "movies_with_tags.head()"
   ]
  },
  {
   "cell_type": "markdown",
   "metadata": {},
   "source": [
    "### Собираем и объединяем теги для каждого фильма от разных пользователей"
   ]
  },
  {
   "cell_type": "code",
   "execution_count": 10,
   "metadata": {},
   "outputs": [
    {
     "name": "stderr",
     "output_type": "stream",
     "text": [
      "<ipython-input-10-2897d6071177>:4: TqdmDeprecationWarning: This function will be removed in tqdm==5.0.0\n",
      "Please use `tqdm.notebook.tqdm` instead of `tqdm.tqdm_notebook`\n",
      "  for movie, group in tqdm(movies_with_tags.groupby('title')):\n"
     ]
    },
    {
     "data": {
      "application/vnd.jupyter.widget-view+json": {
<<<<<<< HEAD:ML/Section 2. Recomendation systems/Lesson 2. Рекомендации на основе содержания/Untitled.ipynb
       "model_id": "66a1c92a82b04c94b069abc1005b3e7c",
=======
       "model_id": "c04992ba8781469c8bd95115a3346b0a",
>>>>>>> 17e33bfda7e3d0483cdd9afd457f60f7b32f4b49:Машинное обучение - фундаментальные инструменты и практики/Section 2. Recomendation systems/Lesson 2. Рекомендации на основе содержания/Untitled.ipynb
       "version_major": 2,
       "version_minor": 0
      },
      "text/plain": [
       "HBox(children=(FloatProgress(value=0.0, max=9737.0), HTML(value='')))"
      ]
     },
     "metadata": {},
     "output_type": "display_data"
    },
    {
     "name": "stdout",
     "output_type": "stream",
     "text": [
      "\n"
     ]
    }
   ],
   "source": [
    "tag_strings = []\n",
    "movies_list = []\n",
    "\n",
    "for movie, group in tqdm(movies_with_tags.groupby('title')):\n",
    "    tag_strings.append(' '.join([str(s).replace(' ', '').replace('-', '') for s in group.tag.values]))\n",
    "    movies_list.append(movie)"
   ]
  },
  {
   "cell_type": "code",
   "execution_count": 11,
   "metadata": {},
   "outputs": [
    {
     "data": {
      "text/plain": [
       "[\"'71 (2014)\",\n",
       " \"'Hellboy': The Seeds of Creation (2004)\",\n",
       " \"'Round Midnight (1986)\",\n",
       " \"'Salem's Lot (2004)\",\n",
       " \"'Til There Was You (1997)\",\n",
       " \"'Tis the Season for Love (2015)\",\n",
       " \"'burbs, The (1989)\",\n",
       " \"'night Mother (1986)\",\n",
       " '(500) Days of Summer (2009)',\n",
       " '*batteries not included (1987)']"
      ]
     },
     "execution_count": 11,
     "metadata": {},
     "output_type": "execute_result"
    }
   ],
   "source": [
    "movies_list[:10]"
   ]
  },
  {
   "cell_type": "code",
   "execution_count": 12,
   "metadata": {},
   "outputs": [
    {
     "data": {
      "text/plain": [
       "['nan',\n",
       " 'nan',\n",
       " 'nan',\n",
       " 'nan',\n",
       " 'nan',\n",
       " 'nan',\n",
       " 'nan',\n",
       " 'nan',\n",
       " 'artistic Funny humorous inspiring intelligent quirky romance ZooeyDeschanel',\n",
       " 'nan']"
      ]
     },
     "execution_count": 12,
     "metadata": {},
     "output_type": "execute_result"
    }
   ],
   "source": [
    "tag_strings[:10]"
   ]
  },
  {
   "cell_type": "code",
   "execution_count": 13,
   "metadata": {},
   "outputs": [
    {
     "data": {
      "text/plain": [
       "(9737, 9737)"
      ]
     },
     "execution_count": 13,
     "metadata": {},
     "output_type": "execute_result"
    }
   ],
   "source": [
    "len(movies_list), len(tag_strings)"
   ]
  },
  {
   "cell_type": "markdown",
   "metadata": {},
   "source": [
    "### Уберём nan"
   ]
  },
  {
   "cell_type": "code",
   "execution_count": 14,
   "metadata": {},
   "outputs": [],
   "source": [
    "tag_strings = [str(s).replace('nan', '') for s in tag_strings]"
   ]
  },
  {
   "cell_type": "code",
   "execution_count": 15,
   "metadata": {},
   "outputs": [
    {
     "data": {
      "text/html": [
       "<div>\n",
       "<style scoped>\n",
       "    .dataframe tbody tr th:only-of-type {\n",
       "        vertical-align: middle;\n",
       "    }\n",
       "\n",
       "    .dataframe tbody tr th {\n",
       "        vertical-align: top;\n",
       "    }\n",
       "\n",
       "    .dataframe thead th {\n",
       "        text-align: right;\n",
       "    }\n",
       "</style>\n",
       "<table border=\"1\" class=\"dataframe\">\n",
       "  <thead>\n",
       "    <tr style=\"text-align: right;\">\n",
       "      <th></th>\n",
       "      <th>title</th>\n",
       "      <th>tag</th>\n",
       "    </tr>\n",
       "  </thead>\n",
       "  <tbody>\n",
       "    <tr>\n",
       "      <th>0</th>\n",
       "      <td>'71 (2014)</td>\n",
       "      <td></td>\n",
       "    </tr>\n",
       "    <tr>\n",
       "      <th>1</th>\n",
       "      <td>'Hellboy': The Seeds of Creation (2004)</td>\n",
       "      <td></td>\n",
       "    </tr>\n",
       "    <tr>\n",
       "      <th>2</th>\n",
       "      <td>'Round Midnight (1986)</td>\n",
       "      <td></td>\n",
       "    </tr>\n",
       "    <tr>\n",
       "      <th>3</th>\n",
       "      <td>'Salem's Lot (2004)</td>\n",
       "      <td></td>\n",
       "    </tr>\n",
       "    <tr>\n",
       "      <th>4</th>\n",
       "      <td>'Til There Was You (1997)</td>\n",
       "      <td></td>\n",
       "    </tr>\n",
       "    <tr>\n",
       "      <th>5</th>\n",
       "      <td>'Tis the Season for Love (2015)</td>\n",
       "      <td></td>\n",
       "    </tr>\n",
       "    <tr>\n",
       "      <th>6</th>\n",
       "      <td>'burbs, The (1989)</td>\n",
       "      <td></td>\n",
       "    </tr>\n",
       "    <tr>\n",
       "      <th>7</th>\n",
       "      <td>'night Mother (1986)</td>\n",
       "      <td></td>\n",
       "    </tr>\n",
       "    <tr>\n",
       "      <th>8</th>\n",
       "      <td>(500) Days of Summer (2009)</td>\n",
       "      <td>artistic Funny humorous inspiring intelligent ...</td>\n",
       "    </tr>\n",
       "    <tr>\n",
       "      <th>9</th>\n",
       "      <td>*batteries not included (1987)</td>\n",
       "      <td></td>\n",
       "    </tr>\n",
       "  </tbody>\n",
       "</table>\n",
       "</div>"
      ],
      "text/plain": [
       "                                     title  \\\n",
       "0                               '71 (2014)   \n",
       "1  'Hellboy': The Seeds of Creation (2004)   \n",
       "2                   'Round Midnight (1986)   \n",
       "3                      'Salem's Lot (2004)   \n",
       "4                'Til There Was You (1997)   \n",
       "5          'Tis the Season for Love (2015)   \n",
       "6                       'burbs, The (1989)   \n",
       "7                     'night Mother (1986)   \n",
       "8              (500) Days of Summer (2009)   \n",
       "9           *batteries not included (1987)   \n",
       "\n",
       "                                                 tag  \n",
       "0                                                     \n",
       "1                                                     \n",
       "2                                                     \n",
       "3                                                     \n",
       "4                                                     \n",
       "5                                                     \n",
       "6                                                     \n",
       "7                                                     \n",
       "8  artistic Funny humorous inspiring intelligent ...  \n",
       "9                                                     "
      ]
     },
     "execution_count": 15,
     "metadata": {},
     "output_type": "execute_result"
    }
   ],
   "source": [
    "df = pd.DataFrame(movies_list, columns = ['title'])\n",
    "df['tag'] = tag_strings\n",
    "df.head(10)"
   ]
  },
  {
   "cell_type": "markdown",
   "metadata": {},
   "source": [
    "### Объедним с предыдущим dataframe'ом и удалим лишнее"
   ]
  },
  {
   "cell_type": "code",
   "execution_count": 16,
   "metadata": {},
   "outputs": [
    {
     "data": {
      "text/html": [
       "<div>\n",
       "<style scoped>\n",
       "    .dataframe tbody tr th:only-of-type {\n",
       "        vertical-align: middle;\n",
       "    }\n",
       "\n",
       "    .dataframe tbody tr th {\n",
       "        vertical-align: top;\n",
       "    }\n",
       "\n",
       "    .dataframe thead th {\n",
       "        text-align: right;\n",
       "    }\n",
       "</style>\n",
       "<table border=\"1\" class=\"dataframe\">\n",
       "  <thead>\n",
       "    <tr style=\"text-align: right;\">\n",
       "      <th></th>\n",
       "      <th>movieId</th>\n",
       "      <th>title</th>\n",
       "      <th>genres</th>\n",
       "      <th>userId</th>\n",
       "      <th>tag_x</th>\n",
       "      <th>timestamp</th>\n",
       "      <th>tag_y</th>\n",
       "    </tr>\n",
       "  </thead>\n",
       "  <tbody>\n",
       "    <tr>\n",
       "      <th>0</th>\n",
       "      <td>1</td>\n",
       "      <td>Toy Story (1995)</td>\n",
       "      <td>Adventure|Animation|Children|Comedy|Fantasy</td>\n",
       "      <td>336.0</td>\n",
       "      <td>pixar</td>\n",
       "      <td>1.139046e+09</td>\n",
       "      <td>pixar pixar fun</td>\n",
       "    </tr>\n",
       "    <tr>\n",
       "      <th>1</th>\n",
       "      <td>1</td>\n",
       "      <td>Toy Story (1995)</td>\n",
       "      <td>Adventure|Animation|Children|Comedy|Fantasy</td>\n",
       "      <td>474.0</td>\n",
       "      <td>pixar</td>\n",
       "      <td>1.137207e+09</td>\n",
       "      <td>pixar pixar fun</td>\n",
       "    </tr>\n",
       "    <tr>\n",
       "      <th>2</th>\n",
       "      <td>1</td>\n",
       "      <td>Toy Story (1995)</td>\n",
       "      <td>Adventure|Animation|Children|Comedy|Fantasy</td>\n",
       "      <td>567.0</td>\n",
       "      <td>fun</td>\n",
       "      <td>1.525286e+09</td>\n",
       "      <td>pixar pixar fun</td>\n",
       "    </tr>\n",
       "    <tr>\n",
       "      <th>3</th>\n",
       "      <td>2</td>\n",
       "      <td>Jumanji (1995)</td>\n",
       "      <td>Adventure|Children|Fantasy</td>\n",
       "      <td>62.0</td>\n",
       "      <td>fantasy</td>\n",
       "      <td>1.528844e+09</td>\n",
       "      <td>fantasy magicboardgame RobinWilliams game</td>\n",
       "    </tr>\n",
       "    <tr>\n",
       "      <th>4</th>\n",
       "      <td>2</td>\n",
       "      <td>Jumanji (1995)</td>\n",
       "      <td>Adventure|Children|Fantasy</td>\n",
       "      <td>62.0</td>\n",
       "      <td>magic board game</td>\n",
       "      <td>1.528844e+09</td>\n",
       "      <td>fantasy magicboardgame RobinWilliams game</td>\n",
       "    </tr>\n",
       "  </tbody>\n",
       "</table>\n",
       "</div>"
      ],
      "text/plain": [
       "   movieId             title                                       genres  \\\n",
       "0        1  Toy Story (1995)  Adventure|Animation|Children|Comedy|Fantasy   \n",
       "1        1  Toy Story (1995)  Adventure|Animation|Children|Comedy|Fantasy   \n",
       "2        1  Toy Story (1995)  Adventure|Animation|Children|Comedy|Fantasy   \n",
       "3        2    Jumanji (1995)                   Adventure|Children|Fantasy   \n",
       "4        2    Jumanji (1995)                   Adventure|Children|Fantasy   \n",
       "\n",
       "   userId             tag_x     timestamp  \\\n",
       "0   336.0             pixar  1.139046e+09   \n",
       "1   474.0             pixar  1.137207e+09   \n",
       "2   567.0               fun  1.525286e+09   \n",
       "3    62.0           fantasy  1.528844e+09   \n",
       "4    62.0  magic board game  1.528844e+09   \n",
       "\n",
       "                                       tag_y  \n",
       "0                            pixar pixar fun  \n",
       "1                            pixar pixar fun  \n",
       "2                            pixar pixar fun  \n",
       "3  fantasy magicboardgame RobinWilliams game  \n",
       "4  fantasy magicboardgame RobinWilliams game  "
      ]
     },
     "execution_count": 16,
     "metadata": {},
     "output_type": "execute_result"
    }
   ],
   "source": [
    "movies_with_tags = pd.DataFrame.merge(movies_with_tags, df, on='title')\n",
    "movies_with_tags.head()"
   ]
  },
  {
   "cell_type": "code",
   "execution_count": 17,
   "metadata": {},
   "outputs": [],
   "source": [
    "def change_string(s):\n",
    "    return '|' + s.replace(' ', '|')"
   ]
  },
  {
   "cell_type": "code",
   "execution_count": 18,
   "metadata": {},
   "outputs": [
    {
     "data": {
      "text/html": [
       "<div>\n",
       "<style scoped>\n",
       "    .dataframe tbody tr th:only-of-type {\n",
       "        vertical-align: middle;\n",
       "    }\n",
       "\n",
       "    .dataframe tbody tr th {\n",
       "        vertical-align: top;\n",
       "    }\n",
       "\n",
       "    .dataframe thead th {\n",
       "        text-align: right;\n",
       "    }\n",
       "</style>\n",
       "<table border=\"1\" class=\"dataframe\">\n",
       "  <thead>\n",
       "    <tr style=\"text-align: right;\">\n",
       "      <th></th>\n",
       "      <th>movieId</th>\n",
       "      <th>title</th>\n",
       "      <th>genres</th>\n",
       "      <th>userId</th>\n",
       "      <th>tag_x</th>\n",
       "      <th>timestamp</th>\n",
       "      <th>tag_y</th>\n",
       "    </tr>\n",
       "  </thead>\n",
       "  <tbody>\n",
       "    <tr>\n",
       "      <th>0</th>\n",
       "      <td>1</td>\n",
       "      <td>Toy Story (1995)</td>\n",
       "      <td>Adventure|Animation|Children|Comedy|Fantasy</td>\n",
       "      <td>336.0</td>\n",
       "      <td>pixar</td>\n",
       "      <td>1.139046e+09</td>\n",
       "      <td>|pixar|pixar|fun</td>\n",
       "    </tr>\n",
       "    <tr>\n",
       "      <th>1</th>\n",
       "      <td>1</td>\n",
       "      <td>Toy Story (1995)</td>\n",
       "      <td>Adventure|Animation|Children|Comedy|Fantasy</td>\n",
       "      <td>474.0</td>\n",
       "      <td>pixar</td>\n",
       "      <td>1.137207e+09</td>\n",
       "      <td>|pixar|pixar|fun</td>\n",
       "    </tr>\n",
       "    <tr>\n",
       "      <th>2</th>\n",
       "      <td>1</td>\n",
       "      <td>Toy Story (1995)</td>\n",
       "      <td>Adventure|Animation|Children|Comedy|Fantasy</td>\n",
       "      <td>567.0</td>\n",
       "      <td>fun</td>\n",
       "      <td>1.525286e+09</td>\n",
       "      <td>|pixar|pixar|fun</td>\n",
       "    </tr>\n",
       "    <tr>\n",
       "      <th>3</th>\n",
       "      <td>2</td>\n",
       "      <td>Jumanji (1995)</td>\n",
       "      <td>Adventure|Children|Fantasy</td>\n",
       "      <td>62.0</td>\n",
       "      <td>fantasy</td>\n",
       "      <td>1.528844e+09</td>\n",
       "      <td>|fantasy|magicboardgame|RobinWilliams|game</td>\n",
       "    </tr>\n",
       "    <tr>\n",
       "      <th>4</th>\n",
       "      <td>2</td>\n",
       "      <td>Jumanji (1995)</td>\n",
       "      <td>Adventure|Children|Fantasy</td>\n",
       "      <td>62.0</td>\n",
       "      <td>magic board game</td>\n",
       "      <td>1.528844e+09</td>\n",
       "      <td>|fantasy|magicboardgame|RobinWilliams|game</td>\n",
       "    </tr>\n",
       "  </tbody>\n",
       "</table>\n",
       "</div>"
      ],
      "text/plain": [
       "   movieId             title                                       genres  \\\n",
       "0        1  Toy Story (1995)  Adventure|Animation|Children|Comedy|Fantasy   \n",
       "1        1  Toy Story (1995)  Adventure|Animation|Children|Comedy|Fantasy   \n",
       "2        1  Toy Story (1995)  Adventure|Animation|Children|Comedy|Fantasy   \n",
       "3        2    Jumanji (1995)                   Adventure|Children|Fantasy   \n",
       "4        2    Jumanji (1995)                   Adventure|Children|Fantasy   \n",
       "\n",
       "   userId             tag_x     timestamp  \\\n",
       "0   336.0             pixar  1.139046e+09   \n",
       "1   474.0             pixar  1.137207e+09   \n",
       "2   567.0               fun  1.525286e+09   \n",
       "3    62.0           fantasy  1.528844e+09   \n",
       "4    62.0  magic board game  1.528844e+09   \n",
       "\n",
       "                                        tag_y  \n",
       "0                            |pixar|pixar|fun  \n",
       "1                            |pixar|pixar|fun  \n",
       "2                            |pixar|pixar|fun  \n",
       "3  |fantasy|magicboardgame|RobinWilliams|game  \n",
       "4  |fantasy|magicboardgame|RobinWilliams|game  "
      ]
     },
     "execution_count": 18,
     "metadata": {},
     "output_type": "execute_result"
    }
   ],
   "source": [
    "movies_with_tags['tag_y'] = movies_with_tags['tag_y'].apply(change_string) \n",
    "movies_with_tags.head()"
   ]
  },
  {
   "cell_type": "code",
   "execution_count": 19,
   "metadata": {},
   "outputs": [
    {
     "data": {
      "text/html": [
       "<div>\n",
       "<style scoped>\n",
       "    .dataframe tbody tr th:only-of-type {\n",
       "        vertical-align: middle;\n",
       "    }\n",
       "\n",
       "    .dataframe tbody tr th {\n",
       "        vertical-align: top;\n",
       "    }\n",
       "\n",
       "    .dataframe thead th {\n",
       "        text-align: right;\n",
       "    }\n",
       "</style>\n",
       "<table border=\"1\" class=\"dataframe\">\n",
       "  <thead>\n",
       "    <tr style=\"text-align: right;\">\n",
       "      <th></th>\n",
       "      <th>movieId</th>\n",
       "      <th>title</th>\n",
       "      <th>userId</th>\n",
       "      <th>timestamp</th>\n",
       "      <th>tags_genres</th>\n",
       "    </tr>\n",
       "  </thead>\n",
       "  <tbody>\n",
       "    <tr>\n",
       "      <th>0</th>\n",
       "      <td>1</td>\n",
       "      <td>Toy Story (1995)</td>\n",
       "      <td>336.0</td>\n",
       "      <td>1.139046e+09</td>\n",
       "      <td>Adventure|Animation|Children|Comedy|Fantasy|pi...</td>\n",
       "    </tr>\n",
       "    <tr>\n",
       "      <th>1</th>\n",
       "      <td>1</td>\n",
       "      <td>Toy Story (1995)</td>\n",
       "      <td>474.0</td>\n",
       "      <td>1.137207e+09</td>\n",
       "      <td>Adventure|Animation|Children|Comedy|Fantasy|pi...</td>\n",
       "    </tr>\n",
       "    <tr>\n",
       "      <th>2</th>\n",
       "      <td>1</td>\n",
       "      <td>Toy Story (1995)</td>\n",
       "      <td>567.0</td>\n",
       "      <td>1.525286e+09</td>\n",
       "      <td>Adventure|Animation|Children|Comedy|Fantasy|pi...</td>\n",
       "    </tr>\n",
       "    <tr>\n",
       "      <th>3</th>\n",
       "      <td>2</td>\n",
       "      <td>Jumanji (1995)</td>\n",
       "      <td>62.0</td>\n",
       "      <td>1.528844e+09</td>\n",
       "      <td>Adventure|Children|Fantasy|fantasy|magicboardg...</td>\n",
       "    </tr>\n",
       "    <tr>\n",
       "      <th>4</th>\n",
       "      <td>2</td>\n",
       "      <td>Jumanji (1995)</td>\n",
       "      <td>62.0</td>\n",
       "      <td>1.528844e+09</td>\n",
       "      <td>Adventure|Children|Fantasy|fantasy|magicboardg...</td>\n",
       "    </tr>\n",
       "  </tbody>\n",
       "</table>\n",
       "</div>"
      ],
      "text/plain": [
       "   movieId             title  userId     timestamp  \\\n",
       "0        1  Toy Story (1995)   336.0  1.139046e+09   \n",
       "1        1  Toy Story (1995)   474.0  1.137207e+09   \n",
       "2        1  Toy Story (1995)   567.0  1.525286e+09   \n",
       "3        2    Jumanji (1995)    62.0  1.528844e+09   \n",
       "4        2    Jumanji (1995)    62.0  1.528844e+09   \n",
       "\n",
       "                                         tags_genres  \n",
       "0  Adventure|Animation|Children|Comedy|Fantasy|pi...  \n",
       "1  Adventure|Animation|Children|Comedy|Fantasy|pi...  \n",
       "2  Adventure|Animation|Children|Comedy|Fantasy|pi...  \n",
       "3  Adventure|Children|Fantasy|fantasy|magicboardg...  \n",
       "4  Adventure|Children|Fantasy|fantasy|magicboardg...  "
      ]
     },
     "execution_count": 19,
     "metadata": {},
     "output_type": "execute_result"
    }
   ],
   "source": [
    "movies_with_tags['tags_genres'] = movies_with_tags['genres'] + movies_with_tags['tag_y']\n",
    "movies_with_tags.drop(['genres', 'tag_x', 'tag_y'], axis=1, inplace=True)\n",
    "movies_with_tags.head()"
   ]
  },
  {
   "cell_type": "code",
   "execution_count": 20,
   "metadata": {
    "scrolled": false
   },
   "outputs": [
    {
     "data": {
      "text/html": [
       "<div>\n",
       "<style scoped>\n",
       "    .dataframe tbody tr th:only-of-type {\n",
       "        vertical-align: middle;\n",
       "    }\n",
       "\n",
       "    .dataframe tbody tr th {\n",
       "        vertical-align: top;\n",
       "    }\n",
       "\n",
       "    .dataframe thead th {\n",
       "        text-align: right;\n",
       "    }\n",
       "</style>\n",
       "<table border=\"1\" class=\"dataframe\">\n",
       "  <thead>\n",
       "    <tr style=\"text-align: right;\">\n",
       "      <th></th>\n",
       "      <th>movieId</th>\n",
       "      <th>title</th>\n",
       "      <th>userId</th>\n",
       "      <th>timestamp</th>\n",
       "      <th>tags_genres</th>\n",
       "    </tr>\n",
       "  </thead>\n",
       "  <tbody>\n",
       "    <tr>\n",
       "      <th>8725</th>\n",
       "      <td>69757</td>\n",
       "      <td>(500) Days of Summer (2009)</td>\n",
       "      <td>477.0</td>\n",
       "      <td>1.279956e+09</td>\n",
       "      <td>Comedy|Drama|Romance|artistic|Funny|humorous|i...</td>\n",
       "    </tr>\n",
       "    <tr>\n",
       "      <th>8726</th>\n",
       "      <td>69757</td>\n",
       "      <td>(500) Days of Summer (2009)</td>\n",
       "      <td>477.0</td>\n",
       "      <td>1.279956e+09</td>\n",
       "      <td>Comedy|Drama|Romance|artistic|Funny|humorous|i...</td>\n",
       "    </tr>\n",
       "    <tr>\n",
       "      <th>8727</th>\n",
       "      <td>69757</td>\n",
       "      <td>(500) Days of Summer (2009)</td>\n",
       "      <td>477.0</td>\n",
       "      <td>1.279956e+09</td>\n",
       "      <td>Comedy|Drama|Romance|artistic|Funny|humorous|i...</td>\n",
       "    </tr>\n",
       "    <tr>\n",
       "      <th>8728</th>\n",
       "      <td>69757</td>\n",
       "      <td>(500) Days of Summer (2009)</td>\n",
       "      <td>477.0</td>\n",
       "      <td>1.279956e+09</td>\n",
       "      <td>Comedy|Drama|Romance|artistic|Funny|humorous|i...</td>\n",
       "    </tr>\n",
       "    <tr>\n",
       "      <th>8729</th>\n",
       "      <td>69757</td>\n",
       "      <td>(500) Days of Summer (2009)</td>\n",
       "      <td>477.0</td>\n",
       "      <td>1.279956e+09</td>\n",
       "      <td>Comedy|Drama|Romance|artistic|Funny|humorous|i...</td>\n",
       "    </tr>\n",
       "    <tr>\n",
       "      <th>8730</th>\n",
       "      <td>69757</td>\n",
       "      <td>(500) Days of Summer (2009)</td>\n",
       "      <td>477.0</td>\n",
       "      <td>1.279956e+09</td>\n",
       "      <td>Comedy|Drama|Romance|artistic|Funny|humorous|i...</td>\n",
       "    </tr>\n",
       "    <tr>\n",
       "      <th>8731</th>\n",
       "      <td>69757</td>\n",
       "      <td>(500) Days of Summer (2009)</td>\n",
       "      <td>477.0</td>\n",
       "      <td>1.279956e+09</td>\n",
       "      <td>Comedy|Drama|Romance|artistic|Funny|humorous|i...</td>\n",
       "    </tr>\n",
       "    <tr>\n",
       "      <th>8732</th>\n",
       "      <td>69757</td>\n",
       "      <td>(500) Days of Summer (2009)</td>\n",
       "      <td>477.0</td>\n",
       "      <td>1.279956e+09</td>\n",
       "      <td>Comedy|Drama|Romance|artistic|Funny|humorous|i...</td>\n",
       "    </tr>\n",
       "  </tbody>\n",
       "</table>\n",
       "</div>"
      ],
      "text/plain": [
       "      movieId                        title  userId     timestamp  \\\n",
       "8725    69757  (500) Days of Summer (2009)   477.0  1.279956e+09   \n",
       "8726    69757  (500) Days of Summer (2009)   477.0  1.279956e+09   \n",
       "8727    69757  (500) Days of Summer (2009)   477.0  1.279956e+09   \n",
       "8728    69757  (500) Days of Summer (2009)   477.0  1.279956e+09   \n",
       "8729    69757  (500) Days of Summer (2009)   477.0  1.279956e+09   \n",
       "8730    69757  (500) Days of Summer (2009)   477.0  1.279956e+09   \n",
       "8731    69757  (500) Days of Summer (2009)   477.0  1.279956e+09   \n",
       "8732    69757  (500) Days of Summer (2009)   477.0  1.279956e+09   \n",
       "\n",
       "                                            tags_genres  \n",
       "8725  Comedy|Drama|Romance|artistic|Funny|humorous|i...  \n",
       "8726  Comedy|Drama|Romance|artistic|Funny|humorous|i...  \n",
       "8727  Comedy|Drama|Romance|artistic|Funny|humorous|i...  \n",
       "8728  Comedy|Drama|Romance|artistic|Funny|humorous|i...  \n",
       "8729  Comedy|Drama|Romance|artistic|Funny|humorous|i...  \n",
       "8730  Comedy|Drama|Romance|artistic|Funny|humorous|i...  \n",
       "8731  Comedy|Drama|Romance|artistic|Funny|humorous|i...  \n",
       "8732  Comedy|Drama|Romance|artistic|Funny|humorous|i...  "
      ]
     },
     "execution_count": 20,
     "metadata": {},
     "output_type": "execute_result"
    }
   ],
   "source": [
    "movies_with_tags[movies_with_tags.title == '(500) Days of Summer (2009)']"
   ]
  },
  {
   "cell_type": "code",
   "execution_count": 21,
   "metadata": {},
   "outputs": [],
   "source": [
    "def change_string(s):\n",
    "    return s.replace('|', ' ')"
   ]
  },
  {
   "cell_type": "code",
   "execution_count": 22,
   "metadata": {},
   "outputs": [],
   "source": [
    "movies_with_tags['tags_genres'] = movies_with_tags['tags_genres'].apply(change_string) "
   ]
  },
  {
   "cell_type": "code",
   "execution_count": 23,
   "metadata": {},
   "outputs": [
    {
     "data": {
      "text/html": [
       "<div>\n",
       "<style scoped>\n",
       "    .dataframe tbody tr th:only-of-type {\n",
       "        vertical-align: middle;\n",
       "    }\n",
       "\n",
       "    .dataframe tbody tr th {\n",
       "        vertical-align: top;\n",
       "    }\n",
       "\n",
       "    .dataframe thead th {\n",
       "        text-align: right;\n",
       "    }\n",
       "</style>\n",
       "<table border=\"1\" class=\"dataframe\">\n",
       "  <thead>\n",
       "    <tr style=\"text-align: right;\">\n",
       "      <th></th>\n",
       "      <th>movieId</th>\n",
       "      <th>title</th>\n",
       "      <th>userId</th>\n",
       "      <th>timestamp</th>\n",
       "      <th>tags_genres</th>\n",
       "    </tr>\n",
       "  </thead>\n",
       "  <tbody>\n",
       "    <tr>\n",
       "      <th>8725</th>\n",
       "      <td>69757</td>\n",
       "      <td>(500) Days of Summer (2009)</td>\n",
       "      <td>477.0</td>\n",
       "      <td>1.279956e+09</td>\n",
       "      <td>Comedy Drama Romance artistic Funny humorous i...</td>\n",
       "    </tr>\n",
       "    <tr>\n",
       "      <th>8726</th>\n",
       "      <td>69757</td>\n",
       "      <td>(500) Days of Summer (2009)</td>\n",
       "      <td>477.0</td>\n",
       "      <td>1.279956e+09</td>\n",
       "      <td>Comedy Drama Romance artistic Funny humorous i...</td>\n",
       "    </tr>\n",
       "    <tr>\n",
       "      <th>8727</th>\n",
       "      <td>69757</td>\n",
       "      <td>(500) Days of Summer (2009)</td>\n",
       "      <td>477.0</td>\n",
       "      <td>1.279956e+09</td>\n",
       "      <td>Comedy Drama Romance artistic Funny humorous i...</td>\n",
       "    </tr>\n",
       "    <tr>\n",
       "      <th>8728</th>\n",
       "      <td>69757</td>\n",
       "      <td>(500) Days of Summer (2009)</td>\n",
       "      <td>477.0</td>\n",
       "      <td>1.279956e+09</td>\n",
       "      <td>Comedy Drama Romance artistic Funny humorous i...</td>\n",
       "    </tr>\n",
       "    <tr>\n",
       "      <th>8729</th>\n",
       "      <td>69757</td>\n",
       "      <td>(500) Days of Summer (2009)</td>\n",
       "      <td>477.0</td>\n",
       "      <td>1.279956e+09</td>\n",
       "      <td>Comedy Drama Romance artistic Funny humorous i...</td>\n",
       "    </tr>\n",
       "    <tr>\n",
       "      <th>8730</th>\n",
       "      <td>69757</td>\n",
       "      <td>(500) Days of Summer (2009)</td>\n",
       "      <td>477.0</td>\n",
       "      <td>1.279956e+09</td>\n",
       "      <td>Comedy Drama Romance artistic Funny humorous i...</td>\n",
       "    </tr>\n",
       "    <tr>\n",
       "      <th>8731</th>\n",
       "      <td>69757</td>\n",
       "      <td>(500) Days of Summer (2009)</td>\n",
       "      <td>477.0</td>\n",
       "      <td>1.279956e+09</td>\n",
       "      <td>Comedy Drama Romance artistic Funny humorous i...</td>\n",
       "    </tr>\n",
       "    <tr>\n",
       "      <th>8732</th>\n",
       "      <td>69757</td>\n",
       "      <td>(500) Days of Summer (2009)</td>\n",
       "      <td>477.0</td>\n",
       "      <td>1.279956e+09</td>\n",
       "      <td>Comedy Drama Romance artistic Funny humorous i...</td>\n",
       "    </tr>\n",
       "  </tbody>\n",
       "</table>\n",
       "</div>"
      ],
      "text/plain": [
       "      movieId                        title  userId     timestamp  \\\n",
       "8725    69757  (500) Days of Summer (2009)   477.0  1.279956e+09   \n",
       "8726    69757  (500) Days of Summer (2009)   477.0  1.279956e+09   \n",
       "8727    69757  (500) Days of Summer (2009)   477.0  1.279956e+09   \n",
       "8728    69757  (500) Days of Summer (2009)   477.0  1.279956e+09   \n",
       "8729    69757  (500) Days of Summer (2009)   477.0  1.279956e+09   \n",
       "8730    69757  (500) Days of Summer (2009)   477.0  1.279956e+09   \n",
       "8731    69757  (500) Days of Summer (2009)   477.0  1.279956e+09   \n",
       "8732    69757  (500) Days of Summer (2009)   477.0  1.279956e+09   \n",
       "\n",
       "                                            tags_genres  \n",
       "8725  Comedy Drama Romance artistic Funny humorous i...  \n",
       "8726  Comedy Drama Romance artistic Funny humorous i...  \n",
       "8727  Comedy Drama Romance artistic Funny humorous i...  \n",
       "8728  Comedy Drama Romance artistic Funny humorous i...  \n",
       "8729  Comedy Drama Romance artistic Funny humorous i...  \n",
       "8730  Comedy Drama Romance artistic Funny humorous i...  \n",
       "8731  Comedy Drama Romance artistic Funny humorous i...  \n",
       "8732  Comedy Drama Romance artistic Funny humorous i...  "
      ]
     },
     "execution_count": 23,
     "metadata": {},
     "output_type": "execute_result"
    }
   ],
   "source": [
    "movies_with_tags[movies_with_tags.title == '(500) Days of Summer (2009)']"
   ]
  },
  {
   "cell_type": "markdown",
   "metadata": {},
   "source": [
    "### Добавим средние оценки юзеров, а потом и фильмов"
   ]
  },
  {
   "cell_type": "code",
   "execution_count": 24,
   "metadata": {},
   "outputs": [
    {
     "data": {
      "text/html": [
       "<div>\n",
       "<style scoped>\n",
       "    .dataframe tbody tr th:only-of-type {\n",
       "        vertical-align: middle;\n",
       "    }\n",
       "\n",
       "    .dataframe tbody tr th {\n",
       "        vertical-align: top;\n",
       "    }\n",
       "\n",
       "    .dataframe thead th {\n",
       "        text-align: right;\n",
       "    }\n",
       "</style>\n",
       "<table border=\"1\" class=\"dataframe\">\n",
       "  <thead>\n",
       "    <tr style=\"text-align: right;\">\n",
       "      <th></th>\n",
       "      <th>userId</th>\n",
       "      <th>movieId</th>\n",
       "      <th>rating</th>\n",
       "      <th>timestamp</th>\n",
       "    </tr>\n",
       "  </thead>\n",
       "  <tbody>\n",
       "    <tr>\n",
       "      <th>0</th>\n",
       "      <td>1</td>\n",
       "      <td>1</td>\n",
       "      <td>4.0</td>\n",
       "      <td>964982703</td>\n",
       "    </tr>\n",
       "    <tr>\n",
       "      <th>1</th>\n",
       "      <td>1</td>\n",
       "      <td>3</td>\n",
       "      <td>4.0</td>\n",
       "      <td>964981247</td>\n",
       "    </tr>\n",
       "    <tr>\n",
       "      <th>2</th>\n",
       "      <td>1</td>\n",
       "      <td>6</td>\n",
       "      <td>4.0</td>\n",
       "      <td>964982224</td>\n",
       "    </tr>\n",
       "    <tr>\n",
       "      <th>3</th>\n",
       "      <td>1</td>\n",
       "      <td>47</td>\n",
       "      <td>5.0</td>\n",
       "      <td>964983815</td>\n",
       "    </tr>\n",
       "    <tr>\n",
       "      <th>4</th>\n",
       "      <td>1</td>\n",
       "      <td>50</td>\n",
       "      <td>5.0</td>\n",
       "      <td>964982931</td>\n",
       "    </tr>\n",
       "  </tbody>\n",
       "</table>\n",
       "</div>"
      ],
      "text/plain": [
       "   userId  movieId  rating  timestamp\n",
       "0       1        1     4.0  964982703\n",
       "1       1        3     4.0  964981247\n",
       "2       1        6     4.0  964982224\n",
       "3       1       47     5.0  964983815\n",
       "4       1       50     5.0  964982931"
      ]
     },
     "execution_count": 24,
     "metadata": {},
     "output_type": "execute_result"
    }
   ],
   "source": [
    "ratings.head()"
   ]
  },
  {
   "cell_type": "code",
   "execution_count": 25,
   "metadata": {},
   "outputs": [
    {
     "data": {
      "text/html": [
       "<div>\n",
       "<style scoped>\n",
       "    .dataframe tbody tr th:only-of-type {\n",
       "        vertical-align: middle;\n",
       "    }\n",
       "\n",
       "    .dataframe tbody tr th {\n",
       "        vertical-align: top;\n",
       "    }\n",
       "\n",
       "    .dataframe thead th {\n",
       "        text-align: right;\n",
       "    }\n",
       "</style>\n",
       "<table border=\"1\" class=\"dataframe\">\n",
       "  <thead>\n",
       "    <tr style=\"text-align: right;\">\n",
       "      <th></th>\n",
       "      <th>userId</th>\n",
       "      <th>rating</th>\n",
       "    </tr>\n",
       "  </thead>\n",
       "  <tbody>\n",
       "    <tr>\n",
       "      <th>0</th>\n",
       "      <td>1</td>\n",
       "      <td>4.366379</td>\n",
       "    </tr>\n",
       "    <tr>\n",
       "      <th>1</th>\n",
       "      <td>2</td>\n",
       "      <td>3.948276</td>\n",
       "    </tr>\n",
       "    <tr>\n",
       "      <th>2</th>\n",
       "      <td>3</td>\n",
       "      <td>2.435897</td>\n",
       "    </tr>\n",
       "    <tr>\n",
       "      <th>3</th>\n",
       "      <td>4</td>\n",
       "      <td>3.555556</td>\n",
       "    </tr>\n",
       "    <tr>\n",
       "      <th>4</th>\n",
       "      <td>5</td>\n",
       "      <td>3.636364</td>\n",
       "    </tr>\n",
       "  </tbody>\n",
       "</table>\n",
       "</div>"
      ],
      "text/plain": [
       "   userId    rating\n",
       "0       1  4.366379\n",
       "1       2  3.948276\n",
       "2       3  2.435897\n",
       "3       4  3.555556\n",
       "4       5  3.636364"
      ]
     },
     "execution_count": 25,
     "metadata": {},
     "output_type": "execute_result"
    }
   ],
   "source": [
    "df = ratings.groupby(['userId']).agg({'rating': 'mean'}).reset_index()\n",
    "df.head()"
   ]
  },
  {
   "cell_type": "code",
   "execution_count": 26,
   "metadata": {},
   "outputs": [],
   "source": [
    "### Теперь средний рейтинг нужно обратно добавить в ratings, чтобы потом соединить с movies_with_tags по movieId"
   ]
  },
  {
   "cell_type": "code",
   "execution_count": 27,
   "metadata": {},
   "outputs": [],
   "source": [
    "ratings = pd.DataFrame.merge(ratings, df, on='userId')"
   ]
  },
  {
   "cell_type": "code",
   "execution_count": 28,
   "metadata": {},
   "outputs": [],
   "source": [
    "ratings.rename(columns={'rating_x': 'rating', 'rating_y': 'avg_user_rating' }, inplace=True)"
   ]
  },
  {
   "cell_type": "code",
   "execution_count": 29,
   "metadata": {},
   "outputs": [
    {
     "data": {
      "text/html": [
       "<div>\n",
       "<style scoped>\n",
       "    .dataframe tbody tr th:only-of-type {\n",
       "        vertical-align: middle;\n",
       "    }\n",
       "\n",
       "    .dataframe tbody tr th {\n",
       "        vertical-align: top;\n",
       "    }\n",
       "\n",
       "    .dataframe thead th {\n",
       "        text-align: right;\n",
       "    }\n",
       "</style>\n",
       "<table border=\"1\" class=\"dataframe\">\n",
       "  <thead>\n",
       "    <tr style=\"text-align: right;\">\n",
       "      <th></th>\n",
       "      <th>userId</th>\n",
       "      <th>movieId</th>\n",
       "      <th>rating</th>\n",
       "      <th>timestamp</th>\n",
       "      <th>avg_user_rating</th>\n",
       "    </tr>\n",
       "  </thead>\n",
       "  <tbody>\n",
       "    <tr>\n",
       "      <th>0</th>\n",
       "      <td>1</td>\n",
       "      <td>1</td>\n",
       "      <td>4.0</td>\n",
       "      <td>964982703</td>\n",
       "      <td>4.366379</td>\n",
       "    </tr>\n",
       "    <tr>\n",
       "      <th>1</th>\n",
       "      <td>1</td>\n",
       "      <td>3</td>\n",
       "      <td>4.0</td>\n",
       "      <td>964981247</td>\n",
       "      <td>4.366379</td>\n",
       "    </tr>\n",
       "    <tr>\n",
       "      <th>2</th>\n",
       "      <td>1</td>\n",
       "      <td>6</td>\n",
       "      <td>4.0</td>\n",
       "      <td>964982224</td>\n",
       "      <td>4.366379</td>\n",
       "    </tr>\n",
       "    <tr>\n",
       "      <th>3</th>\n",
       "      <td>1</td>\n",
       "      <td>47</td>\n",
       "      <td>5.0</td>\n",
       "      <td>964983815</td>\n",
       "      <td>4.366379</td>\n",
       "    </tr>\n",
       "    <tr>\n",
       "      <th>4</th>\n",
       "      <td>1</td>\n",
       "      <td>50</td>\n",
       "      <td>5.0</td>\n",
       "      <td>964982931</td>\n",
       "      <td>4.366379</td>\n",
       "    </tr>\n",
       "    <tr>\n",
       "      <th>5</th>\n",
       "      <td>1</td>\n",
       "      <td>70</td>\n",
       "      <td>3.0</td>\n",
       "      <td>964982400</td>\n",
       "      <td>4.366379</td>\n",
       "    </tr>\n",
       "    <tr>\n",
       "      <th>6</th>\n",
       "      <td>1</td>\n",
       "      <td>101</td>\n",
       "      <td>5.0</td>\n",
       "      <td>964980868</td>\n",
       "      <td>4.366379</td>\n",
       "    </tr>\n",
       "    <tr>\n",
       "      <th>7</th>\n",
       "      <td>1</td>\n",
       "      <td>110</td>\n",
       "      <td>4.0</td>\n",
       "      <td>964982176</td>\n",
       "      <td>4.366379</td>\n",
       "    </tr>\n",
       "    <tr>\n",
       "      <th>8</th>\n",
       "      <td>1</td>\n",
       "      <td>151</td>\n",
       "      <td>5.0</td>\n",
       "      <td>964984041</td>\n",
       "      <td>4.366379</td>\n",
       "    </tr>\n",
       "    <tr>\n",
       "      <th>9</th>\n",
       "      <td>1</td>\n",
       "      <td>157</td>\n",
       "      <td>5.0</td>\n",
       "      <td>964984100</td>\n",
       "      <td>4.366379</td>\n",
       "    </tr>\n",
       "  </tbody>\n",
       "</table>\n",
       "</div>"
      ],
      "text/plain": [
       "   userId  movieId  rating  timestamp  avg_user_rating\n",
       "0       1        1     4.0  964982703         4.366379\n",
       "1       1        3     4.0  964981247         4.366379\n",
       "2       1        6     4.0  964982224         4.366379\n",
       "3       1       47     5.0  964983815         4.366379\n",
       "4       1       50     5.0  964982931         4.366379\n",
       "5       1       70     3.0  964982400         4.366379\n",
       "6       1      101     5.0  964980868         4.366379\n",
       "7       1      110     4.0  964982176         4.366379\n",
       "8       1      151     5.0  964984041         4.366379\n",
       "9       1      157     5.0  964984100         4.366379"
      ]
     },
     "execution_count": 29,
     "metadata": {},
     "output_type": "execute_result"
    }
   ],
   "source": [
    "ratings.head(10)"
   ]
  },
  {
   "cell_type": "code",
   "execution_count": 30,
   "metadata": {},
   "outputs": [
    {
     "data": {
      "text/html": [
       "<div>\n",
       "<style scoped>\n",
       "    .dataframe tbody tr th:only-of-type {\n",
       "        vertical-align: middle;\n",
       "    }\n",
       "\n",
       "    .dataframe tbody tr th {\n",
       "        vertical-align: top;\n",
       "    }\n",
       "\n",
       "    .dataframe thead th {\n",
       "        text-align: right;\n",
       "    }\n",
       "</style>\n",
       "<table border=\"1\" class=\"dataframe\">\n",
       "  <thead>\n",
       "    <tr style=\"text-align: right;\">\n",
       "      <th></th>\n",
       "      <th>userId_x</th>\n",
       "      <th>movieId</th>\n",
       "      <th>rating</th>\n",
       "      <th>timestamp_x</th>\n",
       "      <th>avg_user_rating</th>\n",
       "      <th>title</th>\n",
       "      <th>userId_y</th>\n",
       "      <th>timestamp_y</th>\n",
       "      <th>tags_genres</th>\n",
       "    </tr>\n",
       "  </thead>\n",
       "  <tbody>\n",
       "    <tr>\n",
       "      <th>0</th>\n",
       "      <td>1</td>\n",
       "      <td>1</td>\n",
       "      <td>4.0</td>\n",
       "      <td>964982703</td>\n",
       "      <td>4.366379</td>\n",
       "      <td>Toy Story (1995)</td>\n",
       "      <td>336.0</td>\n",
       "      <td>1.139046e+09</td>\n",
       "      <td>Adventure Animation Children Comedy Fantasy pi...</td>\n",
       "    </tr>\n",
       "    <tr>\n",
       "      <th>1</th>\n",
       "      <td>1</td>\n",
       "      <td>1</td>\n",
       "      <td>4.0</td>\n",
       "      <td>964982703</td>\n",
       "      <td>4.366379</td>\n",
       "      <td>Toy Story (1995)</td>\n",
       "      <td>474.0</td>\n",
       "      <td>1.137207e+09</td>\n",
       "      <td>Adventure Animation Children Comedy Fantasy pi...</td>\n",
       "    </tr>\n",
       "    <tr>\n",
       "      <th>2</th>\n",
       "      <td>1</td>\n",
       "      <td>1</td>\n",
       "      <td>4.0</td>\n",
       "      <td>964982703</td>\n",
       "      <td>4.366379</td>\n",
       "      <td>Toy Story (1995)</td>\n",
       "      <td>567.0</td>\n",
       "      <td>1.525286e+09</td>\n",
       "      <td>Adventure Animation Children Comedy Fantasy pi...</td>\n",
       "    </tr>\n",
       "    <tr>\n",
       "      <th>3</th>\n",
       "      <td>5</td>\n",
       "      <td>1</td>\n",
       "      <td>4.0</td>\n",
       "      <td>847434962</td>\n",
       "      <td>3.636364</td>\n",
       "      <td>Toy Story (1995)</td>\n",
       "      <td>336.0</td>\n",
       "      <td>1.139046e+09</td>\n",
       "      <td>Adventure Animation Children Comedy Fantasy pi...</td>\n",
       "    </tr>\n",
       "    <tr>\n",
       "      <th>4</th>\n",
       "      <td>5</td>\n",
       "      <td>1</td>\n",
       "      <td>4.0</td>\n",
       "      <td>847434962</td>\n",
       "      <td>3.636364</td>\n",
       "      <td>Toy Story (1995)</td>\n",
       "      <td>474.0</td>\n",
       "      <td>1.137207e+09</td>\n",
       "      <td>Adventure Animation Children Comedy Fantasy pi...</td>\n",
       "    </tr>\n",
       "  </tbody>\n",
       "</table>\n",
       "</div>"
      ],
      "text/plain": [
       "   userId_x  movieId  rating  timestamp_x  avg_user_rating             title  \\\n",
       "0         1        1     4.0    964982703         4.366379  Toy Story (1995)   \n",
       "1         1        1     4.0    964982703         4.366379  Toy Story (1995)   \n",
       "2         1        1     4.0    964982703         4.366379  Toy Story (1995)   \n",
       "3         5        1     4.0    847434962         3.636364  Toy Story (1995)   \n",
       "4         5        1     4.0    847434962         3.636364  Toy Story (1995)   \n",
       "\n",
       "   userId_y   timestamp_y                                        tags_genres  \n",
       "0     336.0  1.139046e+09  Adventure Animation Children Comedy Fantasy pi...  \n",
       "1     474.0  1.137207e+09  Adventure Animation Children Comedy Fantasy pi...  \n",
       "2     567.0  1.525286e+09  Adventure Animation Children Comedy Fantasy pi...  \n",
       "3     336.0  1.139046e+09  Adventure Animation Children Comedy Fantasy pi...  \n",
       "4     474.0  1.137207e+09  Adventure Animation Children Comedy Fantasy pi...  "
      ]
     },
     "execution_count": 30,
     "metadata": {},
     "output_type": "execute_result"
    }
   ],
   "source": [
    "ratings = pd.DataFrame.merge(ratings, movies_with_tags, on=['movieId'])\n",
    "ratings.head()"
   ]
  },
  {
   "cell_type": "code",
   "execution_count": 31,
   "metadata": {},
   "outputs": [
    {
     "data": {
      "text/html": [
       "<div>\n",
       "<style scoped>\n",
       "    .dataframe tbody tr th:only-of-type {\n",
       "        vertical-align: middle;\n",
       "    }\n",
       "\n",
       "    .dataframe tbody tr th {\n",
       "        vertical-align: top;\n",
       "    }\n",
       "\n",
       "    .dataframe thead th {\n",
       "        text-align: right;\n",
       "    }\n",
       "</style>\n",
       "<table border=\"1\" class=\"dataframe\">\n",
       "  <thead>\n",
       "    <tr style=\"text-align: right;\">\n",
       "      <th></th>\n",
       "      <th>userId</th>\n",
       "      <th>movieId</th>\n",
       "      <th>rating</th>\n",
       "      <th>timestamp_rating</th>\n",
       "      <th>avg_user_rating</th>\n",
       "      <th>title</th>\n",
       "      <th>tags_genres</th>\n",
       "    </tr>\n",
       "  </thead>\n",
       "  <tbody>\n",
       "    <tr>\n",
       "      <th>0</th>\n",
       "      <td>1</td>\n",
       "      <td>1</td>\n",
       "      <td>4.0</td>\n",
       "      <td>964982703</td>\n",
       "      <td>4.366379</td>\n",
       "      <td>Toy Story (1995)</td>\n",
       "      <td>Adventure Animation Children Comedy Fantasy pi...</td>\n",
       "    </tr>\n",
       "    <tr>\n",
       "      <th>1</th>\n",
       "      <td>1</td>\n",
       "      <td>1</td>\n",
       "      <td>4.0</td>\n",
       "      <td>964982703</td>\n",
       "      <td>4.366379</td>\n",
       "      <td>Toy Story (1995)</td>\n",
       "      <td>Adventure Animation Children Comedy Fantasy pi...</td>\n",
       "    </tr>\n",
       "    <tr>\n",
       "      <th>2</th>\n",
       "      <td>1</td>\n",
       "      <td>1</td>\n",
       "      <td>4.0</td>\n",
       "      <td>964982703</td>\n",
       "      <td>4.366379</td>\n",
       "      <td>Toy Story (1995)</td>\n",
       "      <td>Adventure Animation Children Comedy Fantasy pi...</td>\n",
       "    </tr>\n",
       "    <tr>\n",
       "      <th>3</th>\n",
       "      <td>5</td>\n",
       "      <td>1</td>\n",
       "      <td>4.0</td>\n",
       "      <td>847434962</td>\n",
       "      <td>3.636364</td>\n",
       "      <td>Toy Story (1995)</td>\n",
       "      <td>Adventure Animation Children Comedy Fantasy pi...</td>\n",
       "    </tr>\n",
       "    <tr>\n",
       "      <th>4</th>\n",
       "      <td>5</td>\n",
       "      <td>1</td>\n",
       "      <td>4.0</td>\n",
       "      <td>847434962</td>\n",
       "      <td>3.636364</td>\n",
       "      <td>Toy Story (1995)</td>\n",
       "      <td>Adventure Animation Children Comedy Fantasy pi...</td>\n",
       "    </tr>\n",
       "  </tbody>\n",
       "</table>\n",
       "</div>"
      ],
      "text/plain": [
       "   userId  movieId  rating  timestamp_rating  avg_user_rating  \\\n",
       "0       1        1     4.0         964982703         4.366379   \n",
       "1       1        1     4.0         964982703         4.366379   \n",
       "2       1        1     4.0         964982703         4.366379   \n",
       "3       5        1     4.0         847434962         3.636364   \n",
       "4       5        1     4.0         847434962         3.636364   \n",
       "\n",
       "              title                                        tags_genres  \n",
       "0  Toy Story (1995)  Adventure Animation Children Comedy Fantasy pi...  \n",
       "1  Toy Story (1995)  Adventure Animation Children Comedy Fantasy pi...  \n",
       "2  Toy Story (1995)  Adventure Animation Children Comedy Fantasy pi...  \n",
       "3  Toy Story (1995)  Adventure Animation Children Comedy Fantasy pi...  \n",
       "4  Toy Story (1995)  Adventure Animation Children Comedy Fantasy pi...  "
      ]
     },
     "execution_count": 31,
     "metadata": {},
     "output_type": "execute_result"
    }
   ],
   "source": [
    "#переименуем столбцы\n",
    "ratings.rename(columns={'userId_x': 'userId', 'timestamp_x': 'timestamp_rating'}, inplace=True)\n",
    "ratings.drop(['userId_y', 'timestamp_y'], axis=1, inplace=True)\n",
    "ratings.head()"
   ]
  },
  {
   "cell_type": "markdown",
   "metadata": {},
   "source": [
    "### Средняя оценка за фильм"
   ]
  },
  {
   "cell_type": "code",
   "execution_count": 32,
   "metadata": {},
   "outputs": [
    {
     "data": {
      "text/html": [
       "<div>\n",
       "<style scoped>\n",
       "    .dataframe tbody tr th:only-of-type {\n",
       "        vertical-align: middle;\n",
       "    }\n",
       "\n",
       "    .dataframe tbody tr th {\n",
       "        vertical-align: top;\n",
       "    }\n",
       "\n",
       "    .dataframe thead th {\n",
       "        text-align: right;\n",
       "    }\n",
       "</style>\n",
       "<table border=\"1\" class=\"dataframe\">\n",
       "  <thead>\n",
       "    <tr style=\"text-align: right;\">\n",
       "      <th></th>\n",
       "      <th>movieId</th>\n",
       "      <th>rating</th>\n",
       "    </tr>\n",
       "  </thead>\n",
       "  <tbody>\n",
       "    <tr>\n",
       "      <th>0</th>\n",
       "      <td>1</td>\n",
       "      <td>3.920930</td>\n",
       "    </tr>\n",
       "    <tr>\n",
       "      <th>1</th>\n",
       "      <td>2</td>\n",
       "      <td>3.431818</td>\n",
       "    </tr>\n",
       "    <tr>\n",
       "      <th>2</th>\n",
       "      <td>3</td>\n",
       "      <td>3.259615</td>\n",
       "    </tr>\n",
       "    <tr>\n",
       "      <th>3</th>\n",
       "      <td>4</td>\n",
       "      <td>2.357143</td>\n",
       "    </tr>\n",
       "    <tr>\n",
       "      <th>4</th>\n",
       "      <td>5</td>\n",
       "      <td>3.071429</td>\n",
       "    </tr>\n",
       "  </tbody>\n",
       "</table>\n",
       "</div>"
      ],
      "text/plain": [
       "   movieId    rating\n",
       "0        1  3.920930\n",
       "1        2  3.431818\n",
       "2        3  3.259615\n",
       "3        4  2.357143\n",
       "4        5  3.071429"
      ]
     },
     "execution_count": 32,
     "metadata": {},
     "output_type": "execute_result"
    }
   ],
   "source": [
    "df = ratings.groupby('movieId').agg({'rating': 'mean'}).reset_index()\n",
    "df.head()"
   ]
  },
  {
   "cell_type": "code",
   "execution_count": 33,
   "metadata": {},
   "outputs": [],
   "source": [
    "ratings = ratings.merge(df, on='movieId')\n",
    "ratings.rename(columns={'rating_y': 'avg_movie_ratings'}, inplace=True)"
   ]
  },
  {
   "cell_type": "code",
   "execution_count": 34,
   "metadata": {},
   "outputs": [
    {
     "data": {
      "text/html": [
       "<div>\n",
       "<style scoped>\n",
       "    .dataframe tbody tr th:only-of-type {\n",
       "        vertical-align: middle;\n",
       "    }\n",
       "\n",
       "    .dataframe tbody tr th {\n",
       "        vertical-align: top;\n",
       "    }\n",
       "\n",
       "    .dataframe thead th {\n",
       "        text-align: right;\n",
       "    }\n",
       "</style>\n",
       "<table border=\"1\" class=\"dataframe\">\n",
       "  <thead>\n",
       "    <tr style=\"text-align: right;\">\n",
       "      <th></th>\n",
       "      <th>userId</th>\n",
       "      <th>movieId</th>\n",
       "      <th>rating_x</th>\n",
       "      <th>timestamp_rating</th>\n",
       "      <th>avg_user_rating</th>\n",
       "      <th>title</th>\n",
       "      <th>tags_genres</th>\n",
       "      <th>avg_movie_ratings</th>\n",
       "    </tr>\n",
       "  </thead>\n",
       "  <tbody>\n",
       "    <tr>\n",
       "      <th>0</th>\n",
       "      <td>1</td>\n",
       "      <td>1</td>\n",
       "      <td>4.0</td>\n",
       "      <td>964982703</td>\n",
       "      <td>4.366379</td>\n",
       "      <td>Toy Story (1995)</td>\n",
       "      <td>Adventure Animation Children Comedy Fantasy pi...</td>\n",
       "      <td>3.92093</td>\n",
       "    </tr>\n",
       "    <tr>\n",
       "      <th>1</th>\n",
       "      <td>1</td>\n",
       "      <td>1</td>\n",
       "      <td>4.0</td>\n",
       "      <td>964982703</td>\n",
       "      <td>4.366379</td>\n",
       "      <td>Toy Story (1995)</td>\n",
       "      <td>Adventure Animation Children Comedy Fantasy pi...</td>\n",
       "      <td>3.92093</td>\n",
       "    </tr>\n",
       "    <tr>\n",
       "      <th>2</th>\n",
       "      <td>1</td>\n",
       "      <td>1</td>\n",
       "      <td>4.0</td>\n",
       "      <td>964982703</td>\n",
       "      <td>4.366379</td>\n",
       "      <td>Toy Story (1995)</td>\n",
       "      <td>Adventure Animation Children Comedy Fantasy pi...</td>\n",
       "      <td>3.92093</td>\n",
       "    </tr>\n",
       "    <tr>\n",
       "      <th>3</th>\n",
       "      <td>5</td>\n",
       "      <td>1</td>\n",
       "      <td>4.0</td>\n",
       "      <td>847434962</td>\n",
       "      <td>3.636364</td>\n",
       "      <td>Toy Story (1995)</td>\n",
       "      <td>Adventure Animation Children Comedy Fantasy pi...</td>\n",
       "      <td>3.92093</td>\n",
       "    </tr>\n",
       "    <tr>\n",
       "      <th>4</th>\n",
       "      <td>5</td>\n",
       "      <td>1</td>\n",
       "      <td>4.0</td>\n",
       "      <td>847434962</td>\n",
       "      <td>3.636364</td>\n",
       "      <td>Toy Story (1995)</td>\n",
       "      <td>Adventure Animation Children Comedy Fantasy pi...</td>\n",
       "      <td>3.92093</td>\n",
       "    </tr>\n",
       "  </tbody>\n",
       "</table>\n",
       "</div>"
      ],
      "text/plain": [
       "   userId  movieId  rating_x  timestamp_rating  avg_user_rating  \\\n",
       "0       1        1       4.0         964982703         4.366379   \n",
       "1       1        1       4.0         964982703         4.366379   \n",
       "2       1        1       4.0         964982703         4.366379   \n",
       "3       5        1       4.0         847434962         3.636364   \n",
       "4       5        1       4.0         847434962         3.636364   \n",
       "\n",
       "              title                                        tags_genres  \\\n",
       "0  Toy Story (1995)  Adventure Animation Children Comedy Fantasy pi...   \n",
       "1  Toy Story (1995)  Adventure Animation Children Comedy Fantasy pi...   \n",
       "2  Toy Story (1995)  Adventure Animation Children Comedy Fantasy pi...   \n",
       "3  Toy Story (1995)  Adventure Animation Children Comedy Fantasy pi...   \n",
       "4  Toy Story (1995)  Adventure Animation Children Comedy Fantasy pi...   \n",
       "\n",
       "   avg_movie_ratings  \n",
       "0            3.92093  \n",
       "1            3.92093  \n",
       "2            3.92093  \n",
       "3            3.92093  \n",
       "4            3.92093  "
      ]
     },
     "execution_count": 34,
<<<<<<< HEAD:ML/Section 2. Recomendation systems/Lesson 2. Рекомендации на основе содержания/Untitled.ipynb
     "metadata": {},
     "output_type": "execute_result"
    }
   ],
   "source": [
    "ratings.head()"
   ]
  },
  {
   "cell_type": "code",
   "execution_count": 35,
   "metadata": {},
   "outputs": [],
   "source": [
    "ratings.drop_duplicates(inplace=True)"
   ]
  },
  {
   "cell_type": "code",
   "execution_count": 36,
   "metadata": {},
   "outputs": [
    {
     "data": {
      "text/html": [
       "<div>\n",
       "<style scoped>\n",
       "    .dataframe tbody tr th:only-of-type {\n",
       "        vertical-align: middle;\n",
       "    }\n",
       "\n",
       "    .dataframe tbody tr th {\n",
       "        vertical-align: top;\n",
       "    }\n",
       "\n",
       "    .dataframe thead th {\n",
       "        text-align: right;\n",
       "    }\n",
       "</style>\n",
       "<table border=\"1\" class=\"dataframe\">\n",
       "  <thead>\n",
       "    <tr style=\"text-align: right;\">\n",
       "      <th></th>\n",
       "      <th>userId</th>\n",
       "      <th>movieId</th>\n",
       "      <th>rating_x</th>\n",
       "      <th>timestamp_rating</th>\n",
       "      <th>avg_user_rating</th>\n",
       "      <th>title</th>\n",
       "      <th>tags_genres</th>\n",
       "      <th>avg_movie_ratings</th>\n",
       "    </tr>\n",
       "  </thead>\n",
       "  <tbody>\n",
       "    <tr>\n",
       "      <th>0</th>\n",
       "      <td>1</td>\n",
       "      <td>1</td>\n",
       "      <td>4.0</td>\n",
       "      <td>964982703</td>\n",
       "      <td>4.366379</td>\n",
       "      <td>Toy Story (1995)</td>\n",
       "      <td>Adventure Animation Children Comedy Fantasy pi...</td>\n",
       "      <td>3.92093</td>\n",
       "    </tr>\n",
       "    <tr>\n",
       "      <th>3</th>\n",
       "      <td>5</td>\n",
       "      <td>1</td>\n",
       "      <td>4.0</td>\n",
       "      <td>847434962</td>\n",
       "      <td>3.636364</td>\n",
       "      <td>Toy Story (1995)</td>\n",
       "      <td>Adventure Animation Children Comedy Fantasy pi...</td>\n",
       "      <td>3.92093</td>\n",
       "    </tr>\n",
       "    <tr>\n",
       "      <th>6</th>\n",
       "      <td>7</td>\n",
       "      <td>1</td>\n",
       "      <td>4.5</td>\n",
       "      <td>1106635946</td>\n",
       "      <td>3.230263</td>\n",
       "      <td>Toy Story (1995)</td>\n",
       "      <td>Adventure Animation Children Comedy Fantasy pi...</td>\n",
       "      <td>3.92093</td>\n",
       "    </tr>\n",
       "    <tr>\n",
       "      <th>9</th>\n",
       "      <td>15</td>\n",
       "      <td>1</td>\n",
       "      <td>2.5</td>\n",
       "      <td>1510577970</td>\n",
       "      <td>3.448148</td>\n",
       "      <td>Toy Story (1995)</td>\n",
       "      <td>Adventure Animation Children Comedy Fantasy pi...</td>\n",
       "      <td>3.92093</td>\n",
       "    </tr>\n",
       "    <tr>\n",
       "      <th>12</th>\n",
       "      <td>17</td>\n",
       "      <td>1</td>\n",
       "      <td>4.5</td>\n",
       "      <td>1305696483</td>\n",
       "      <td>4.209524</td>\n",
       "      <td>Toy Story (1995)</td>\n",
       "      <td>Adventure Animation Children Comedy Fantasy pi...</td>\n",
       "      <td>3.92093</td>\n",
       "    </tr>\n",
       "  </tbody>\n",
       "</table>\n",
       "</div>"
      ],
      "text/plain": [
       "    userId  movieId  rating_x  timestamp_rating  avg_user_rating  \\\n",
       "0        1        1       4.0         964982703         4.366379   \n",
       "3        5        1       4.0         847434962         3.636364   \n",
       "6        7        1       4.5        1106635946         3.230263   \n",
       "9       15        1       2.5        1510577970         3.448148   \n",
       "12      17        1       4.5        1305696483         4.209524   \n",
       "\n",
       "               title                                        tags_genres  \\\n",
       "0   Toy Story (1995)  Adventure Animation Children Comedy Fantasy pi...   \n",
       "3   Toy Story (1995)  Adventure Animation Children Comedy Fantasy pi...   \n",
       "6   Toy Story (1995)  Adventure Animation Children Comedy Fantasy pi...   \n",
       "9   Toy Story (1995)  Adventure Animation Children Comedy Fantasy pi...   \n",
       "12  Toy Story (1995)  Adventure Animation Children Comedy Fantasy pi...   \n",
       "\n",
       "    avg_movie_ratings  \n",
       "0             3.92093  \n",
       "3             3.92093  \n",
       "6             3.92093  \n",
       "9             3.92093  \n",
       "12            3.92093  "
      ]
     },
     "execution_count": 36,
=======
>>>>>>> 17e33bfda7e3d0483cdd9afd457f60f7b32f4b49:Машинное обучение - фундаментальные инструменты и практики/Section 2. Recomendation systems/Lesson 2. Рекомендации на основе содержания/Untitled.ipynb
     "metadata": {},
     "output_type": "execute_result"
    }
   ],
   "source": [
    "ratings.head()"
   ]
  },
  {
   "cell_type": "markdown",
   "metadata": {},
   "source": [
    "### Надём id самого активного пользователя"
   ]
  },
  {
   "cell_type": "code",
<<<<<<< HEAD:ML/Section 2. Recomendation systems/Lesson 2. Рекомендации на основе содержания/Untitled.ipynb
   "execution_count": 37,
=======
   "execution_count": 35,
>>>>>>> 17e33bfda7e3d0483cdd9afd457f60f7b32f4b49:Машинное обучение - фундаментальные инструменты и практики/Section 2. Recomendation systems/Lesson 2. Рекомендации на основе содержания/Untitled.ipynb
   "metadata": {},
   "outputs": [
    {
     "data": {
      "text/plain": [
       "414    2698\n",
       "599    2478\n",
       "474    2108\n",
       "Name: userId, dtype: int64"
      ]
     },
<<<<<<< HEAD:ML/Section 2. Recomendation systems/Lesson 2. Рекомендации на основе содержания/Untitled.ipynb
     "execution_count": 37,
=======
     "execution_count": 35,
>>>>>>> 17e33bfda7e3d0483cdd9afd457f60f7b32f4b49:Машинное обучение - фундаментальные инструменты и практики/Section 2. Recomendation systems/Lesson 2. Рекомендации на основе содержания/Untitled.ipynb
     "metadata": {},
     "output_type": "execute_result"
    }
   ],
   "source": [
    "ratings.userId.value_counts().head(3)"
   ]
  },
  {
   "cell_type": "code",
<<<<<<< HEAD:ML/Section 2. Recomendation systems/Lesson 2. Рекомендации на основе содержания/Untitled.ipynb
   "execution_count": 38,
=======
   "execution_count": 36,
>>>>>>> 17e33bfda7e3d0483cdd9afd457f60f7b32f4b49:Машинное обучение - фундаментальные инструменты и практики/Section 2. Recomendation systems/Lesson 2. Рекомендации на основе содержания/Untitled.ipynb
   "metadata": {},
   "outputs": [
    {
     "data": {
      "text/html": [
       "<div>\n",
       "<style scoped>\n",
       "    .dataframe tbody tr th:only-of-type {\n",
       "        vertical-align: middle;\n",
       "    }\n",
       "\n",
       "    .dataframe tbody tr th {\n",
       "        vertical-align: top;\n",
       "    }\n",
       "\n",
       "    .dataframe thead th {\n",
       "        text-align: right;\n",
       "    }\n",
       "</style>\n",
       "<table border=\"1\" class=\"dataframe\">\n",
       "  <thead>\n",
       "    <tr style=\"text-align: right;\">\n",
       "      <th></th>\n",
       "      <th>userId</th>\n",
       "      <th>movieId</th>\n",
       "      <th>rating_x</th>\n",
       "      <th>timestamp_rating</th>\n",
       "      <th>avg_user_rating</th>\n",
       "      <th>title</th>\n",
       "      <th>tags_genres</th>\n",
       "      <th>avg_movie_ratings</th>\n",
       "    </tr>\n",
       "  </thead>\n",
       "  <tbody>\n",
       "    <tr>\n",
       "      <th>438</th>\n",
       "      <td>414</td>\n",
       "      <td>1</td>\n",
       "      <td>4.0</td>\n",
       "      <td>961438127</td>\n",
       "      <td>3.391957</td>\n",
       "      <td>Toy Story (1995)</td>\n",
       "      <td>Adventure Animation Children Comedy Fantasy pi...</td>\n",
       "      <td>3.920930</td>\n",
       "    </tr>\n",
       "    <tr>\n",
       "      <th>717</th>\n",
       "      <td>414</td>\n",
       "      <td>3</td>\n",
       "      <td>4.0</td>\n",
       "      <td>961439278</td>\n",
       "      <td>3.391957</td>\n",
       "      <td>Grumpier Old Men (1995)</td>\n",
       "      <td>Comedy Romance moldy old</td>\n",
       "      <td>3.259615</td>\n",
       "    </tr>\n",
       "    <tr>\n",
       "      <th>818</th>\n",
       "      <td>414</td>\n",
       "      <td>6</td>\n",
       "      <td>3.0</td>\n",
       "      <td>961515642</td>\n",
       "      <td>3.391957</td>\n",
       "      <td>Heat (1995)</td>\n",
       "      <td>Action Crime Thriller</td>\n",
       "      <td>3.946078</td>\n",
       "    </tr>\n",
       "    <tr>\n",
       "      <th>1277</th>\n",
       "      <td>414</td>\n",
       "      <td>47</td>\n",
       "      <td>4.0</td>\n",
       "      <td>961681857</td>\n",
       "      <td>3.391957</td>\n",
       "      <td>Seven (a.k.a. Se7en) (1995)</td>\n",
       "      <td>Mystery Thriller mystery twistending serialkiller</td>\n",
       "      <td>3.975369</td>\n",
       "    </tr>\n",
       "    <tr>\n",
       "      <th>2330</th>\n",
       "      <td>414</td>\n",
       "      <td>50</td>\n",
       "      <td>5.0</td>\n",
       "      <td>961681714</td>\n",
       "      <td>3.391957</td>\n",
       "      <td>Usual Suspects, The (1995)</td>\n",
       "      <td>Crime Mystery Thriller mindfuck suspense thril...</td>\n",
       "      <td>4.237745</td>\n",
       "    </tr>\n",
       "  </tbody>\n",
       "</table>\n",
       "</div>"
      ],
      "text/plain": [
       "      userId  movieId  rating_x  timestamp_rating  avg_user_rating  \\\n",
       "438      414        1       4.0         961438127         3.391957   \n",
       "717      414        3       4.0         961439278         3.391957   \n",
       "818      414        6       3.0         961515642         3.391957   \n",
       "1277     414       47       4.0         961681857         3.391957   \n",
       "2330     414       50       5.0         961681714         3.391957   \n",
       "\n",
       "                            title  \\\n",
       "438              Toy Story (1995)   \n",
       "717       Grumpier Old Men (1995)   \n",
       "818                   Heat (1995)   \n",
       "1277  Seven (a.k.a. Se7en) (1995)   \n",
       "2330   Usual Suspects, The (1995)   \n",
       "\n",
       "                                            tags_genres  avg_movie_ratings  \n",
       "438   Adventure Animation Children Comedy Fantasy pi...           3.920930  \n",
       "717                            Comedy Romance moldy old           3.259615  \n",
       "818                              Action Crime Thriller            3.946078  \n",
       "1277  Mystery Thriller mystery twistending serialkiller           3.975369  \n",
       "2330  Crime Mystery Thriller mindfuck suspense thril...           4.237745  "
      ]
     },
<<<<<<< HEAD:ML/Section 2. Recomendation systems/Lesson 2. Рекомендации на основе содержания/Untitled.ipynb
     "execution_count": 38,
=======
     "execution_count": 36,
>>>>>>> 17e33bfda7e3d0483cdd9afd457f60f7b32f4b49:Машинное обучение - фундаментальные инструменты и практики/Section 2. Recomendation systems/Lesson 2. Рекомендации на основе содержания/Untitled.ipynb
     "metadata": {},
     "output_type": "execute_result"
    }
   ],
   "source": [
    "ratings[ratings.userId == 414].head()"
   ]
  },
  {
   "cell_type": "code",
<<<<<<< HEAD:ML/Section 2. Recomendation systems/Lesson 2. Рекомендации на основе содержания/Untitled.ipynb
   "execution_count": 39,
=======
   "execution_count": 37,
>>>>>>> 17e33bfda7e3d0483cdd9afd457f60f7b32f4b49:Машинное обучение - фундаментальные инструменты и практики/Section 2. Recomendation systems/Lesson 2. Рекомендации на основе содержания/Untitled.ipynb
   "metadata": {},
   "outputs": [],
   "source": [
    "user_fav_movies = ratings[(ratings.userId == 414) & (ratings.rating_x == 5)]"
   ]
  },
  {
   "cell_type": "code",
<<<<<<< HEAD:ML/Section 2. Recomendation systems/Lesson 2. Рекомендации на основе содержания/Untitled.ipynb
   "execution_count": 40,
=======
   "execution_count": 38,
>>>>>>> 17e33bfda7e3d0483cdd9afd457f60f7b32f4b49:Машинное обучение - фундаментальные инструменты и практики/Section 2. Recomendation systems/Lesson 2. Рекомендации на основе содержания/Untitled.ipynb
   "metadata": {},
   "outputs": [
    {
     "data": {
      "text/plain": [
       "100836"
      ]
     },
<<<<<<< HEAD:ML/Section 2. Recomendation systems/Lesson 2. Рекомендации на основе содержания/Untitled.ipynb
     "execution_count": 40,
=======
     "execution_count": 38,
>>>>>>> 17e33bfda7e3d0483cdd9afd457f60f7b32f4b49:Машинное обучение - фундаментальные инструменты и практики/Section 2. Recomendation systems/Lesson 2. Рекомендации на основе содержания/Untitled.ipynb
     "metadata": {},
     "output_type": "execute_result"
    }
   ],
   "source": [
    "len(ratings)"
   ]
  },
  {
   "cell_type": "markdown",
   "metadata": {},
   "source": [
    "### Алгоритм\n",
    "1. Определить фильмы, которые пользователь 414 ещё не смотрел\n",
    "2. Обучить модель на всём дата сете\n",
    "3. Рассчитать расстояние от фильмов, который пользователь 414 ещё не смотрел, до фильмов на всём датасете\n",
    "4. Определить фильмы с кратчайшим расстоянием"
   ]
  },
  {
   "cell_type": "markdown",
   "metadata": {},
   "source": [
    "### Фильмы, которые пользователь ещё не смотрел"
   ]
  },
  {
   "cell_type": "code",
<<<<<<< HEAD:ML/Section 2. Recomendation systems/Lesson 2. Рекомендации на основе содержания/Untitled.ipynb
   "execution_count": 41,
=======
   "execution_count": 39,
>>>>>>> 17e33bfda7e3d0483cdd9afd457f60f7b32f4b49:Машинное обучение - фундаментальные инструменты и практики/Section 2. Recomendation systems/Lesson 2. Рекомендации на основе содержания/Untitled.ipynb
   "metadata": {},
   "outputs": [],
   "source": [
    "watched_movies_id = ratings.loc[ratings.userId == 414, 'movieId']\n",
    "df = ratings[~ratings['movieId'].isin(watched_movies_id)]"
   ]
  },
  {
   "cell_type": "code",
<<<<<<< HEAD:ML/Section 2. Recomendation systems/Lesson 2. Рекомендации на основе содержания/Untitled.ipynb
   "execution_count": 42,
=======
   "execution_count": 40,
>>>>>>> 17e33bfda7e3d0483cdd9afd457f60f7b32f4b49:Машинное обучение - фундаментальные инструменты и практики/Section 2. Recomendation systems/Lesson 2. Рекомендации на основе содержания/Untitled.ipynb
   "metadata": {},
   "outputs": [
    {
     "data": {
      "text/html": [
       "<div>\n",
       "<style scoped>\n",
       "    .dataframe tbody tr th:only-of-type {\n",
       "        vertical-align: middle;\n",
       "    }\n",
       "\n",
       "    .dataframe tbody tr th {\n",
       "        vertical-align: top;\n",
       "    }\n",
       "\n",
       "    .dataframe thead th {\n",
       "        text-align: right;\n",
       "    }\n",
       "</style>\n",
       "<table border=\"1\" class=\"dataframe\">\n",
       "  <thead>\n",
       "    <tr style=\"text-align: right;\">\n",
       "      <th></th>\n",
       "      <th>userId</th>\n",
       "      <th>movieId</th>\n",
       "      <th>rating_x</th>\n",
       "      <th>timestamp_rating</th>\n",
       "      <th>avg_user_rating</th>\n",
       "      <th>title</th>\n",
       "      <th>tags_genres</th>\n",
       "      <th>avg_movie_ratings</th>\n",
       "    </tr>\n",
       "  </thead>\n",
       "  <tbody>\n",
       "    <tr>\n",
       "      <th>2684</th>\n",
       "      <td>1</td>\n",
       "      <td>70</td>\n",
       "      <td>3.0</td>\n",
       "      <td>964982400</td>\n",
       "      <td>4.366379</td>\n",
       "      <td>From Dusk Till Dawn (1996)</td>\n",
       "      <td>Action Comedy Horror Thriller</td>\n",
       "      <td>3.509091</td>\n",
       "    </tr>\n",
       "    <tr>\n",
       "      <th>2685</th>\n",
       "      <td>18</td>\n",
       "      <td>70</td>\n",
       "      <td>3.5</td>\n",
       "      <td>1455735732</td>\n",
       "      <td>3.732072</td>\n",
       "      <td>From Dusk Till Dawn (1996)</td>\n",
       "      <td>Action Comedy Horror Thriller</td>\n",
       "      <td>3.509091</td>\n",
       "    </tr>\n",
       "    <tr>\n",
       "      <th>2686</th>\n",
       "      <td>19</td>\n",
       "      <td>70</td>\n",
       "      <td>2.0</td>\n",
       "      <td>965704974</td>\n",
       "      <td>2.607397</td>\n",
       "      <td>From Dusk Till Dawn (1996)</td>\n",
       "      <td>Action Comedy Horror Thriller</td>\n",
       "      <td>3.509091</td>\n",
       "    </tr>\n",
       "    <tr>\n",
       "      <th>2687</th>\n",
       "      <td>34</td>\n",
       "      <td>70</td>\n",
       "      <td>3.5</td>\n",
       "      <td>1162048002</td>\n",
       "      <td>3.418605</td>\n",
       "      <td>From Dusk Till Dawn (1996)</td>\n",
       "      <td>Action Comedy Horror Thriller</td>\n",
       "      <td>3.509091</td>\n",
       "    </tr>\n",
       "    <tr>\n",
       "      <th>2688</th>\n",
       "      <td>45</td>\n",
       "      <td>70</td>\n",
       "      <td>4.0</td>\n",
       "      <td>951170563</td>\n",
       "      <td>3.875940</td>\n",
       "      <td>From Dusk Till Dawn (1996)</td>\n",
       "      <td>Action Comedy Horror Thriller</td>\n",
       "      <td>3.509091</td>\n",
       "    </tr>\n",
       "  </tbody>\n",
       "</table>\n",
       "</div>"
      ],
      "text/plain": [
       "      userId  movieId  rating_x  timestamp_rating  avg_user_rating  \\\n",
       "2684       1       70       3.0         964982400         4.366379   \n",
       "2685      18       70       3.5        1455735732         3.732072   \n",
       "2686      19       70       2.0         965704974         2.607397   \n",
       "2687      34       70       3.5        1162048002         3.418605   \n",
       "2688      45       70       4.0         951170563         3.875940   \n",
       "\n",
       "                           title                     tags_genres  \\\n",
       "2684  From Dusk Till Dawn (1996)  Action Comedy Horror Thriller    \n",
       "2685  From Dusk Till Dawn (1996)  Action Comedy Horror Thriller    \n",
       "2686  From Dusk Till Dawn (1996)  Action Comedy Horror Thriller    \n",
       "2687  From Dusk Till Dawn (1996)  Action Comedy Horror Thriller    \n",
       "2688  From Dusk Till Dawn (1996)  Action Comedy Horror Thriller    \n",
       "\n",
       "      avg_movie_ratings  \n",
       "2684           3.509091  \n",
       "2685           3.509091  \n",
       "2686           3.509091  \n",
       "2687           3.509091  \n",
       "2688           3.509091  "
      ]
     },
<<<<<<< HEAD:ML/Section 2. Recomendation systems/Lesson 2. Рекомендации на основе содержания/Untitled.ipynb
     "execution_count": 42,
=======
     "execution_count": 40,
>>>>>>> 17e33bfda7e3d0483cdd9afd457f60f7b32f4b49:Машинное обучение - фундаментальные инструменты и практики/Section 2. Recomendation systems/Lesson 2. Рекомендации на основе содержания/Untitled.ipynb
     "metadata": {},
     "output_type": "execute_result"
    }
   ],
   "source": [
    "df.head()"
   ]
  },
  {
   "cell_type": "code",
   "execution_count": 43,
   "metadata": {},
   "outputs": [
    {
     "data": {
      "text/plain": [
       "Series([], Name: movieId, dtype: int64)"
      ]
     },
     "execution_count": 43,
     "metadata": {},
     "output_type": "execute_result"
    }
   ],
   "source": [
    "df.loc[df.userId == 414, 'movieId']"
   ]
  },
  {
   "cell_type": "markdown",
   "metadata": {},
   "source": [
    "### Отберём теги фильмов пользователя 414, которые он ещё не смотрел"
   ]
  },
  {
   "cell_type": "code",
<<<<<<< HEAD:ML/Section 2. Recomendation systems/Lesson 2. Рекомендации на основе содержания/Untitled.ipynb
   "execution_count": 44,
=======
   "execution_count": 41,
>>>>>>> 17e33bfda7e3d0483cdd9afd457f60f7b32f4b49:Машинное обучение - фундаментальные инструменты и практики/Section 2. Recomendation systems/Lesson 2. Рекомендации на основе содержания/Untitled.ipynb
   "metadata": {},
   "outputs": [
    {
     "data": {
      "text/plain": [
       "(['Action Comedy Horror Thriller ',\n",
       "  'Action Comedy Horror Thriller ',\n",
       "  'Action Comedy Horror Thriller ',\n",
       "  'Action Comedy Horror Thriller ',\n",
       "  'Action Comedy Horror Thriller '],\n",
       " 26916)"
      ]
     },
<<<<<<< HEAD:ML/Section 2. Recomendation systems/Lesson 2. Рекомендации на основе содержания/Untitled.ipynb
     "execution_count": 44,
=======
     "execution_count": 41,
>>>>>>> 17e33bfda7e3d0483cdd9afd457f60f7b32f4b49:Машинное обучение - фундаментальные инструменты и практики/Section 2. Recomendation systems/Lesson 2. Рекомендации на основе содержания/Untitled.ipynb
     "metadata": {},
     "output_type": "execute_result"
    }
   ],
   "source": [
    "user414_not_watched = [change_string(t_g) for t_g in df.tags_genres.values]\n",
    "user414_not_watched[:5], len(user414_not_watched)"
   ]
  },
  {
   "cell_type": "code",
<<<<<<< HEAD:ML/Section 2. Recomendation systems/Lesson 2. Рекомендации на основе содержания/Untitled.ipynb
   "execution_count": 45,
=======
   "execution_count": 42,
>>>>>>> 17e33bfda7e3d0483cdd9afd457f60f7b32f4b49:Машинное обучение - фундаментальные инструменты и практики/Section 2. Recomendation systems/Lesson 2. Рекомендации на основе содержания/Untitled.ipynb
   "metadata": {},
   "outputs": [
    {
     "data": {
      "text/plain": [
       "(['Action Comedy Horror Thriller ',\n",
       "  'Adventure Children Romance ',\n",
       "  'Action Adventure Romance swashbuckler',\n",
       "  'Drama Fantasy Romance ghosts',\n",
       "  'Drama Politics',\n",
       "  'Adventure Children Musical ',\n",
       "  'Crime Horror AlfredHitchcock psychology suspenseful tense NormanBates AlfredHitchcock blackandwhite imdbtop250 remade',\n",
       "  'Drama Romance ',\n",
       "  'Comedy Musical War ',\n",
       "  'Horror atmospheric disturbing Horror jacknicholson masterpiece psychological StanleyKubrick suspense StephenKing'],\n",
       " 1416)"
      ]
     },
<<<<<<< HEAD:ML/Section 2. Recomendation systems/Lesson 2. Рекомендации на основе содержания/Untitled.ipynb
     "execution_count": 45,
=======
     "execution_count": 42,
>>>>>>> 17e33bfda7e3d0483cdd9afd457f60f7b32f4b49:Машинное обучение - фундаментальные инструменты и практики/Section 2. Recomendation systems/Lesson 2. Рекомендации на основе содержания/Untitled.ipynb
     "metadata": {},
     "output_type": "execute_result"
    }
   ],
   "source": [
    "user414_not_watched = list(dict.fromkeys(user414_not_watched))\n",
    "user414_not_watched[:10], len(user414_not_watched)"
   ]
  },
  {
   "cell_type": "code",
<<<<<<< HEAD:ML/Section 2. Recomendation systems/Lesson 2. Рекомендации на основе содержания/Untitled.ipynb
   "execution_count": 46,
=======
   "execution_count": 43,
>>>>>>> 17e33bfda7e3d0483cdd9afd457f60f7b32f4b49:Машинное обучение - фундаментальные инструменты и практики/Section 2. Recomendation systems/Lesson 2. Рекомендации на основе содержания/Untitled.ipynb
   "metadata": {},
   "outputs": [],
   "source": [
    "# count_vect = CountVectorizer()\n",
    "# X_train_counts = count_vect.fit_transform(summary_vector)\n",
    "# X_train_counts.todense()[:5]\n",
    "# tfidf_transformer = TfidfTransformer()\n",
    "# X_train_tfidf = tfidf_transformer.fit_transform(X_train_counts)\n",
    "# np.unique(X_train_tfidf.toarray())\n",
    "# X_train_tfidf.shape"
   ]
  },
  {
   "cell_type": "markdown",
   "metadata": {},
   "source": [
    "### Определяем ценность слов на всём датасете"
   ]
  },
  {
   "cell_type": "code",
<<<<<<< HEAD:ML/Section 2. Recomendation systems/Lesson 2. Рекомендации на основе содержания/Untitled.ipynb
   "execution_count": 47,
=======
   "execution_count": 44,
>>>>>>> 17e33bfda7e3d0483cdd9afd457f60f7b32f4b49:Машинное обучение - фундаментальные инструменты и практики/Section 2. Recomendation systems/Lesson 2. Рекомендации на основе содержания/Untitled.ipynb
   "metadata": {},
   "outputs": [
    {
     "data": {
      "text/plain": [
       "['Adventure Animation Children Comedy Fantasy pixar pixar fun',\n",
       " 'Comedy Romance moldy old',\n",
       " 'Action Crime Thriller ',\n",
       " 'Mystery Thriller mystery twistending serialkiller',\n",
       " 'Crime Mystery Thriller mindfuck suspense thriller tricky twistending heist',\n",
       " 'Action Comedy Horror Thriller ',\n",
       " 'Adventure Comedy Crime Romance crime offbeatcomedy quirky',\n",
       " 'Action Drama War beautifulscenery epic historical inspirational Medieval melgibson Oscar(BestCinematography) revenge swordfight Scotland',\n",
       " 'Action Drama Romance War ',\n",
       " 'Comedy War ']"
      ]
     },
<<<<<<< HEAD:ML/Section 2. Recomendation systems/Lesson 2. Рекомендации на основе содержания/Untitled.ipynb
     "execution_count": 47,
=======
     "execution_count": 44,
>>>>>>> 17e33bfda7e3d0483cdd9afd457f60f7b32f4b49:Машинное обучение - фундаментальные инструменты и практики/Section 2. Recomendation systems/Lesson 2. Рекомендации на основе содержания/Untitled.ipynb
     "metadata": {},
     "output_type": "execute_result"
    }
   ],
   "source": [
    "summary_vector = [change_string(t_g) for t_g in ratings.tags_genres.values]\n",
    "# Удаляем дубликаты\n",
    "summary_vector = list(dict.fromkeys(summary_vector))\n",
    "summary_vector[:10]"
   ]
  },
  {
   "cell_type": "code",
<<<<<<< HEAD:ML/Section 2. Recomendation systems/Lesson 2. Рекомендации на основе содержания/Untitled.ipynb
   "execution_count": 48,
=======
   "execution_count": 45,
>>>>>>> 17e33bfda7e3d0483cdd9afd457f60f7b32f4b49:Машинное обучение - фундаментальные инструменты и практики/Section 2. Recomendation systems/Lesson 2. Рекомендации на основе содержания/Untitled.ipynb
   "metadata": {},
   "outputs": [
    {
     "data": {
      "text/plain": [
       "array([0, 1, 2, 3], dtype=int64)"
      ]
     },
<<<<<<< HEAD:ML/Section 2. Recomendation systems/Lesson 2. Рекомендации на основе содержания/Untitled.ipynb
     "execution_count": 48,
=======
     "execution_count": 45,
>>>>>>> 17e33bfda7e3d0483cdd9afd457f60f7b32f4b49:Машинное обучение - фундаментальные инструменты и практики/Section 2. Recomendation systems/Lesson 2. Рекомендации на основе содержания/Untitled.ipynb
     "metadata": {},
     "output_type": "execute_result"
    }
   ],
   "source": [
    "count_vect = CountVectorizer()\n",
    "X_train_counts = count_vect.fit_transform(summary_vector)\n",
    "np.unique(X_train_counts.toarray())"
   ]
  },
  {
   "cell_type": "code",
<<<<<<< HEAD:ML/Section 2. Recomendation systems/Lesson 2. Рекомендации на основе содержания/Untitled.ipynb
   "execution_count": 49,
=======
   "execution_count": 46,
>>>>>>> 17e33bfda7e3d0483cdd9afd457f60f7b32f4b49:Машинное обучение - фундаментальные инструменты и практики/Section 2. Recomendation systems/Lesson 2. Рекомендации на основе содержания/Untitled.ipynb
   "metadata": {},
   "outputs": [
    {
     "data": {
      "text/plain": [
       "array([0.        , 0.02217928, 0.03106712, ..., 0.97751228, 0.99002083,\n",
       "       1.        ])"
      ]
     },
<<<<<<< HEAD:ML/Section 2. Recomendation systems/Lesson 2. Рекомендации на основе содержания/Untitled.ipynb
     "execution_count": 49,
=======
     "execution_count": 46,
>>>>>>> 17e33bfda7e3d0483cdd9afd457f60f7b32f4b49:Машинное обучение - фундаментальные инструменты и практики/Section 2. Recomendation systems/Lesson 2. Рекомендации на основе содержания/Untitled.ipynb
     "metadata": {},
     "output_type": "execute_result"
    }
   ],
   "source": [
    "tfidf_transformer = TfidfTransformer()\n",
    "X_train_tfidf = tfidf_transformer.fit_transform(X_train_counts)\n",
    "np.unique(X_train_tfidf.toarray())"
   ]
  },
  {
   "cell_type": "code",
<<<<<<< HEAD:ML/Section 2. Recomendation systems/Lesson 2. Рекомендации на основе содержания/Untitled.ipynb
   "execution_count": 50,
=======
   "execution_count": 47,
>>>>>>> 17e33bfda7e3d0483cdd9afd457f60f7b32f4b49:Машинное обучение - фундаментальные инструменты и практики/Section 2. Recomendation systems/Lesson 2. Рекомендации на основе содержания/Untitled.ipynb
   "metadata": {},
   "outputs": [
    {
     "data": {
      "text/plain": [
       "NearestNeighbors(metric='euclidean', n_jobs=-1, n_neighbors=2)"
      ]
     },
<<<<<<< HEAD:ML/Section 2. Recomendation systems/Lesson 2. Рекомендации на основе содержания/Untitled.ipynb
     "execution_count": 50,
=======
     "execution_count": 47,
>>>>>>> 17e33bfda7e3d0483cdd9afd457f60f7b32f4b49:Машинное обучение - фундаментальные инструменты и практики/Section 2. Recomendation systems/Lesson 2. Рекомендации на основе содержания/Untitled.ipynb
     "metadata": {},
     "output_type": "execute_result"
    }
   ],
   "source": [
    "neigh = NearestNeighbors(n_neighbors=2, n_jobs=-1, metric='euclidean') \n",
    "neigh.fit(X_train_tfidf)"
   ]
  },
  {
   "cell_type": "code",
<<<<<<< HEAD:ML/Section 2. Recomendation systems/Lesson 2. Рекомендации на основе содержания/Untitled.ipynb
   "execution_count": 51,
=======
   "execution_count": 48,
>>>>>>> 17e33bfda7e3d0483cdd9afd457f60f7b32f4b49:Машинное обучение - фундаментальные инструменты и практики/Section 2. Recomendation systems/Lesson 2. Рекомендации на основе содержания/Untitled.ipynb
   "metadata": {},
   "outputs": [
    {
     "data": {
      "text/plain": [
       "'Action Adventure Children '"
      ]
     },
<<<<<<< HEAD:ML/Section 2. Recomendation systems/Lesson 2. Рекомендации на основе содержания/Untitled.ipynb
     "execution_count": 51,
=======
     "execution_count": 48,
>>>>>>> 17e33bfda7e3d0483cdd9afd457f60f7b32f4b49:Машинное обучение - фундаментальные инструменты и практики/Section 2. Recomendation systems/Lesson 2. Рекомендации на основе содержания/Untitled.ipynb
     "metadata": {},
     "output_type": "execute_result"
    }
   ],
   "source": [
    "user414_not_watched[666]"
   ]
  },
  {
   "cell_type": "code",
<<<<<<< HEAD:ML/Section 2. Recomendation systems/Lesson 2. Рекомендации на основе содержания/Untitled.ipynb
   "execution_count": 52,
=======
   "execution_count": 49,
>>>>>>> 17e33bfda7e3d0483cdd9afd457f60f7b32f4b49:Машинное обучение - фундаментальные инструменты и практики/Section 2. Recomendation systems/Lesson 2. Рекомендации на основе содержания/Untitled.ipynb
   "metadata": {},
   "outputs": [],
   "source": [
    "predict = count_vect.transform([user414_not_watched[666]])\n",
    "X_tfidf2 = tfidf_transformer.transform(predict)\n",
    "\n",
    "res = neigh.kneighbors(X_tfidf2, return_distance=True)"
   ]
  },
  {
   "cell_type": "code",
<<<<<<< HEAD:ML/Section 2. Recomendation systems/Lesson 2. Рекомендации на основе содержания/Untitled.ipynb
   "execution_count": 53,
=======
   "execution_count": 50,
>>>>>>> 17e33bfda7e3d0483cdd9afd457f60f7b32f4b49:Машинное обучение - фундаментальные инструменты и практики/Section 2. Recomendation systems/Lesson 2. Рекомендации на основе содержания/Untitled.ipynb
   "metadata": {},
   "outputs": [
    {
     "data": {
      "text/plain": [
       "(array([[0.        , 0.40634477]]), array([[1487,  883]], dtype=int64))"
      ]
     },
<<<<<<< HEAD:ML/Section 2. Recomendation systems/Lesson 2. Рекомендации на основе содержания/Untitled.ipynb
     "execution_count": 53,
=======
     "execution_count": 50,
>>>>>>> 17e33bfda7e3d0483cdd9afd457f60f7b32f4b49:Машинное обучение - фундаментальные инструменты и практики/Section 2. Recomendation systems/Lesson 2. Рекомендации на основе содержания/Untitled.ipynb
     "metadata": {},
     "output_type": "execute_result"
    }
   ],
   "source": [
    "res"
   ]
  },
  {
   "cell_type": "markdown",
   "metadata": {},
   "source": [
    "### Почему первое расстояние равно 0???"
   ]
  },
  {
   "cell_type": "code",
<<<<<<< HEAD:ML/Section 2. Recomendation systems/Lesson 2. Рекомендации на основе содержания/Untitled.ipynb
   "execution_count": 54,
=======
   "execution_count": 51,
>>>>>>> 17e33bfda7e3d0483cdd9afd457f60f7b32f4b49:Машинное обучение - фундаментальные инструменты и практики/Section 2. Recomendation systems/Lesson 2. Рекомендации на основе содержания/Untitled.ipynb
   "metadata": {},
   "outputs": [
    {
     "name": "stdout",
     "output_type": "stream",
     "text": [
      "6192                                    Adventure Comedy \n",
      "3098    Action Drama War beautifulscenery epic histori...\n",
      "Name: tags_genres, dtype: object\n"
     ]
    }
   ],
   "source": [
    "print(ratings.iloc[res[1][0]]['tags_genres'])"
   ]
  },
  {
   "cell_type": "markdown",
   "metadata": {},
   "source": [
    "### Посчитаем расстояние от фильмов, которые пользователь 414  ещё не смотрел до всех фильмов датасета"
   ]
  },
  {
   "cell_type": "code",
<<<<<<< HEAD:ML/Section 2. Recomendation systems/Lesson 2. Рекомендации на основе содержания/Untitled.ipynb
   "execution_count": 55,
=======
   "execution_count": 104,
   "metadata": {},
   "outputs": [
    {
     "data": {
      "text/plain": [
       "['Action Comedy Horror Thriller ',\n",
       " 'Adventure Children Romance ',\n",
       " 'Action Adventure Romance swashbuckler',\n",
       " 'Drama Fantasy Romance ghosts',\n",
       " 'Drama Politics',\n",
       " 'Adventure Children Musical ',\n",
       " 'Crime Horror AlfredHitchcock psychology suspenseful tense NormanBates AlfredHitchcock blackandwhite imdbtop250 remade',\n",
       " 'Drama Romance ',\n",
       " 'Comedy Musical War ',\n",
       " 'Horror atmospheric disturbing Horror jacknicholson masterpiece psychological StanleyKubrick suspense StephenKing']"
      ]
     },
     "execution_count": 104,
     "metadata": {},
     "output_type": "execute_result"
    }
   ],
   "source": [
    "user414_not_watched[:10]"
   ]
  },
  {
   "cell_type": "code",
   "execution_count": 56,
>>>>>>> 17e33bfda7e3d0483cdd9afd457f60f7b32f4b49:Машинное обучение - фундаментальные инструменты и практики/Section 2. Recomendation systems/Lesson 2. Рекомендации на основе содержания/Untitled.ipynb
   "metadata": {},
   "outputs": [
    {
     "name": "stderr",
     "output_type": "stream",
     "text": [
      "<ipython-input-55-2cf1e59a6e8b>:2: TqdmDeprecationWarning: This function will be removed in tqdm==5.0.0\n",
      "Please use `tqdm.notebook.tqdm` instead of `tqdm.tqdm_notebook`\n",
      "  for not_watched in tqdm(user414_not_watched):\n"
     ]
    },
    {
     "data": {
      "application/vnd.jupyter.widget-view+json": {
<<<<<<< HEAD:ML/Section 2. Recomendation systems/Lesson 2. Рекомендации на основе содержания/Untitled.ipynb
       "model_id": "311187aed6fd451ea1a7a9f1a16dd3b8",
=======
       "model_id": "3f2d2593957d4eeca66dd09a4fa33bef",
>>>>>>> 17e33bfda7e3d0483cdd9afd457f60f7b32f4b49:Машинное обучение - фундаментальные инструменты и практики/Section 2. Recomendation systems/Lesson 2. Рекомендации на основе содержания/Untitled.ipynb
       "version_major": 2,
       "version_minor": 0
      },
      "text/plain": [
       "HBox(children=(FloatProgress(value=0.0, max=1416.0), HTML(value='')))"
      ]
     },
     "metadata": {},
     "output_type": "display_data"
    },
    {
     "name": "stdout",
     "output_type": "stream",
     "text": [
      "\n"
     ]
    }
   ],
   "source": [
    "res = []\n",
    "for not_watched in tqdm(user414_not_watched):\n",
    "    predict = count_vect.transform([not_watched])\n",
    "    X_train_tfidf2 = tfidf_transformer.transform(predict)\n",
    "    res.append(neigh.kneighbors(X_train_tfidf2, return_distance=True))"
   ]
  },
  {
   "cell_type": "code",
<<<<<<< HEAD:ML/Section 2. Recomendation systems/Lesson 2. Рекомендации на основе содержания/Untitled.ipynb
   "execution_count": 56,
   "metadata": {
    "scrolled": true
   },
   "outputs": [],
=======
   "execution_count": 57,
   "metadata": {},
   "outputs": [
    {
     "data": {
      "text/plain": [
       "'Drama Fantasy Horror Thriller '"
      ]
     },
     "execution_count": 57,
     "metadata": {},
     "output_type": "execute_result"
    }
   ],
   "source": [
    "not_watched"
   ]
  },
  {
   "cell_type": "code",
   "execution_count": 105,
   "metadata": {},
   "outputs": [
    {
     "data": {
      "text/plain": [
       "(array([[0.        , 0.33162867]]), array([[ 831, 1561]], dtype=int64))"
      ]
     },
     "execution_count": 105,
     "metadata": {},
     "output_type": "execute_result"
    }
   ],
   "source": [
    "res[-1]"
   ]
  },
  {
   "cell_type": "code",
   "execution_count": 71,
   "metadata": {},
   "outputs": [
    {
     "data": {
      "text/plain": [
       "1416"
      ]
     },
     "execution_count": 71,
     "metadata": {},
     "output_type": "execute_result"
    }
   ],
>>>>>>> 17e33bfda7e3d0483cdd9afd457f60f7b32f4b49:Машинное обучение - фундаментальные инструменты и практики/Section 2. Recomendation systems/Lesson 2. Рекомендации на основе содержания/Untitled.ipynb
   "source": [
    "len(res)"
   ]
  },
  {
   "cell_type": "code",
<<<<<<< HEAD:ML/Section 2. Recomendation systems/Lesson 2. Рекомендации на основе содержания/Untitled.ipynb
   "execution_count": 57,
=======
   "execution_count": null,
>>>>>>> 17e33bfda7e3d0483cdd9afd457f60f7b32f4b49:Машинное обучение - фундаментальные инструменты и практики/Section 2. Recomendation systems/Lesson 2. Рекомендации на основе содержания/Untitled.ipynb
   "metadata": {},
   "outputs": [],
   "source": [
    "# res = []\n",
    "# for tag in tqdm_notebook(tag_strings):\n",
    "#     test = tag\n",
    "#     predict = count_vect.transform([test])\n",
    "#     X_train_tfidf = tfidf_transformer.transform(predict)\n",
    "#     res.append(neigh.kneighbors(X_train_tfidf, return_distance=True))"
   ]
  },
  {
   "cell_type": "code",
<<<<<<< HEAD:ML/Section 2. Recomendation systems/Lesson 2. Рекомендации на основе содержания/Untitled.ipynb
   "execution_count": 58,
=======
   "execution_count": 137,
>>>>>>> 17e33bfda7e3d0483cdd9afd457f60f7b32f4b49:Машинное обучение - фундаментальные инструменты и практики/Section 2. Recomendation systems/Lesson 2. Рекомендации на основе содержания/Untitled.ipynb
   "metadata": {},
   "outputs": [
    {
     "data": {
      "text/plain": [
       "[(array([[0.        , 0.32010925]]), array([[   5, 2234]], dtype=int64)),\n",
       " (array([[0.        , 0.54704341]]), array([[ 21, 377]], dtype=int64)),\n",
       " (array([[0.        , 0.43117413]]), array([[  45, 2018]], dtype=int64))]"
      ]
     },
<<<<<<< HEAD:ML/Section 2. Recomendation systems/Lesson 2. Рекомендации на основе содержания/Untitled.ipynb
     "execution_count": 58,
=======
     "execution_count": 137,
>>>>>>> 17e33bfda7e3d0483cdd9afd457f60f7b32f4b49:Машинное обучение - фундаментальные инструменты и практики/Section 2. Recomendation systems/Lesson 2. Рекомендации на основе содержания/Untitled.ipynb
     "metadata": {},
     "output_type": "execute_result"
    }
   ],
   "source": [
    "res[:3]"
   ]
  },
  {
   "cell_type": "code",
<<<<<<< HEAD:ML/Section 2. Recomendation systems/Lesson 2. Рекомендации на основе содержания/Untitled.ipynb
   "execution_count": 59,
=======
   "execution_count": 107,
>>>>>>> 17e33bfda7e3d0483cdd9afd457f60f7b32f4b49:Машинное обучение - фундаментальные инструменты и практики/Section 2. Recomendation systems/Lesson 2. Рекомендации на основе содержания/Untitled.ipynb
   "metadata": {},
   "outputs": [
    {
     "data": {
      "text/plain": [
       "(0.3201092542585576, 2234)"
      ]
     },
<<<<<<< HEAD:ML/Section 2. Recomendation systems/Lesson 2. Рекомендации на основе содержания/Untitled.ipynb
     "execution_count": 59,
=======
     "execution_count": 107,
>>>>>>> 17e33bfda7e3d0483cdd9afd457f60f7b32f4b49:Машинное обучение - фундаментальные инструменты и практики/Section 2. Recomendation systems/Lesson 2. Рекомендации на основе содержания/Untitled.ipynb
     "metadata": {},
     "output_type": "execute_result"
    }
   ],
   "source": [
<<<<<<< HEAD:ML/Section 2. Recomendation systems/Lesson 2. Рекомендации на основе содержания/Untitled.ipynb
    "res[0][0][0][1], res[0][1][0][1]"
=======
    "res[0][0][0][0], res[0][1][0][0]"
   ]
  },
  {
   "cell_type": "markdown",
   "metadata": {},
   "source": [
    "### Почему первое расстояние = 0??? Я так и не понял, что неправильно"
>>>>>>> 17e33bfda7e3d0483cdd9afd457f60f7b32f4b49:Машинное обучение - фундаментальные инструменты и практики/Section 2. Recomendation systems/Lesson 2. Рекомендации на основе содержания/Untitled.ipynb
   ]
  },
  {
   "cell_type": "code",
<<<<<<< HEAD:ML/Section 2. Recomendation systems/Lesson 2. Рекомендации на основе содержания/Untitled.ipynb
   "execution_count": 60,
=======
   "execution_count": 108,
>>>>>>> 17e33bfda7e3d0483cdd9afd457f60f7b32f4b49:Машинное обучение - фундаментальные инструменты и практики/Section 2. Recomendation systems/Lesson 2. Рекомендации на основе содержания/Untitled.ipynb
   "metadata": {},
   "outputs": [
    {
     "data": {
      "text/plain": [
<<<<<<< HEAD:ML/Section 2. Recomendation systems/Lesson 2. Рекомендации на основе содержания/Untitled.ipynb
       "(0.5470434090574813, 377)"
      ]
     },
     "execution_count": 60,
=======
       "(0.3201092542585576, 2234)"
      ]
     },
     "execution_count": 108,
>>>>>>> 17e33bfda7e3d0483cdd9afd457f60f7b32f4b49:Машинное обучение - фундаментальные инструменты и практики/Section 2. Recomendation systems/Lesson 2. Рекомендации на основе содержания/Untitled.ipynb
     "metadata": {},
     "output_type": "execute_result"
    }
   ],
   "source": [
<<<<<<< HEAD:ML/Section 2. Recomendation systems/Lesson 2. Рекомендации на основе содержания/Untitled.ipynb
    "res[1][0][0][1], res[1][1][0][1]"
=======
    "res[0][0][0][1], res[0][1][0][1]"
   ]
  },
  {
   "cell_type": "code",
   "execution_count": 113,
   "metadata": {},
   "outputs": [],
   "source": [
    "movies = {}\n",
    "for item in res:\n",
    "    movies[item[0][0][1]] = item[1][0][1]"
   ]
  },
  {
   "cell_type": "markdown",
   "metadata": {},
   "source": [
    "### Найдём топ 20 фильмов с кратчайшим расстоянием"
>>>>>>> 17e33bfda7e3d0483cdd9afd457f60f7b32f4b49:Машинное обучение - фундаментальные инструменты и практики/Section 2. Recomendation systems/Lesson 2. Рекомендации на основе содержания/Untitled.ipynb
   ]
  },
  {
   "cell_type": "code",
<<<<<<< HEAD:ML/Section 2. Recomendation systems/Lesson 2. Рекомендации на основе содержания/Untitled.ipynb
   "execution_count": 61,
=======
   "execution_count": 119,
>>>>>>> 17e33bfda7e3d0483cdd9afd457f60f7b32f4b49:Машинное обучение - фундаментальные инструменты и практики/Section 2. Recomendation systems/Lesson 2. Рекомендации на основе содержания/Untitled.ipynb
   "metadata": {},
   "outputs": [
    {
     "data": {
      "text/html": [
       "<div>\n",
       "<style scoped>\n",
       "    .dataframe tbody tr th:only-of-type {\n",
       "        vertical-align: middle;\n",
       "    }\n",
       "\n",
       "    .dataframe tbody tr th {\n",
       "        vertical-align: top;\n",
       "    }\n",
       "\n",
       "    .dataframe thead th {\n",
       "        text-align: right;\n",
       "    }\n",
       "</style>\n",
       "<table border=\"1\" class=\"dataframe\">\n",
       "  <thead>\n",
       "    <tr style=\"text-align: right;\">\n",
       "      <th></th>\n",
       "      <th>userId</th>\n",
       "      <th>movieId</th>\n",
       "      <th>rating_x</th>\n",
       "      <th>timestamp_rating</th>\n",
       "      <th>avg_user_rating</th>\n",
       "      <th>title</th>\n",
       "      <th>tags_genres</th>\n",
       "      <th>avg_movie_ratings</th>\n",
       "    </tr>\n",
       "  </thead>\n",
       "  <tbody>\n",
       "    <tr>\n",
       "      <th>96296</th>\n",
       "      <td>414</td>\n",
       "      <td>2018</td>\n",
       "      <td>4.0</td>\n",
       "      <td>961518975</td>\n",
       "      <td>3.391957</td>\n",
       "      <td>Bambi (1942)</td>\n",
       "      <td>Animation Children Drama</td>\n",
       "      <td>3.368421</td>\n",
       "    </tr>\n",
       "  </tbody>\n",
       "</table>\n",
       "</div>"
      ],
      "text/plain": [
<<<<<<< HEAD:ML/Section 2. Recomendation systems/Lesson 2. Рекомендации на основе содержания/Untitled.ipynb
       "       userId  movieId  rating_x  timestamp_rating  avg_user_rating  \\\n",
       "96296     414     2018       4.0         961518975         3.391957   \n",
       "\n",
       "              title                tags_genres  avg_movie_ratings  \n",
       "96296  Bambi (1942)  Animation Children Drama            3.368421  "
      ]
     },
     "execution_count": 61,
=======
       "[0.0,\n",
       " 0.19530353638012235,\n",
       " 0.2076296456718663,\n",
       " 0.21459959284764613,\n",
       " 0.21487545244584133,\n",
       " 0.21713811249825718,\n",
       " 0.22190629861867883,\n",
       " 0.2227838408161367,\n",
       " 0.22366041988863608,\n",
       " 0.22607157453518786,\n",
       " 0.23007629465103446,\n",
       " 0.2345626162832991,\n",
       " 0.23547104683641448,\n",
       " 0.2356809579244237,\n",
       " 0.23718967177452083,\n",
       " 0.23924204136831956,\n",
       " 0.2405132428963808,\n",
       " 0.24713936213415763,\n",
       " 0.24725387033359741,\n",
       " 0.2486349951201388]"
      ]
     },
     "execution_count": 119,
>>>>>>> 17e33bfda7e3d0483cdd9afd457f60f7b32f4b49:Машинное обучение - фундаментальные инструменты и практики/Section 2. Recomendation systems/Lesson 2. Рекомендации на основе содержания/Untitled.ipynb
     "metadata": {},
     "output_type": "execute_result"
    }
   ],
   "source": [
    "ratings.loc[(ratings['movieId'] == 2018) & (ratings['userId'] == 414)]"
   ]
  },
  {
   "cell_type": "code",
<<<<<<< HEAD:ML/Section 2. Recomendation systems/Lesson 2. Рекомендации на основе содержания/Untitled.ipynb
   "execution_count": 62,
=======
   "execution_count": 121,
>>>>>>> 17e33bfda7e3d0483cdd9afd457f60f7b32f4b49:Машинное обучение - фундаментальные инструменты и практики/Section 2. Recomendation systems/Lesson 2. Рекомендации на основе содержания/Untitled.ipynb
   "metadata": {},
   "outputs": [
    {
     "name": "stdout",
     "output_type": "stream",
     "text": [
      "0.3201092542585576 2234\n",
      "0.5470434090574813 377\n",
      "0.43117413418090034 2018\n",
      "0.6197455813542228 2091\n",
      "0.0 475\n",
      "0.357634956652696 934\n",
      "1.0501503347858598 272\n",
      "0.0 1929\n",
      "0.6872014293552589 9\n",
      "1.058886603965693 1837\n",
      "0.39015986748748077 895\n",
      "0.38284991529979245 740\n",
      "0.0 1213\n",
      "0.36443542660929934 558\n",
      "0.2664763441850843 869\n",
      "0.3368798504262373 396\n",
      "0.35070968354408083 845\n",
      "0.3318235503928033 1578\n",
      "0.47757712925376455 359\n",
      "0.48320432809601693 300\n",
      "0.6846715840885341 18\n",
      "0.6820837814812877 1296\n",
      "0.37519004416609253 238\n",
      "0.32232287814907695 916\n",
      "0.3826685255803724 833\n",
      "1.0028126579524106 847\n",
      "0.4700941724419737 1517\n",
      "0.3541122172478812 1517\n",
      "0.36776523139070616 183\n",
      "0.30488835524009417 1518\n",
      "1.1299328684821897 100\n",
      "0.9897144326025815 2114\n",
      "1.1011180965780927 1836\n",
      "1.2614929425341677 817\n",
      "0.0 1118\n",
      "0.32205527557717334 2103\n",
      "0.30031957392196645 1226\n",
      "0.49743040227550067 2127\n",
      "1.256281426716917 299\n",
      "0.270707869581863 1555\n",
      "0.8205601947763664 376\n",
      "0.0 815\n",
      "0.32117597700663303 1296\n",
      "0.41505926258831793 1516\n",
      "0.3597574275311921 1838\n",
      "0.316315039310441 239\n",
      "0.3797552443514454 1297\n",
      "0.29257536110989046 443\n",
      "0.4068766495707441 382\n",
      "0.3440606401257159 1631\n",
      "0.6100358872937923 557\n",
      "0.0 1159\n",
      "0.37519004416609253 154\n",
      "0.3117161416339733 328\n",
      "0.332875551180031 1892\n",
      "0.6072986800404027 203\n",
      "0.35673657045208573 533\n",
      "0.42319119559050544 1777\n",
      "1.0789157080044538 300\n",
      "0.43194395895553184 974\n",
      "0.44227427345159265 1896\n",
      "0.23547104683641448 450\n",
      "0.277584504412114 2151\n",
      "0.29634004859289914 1162\n",
      "0.7695546355596098 1606\n",
      "0.33813677091247296 1704\n",
      "0.3661492684861474 804\n",
      "0.3402512435396651 99\n",
      "0.2988859152349439 1001\n",
      "0.4861559926812276 1329\n",
      "1.2066498525202463 903\n",
      "1.0022274829654763 330\n",
      "0.4436022062143743 1385\n",
      "0.315575376826223 766\n",
      "0.0 325\n",
      "1.131843162497294 1453\n",
      "0.4828150362603362 767\n",
      "0.6830903646545889 801\n",
      "1.0415816538482745 208\n",
      "0.4106028363097584 940\n",
      "1.147467025194495 349\n",
      "0.3614209452898036 2096\n",
      "0.3968183879889007 1047\n",
      "0.3313762249133383 1047\n",
      "0.4087004234974513 1551\n",
      "1.167950405035015 57\n",
      "0.4538123311022337 147\n",
      "0.3558518109348634 2197\n",
      "0.37789351966699714 82\n",
      "1.141836204523679 557\n",
      "0.2994599791068927 1116\n",
      "0.48320432809601693 42\n",
      "0.47076463385573203 1241\n",
      "1.0580799337585423 1504\n",
      "0.5730736602347949 313\n",
      "0.6684996873939973 997\n",
      "0.40183139040387694 1692\n",
      "0.4257696217978209 77\n",
      "0.5939624614967564 252\n",
      "0.423173656893975 875\n",
      "0.45557472393951715 1798\n",
      "0.5038797515099085 1822\n",
      "0.28731236519102477 899\n",
      "0.39815383857739356 446\n",
      "0.4038406877554439 1272\n",
      "0.4533131380912856 166\n",
      "0.5388573779562226 1279\n",
      "0.4903722347691502 907\n",
      "0.9563355064538548 1110\n",
      "0.3010222771066845 2243\n",
      "0.34707035905533934 1964\n",
      "0.9172233671718124 456\n",
      "0.43492559154532406 877\n",
      "0.36552564438948293 112\n",
      "0.46573562276299685 912\n",
      "0.3322636567845618 1847\n",
      "0.423964164328378 1155\n",
      "0.4900805047949926 385\n",
      "0.3527283236941223 1895\n",
      "0.49308335087667116 785\n",
      "0.3229970817596636 101\n",
      "0.3432485629935001 242\n",
      "0.322299614551827 1708\n",
      "0.4297684412316408 1636\n",
      "0.29257536110989046 233\n",
      "0.39815383857739356 377\n",
      "0.5539798337915338 402\n",
      "0.34277141115613113 1986\n",
      "0.36102989970383864 960\n",
      "0.2713383148960286 1444\n",
      "0.3137301522428922 122\n",
      "0.36281879381185 617\n",
      "0.4074556555707963 623\n",
      "0.4278776588368337 24\n",
      "0.4538123311022337 322\n",
      "0.39602343196948986 618\n",
      "0.40339442000960285 2084\n",
      "0.4619792652407049 424\n",
      "0.774204636717074 445\n",
      "0.2878157744564221 581\n",
      "0.0 475\n",
      "0.3402512435396651 62\n",
      "0.4752976617569438 1754\n",
      "0.5503906216765194 1287\n",
      "0.2227838408161367 665\n",
      "0.21487545244584133 996\n",
      "0.5097148611446859 2013\n",
      "1.1806192427494755 4\n",
      "0.28032833319310785 697\n",
      "0.35673657045208573 249\n",
      "0.36940290220652927 1588\n",
      "0.5049883998739791 394\n",
      "0.37789351966699714 329\n",
      "1.189763140587566 456\n",
      "0.9904127875359686 432\n",
      "0.9336392515897177 699\n",
      "0.32286587803563316 2223\n",
      "0.4058890861922221 986\n",
      "0.36443542660929934 107\n",
      "0.2699135396208399 1219\n",
      "1.0789157080044538 300\n",
      "0.29845917522465787 850\n",
      "0.2878157744564221 474\n",
      "0.581190810445208 1826\n",
      "0.501089230303904 474\n",
      "0.3385041564858829 1438\n",
      "0.35976819203612725 128\n",
      "0.7645390575902375 1970\n",
      "0.34505529494566645 638\n",
      "0.46700834766046545 2181\n",
      "0.8758031531387437 1107\n",
      "0.40809501411551596 1204\n",
      "0.36187417038457026 777\n",
      "0.4239197449002251 1013\n",
      "0.8962476639438608 789\n",
      "0.36947538444517636 924\n",
      "0.38105032115414705 1585\n",
      "0.36403602314780625 1783\n",
      "0.4619792652407049 23\n",
      "0.45323576206296956 453\n",
      "0.32413560061762303 774\n",
      "0.36024223518815707 1676\n",
      "0.420843660574238 257\n",
      "0.36281879381185 462\n",
      "0.3497396254331499 1545\n",
      "0.34505529494566645 590\n",
      "0.3463838677897702 1771\n",
      "0.2533802287224914 1880\n",
      "0.2991203057612837 2203\n",
      "0.5145003481755329 1482\n",
      "0.3279578170958043 1285\n",
      "0.961459577385033 1041\n",
      "1.0615769386060434 803\n",
      "0.7576558680976945 700\n",
      "0.40505751032300114 973\n",
      "1.112007045684369 1065\n",
      "0.5001622824630069 2106\n",
      "0.3784431328138182 178\n",
      "0.3094672299303964 215\n",
      "0.7108302451340736 351\n",
      "0.5299059000603127 1603\n",
      "0.265252624250191 1596\n",
      "0.32853565978959914 672\n",
      "0.8027942852475269 1001\n",
      "0.3046954338912233 422\n",
      "0.8633210090491981 684\n",
      "1.0156309767832012 1301\n",
      "0.5396991497946395 823\n",
      "0.6830903646545889 801\n",
      "0.39171252453898575 611\n",
      "1.0476461505309034 2076\n",
      "0.8424942469330314 1500\n",
      "0.7917809756357134 414\n",
      "0.42521984896736903 1906\n",
      "0.38284991529979245 92\n",
      "0.34523390580308444 2080\n",
      "0.944543453073165 414\n",
      "0.4085213827843342 221\n",
      "0.31563404023229547 796\n",
      "0.3781821090565177 492\n",
      "0.6077986422272995 1310\n",
      "0.9056060504942915 1575\n",
      "1.1035423333390488 1441\n",
      "0.453832147499162 867\n",
      "0.9611646904392809 758\n",
      "0.32160140737842224 1307\n",
      "0.37765208928574406 162\n",
      "0.36776523139070616 2\n",
      "0.49308335087667116 190\n",
      "1.1629939280348722 476\n",
      "0.34624258012504994 1446\n",
      "0.4546378024132192 56\n",
      "0.46137961922258863 583\n",
      "0.4546378024132192 390\n",
      "0.3071194453268177 583\n",
      "0.3019245633762957 1204\n",
      "0.3637786519564774 84\n",
      "0.4047119341862094 1579\n",
      "0.3793922642228436 401\n",
      "0.3636227629646868 1656\n",
      "0.5231618949050003 1826\n",
      "0.43019349780387817 449\n",
      "0.2780612185181185 797\n",
      "1.0777126684369636 389\n",
      "0.3661492684861474 167\n",
      "0.38667034976864056 810\n",
      "0.2971918357298362 1741\n",
      "0.8090768798882926 506\n",
      "0.43019349780387817 616\n",
      "0.4077196172778036 1742\n",
      "0.36324436633686186 510\n",
      "1.140198288885138 654\n",
      "0.2733555414931588 653\n",
      "1.090778550000606 940\n",
      "0.3139341203237489 490\n",
      "1.1034920481459327 1907\n",
      "0.29864985137060523 1215\n",
      "0.0 815\n",
      "0.4235969556868616 2028\n",
      "0.0 737\n",
      "1.1398802319659649 211\n",
      "0.4459746788813478 321\n",
      "0.3997551185934206 1995\n",
      "0.5396991497946395 105\n",
      "0.8341478649459952 1305\n",
      "0.3826685255803724 95\n",
      "1.1407524246596155 203\n",
      "0.4281176893728031 1320\n",
      "0.2345626162832991 1411\n",
      "0.6266982956895711 1406\n",
      "0.8566523442695344 2107\n",
      "0.7542948393798117 2079\n",
      "0.889326579255907 308\n",
      "0.7164792990561095 1678\n",
      "0.921211944938993 1246\n",
      "0.8432879319503896 1425\n",
      "1.0686621478666964 388\n",
      "0.3400368147857108 992\n",
      "0.3828617954099842 922\n",
      "0.3811468818940373 1169\n",
      "0.3637786519564774 790\n",
      "0.2664763441850843 122\n",
      "0.5023525031832239 1919\n",
      "0.30469606920727543 842\n",
      "0.3896258844351386 48\n",
      "0.34772047865254485 461\n",
      "0.5860417722581713 142\n",
      "0.38056413447251974 885\n",
      "0.40634476592350505 1487\n",
      "0.38056413447251974 882\n",
      "0.4484138457156232 249\n",
      "1.1167129901010853 42\n",
      "0.25234171635626146 407\n",
      "0.29338817590242916 1499\n",
      "0.8966711858758497 1171\n",
      "0.7167867790127812 1301\n",
      "0.2591597614622042 1805\n",
      "0.28731236519102477 395\n",
      "0.4605150727171353 470\n",
      "0.33515655028749697 2190\n",
      "0.3153580666451368 1185\n",
      "0.8007209176871408 1055\n",
      "0.3962969629322116 1180\n",
      "0.5669397613070047 353\n",
      "0.32232287814907695 162\n",
      "1.126282792325639 618\n",
      "0.6045566971147754 1767\n",
      "0.3944485637096998 2196\n",
      "0.316315039310441 231\n",
      "0.3784431328138182 9\n",
      "0.3884418271890794 933\n",
      "0.28513034293788186 1485\n",
      "0.28466635995862327 2247\n",
      "0.3495923498365302 939\n",
      "0.7981343746499318 279\n",
      "0.3828617954099842 862\n",
      "0.40323764060451717 1301\n",
      "0.36045413853831915 1653\n",
      "0.3372109248001021 1512\n",
      "0.4900805047949926 431\n",
      "0.3025069531925376 986\n",
      "0.989103442206623 348\n",
      "0.7675531297755264 1330\n",
      "0.5442153383603158 586\n",
      "0.4416023079946591 1323\n",
      "1.0998873313344992 411\n",
      "1.0944570299890772 147\n",
      "0.4535098614754289 632\n",
      "0.423173656893975 388\n",
      "0.3520863073269188 1609\n",
      "0.32367344842004125 1322\n",
      "0.6074215344431636 312\n",
      "0.38890632773193784 1019\n",
      "0.3025069531925376 951\n",
      "0.33401539608471725 1550\n",
      "0.7335939002764116 235\n",
      "0.250557805632641 2047\n",
      "0.0 541\n",
      "0.3400368147857108 49\n",
      "0.3113449991079106 828\n",
      "0.7610595080158365 963\n",
      "0.2356809579244237 472\n",
      "0.36768615051877834 225\n",
      "0.2870706399246218 64\n",
      "1.1236134419845865 79\n",
      "0.41105337449047463 2033\n",
      "0.3925027778691779 638\n",
      "0.28032833319310785 530\n",
      "0.39997552967775707 2258\n",
      "0.5133466315074702 499\n",
      "0.2862216113610532 1014\n",
      "0.3216520066757098 653\n",
      "1.167950405035015 57\n",
      "0.3076445409117608 2235\n",
      "0.5600350084823308 967\n",
      "0.3501261434153771 1740\n",
      "0.42764493181699326 1521\n",
      "0.2798280329879026 1684\n",
      "0.6753018744351093 1811\n",
      "1.186968410708032 970\n",
      "0.4297918481782204 653\n",
      "0.2733555414931588 810\n",
      "1.1796949468300426 142\n",
      "0.5957646314755037 785\n",
      "1.117469178912533 2199\n",
      "0.3781821090565177 754\n",
      "0.9427362133866475 1092\n",
      "0.7196843294421524 2211\n",
      "0.700733913942387 727\n",
      "1.2020635206398596 47\n",
      "0.2696083334861572 661\n",
      "0.7198667301850741 600\n",
      "0.37547246797191375 1884\n",
      "0.2884800863771895 2184\n",
      "0.591516075175761 78\n",
      "0.6977767393978384 696\n",
      "1.0741257698742277 656\n",
      "0.961459577385033 662\n",
      "0.3313762249133383 314\n",
      "1.1170770785158277 747\n",
      "0.8007209176871408 913\n",
      "0.7401639449938753 312\n",
      "0.32879879254558847 1477\n",
      "1.0631511912389888 602\n",
      "0.22366041988863608 801\n",
      "0.7766390223506747 1314\n",
      "0.7468516448587289 338\n",
      "0.8807870105685132 1457\n",
      "0.21459959284764613 305\n",
      "1.089850645243152 183\n",
      "0.30326867469451385 2172\n",
      "0.5925874922672546 384\n",
      "0.44064715397121196 2173\n",
      "0.2878361119440179 2164\n",
      "0.9921793394219988 2068\n",
      "0.6189320247177977 838\n",
      "1.163464977491805 1067\n",
      "1.1192882583159787 294\n",
      "0.38890632773193784 985\n",
      "0.494369307345406 2177\n",
      "0.36716631073377876 1499\n",
      "1.053969842571024 1991\n",
      "0.5730588306728395 1951\n",
      "0.37135980756920195 1308\n",
      "0.3229970817596636 436\n",
      "0.5750973837927903 2061\n",
      "0.322299614551827 1497\n",
      "1.256281426716917 299\n",
      "0.3071194453268177 516\n",
      "1.256281426716917 299\n",
      "0.2994599791068927 349\n",
      "1.0374754919054956 170\n",
      "0.44637968193793864 1166\n",
      "0.5829267908885019 767\n",
      "0.277584504412114 1668\n",
      "0.3200768993320442 1908\n",
      "0.3495923498365302 221\n",
      "0.9928230648922574 221\n",
      "0.3379178434030229 1078\n",
      "0.3681089643044883 121\n",
      "1.256281426716917 299\n",
      "0.32157495403245745 1231\n",
      "0.33408846999395836 264\n",
      "0.33408846999395836 1131\n",
      "0.4971447403772276 1295\n",
      "0.5193027004560743 1783\n",
      "0.4828150362603362 13\n",
      "0.2938369246511359 1759\n",
      "0.40461560503595 1307\n",
      "0.31356288876975213 225\n",
      "0.3482175672107649 969\n",
      "0.9874650438805017 183\n",
      "0.4068766495707441 234\n",
      "0.3967728850787863 1366\n",
      "0.42293003940232554 893\n",
      "0.423964164328378 170\n",
      "0.4818511631523539 1145\n",
      "0.3829719253168034 330\n",
      "0.2934302246481086 1774\n",
      "0.3520955435563741 1861\n",
      "0.8954260324852985 397\n",
      "0.3793922642228436 793\n",
      "0.2731104208118603 1452\n",
      "0.0 1159\n",
      "0.3530509963819104 1849\n",
      "0.5182378827518773 1019\n",
      "0.3811468818940373 865\n",
      "0.8966711858758497 896\n",
      "0.5241031417393025 2038\n",
      "0.4422189175718982 2081\n",
      "0.6276951733306235 704\n",
      "0.3482175672107649 1150\n",
      "0.5355670126770483 380\n",
      "0.0 1183\n",
      "0.7845768554258629 1309\n",
      "0.43884880304178464 551\n",
      "1.0789157080044538 300\n",
      "0.0 1183\n",
      "0.8207176210964208 2096\n",
      "0.2952412348909375 350\n",
      "0.9060422823762718 2092\n",
      "0.23718967177452083 495\n",
      "0.4380318829322505 1990\n",
      "0.606895789285753 61\n",
      "0.6791967104832838 840\n",
      "0.46419146244595366 1405\n",
      "0.2741038715390599 2244\n",
      "0.3791912109306135 1651\n",
      "0.3520044668340679 2126\n",
      "0.4276556907527333 1897\n",
      "0.44844432552433017 1474\n",
      "0.5377013503371432 587\n",
      "1.0063279169587709 135\n",
      "1.106122672543333 151\n",
      "1.112623064149221 140\n",
      "1.026657703963942 940\n",
      "0.29345577476375256 73\n",
      "0.32157495403245745 514\n",
      "0.604911148097992 1472\n",
      "0.3348683750584371 256\n",
      "0.666099197966715 1994\n",
      "1.1086965006487277 1157\n",
      "0.7143120152179657 1989\n",
      "0.3313375006437951 1837\n",
      "1.2294240073339662 1144\n",
      "0.47757712925376455 140\n",
      "0.39140646549527314 2193\n",
      "0.29203042213270963 1895\n",
      "0.3587383214653735 932\n",
      "0.5992065959680912 1764\n",
      "0.7277506151656914 968\n",
      "0.4533131380912856 129\n",
      "0.39602343196948986 470\n",
      "0.3204887888209639 2254\n",
      "0.38334308765274727 1374\n",
      "0.34791740141962174 1786\n",
      "0.5153134768273334 1035\n",
      "1.047084057791984 408\n",
      "0.6121553985457228 802\n",
      "0.9707631236189175 1753\n",
      "0.43784151740426663 2029\n",
      "1.0320557123867065 691\n",
      "0.497077555631248 1271\n",
      "0.28656042171165536 1661\n",
      "0.8752858119141478 1367\n",
      "1.1005201581533355 1563\n",
      "0.0 1873\n",
      "0.4038406877554439 402\n",
      "1.0593735398047244 632\n",
      "0.5238282792131044 971\n",
      "0.6592961431848642 1829\n",
      "0.3982103509433249 967\n",
      "0.4020932288649372 1611\n",
      "1.0855127483023568 1885\n",
      "0.5388573779562226 404\n",
      "0.36697142583926046 1844\n",
      "0.4535098614754289 971\n",
      "0.3821766456453006 1538\n",
      "0.43209795684010255 706\n",
      "0.38440148969775734 1035\n",
      "0.3279578170958043 659\n",
      "0.0 2189\n",
      "0.9231181351762978 1991\n",
      "0.3095621951621939 160\n",
      "0.4329969040194518 1457\n",
      "0.7858505138806551 1064\n",
      "0.2807836292718495 1293\n",
      "0.45950551762492187 1491\n",
      "0.3519452687159496 1883\n",
      "0.32117597700663303 226\n",
      "0.3797552443514454 232\n",
      "0.3763486423193796 226\n",
      "0.8936341634203057 443\n",
      "0.5040787836089446 1233\n",
      "0.3525011620835342 1478\n",
      "0.3368798504262373 131\n",
      "0.36547838994230913 1790\n",
      "0.34983539042013284 1793\n",
      "0.4122997776322878 1639\n",
      "0.21713811249825718 1143\n",
      "0.7954018644905693 1315\n",
      "0.911042896800004 1811\n",
      "1.0488379638047824 87\n",
      "0.4264944532524395 885\n",
      "0.2983013582898006 1731\n",
      "0.9932994397859933 170\n",
      "0.32367344842004125 863\n",
      "0.22190629861867883 435\n",
      "0.22366041988863608 1065\n",
      "0.4313017716650389 1639\n",
      "0.64996495814353 903\n",
      "1.0928581108282767 296\n",
      "0.3495212110747993 1399\n",
      "0.5643137847009527 245\n",
      "1.0696951588916543 870\n",
      "1.0208491424528494 987\n",
      "1.072540025462288 48\n",
      "1.0841691409953969 1203\n",
      "0.39353962803830744 798\n",
      "0.4487833320878649 1078\n",
      "0.4039010132820586 1512\n",
      "1.2080848535211324 183\n",
      "0.5299688510383017 1797\n",
      "0.8544519234221744 151\n",
      "1.175270079818644 300\n",
      "0.9004564708167463 1382\n",
      "0.27522369975101085 645\n",
      "0.30521055846804535 1483\n",
      "1.0684452320578728 893\n",
      "1.1259521860157162 1091\n",
      "1.3507540750877738 299\n",
      "0.32386098153768195 149\n",
      "0.9965155648063363 621\n",
      "0.9658608827002267 883\n",
      "0.4209049015767085 1731\n",
      "1.01337383753915 455\n",
      "1.0416359328071343 84\n",
      "0.38679799396210723 85\n",
      "1.1967411540368982 1321\n",
      "0.8339407594866254 1976\n",
      "0.3967728850787863 1153\n",
      "0.2405132428963808 1606\n",
      "0.3626538086941511 1921\n",
      "0.4106028363097584 310\n",
      "0.38334308765274727 1259\n",
      "0.44686799916245906 556\n",
      "1.0164106613574637 1693\n",
      "0.979004048308204 99\n",
      "0.7033119968592656 1238\n",
      "0.447205849182034 2031\n",
      "0.5761876073012742 802\n",
      "1.089657067527177 1392\n",
      "0.9211462456058196 99\n",
      "0.3386000713325434 1730\n",
      "0.3744747314375505 1613\n",
      "1.215812428209077 172\n",
      "0.3495212110747993 1327\n",
      "1.2477579389232178 299\n",
      "1.256281426716917 299\n",
      "0.6005354378363568 749\n",
      "0.3882129119954821 1561\n",
      "0.33400751243227156 2121\n",
      "1.256281426716917 299\n",
      "0.9389660168383653 774\n",
      "0.2345626162832991 840\n",
      "0.4822042270966201 613\n",
      "0.5218967575103918 2140\n",
      "0.86737947537229 1648\n",
      "1.0613030176823528 1587\n",
      "0.8793521810074978 245\n",
      "0.38481613346754895 543\n",
      "0.5920786342085659 362\n",
      "0.4916435890223943 442\n",
      "0.975266548638651 2030\n",
      "0.33532328748739104 627\n",
      "0.4916435890223943 252\n",
      "1.0190932248900022 732\n",
      "0.9905652448253701 2084\n",
      "0.5106235150731494 618\n",
      "0.30555285300258445 2267\n",
      "0.47665776720639186 1524\n",
      "0.3848197476326349 211\n",
      "0.27629785711827753 1207\n",
      "0.9606027316020337 1510\n",
      "0.39832482770976935 924\n",
      "0.33421697852062304 1669\n",
      "0.4308508180272548 1713\n",
      "0.2713383148960286 461\n",
      "0.3828427006129 1058\n",
      "0.34624258012504994 787\n",
      "0.3451893366406723 1717\n",
      "0.2931261257640733 1651\n",
      "0.5554534467893762 1252\n",
      "0.2663774138539837 2103\n",
      "0.959682420106096 229\n",
      "0.29524123489093734 1137\n",
      "0.7532678012133094 1329\n",
      "0.747812463328015 1422\n",
      "0.4329969040194518 1289\n",
      "1.256281426716917 299\n",
      "0.3385041564858829 587\n",
      "0.5773972470789777 586\n",
      "0.5645575019211271 240\n",
      "0.31366910951901883 644\n",
      "0.3117161416339735 2083\n",
      "0.38024969665418423 2155\n",
      "0.6722511577116368 219\n",
      "0.9473385181030002 888\n",
      "0.27360421163751575 1180\n",
      "1.0095903853406005 270\n",
      "0.322779559910438 1109\n",
      "1.256281426716917 299\n",
      "0.5312372506682614 1564\n",
      "0.475386304002799 1866\n",
      "0.44844432552433017 1206\n",
      "1.0319048699898596 211\n",
      "0.33532328748739104 1432\n",
      "0.2076296456718663 972\n",
      "0.7863359051750115 245\n",
      "0.921375381655655 135\n",
      "0.33444234887741475 648\n",
      "0.3749980737215587 1625\n",
      "0.5341696514296153 650\n",
      "0.33444234887741475 1481\n",
      "0.5939307109820912 872\n",
      "0.28513034293788186 933\n",
      "0.40634476592350505 883\n",
      "0.41000317075165416 522\n",
      "0.3965997484718003 1607\n",
      "0.4056117331636886 828\n",
      "0.38500425240231106 1477\n",
      "0.5777739562939757 894\n",
      "0.49915559723292474 2010\n",
      "0.3845793285140894 1194\n",
      "0.3371740599543834 378\n",
      "0.9510622374838059 1442\n",
      "1.256281426716917 299\n",
      "0.322299614551827 1109\n",
      "0.31159382675348224 2057\n",
      "0.29338817590242916 891\n",
      "0.0 1856\n",
      "1.082216855874906 551\n",
      "0.8313552349159096 749\n",
      "0.9788248367477881 277\n",
      "0.9059674710154021 1315\n",
      "0.40557692102461085 1694\n",
      "0.43884880304178464 87\n",
      "0.9601612414593617 2076\n",
      "0.49307138602459977 1523\n",
      "0.3115186357811291 1944\n",
      "0.3372109248001021 952\n",
      "0.3768188008579116 2224\n",
      "0.42448489859698624 84\n",
      "0.5061075172192004 1622\n",
      "0.3884337824651207 136\n",
      "0.41505926258831793 229\n",
      "0.3541122172478812 110\n",
      "0.30488835524009417 186\n",
      "0.43194395895553184 259\n",
      "0.37770768717502545 2251\n",
      "0.33819590662182736 984\n",
      "0.42764493181699326 770\n",
      "0.7920726116169925 1548\n",
      "0.41283522675117895 102\n",
      "0.4764233068001054 1851\n",
      "0.47665776720639186 1437\n",
      "0.3632597566485114 1988\n",
      "0.37841812787577744 101\n",
      "0.3779562783232233 2188\n",
      "0.32072580779148085 1003\n",
      "0.280890659434918 1781\n",
      "0.39920777319614825 1733\n",
      "0.3708197115915089 231\n",
      "0.4234069072069298 462\n",
      "0.3633561147767592 1592\n",
      "0.39649412958870967 1525\n",
      "0.3638693652159945 1285\n",
      "0.28527552186138033 2017\n",
      "0.5289257218242451 1967\n",
      "0.3821766456453006 145\n",
      "1.256281426716917 299\n",
      "0.46534853255088815 267\n",
      "0.43727686491454204 238\n",
      "0.3975116059426041 1697\n",
      "0.42128888406633785 2259\n",
      "0.3497396254331499 625\n",
      "0.3927933108972771 1199\n",
      "0.33401539608471725 987\n",
      "0.7089974766172461 1757\n",
      "0.8793521810074978 245\n",
      "0.270707869581863 223\n",
      "0.3829719253168034 321\n",
      "1.043752241000688 229\n",
      "0.667903216479317 548\n",
      "0.4898962729908948 2187\n",
      "0.3316286715426178 831\n",
      "0.5014637248457726 692\n",
      "0.5312372506682614 1472\n",
      "0.4321739284125942 436\n",
      "1.0999498933634912 313\n",
      "0.8776581297375317 1970\n",
      "0.8611648838205285 1949\n",
      "0.3318235503928033 136\n",
      "0.4047119341862094 791\n",
      "0.47034882717197546 197\n",
      "1.0761262838242405 1935\n",
      "0.3131041974648664 2023\n",
      "0.5497707033347786 1527\n",
      "0.4494380090027993 2099\n",
      "0.6499756942932424 1044\n",
      "1.0034182295349614 1019\n",
      "0.36940290220652927 348\n",
      "0.42412394478860116 2109\n",
      "0.4703585063255542 748\n",
      "0.32689366174377227 1747\n",
      "0.3633561147767592 1533\n",
      "0.857054362692948 1472\n",
      "0.266151805560452 1794\n",
      "1.041652995371968 878\n",
      "0.265252624250191 692\n",
      "1.256281426716917 299\n",
      "0.49615567448990133 1786\n",
      "0.38543725752894475 1125\n",
      "1.1343052882668843 78\n",
      "0.3286782412636083 1639\n",
      "0.2943280300129776 628\n",
      "0.5137658316036453 1773\n",
      "0.41000317075165416 22\n",
      "0.8177405183640752 1202\n",
      "0.2405132428963808 1370\n",
      "0.3965997484718003 1074\n",
      "0.46478646811819585 1720\n",
      "0.48778748066673455 524\n",
      "0.3520863073269188 907\n",
      "0.40082382284081325 1769\n",
      "0.4076248998938092 2243\n",
      "0.4020932288649372 1277\n",
      "1.256281426716917 299\n",
      "0.3744747314375505 781\n",
      "0.38782333488943244 397\n",
      "0.49816695351160767 1284\n",
      "0.4091232529003028 1018\n",
      "0.4817190612935307 1962\n",
      "0.3858760473281017 441\n",
      "1.1343052882668843 78\n",
      "1.175270079818644 300\n",
      "0.27629785711827753 1439\n",
      "0.3749980737215587 1482\n",
      "0.5074627097258378 1625\n",
      "1.1469759920661937 663\n",
      "0.9415924458689483 591\n",
      "0.24713936213415763 2184\n",
      "0.9118092127077985 1336\n",
      "0.2937613725299598 1623\n",
      "0.856674098980159 1637\n",
      "0.5062035217414642 1790\n",
      "0.355357916388397 657\n",
      "0.4297684412316408 440\n",
      "0.856674098980159 1632\n",
      "0.7585269196813083 118\n",
      "0.3286782412636083 1602\n",
      "1.1581876672631 81\n",
      "0.4061380675840579 2191\n",
      "1.0284182617539415 322\n",
      "0.5595279092247402 2173\n",
      "0.9522916463256681 135\n",
      "0.8713881359422558 780\n",
      "0.421791947358676 594\n",
      "0.39556809159464 1913\n",
      "0.3587383214653735 1255\n",
      "0.35342009871122015 102\n",
      "0.4008319894468863 1923\n",
      "0.3528904714378154 469\n",
      "1.2258216369258226 18\n",
      "1.1497274243255116 1052\n",
      "0.2486349951201388 1745\n",
      "1.0141967808516446 1039\n",
      "0.36045413853831915 949\n",
      "0.6124577364178061 1655\n",
      "0.6124577364178061 1654\n",
      "0.3636227629646868 794\n",
      "0.29864985137060523 813\n",
      "0.5151948840964217 1723\n",
      "0.28656042171165536 1268\n",
      "1.0945857607015996 184\n",
      "0.5637467017936496 608\n",
      "1.256281426716917 299\n",
      "0.3833487349613276 1166\n",
      "0.38782333488943244 1614\n",
      "1.1343052882668843 78\n",
      "0.5854386916379187 1961\n",
      "0.46291048807069807 2144\n",
      "0.9572714319987082 2079\n",
      "0.5907985355292422 172\n",
      "0.8853234131028934 1455\n",
      "1.061147642866146 2123\n",
      "0.45304859603419273 264\n",
      "0.9931127260854993 197\n",
      "1.1254516145498548 170\n",
      "0.3139341203237489 121\n",
      "0.2798280329879026 1020\n",
      "0.564049498606162 2157\n",
      "0.4544315437308938 2179\n",
      "0.4482051383254034 296\n",
      "1.041652995371968 878\n",
      "0.5491678898047835 72\n",
      "0.2356809579244237 1001\n",
      "1.017869810755137 826\n",
      "0.9786581446702128 887\n",
      "0.3568919655265352 450\n",
      "1.0164106613574637 1379\n",
      "0.40557692102461085 1506\n",
      "0.3153580666451368 911\n",
      "0.31349799297024294 1700\n",
      "0.7698775440101011 1936\n"
     ]
    },
    {
     "name": "stdout",
     "output_type": "stream",
     "text": [
      "0.31349799297024294 892\n",
      "0.3240383270113565 1718\n",
      "0.4622667273259236 751\n",
      "0.3486938203483376 58\n",
      "0.34046033514466995 967\n",
      "0.4468443460602697 954\n",
      "0.31553173897587056 1567\n",
      "1.1340039214211208 172\n",
      "0.322299614551827 383\n",
      "0.41025853918363075 414\n",
      "0.30605511304670024 751\n",
      "0.4590140625151575 528\n",
      "0.6614850753174133 2157\n",
      "0.7090718227408919 2135\n",
      "0.41450129554865983 1313\n",
      "0.4106222969610648 1520\n",
      "0.6755705413669634 801\n",
      "0.5914035016372795 1709\n",
      "1.2017260036403483 1916\n",
      "0.3240383270113565 1138\n",
      "0.3400411269478386 1868\n",
      "0.39635263014218974 1722\n",
      "0.2693168488365654 1966\n",
      "0.3489992362564422 806\n",
      "0.4883312209960004 831\n",
      "0.31154700801162727 1820\n",
      "0.8367816242151247 2112\n",
      "0.0 1852\n",
      "0.4679372439832074 1567\n",
      "0.3386000713325434 1397\n",
      "0.2983013582898006 524\n",
      "0.453832147499162 280\n",
      "0.3501261434153771 1018\n",
      "0.2971918357298362 806\n",
      "0.4077196172778036 808\n",
      "0.47231181046279 1928\n",
      "0.47349438311905384 808\n",
      "0.2486349951201388 1651\n",
      "0.6500532432305325 808\n",
      "0.32689366174377227 1058\n",
      "0.31660361150218025 1947\n",
      "1.0119063453511414 691\n",
      "0.39588004377908603 1960\n",
      "0.48187904305388746 1234\n",
      "0.9707631236189175 1263\n",
      "0.4752976617569438 483\n",
      "0.41320176357366545 1928\n",
      "0.2938369246511359 1145\n",
      "0.5146093234906751 1113\n",
      "0.7366614079307363 1895\n",
      "0.6571151182368287 170\n",
      "0.4590140625151575 1866\n",
      "0.5992065959680912 1256\n",
      "0.9896566191487514 748\n",
      "0.39920777319614825 1530\n",
      "0.3516307116318655 1107\n",
      "0.9567858973208646 226\n",
      "0.8417758062590718 493\n",
      "0.3022817472992769 70\n",
      "0.38105032115414705 599\n",
      "0.6656341063135586 972\n",
      "0.42293003940232554 1154\n",
      "0.3463838677897702 642\n",
      "0.36127092904176505 1322\n",
      "0.30292174793492443 2026\n",
      "0.2934302246481086 115\n",
      "0.4114385531176043 319\n",
      "0.42319119559050544 251\n",
      "0.3991040337719191 2035\n",
      "0.24725387033359741 1137\n",
      "1.2258216369258226 18\n",
      "0.280890659434918 1529\n",
      "0.4691953285384078 402\n",
      "0.806749398817425 2201\n",
      "0.8494969417624556 1863\n",
      "0.34791740141962174 362\n",
      "0.8119069956947097 1370\n",
      "0.30266126210149324 10\n",
      "0.8028835004919824 437\n",
      "0.36547838994230913 1305\n",
      "0.9603622467132741 2084\n",
      "0.72674098412575 1799\n",
      "0.266151805560452 1594\n",
      "0.419848501114467 1846\n",
      "0.3238420245623255 472\n",
      "0.5299688510383017 1347\n",
      "0.39158294011578537 2265\n",
      "0.3909998994266236 264\n",
      "0.72674098412575 1792\n",
      "0.5853317055155354 1408\n",
      "0.49727243790577225 883\n",
      "0.38860145955335723 627\n",
      "0.307211531385284 1229\n",
      "0.3977478488343941 233\n",
      "0.9528690302769737 1551\n",
      "0.6356359141461558 211\n",
      "1.110495690094484 105\n",
      "0.42915943991776934 2257\n",
      "1.167950405035015 57\n",
      "0.39632118905072905 333\n",
      "0.22607157453518786 1955\n",
      "0.2862216113610532 1013\n",
      "1.1394105789134161 1041\n",
      "0.4995868196573803 1204\n",
      "0.27522369975101085 1091\n",
      "0.33813677091247296 277\n",
      "0.4334479928419516 2221\n",
      "1.0585408558900706 395\n",
      "0.3713695870990558 1550\n",
      "0.31154700801162727 1724\n",
      "0.5282260397577517 1754\n",
      "0.5038797515099085 334\n",
      "0.43675683809062 101\n",
      "0.3168369867298883 1917\n",
      "0.3822563827016343 494\n",
      "0.4286611590599217 2013\n",
      "0.4971447403772276 1132\n",
      "1.176540004325364 732\n",
      "0.34965527306819416 499\n",
      "0.49782776437379084 440\n",
      "0.37827476210991023 1815\n",
      "0.5115242026698089 572\n",
      "1.1773950205755137 1945\n",
      "0.31053677262325324 2248\n",
      "0.666057198098407 47\n",
      "0.3313375006437951 1246\n",
      "0.3597574275311921 230\n",
      "1.1313675616904095 689\n",
      "0.30454519984535006 2194\n",
      "0.9801276237366187 1878\n",
      "0.3908831497325989 1246\n",
      "0.3374238447021184 30\n",
      "0.3440606401257159 236\n",
      "0.46518866539222126 1906\n",
      "0.36697142583926046 1280\n",
      "0.34929677304312917 2242\n",
      "0.419848501114467 1795\n",
      "0.3322636567845618 427\n",
      "0.3530509963819104 1088\n",
      "0.3386068730405531 1962\n",
      "0.4012229369298337 1965\n",
      "0.0 1852\n",
      "1.0748290636262403 616\n",
      "0.7776461701752373 2073\n",
      "0.5134563321742384 742\n",
      "0.0 1856\n",
      "0.0 1858\n",
      "0.901492058209992 827\n",
      "0.39477585475381893 820\n",
      "0.33421697852062304 1442\n",
      "0.39559879024854017 2037\n",
      "0.3520955435563741 296\n",
      "0.3496770848002985 2253\n",
      "0.8494969417624556 1785\n",
      "0.44371472584638955 1374\n",
      "0.23924204136831956 2168\n",
      "0.3310857841538006 2000\n",
      "0.35185347760173225 2041\n",
      "0.3400411269478386 1719\n",
      "0.3506667261621111 1215\n",
      "0.7992493409880259 1972\n",
      "0.78475609652889 1537\n",
      "0.29345577476375256 503\n",
      "0.6652751425054085 1496\n",
      "0.0 1873\n",
      "0.3486938203483376 1702\n",
      "0.3193786883959147 1082\n",
      "0.3187695085092076 1812\n",
      "0.4354044216309126 1078\n",
      "1.256281426716917 299\n",
      "0.9801276237366187 1841\n",
      "0.9110843485051148 2188\n",
      "0.2533802287224914 643\n",
      "0.6428603181864312 170\n",
      "0.30452952621073603 540\n",
      "0.3519452687159496 1294\n",
      "0.37547246797191375 1034\n",
      "0.30540070700107674 2256\n",
      "0.5515787812682019 2181\n",
      "0.4251449989378616 1496\n",
      "1.256281426716917 299\n",
      "0.649852641755258 211\n",
      "0.37028302715287936 960\n",
      "0.3285261321696598 631\n",
      "0.332875551180031 48\n",
      "0.32533910743211514 1996\n",
      "0.2556566041358721 1972\n",
      "0.33237834968941665 723\n",
      "0.35803980651940703 2146\n",
      "0.4276556907527333 1201\n",
      "0.7116093021755788 2001\n",
      "0.9801897139886228 313\n",
      "0.2734759521937171 1248\n",
      "0.43277617692914183 436\n",
      "0.917576174773698 1759\n",
      "0.43393625719624945 1905\n",
      "0.43393625719624945 1904\n",
      "0.42521984896736903 736\n",
      "0.3200768993320442 1125\n",
      "0.459032028810215 1759\n",
      "0.36876466961309123 434\n",
      "0.5448746610654748 1197\n",
      "1.167950405035015 57\n",
      "0.39556809159464 1647\n",
      "0.4513036812952397 2224\n",
      "0.9454871051674764 1513\n",
      "0.7902238407931614 690\n",
      "0.3168369867298883 1824\n",
      "1.1898858225352231 211\n",
      "0.4357091274876809 1592\n",
      "0.9753400842562848 1181\n",
      "0.3379178434030229 285\n",
      "0.3626538086941511 1371\n",
      "0.8955249924448241 211\n",
      "0.3427799326087616 439\n",
      "0.6278109279256912 211\n",
      "1.15530524500704 1725\n",
      "0.9780029070784986 1123\n",
      "0.3046954338912233 706\n",
      "0.4756488657091362 1541\n",
      "0.41320176357366545 1756\n",
      "0.0 1929\n",
      "0.5083445313365876 1204\n",
      "0.2076296456718663 1478\n",
      "0.3872835634888089 866\n",
      "0.6007084926028758 1981\n",
      "0.4698038485783538 1596\n",
      "0.8352658435104191 1251\n",
      "0.7698775440101011 1699\n",
      "0.7104682062538241 886\n",
      "0.43523527184468147 1482\n",
      "0.9017458935466787 985\n",
      "0.7522124310442577 488\n",
      "0.5637455907281321 2186\n",
      "0.3115186357811291 1511\n",
      "0.9852702264952252 341\n",
      "0.43865298034115574 504\n",
      "0.31660361150218025 1748\n",
      "0.19530353638012235 2141\n",
      "0.3970124484458261 1862\n",
      "0.334315817802071 447\n",
      "0.5365919310605192 1264\n",
      "0.4242669542425798 1695\n",
      "0.37417164955308263 301\n",
      "0.5158489858090602 1754\n",
      "0.22607157453518786 1812\n",
      "0.37037027788018884 948\n",
      "0.48686843859317874 863\n",
      "0.39207255059714785 1629\n",
      "0.4392684296410814 752\n",
      "0.32072580779148085 1528\n",
      "0.39588004377908603 1751\n",
      "0.5028877331354619 599\n",
      "0.45872375524969045 1850\n",
      "0.3386068730405531 1850\n",
      "0.5420181156653748 799\n",
      "0.34707035905533934 411\n",
      "0.4012229369298337 1851\n",
      "0.2693168488365654 1721\n",
      "0.5289257218242451 1537\n",
      "0.5224072482097449 452\n",
      "0.5046708240858649 1294\n",
      "0.5803633932304997 2138\n",
      "0.36885581879958923 876\n",
      "0.2556566041358721 1895\n",
      "1.073938614469939 879\n",
      "1.0753848957876213 359\n",
      "0.8339407594866254 1365\n",
      "0.8404445995771574 748\n",
      "1.0374754919054956 170\n",
      "1.256281426716917 299\n",
      "1.110495690094484 105\n",
      "0.3923857830105608 2030\n",
      "0.3616292155460802 1138\n",
      "0.40843621121575024 1447\n",
      "0.41850446159083804 1702\n",
      "1.1167129901010853 42\n",
      "0.34277141115613113 455\n",
      "0.4950117202907683 1619\n",
      "0.3632597566485114 1525\n",
      "0.7143120152179657 1245\n",
      "0.3494251742535817 868\n",
      "1.256281426716917 299\n",
      "0.8936196898155633 748\n",
      "0.4670761654852106 447\n",
      "0.37865867758763455 379\n",
      "0.28527552186138033 1536\n",
      "0.43117413418090034 45\n",
      "1.0132447971025973 211\n",
      "0.36526141083479435 1990\n",
      "0.43851008834972216 2051\n",
      "0.4373496230400568 97\n",
      "0.3131041974648664 1582\n",
      "0.4893906532475823 935\n",
      "0.497197872217848 226\n",
      "0.30292174793492443 1773\n",
      "1.2258216369258226 18\n",
      "0.4235969556868616 571\n",
      "0.43784151740426663 1264\n",
      "0.3923857830105608 1981\n",
      "0.4242954395712363 1050\n",
      "0.37865867758763455 1681\n",
      "0.5471996477467334 226\n",
      "0.3518385118716843 2205\n",
      "0.42170031583281 2041\n",
      "0.3991040337719191 1778\n",
      "0.42200450736865375 2216\n",
      "0.369844209999506 2257\n",
      "0.5241031417393025 245\n",
      "0.8793521810074978 245\n",
      "0.440058379529861 1142\n",
      "0.35185347760173225 1867\n",
      "0.4229896714361988 2226\n",
      "0.7508618058263333 1678\n",
      "0.6929615441959616 264\n",
      "1.151477019525635 847\n",
      "0.6273271294352464 2059\n",
      "0.7860067775327484 1586\n",
      "0.250557805632641 991\n",
      "0.5101712018742608 268\n",
      "0.9122430510751991 1301\n",
      "0.6881289209353029 243\n",
      "0.43851008834972216 2021\n",
      "1.0368800510957057 1074\n",
      "0.7919893996430757 472\n",
      "1.256281426716917 299\n",
      "0.6696872888592053 1191\n",
      "1.1343052882668843 78\n",
      "0.31159382675348224 1498\n",
      "1.096280064981848 12\n",
      "0.5598231152762418 1115\n",
      "0.9827076362106982 2053\n",
      "0.6273271294352464 2045\n",
      "0.7849412203290002 2166\n",
      "0.2647975884761676 435\n",
      "0.2810815658853344 1253\n",
      "0.5182828965854331 1857\n",
      "0.9054175900263668 1115\n",
      "0.7444136468119769 1970\n",
      "0.41356337771481505 2089\n",
      "1.256281426716917 299\n",
      "1.256281426716917 299\n",
      "0.787909356343135 973\n",
      "1.1398802319659649 211\n",
      "0.43308311852949044 912\n",
      "0.6854949500098435 2112\n",
      "1.0976810588601567 1051\n",
      "0.7776461701752373 1854\n",
      "0.3452025980546653 1178\n",
      "0.6424291976894977 87\n",
      "0.35648741738844664 1668\n",
      "0.9527689151661418 1381\n",
      "0.4487996324037435 1133\n",
      "0.7542948393798117 844\n",
      "0.29524123489093734 14\n",
      "0.4422189175718982 748\n",
      "0.5498380038257504 101\n",
      "0.3117161416339735 1463\n",
      "0.26827435100841623 1429\n",
      "0.7360023169801412 2112\n",
      "1.0077243566987226 985\n",
      "1.2258216369258226 18\n",
      "1.256281426716917 299\n",
      "0.41356337771481505 2065\n",
      "0.7733840137979295 975\n",
      "0.5825131391368231 158\n",
      "0.9060422823762718 1188\n",
      "1.0219232428243128 1009\n",
      "0.8770212626709897 1463\n",
      "0.752764937578373 1162\n",
      "0.2810815658853344 910\n",
      "0.49763685897631604 249\n",
      "0.795068474975969 471\n",
      "0.4494380090027993 1584\n",
      "0.32372243690797115 2132\n",
      "0.9071698890184497 1641\n",
      "1.082216855874906 551\n",
      "0.2663774138539837 1450\n",
      "1.017891773087548 1665\n",
      "0.4730567181560579 1162\n",
      "0.5001622824630069 680\n",
      "0.7919893996430757 472\n",
      "0.44686799916245906 1377\n",
      "1.1343052882668843 78\n",
      "0.42412394478860116 1589\n",
      "0.3386000713325434 2167\n",
      "0.8027942852475269 1001\n",
      "0.6854949500098435 2071\n",
      "0.5854976843264144 337\n",
      "0.9897144326025815 199\n",
      "0.9788248367477881 277\n",
      "0.6663238815683886 2123\n",
      "0.3322887384238219 1865\n",
      "0.48498897907775707 96\n",
      "0.9788248367477881 277\n",
      "0.8015370253975057 1834\n",
      "0.33400751243227156 394\n",
      "0.2987729444396364 983\n",
      "0.6663238815683886 2116\n",
      "0.7520447081448819 679\n",
      "0.9581055601727221 1811\n",
      "0.3520044668340679 1200\n",
      "0.5363843330445243 1019\n",
      "0.4251449989378616 1887\n",
      "0.49743040227550067 216\n",
      "1.256281426716917 299\n",
      "0.6312366331911502 26\n",
      "0.5817044035146832 871\n",
      "1.256281426716917 299\n",
      "0.32372243690797115 2100\n",
      "0.9123190249262638 1187\n",
      "0.5006609782859287 219\n",
      "0.25709215212681863 1556\n",
      "0.7090718227408919 1712\n",
      "0.5503916383643306 528\n",
      "0.7090718227408919 1712\n",
      "0.5803633932304997 1970\n",
      "0.8118096203630887 50\n",
      "0.5218967575103918 1413\n",
      "0.19530353638012235 1948\n",
      "0.2924686327683616 1948\n",
      "0.38686380111169866 2141\n",
      "0.4205117147672179 1676\n",
      "0.7121639820223726 1694\n",
      "0.35803980651940703 1896\n",
      "1.256281426716917 299\n",
      "1.256281426716917 299\n",
      "0.8936196898155633 748\n",
      "0.38230009788367425 1178\n",
      "0.277584504412114 268\n",
      "0.2975135244142875 113\n",
      "1.256281426716917 299\n",
      "0.32780132303916426 1001\n",
      "0.38024969665418423 333\n",
      "1.0488379638047824 87\n",
      "0.564049498606162 1685\n",
      "0.5028907348422136 141\n",
      "0.7264713762273032 1708\n",
      "0.9981099775474378 1701\n",
      "1.167950405035015 57\n",
      "1.0319048699898596 211\n",
      "1.256281426716917 299\n",
      "0.2878361119440179 1082\n",
      "0.7965865908466911 2132\n",
      "0.7849412203290002 2060\n",
      "0.3386000713325434 2110\n",
      "0.23924204136831956 1865\n",
      "0.7132615793652705 471\n",
      "1.1771067263834867 1449\n",
      "1.116861451148021 1701\n",
      "0.30326867469451385 1079\n",
      "0.44064715397121196 1081\n",
      "0.9160867181013097 1608\n",
      "0.9511741891038175 806\n",
      "1.123710285166474 190\n",
      "0.4400422718846064 1519\n",
      "0.6193294046788419 9\n",
      "0.35579048095591204 2249\n",
      "0.4586774113029405 106\n",
      "0.40186929158833556 2236\n",
      "0.5419286739100224 1806\n",
      "0.23007629465103446 380\n",
      "0.4257370005007317 580\n",
      "0.24713936213415763 1629\n",
      "0.3735116284577849 992\n",
      "0.37038586444738614 160\n",
      "0.4898962729908948 1560\n",
      "0.34469432990904153 115\n",
      "0.0 2189\n",
      "0.33515655028749697 525\n",
      "0.4061380675840579 1641\n",
      "0.5061075172192004 1514\n",
      "0.37641887469908575 1755\n",
      "0.30908945679668276 1008\n",
      "0.30454519984535006 1840\n",
      "1.092737157669857 1916\n",
      "0.3944485637096998 878\n",
      "0.3558518109348634 327\n",
      "1.0632376036797448 822\n",
      "0.8746060791109117 1218\n",
      "1.0796879531408186 1376\n",
      "0.806749398817425 1784\n",
      "1.1495870201145417 2200\n",
      "0.2991203057612837 499\n",
      "0.958061009399366 1095\n",
      "0.3518385118716843 2033\n",
      "1.044585900827066 671\n",
      "0.7767812701816705 1037\n",
      "1.1795689420271493 1284\n",
      "1.115351855249055 2181\n",
      "1.059236260113276 166\n",
      "0.7196843294421524 1029\n",
      "0.9570093174642814 897\n",
      "1.1278788022504542 436\n",
      "0.31156239666698127 2242\n",
      "0.4372478289544444 1231\n",
      "0.44268953611654444 109\n",
      "0.3113470546363687 664\n",
      "0.45496251096560225 400\n",
      "0.36780713480689353 644\n",
      "0.38871081935377605 1405\n",
      "0.32533910743211514 1894\n",
      "0.3270040577988795 1781\n",
      "0.4631779257794826 2233\n",
      "0.4334479928419516 1816\n",
      "0.3374069319245811 64\n",
      "0.32286587803563316 553\n",
      "0.3768188008579116 1513\n",
      "0.34295368154348255 946\n",
      "0.4229896714361988 920\n",
      "0.4253968624113439 793\n",
      "0.4241225600150173 1185\n",
      "0.5163401851052936 1743\n",
      "0.41551682404303997 845\n",
      "0.3465392510875835 293\n",
      "0.46849146163461214 1298\n",
      "0.4631779257794826 2220\n",
      "0.3201092542585576 5\n",
      "0.5052153993168031 492\n",
      "0.3076445409117608 956\n",
      "0.3593407869476848 2245\n",
      "0.40186929158833556 2181\n",
      "0.35767956260008454 1198\n",
      "0.5809695314047203 525\n",
      "0.45496251096560225 2217\n",
      "0.3742021449062803 1003\n",
      "0.5267056358249114 920\n",
      "0.5829590593277539 211\n",
      "0.5672614799476644 992\n",
      "0.31156239666698127 2214\n",
      "0.3010222771066845 410\n",
      "0.2741038715390599 1196\n",
      "0.32879879254558847 1061\n",
      "0.2869572072606727 948\n",
      "0.3593407869476848 1192\n",
      "0.41134300838846083 1861\n",
      "0.28466635995862327 114\n",
      "0.31053677262325324 1833\n",
      "0.35579048095591204 2179\n",
      "0.32123776525202485 1755\n",
      "0.37770768717502545 1302\n",
      "0.4985535525935318 1231\n",
      "0.32386098153768195 1355\n",
      "0.3496770848002985 1862\n",
      "0.29870860170974844 113\n",
      "0.3204887888209639 1258\n",
      "0.0 325\n",
      "0.30540070700107674 1885\n",
      "0.369844209999506 2037\n",
      "0.39997552967775707 408\n",
      "0.42128888406633785 904\n",
      "0.5791765966023456 1862\n",
      "0.30031957392196645 214\n",
      "0.40079364393145794 1544\n",
      "0.5365467858860216 1081\n",
      "0.6510510477701306 385\n",
      "0.52629015712559 341\n",
      "0.39158294011578537 1798\n",
      "0.45014873034097685 226\n",
      "0.30555285300258445 649\n",
      "0.3316286715426178 1561\n"
     ]
    }
   ],
   "source": [
    "movies = {}\n",
    "for item in res:\n",
    "    print(item[0][0][1], item[1][0][1])\n",
    "    movies[item[0][0][1]] = item[1][0][1]"
   ]
  },
  {
   "cell_type": "code",
<<<<<<< HEAD:ML/Section 2. Recomendation systems/Lesson 2. Рекомендации на основе содержания/Untitled.ipynb
   "execution_count": 63,
   "metadata": {
    "scrolled": true
   },
=======
   "execution_count": 122,
   "metadata": {},
>>>>>>> 17e33bfda7e3d0483cdd9afd457f60f7b32f4b49:Машинное обучение - фундаментальные инструменты и практики/Section 2. Recomendation systems/Lesson 2. Рекомендации на основе содержания/Untitled.ipynb
   "outputs": [
    {
     "data": {
      "text/plain": [
<<<<<<< HEAD:ML/Section 2. Recomendation systems/Lesson 2. Рекомендации на основе содержания/Untitled.ipynb
       "[0.3201092542585576,\n",
       " 0.5470434090574813,\n",
       " 0.43117413418090034,\n",
       " 0.6197455813542228,\n",
       " 0.0,\n",
       " 0.357634956652696,\n",
       " 1.0501503347858598,\n",
       " 0.6872014293552589,\n",
       " 1.058886603965693,\n",
       " 0.39015986748748077]"
      ]
     },
     "execution_count": 63,
=======
       "[325,\n",
       " 450,\n",
       " 665,\n",
       " 996,\n",
       " 840,\n",
       " 1001,\n",
       " 1065,\n",
       " 305,\n",
       " 495,\n",
       " 1143,\n",
       " 435,\n",
       " 1370,\n",
       " 1478,\n",
       " 1629,\n",
       " 1651,\n",
       " 1137,\n",
       " 1812,\n",
       " 1865,\n",
       " 1948,\n",
       " 380]"
      ]
     },
     "execution_count": 122,
>>>>>>> 17e33bfda7e3d0483cdd9afd457f60f7b32f4b49:Машинное обучение - фундаментальные инструменты и практики/Section 2. Recomendation systems/Lesson 2. Рекомендации на основе содержания/Untitled.ipynb
     "metadata": {},
     "output_type": "execute_result"
    }
   ],
   "source": [
    "list(movies)[:10]"
   ]
  },
  {
   "cell_type": "code",
<<<<<<< HEAD:ML/Section 2. Recomendation systems/Lesson 2. Рекомендации на основе содержания/Untitled.ipynb
   "execution_count": 64,
=======
   "execution_count": 127,
>>>>>>> 17e33bfda7e3d0483cdd9afd457f60f7b32f4b49:Машинное обучение - фундаментальные инструменты и практики/Section 2. Recomendation systems/Lesson 2. Рекомендации на основе содержания/Untitled.ipynb
   "metadata": {},
   "outputs": [
    {
     "data": {
      "text/plain": [
<<<<<<< HEAD:ML/Section 2. Recomendation systems/Lesson 2. Рекомендации на основе содержания/Untitled.ipynb
       "377"
      ]
     },
     "execution_count": 64,
=======
       "array(['With Honors (1994)', 'True Lies (1994)', 'Coneheads (1993)',\n",
       "       'Last Man Standing (1996)', 'Die Hard 2 (1990)',\n",
       "       'Ready to Wear (Pret-A-Porter) (1994)',\n",
       "       \"National Lampoon's Senior Trip (1995)\", 'Wide Awake (1998)',\n",
       "       'Hustler White (1996)', 'Underground (1995)',\n",
       "       'House Arrest (1996)', 'Tom Jones (1963)',\n",
       "       'MatchMaker, The (1997)',\n",
       "       'In the Realm of the Senses (Ai no corrida) (1976)'], dtype=object)"
      ]
     },
     "execution_count": 127,
>>>>>>> 17e33bfda7e3d0483cdd9afd457f60f7b32f4b49:Машинное обучение - фундаментальные инструменты и практики/Section 2. Recomendation systems/Lesson 2. Рекомендации на основе содержания/Untitled.ipynb
     "metadata": {},
     "output_type": "execute_result"
    }
   ],
   "source": [
<<<<<<< HEAD:ML/Section 2. Recomendation systems/Lesson 2. Рекомендации на основе содержания/Untitled.ipynb
    "movies[0.5470434090574813]"
=======
    "ratings[ratings['movieId'].isin(rec_movies_ids)]['title'].unique()"
   ]
  },
  {
   "cell_type": "markdown",
   "metadata": {},
   "source": [
    "### Убедимся ещё раз, что пользователь эти фильмы не смотрел"
   ]
  },
  {
   "cell_type": "code",
   "execution_count": 135,
   "metadata": {},
   "outputs": [
    {
     "data": {
      "text/plain": [
       "['With Honors (1994)',\n",
       " 'True Lies (1994)',\n",
       " 'Coneheads (1993)',\n",
       " 'Last Man Standing (1996)',\n",
       " 'Die Hard 2 (1990)',\n",
       " 'Ready to Wear (Pret-A-Porter) (1994)',\n",
       " \"National Lampoon's Senior Trip (1995)\",\n",
       " 'Wide Awake (1998)',\n",
       " 'Hustler White (1996)',\n",
       " 'Underground (1995)',\n",
       " 'House Arrest (1996)',\n",
       " 'Tom Jones (1963)',\n",
       " 'MatchMaker, The (1997)',\n",
       " 'In the Realm of the Senses (Ai no corrida) (1976)']"
      ]
     },
     "execution_count": 135,
     "metadata": {},
     "output_type": "execute_result"
    }
   ],
   "source": [
    "l = list(ratings[ratings['movieId'].isin(rec_movies_ids)]['title'].unique())\n",
    "l"
   ]
  },
  {
   "cell_type": "code",
   "execution_count": 158,
   "metadata": {},
   "outputs": [
    {
     "data": {
      "text/plain": [
       "['Toy Story (1995)',\n",
       " 'Grumpier Old Men (1995)',\n",
       " 'Heat (1995)',\n",
       " 'Seven (a.k.a. Se7en) (1995)',\n",
       " 'Usual Suspects, The (1995)']"
      ]
     },
     "execution_count": 158,
     "metadata": {},
     "output_type": "execute_result"
    }
   ],
   "source": [
    "watched_movies = list(ratings.loc[ratings['userId'] == 414, :]['title'].unique())\n",
    "watched_movies[:5]"
   ]
  },
  {
   "cell_type": "code",
   "execution_count": 159,
   "metadata": {},
   "outputs": [
    {
     "name": "stdout",
     "output_type": "stream",
     "text": [
      "With Honors (1994)\n",
      "True Lies (1994)\n",
      "Last Man Standing (1996)\n",
      "Die Hard 2 (1990)\n",
      "National Lampoon's Senior Trip (1995)\n",
      "Wide Awake (1998)\n"
     ]
    }
   ],
   "source": [
    "for movie in l:\n",
    "    if movie in watched_movies:\n",
    "        print(movie)"
   ]
  },
  {
   "cell_type": "code",
   "execution_count": 163,
   "metadata": {},
   "outputs": [
    {
     "data": {
      "text/plain": [
       "['True Lies (1994)',\n",
       " 'Coneheads (1993)',\n",
       " 'Die Hard 2 (1990)',\n",
       " 'Ready to Wear (Pret-A-Porter) (1994)',\n",
       " 'Wide Awake (1998)',\n",
       " 'Hustler White (1996)',\n",
       " 'Underground (1995)',\n",
       " 'House Arrest (1996)',\n",
       " 'Tom Jones (1963)',\n",
       " 'MatchMaker, The (1997)',\n",
       " 'In the Realm of the Senses (Ai no corrida) (1976)']"
      ]
     },
     "execution_count": 163,
     "metadata": {},
     "output_type": "execute_result"
    }
   ],
   "source": [
    "for movie in l:\n",
    "    if movie in watched_movies:\n",
    "        l.remove(movie)\n",
    "l"
>>>>>>> 17e33bfda7e3d0483cdd9afd457f60f7b32f4b49:Машинное обучение - фундаментальные инструменты и практики/Section 2. Recomendation systems/Lesson 2. Рекомендации на основе содержания/Untitled.ipynb
   ]
  },
  {
   "cell_type": "markdown",
   "metadata": {},
   "source": [
<<<<<<< HEAD:ML/Section 2. Recomendation systems/Lesson 2. Рекомендации на основе содержания/Untitled.ipynb
    "### Найдём фильмы, которые пользователь не смотрел"
=======
    "### Часть 2. Предсказание"
   ]
  },
  {
   "cell_type": "code",
   "execution_count": 164,
   "metadata": {},
   "outputs": [],
   "source": [
    "from sklearn.tree import DecisionTreeClassifier"
   ]
  },
  {
   "cell_type": "code",
   "execution_count": 166,
   "metadata": {},
   "outputs": [
    {
     "data": {
      "text/html": [
       "<div>\n",
       "<style scoped>\n",
       "    .dataframe tbody tr th:only-of-type {\n",
       "        vertical-align: middle;\n",
       "    }\n",
       "\n",
       "    .dataframe tbody tr th {\n",
       "        vertical-align: top;\n",
       "    }\n",
       "\n",
       "    .dataframe thead th {\n",
       "        text-align: right;\n",
       "    }\n",
       "</style>\n",
       "<table border=\"1\" class=\"dataframe\">\n",
       "  <thead>\n",
       "    <tr style=\"text-align: right;\">\n",
       "      <th></th>\n",
       "      <th>userId</th>\n",
       "      <th>movieId</th>\n",
       "      <th>rating_x</th>\n",
       "      <th>timestamp_rating</th>\n",
       "      <th>avg_user_rating</th>\n",
       "      <th>title</th>\n",
       "      <th>tags_genres</th>\n",
       "      <th>avg_movie_ratings</th>\n",
       "    </tr>\n",
       "  </thead>\n",
       "  <tbody>\n",
       "    <tr>\n",
       "      <th>0</th>\n",
       "      <td>1</td>\n",
       "      <td>1</td>\n",
       "      <td>4.0</td>\n",
       "      <td>964982703</td>\n",
       "      <td>4.366379</td>\n",
       "      <td>Toy Story (1995)</td>\n",
       "      <td>Adventure Animation Children Comedy Fantasy pi...</td>\n",
       "      <td>3.92093</td>\n",
       "    </tr>\n",
       "    <tr>\n",
       "      <th>1</th>\n",
       "      <td>1</td>\n",
       "      <td>1</td>\n",
       "      <td>4.0</td>\n",
       "      <td>964982703</td>\n",
       "      <td>4.366379</td>\n",
       "      <td>Toy Story (1995)</td>\n",
       "      <td>Adventure Animation Children Comedy Fantasy pi...</td>\n",
       "      <td>3.92093</td>\n",
       "    </tr>\n",
       "    <tr>\n",
       "      <th>2</th>\n",
       "      <td>1</td>\n",
       "      <td>1</td>\n",
       "      <td>4.0</td>\n",
       "      <td>964982703</td>\n",
       "      <td>4.366379</td>\n",
       "      <td>Toy Story (1995)</td>\n",
       "      <td>Adventure Animation Children Comedy Fantasy pi...</td>\n",
       "      <td>3.92093</td>\n",
       "    </tr>\n",
       "    <tr>\n",
       "      <th>3</th>\n",
       "      <td>5</td>\n",
       "      <td>1</td>\n",
       "      <td>4.0</td>\n",
       "      <td>847434962</td>\n",
       "      <td>3.636364</td>\n",
       "      <td>Toy Story (1995)</td>\n",
       "      <td>Adventure Animation Children Comedy Fantasy pi...</td>\n",
       "      <td>3.92093</td>\n",
       "    </tr>\n",
       "    <tr>\n",
       "      <th>4</th>\n",
       "      <td>5</td>\n",
       "      <td>1</td>\n",
       "      <td>4.0</td>\n",
       "      <td>847434962</td>\n",
       "      <td>3.636364</td>\n",
       "      <td>Toy Story (1995)</td>\n",
       "      <td>Adventure Animation Children Comedy Fantasy pi...</td>\n",
       "      <td>3.92093</td>\n",
       "    </tr>\n",
       "  </tbody>\n",
       "</table>\n",
       "</div>"
      ],
      "text/plain": [
       "   userId  movieId  rating_x  timestamp_rating  avg_user_rating  \\\n",
       "0       1        1       4.0         964982703         4.366379   \n",
       "1       1        1       4.0         964982703         4.366379   \n",
       "2       1        1       4.0         964982703         4.366379   \n",
       "3       5        1       4.0         847434962         3.636364   \n",
       "4       5        1       4.0         847434962         3.636364   \n",
       "\n",
       "              title                                        tags_genres  \\\n",
       "0  Toy Story (1995)  Adventure Animation Children Comedy Fantasy pi...   \n",
       "1  Toy Story (1995)  Adventure Animation Children Comedy Fantasy pi...   \n",
       "2  Toy Story (1995)  Adventure Animation Children Comedy Fantasy pi...   \n",
       "3  Toy Story (1995)  Adventure Animation Children Comedy Fantasy pi...   \n",
       "4  Toy Story (1995)  Adventure Animation Children Comedy Fantasy pi...   \n",
       "\n",
       "   avg_movie_ratings  \n",
       "0            3.92093  \n",
       "1            3.92093  \n",
       "2            3.92093  \n",
       "3            3.92093  \n",
       "4            3.92093  "
      ]
     },
     "execution_count": 166,
     "metadata": {},
     "output_type": "execute_result"
    }
   ],
   "source": [
    "ratings.head()"
   ]
  },
  {
   "cell_type": "code",
   "execution_count": 167,
   "metadata": {},
   "outputs": [],
   "source": [
    "clf = DecisionTreeClassifier(max_depth=5)"
   ]
  },
  {
   "cell_type": "markdown",
   "metadata": {},
   "source": [
    "### Обучим модель на фильмах, которые пользователь смотрел"
   ]
  },
  {
   "cell_type": "code",
   "execution_count": 174,
   "metadata": {
    "scrolled": true
   },
   "outputs": [
    {
     "data": {
      "text/html": [
       "<div>\n",
       "<style scoped>\n",
       "    .dataframe tbody tr th:only-of-type {\n",
       "        vertical-align: middle;\n",
       "    }\n",
       "\n",
       "    .dataframe tbody tr th {\n",
       "        vertical-align: top;\n",
       "    }\n",
       "\n",
       "    .dataframe thead th {\n",
       "        text-align: right;\n",
       "    }\n",
       "</style>\n",
       "<table border=\"1\" class=\"dataframe\">\n",
       "  <thead>\n",
       "    <tr style=\"text-align: right;\">\n",
       "      <th></th>\n",
       "      <th>userId</th>\n",
       "      <th>movieId</th>\n",
       "      <th>rating_x</th>\n",
       "      <th>timestamp_rating</th>\n",
       "      <th>avg_user_rating</th>\n",
       "      <th>title</th>\n",
       "      <th>tags_genres</th>\n",
       "      <th>avg_movie_ratings</th>\n",
       "    </tr>\n",
       "  </thead>\n",
       "  <tbody>\n",
       "    <tr>\n",
       "      <th>438</th>\n",
       "      <td>414</td>\n",
       "      <td>1</td>\n",
       "      <td>4.0</td>\n",
       "      <td>961438127</td>\n",
       "      <td>3.391957</td>\n",
       "      <td>Toy Story (1995)</td>\n",
       "      <td>Adventure Animation Children Comedy Fantasy pi...</td>\n",
       "      <td>3.920930</td>\n",
       "    </tr>\n",
       "    <tr>\n",
       "      <th>717</th>\n",
       "      <td>414</td>\n",
       "      <td>3</td>\n",
       "      <td>4.0</td>\n",
       "      <td>961439278</td>\n",
       "      <td>3.391957</td>\n",
       "      <td>Grumpier Old Men (1995)</td>\n",
       "      <td>Comedy Romance moldy old</td>\n",
       "      <td>3.259615</td>\n",
       "    </tr>\n",
       "    <tr>\n",
       "      <th>818</th>\n",
       "      <td>414</td>\n",
       "      <td>6</td>\n",
       "      <td>3.0</td>\n",
       "      <td>961515642</td>\n",
       "      <td>3.391957</td>\n",
       "      <td>Heat (1995)</td>\n",
       "      <td>Action Crime Thriller</td>\n",
       "      <td>3.946078</td>\n",
       "    </tr>\n",
       "    <tr>\n",
       "      <th>1277</th>\n",
       "      <td>414</td>\n",
       "      <td>47</td>\n",
       "      <td>4.0</td>\n",
       "      <td>961681857</td>\n",
       "      <td>3.391957</td>\n",
       "      <td>Seven (a.k.a. Se7en) (1995)</td>\n",
       "      <td>Mystery Thriller mystery twistending serialkiller</td>\n",
       "      <td>3.975369</td>\n",
       "    </tr>\n",
       "    <tr>\n",
       "      <th>2330</th>\n",
       "      <td>414</td>\n",
       "      <td>50</td>\n",
       "      <td>5.0</td>\n",
       "      <td>961681714</td>\n",
       "      <td>3.391957</td>\n",
       "      <td>Usual Suspects, The (1995)</td>\n",
       "      <td>Crime Mystery Thriller mindfuck suspense thril...</td>\n",
       "      <td>4.237745</td>\n",
       "    </tr>\n",
       "  </tbody>\n",
       "</table>\n",
       "</div>"
      ],
      "text/plain": [
       "      userId  movieId  rating_x  timestamp_rating  avg_user_rating  \\\n",
       "438      414        1       4.0         961438127         3.391957   \n",
       "717      414        3       4.0         961439278         3.391957   \n",
       "818      414        6       3.0         961515642         3.391957   \n",
       "1277     414       47       4.0         961681857         3.391957   \n",
       "2330     414       50       5.0         961681714         3.391957   \n",
       "\n",
       "                            title  \\\n",
       "438              Toy Story (1995)   \n",
       "717       Grumpier Old Men (1995)   \n",
       "818                   Heat (1995)   \n",
       "1277  Seven (a.k.a. Se7en) (1995)   \n",
       "2330   Usual Suspects, The (1995)   \n",
       "\n",
       "                                            tags_genres  avg_movie_ratings  \n",
       "438   Adventure Animation Children Comedy Fantasy pi...           3.920930  \n",
       "717                            Comedy Romance moldy old           3.259615  \n",
       "818                              Action Crime Thriller            3.946078  \n",
       "1277  Mystery Thriller mystery twistending serialkiller           3.975369  \n",
       "2330  Crime Mystery Thriller mindfuck suspense thril...           4.237745  "
      ]
     },
     "execution_count": 174,
     "metadata": {},
     "output_type": "execute_result"
    }
   ],
   "source": [
    "df = ratings[ratings['userId'] == 414].drop_duplicates()\n",
    "df.head()"
   ]
  },
  {
   "cell_type": "code",
   "execution_count": 203,
   "metadata": {},
   "outputs": [],
   "source": [
    "X = df.drop(['rating_x', 'title', 'tags_genres'], axis=1)\n",
    "y = round(df['rating_x'])"
>>>>>>> 17e33bfda7e3d0483cdd9afd457f60f7b32f4b49:Машинное обучение - фундаментальные инструменты и практики/Section 2. Recomendation systems/Lesson 2. Рекомендации на основе содержания/Untitled.ipynb
   ]
  },
  {
   "cell_type": "code",
<<<<<<< HEAD:ML/Section 2. Recomendation systems/Lesson 2. Рекомендации на основе содержания/Untitled.ipynb
   "execution_count": 79,
=======
   "execution_count": 204,
>>>>>>> 17e33bfda7e3d0483cdd9afd457f60f7b32f4b49:Машинное обучение - фундаментальные инструменты и практики/Section 2. Recomendation systems/Lesson 2. Рекомендации на основе содержания/Untitled.ipynb
   "metadata": {},
   "outputs": [
    {
     "data": {
<<<<<<< HEAD:ML/Section 2. Recomendation systems/Lesson 2. Рекомендации на основе содержания/Untitled.ipynb
      "text/html": [
       "<div>\n",
       "<style scoped>\n",
       "    .dataframe tbody tr th:only-of-type {\n",
       "        vertical-align: middle;\n",
       "    }\n",
       "\n",
       "    .dataframe tbody tr th {\n",
       "        vertical-align: top;\n",
       "    }\n",
       "\n",
       "    .dataframe thead th {\n",
       "        text-align: right;\n",
       "    }\n",
       "</style>\n",
       "<table border=\"1\" class=\"dataframe\">\n",
       "  <thead>\n",
       "    <tr style=\"text-align: right;\">\n",
       "      <th></th>\n",
       "      <th>userId</th>\n",
       "      <th>movieId</th>\n",
       "      <th>rating_x</th>\n",
       "      <th>timestamp_rating</th>\n",
       "      <th>avg_user_rating</th>\n",
       "      <th>title</th>\n",
       "      <th>tags_genres</th>\n",
       "      <th>avg_movie_ratings</th>\n",
       "    </tr>\n",
       "  </thead>\n",
       "  <tbody>\n",
       "    <tr>\n",
       "      <th>2684</th>\n",
       "      <td>1</td>\n",
       "      <td>70</td>\n",
       "      <td>3.0</td>\n",
       "      <td>964982400</td>\n",
       "      <td>4.366379</td>\n",
       "      <td>From Dusk Till Dawn (1996)</td>\n",
       "      <td>Action Comedy Horror Thriller</td>\n",
       "      <td>3.509091</td>\n",
       "    </tr>\n",
       "    <tr>\n",
       "      <th>2685</th>\n",
       "      <td>18</td>\n",
       "      <td>70</td>\n",
       "      <td>3.5</td>\n",
       "      <td>1455735732</td>\n",
       "      <td>3.732072</td>\n",
       "      <td>From Dusk Till Dawn (1996)</td>\n",
       "      <td>Action Comedy Horror Thriller</td>\n",
       "      <td>3.509091</td>\n",
       "    </tr>\n",
       "    <tr>\n",
       "      <th>2686</th>\n",
       "      <td>19</td>\n",
       "      <td>70</td>\n",
       "      <td>2.0</td>\n",
       "      <td>965704974</td>\n",
       "      <td>2.607397</td>\n",
       "      <td>From Dusk Till Dawn (1996)</td>\n",
       "      <td>Action Comedy Horror Thriller</td>\n",
       "      <td>3.509091</td>\n",
       "    </tr>\n",
       "    <tr>\n",
       "      <th>2687</th>\n",
       "      <td>34</td>\n",
       "      <td>70</td>\n",
       "      <td>3.5</td>\n",
       "      <td>1162048002</td>\n",
       "      <td>3.418605</td>\n",
       "      <td>From Dusk Till Dawn (1996)</td>\n",
       "      <td>Action Comedy Horror Thriller</td>\n",
       "      <td>3.509091</td>\n",
       "    </tr>\n",
       "    <tr>\n",
       "      <th>2688</th>\n",
       "      <td>45</td>\n",
       "      <td>70</td>\n",
       "      <td>4.0</td>\n",
       "      <td>951170563</td>\n",
       "      <td>3.875940</td>\n",
       "      <td>From Dusk Till Dawn (1996)</td>\n",
       "      <td>Action Comedy Horror Thriller</td>\n",
       "      <td>3.509091</td>\n",
       "    </tr>\n",
       "    <tr>\n",
       "      <th>...</th>\n",
       "      <td>...</td>\n",
       "      <td>...</td>\n",
       "      <td>...</td>\n",
       "      <td>...</td>\n",
       "      <td>...</td>\n",
       "      <td>...</td>\n",
       "      <td>...</td>\n",
       "      <td>...</td>\n",
       "    </tr>\n",
       "    <tr>\n",
       "      <th>285757</th>\n",
       "      <td>610</td>\n",
       "      <td>160341</td>\n",
       "      <td>2.5</td>\n",
       "      <td>1479545749</td>\n",
       "      <td>3.688556</td>\n",
       "      <td>Bloodmoon (1997)</td>\n",
       "      <td>Action Thriller</td>\n",
       "      <td>2.500000</td>\n",
       "    </tr>\n",
       "    <tr>\n",
       "      <th>285758</th>\n",
       "      <td>610</td>\n",
       "      <td>160527</td>\n",
       "      <td>4.5</td>\n",
       "      <td>1479544998</td>\n",
       "      <td>3.688556</td>\n",
       "      <td>Sympathy for the Underdog (1971)</td>\n",
       "      <td>Action Crime Drama</td>\n",
       "      <td>4.500000</td>\n",
       "    </tr>\n",
       "    <tr>\n",
       "      <th>285759</th>\n",
       "      <td>610</td>\n",
       "      <td>160836</td>\n",
       "      <td>3.0</td>\n",
       "      <td>1493844794</td>\n",
       "      <td>3.688556</td>\n",
       "      <td>Hazard (2005)</td>\n",
       "      <td>Action Drama Thriller</td>\n",
       "      <td>3.000000</td>\n",
       "    </tr>\n",
       "    <tr>\n",
       "      <th>285760</th>\n",
       "      <td>610</td>\n",
       "      <td>163937</td>\n",
       "      <td>3.5</td>\n",
       "      <td>1493848789</td>\n",
       "      <td>3.688556</td>\n",
       "      <td>Blair Witch (2016)</td>\n",
       "      <td>Horror Thriller</td>\n",
       "      <td>3.500000</td>\n",
       "    </tr>\n",
       "    <tr>\n",
       "      <th>285761</th>\n",
       "      <td>610</td>\n",
       "      <td>163981</td>\n",
       "      <td>3.5</td>\n",
       "      <td>1493850155</td>\n",
       "      <td>3.688556</td>\n",
       "      <td>31 (2016)</td>\n",
       "      <td>Horror</td>\n",
       "      <td>3.500000</td>\n",
       "    </tr>\n",
       "  </tbody>\n",
       "</table>\n",
       "<p>26916 rows × 8 columns</p>\n",
       "</div>"
      ],
      "text/plain": [
       "        userId  movieId  rating_x  timestamp_rating  avg_user_rating  \\\n",
       "2684         1       70       3.0         964982400         4.366379   \n",
       "2685        18       70       3.5        1455735732         3.732072   \n",
       "2686        19       70       2.0         965704974         2.607397   \n",
       "2687        34       70       3.5        1162048002         3.418605   \n",
       "2688        45       70       4.0         951170563         3.875940   \n",
       "...        ...      ...       ...               ...              ...   \n",
       "285757     610   160341       2.5        1479545749         3.688556   \n",
       "285758     610   160527       4.5        1479544998         3.688556   \n",
       "285759     610   160836       3.0        1493844794         3.688556   \n",
       "285760     610   163937       3.5        1493848789         3.688556   \n",
       "285761     610   163981       3.5        1493850155         3.688556   \n",
       "\n",
       "                                   title                     tags_genres  \\\n",
       "2684          From Dusk Till Dawn (1996)  Action Comedy Horror Thriller    \n",
       "2685          From Dusk Till Dawn (1996)  Action Comedy Horror Thriller    \n",
       "2686          From Dusk Till Dawn (1996)  Action Comedy Horror Thriller    \n",
       "2687          From Dusk Till Dawn (1996)  Action Comedy Horror Thriller    \n",
       "2688          From Dusk Till Dawn (1996)  Action Comedy Horror Thriller    \n",
       "...                                  ...                             ...   \n",
       "285757                  Bloodmoon (1997)                Action Thriller    \n",
       "285758  Sympathy for the Underdog (1971)             Action Crime Drama    \n",
       "285759                     Hazard (2005)          Action Drama Thriller    \n",
       "285760                Blair Witch (2016)                Horror Thriller    \n",
       "285761                         31 (2016)                         Horror    \n",
       "\n",
       "        avg_movie_ratings  \n",
       "2684             3.509091  \n",
       "2685             3.509091  \n",
       "2686             3.509091  \n",
       "2687             3.509091  \n",
       "2688             3.509091  \n",
       "...                   ...  \n",
       "285757           2.500000  \n",
       "285758           4.500000  \n",
       "285759           3.000000  \n",
       "285760           3.500000  \n",
       "285761           3.500000  \n",
       "\n",
       "[26916 rows x 8 columns]"
      ]
     },
     "execution_count": 79,
=======
      "text/plain": [
       "array([4., 3., 5., 2., 1., 0.])"
      ]
     },
     "execution_count": 204,
>>>>>>> 17e33bfda7e3d0483cdd9afd457f60f7b32f4b49:Машинное обучение - фундаментальные инструменты и практики/Section 2. Recomendation systems/Lesson 2. Рекомендации на основе содержания/Untitled.ipynb
     "metadata": {},
     "output_type": "execute_result"
    }
   ],
   "source": [
<<<<<<< HEAD:ML/Section 2. Recomendation systems/Lesson 2. Рекомендации на основе содержания/Untitled.ipynb
    "movies_watched = list(ratings[ratings['userId']==414]['movieId'])\n",
    "ratings[~ratings['movieId'].isin(movies_watched)]"
   ]
  },
  {
   "cell_type": "markdown",
   "metadata": {},
   "source": [
    "### Найдём топ 20 фильмов с кратчайшим расстоянием"
   ]
  },
  {
   "cell_type": "code",
   "execution_count": 67,
   "metadata": {},
   "outputs": [
    {
     "data": {
      "text/plain": [
       "[0.0,\n",
       " 0.19530353638012235,\n",
       " 0.2076296456718663,\n",
       " 0.21459959284764613,\n",
       " 0.21487545244584133,\n",
       " 0.21713811249825718,\n",
       " 0.22190629861867883,\n",
       " 0.2227838408161367,\n",
       " 0.22366041988863608,\n",
       " 0.22607157453518786,\n",
       " 0.23007629465103446,\n",
       " 0.2345626162832991,\n",
       " 0.23547104683641448,\n",
       " 0.2356809579244237,\n",
       " 0.23718967177452083,\n",
       " 0.23924204136831956,\n",
       " 0.2405132428963808,\n",
       " 0.24713936213415763,\n",
       " 0.24725387033359741,\n",
       " 0.2486349951201388]"
      ]
     },
     "execution_count": 67,
     "metadata": {},
     "output_type": "execute_result"
    }
   ],
   "source": [
    "list_keys = list(movies.keys())\n",
    "list_keys.sort()\n",
    "list_keys[:20]\n"
   ]
  },
  {
   "cell_type": "code",
   "execution_count": 68,
   "metadata": {},
   "outputs": [],
   "source": [
    "rec_movies_ids = []\n",
    "for key in movies:\n",
    "    for item in list_keys[:10]:\n",
    "        if item == key:\n",
    "            rec_movies_ids.append(movies[key])\n",
    "#     rec_movies_ids.append(movies[key])"
   ]
  },
  {
   "cell_type": "code",
   "execution_count": 69,
   "metadata": {},
   "outputs": [
    {
     "data": {
      "text/plain": [
       "[325, 665, 996, 1065, 305, 1143, 435, 1478, 1812, 1948]"
      ]
     },
     "execution_count": 69,
     "metadata": {},
     "output_type": "execute_result"
    }
   ],
   "source": [
    "rec_movies_ids"
   ]
  },
  {
   "cell_type": "code",
   "execution_count": 70,
   "metadata": {},
   "outputs": [
    {
     "data": {
      "text/html": [
       "<div>\n",
       "<style scoped>\n",
       "    .dataframe tbody tr th:only-of-type {\n",
       "        vertical-align: middle;\n",
       "    }\n",
       "\n",
       "    .dataframe tbody tr th {\n",
       "        vertical-align: top;\n",
       "    }\n",
       "\n",
       "    .dataframe thead th {\n",
       "        text-align: right;\n",
       "    }\n",
       "</style>\n",
       "<table border=\"1\" class=\"dataframe\">\n",
       "  <thead>\n",
       "    <tr style=\"text-align: right;\">\n",
       "      <th></th>\n",
       "      <th>userId</th>\n",
       "      <th>movieId</th>\n",
       "      <th>rating_x</th>\n",
       "      <th>timestamp_rating</th>\n",
       "      <th>avg_user_rating</th>\n",
       "      <th>title</th>\n",
       "      <th>tags_genres</th>\n",
       "      <th>avg_movie_ratings</th>\n",
       "    </tr>\n",
       "  </thead>\n",
       "  <tbody>\n",
       "    <tr>\n",
       "      <th>230018</th>\n",
       "      <td>19</td>\n",
       "      <td>325</td>\n",
       "      <td>2.0</td>\n",
       "      <td>965708360</td>\n",
       "      <td>2.607397</td>\n",
       "      <td>National Lampoon's Senior Trip (1995)</td>\n",
       "      <td>Comedy</td>\n",
       "      <td>2.5</td>\n",
       "    </tr>\n",
       "    <tr>\n",
       "      <th>230019</th>\n",
       "      <td>43</td>\n",
       "      <td>325</td>\n",
       "      <td>5.0</td>\n",
       "      <td>848994749</td>\n",
       "      <td>4.552632</td>\n",
       "      <td>National Lampoon's Senior Trip (1995)</td>\n",
       "      <td>Comedy</td>\n",
       "      <td>2.5</td>\n",
       "    </tr>\n",
       "    <tr>\n",
       "      <th>230020</th>\n",
       "      <td>99</td>\n",
       "      <td>325</td>\n",
       "      <td>2.0</td>\n",
       "      <td>829828006</td>\n",
       "      <td>3.867925</td>\n",
       "      <td>National Lampoon's Senior Trip (1995)</td>\n",
       "      <td>Comedy</td>\n",
       "      <td>2.5</td>\n",
       "    </tr>\n",
       "    <tr>\n",
       "      <th>230021</th>\n",
       "      <td>294</td>\n",
       "      <td>325</td>\n",
       "      <td>2.0</td>\n",
       "      <td>966597066</td>\n",
       "      <td>2.610984</td>\n",
       "      <td>National Lampoon's Senior Trip (1995)</td>\n",
       "      <td>Comedy</td>\n",
       "      <td>2.5</td>\n",
       "    </tr>\n",
       "    <tr>\n",
       "      <th>230022</th>\n",
       "      <td>414</td>\n",
       "      <td>325</td>\n",
       "      <td>2.0</td>\n",
       "      <td>961439358</td>\n",
       "      <td>3.391957</td>\n",
       "      <td>National Lampoon's Senior Trip (1995)</td>\n",
       "      <td>Comedy</td>\n",
       "      <td>2.5</td>\n",
       "    </tr>\n",
       "    <tr>\n",
       "      <th>230023</th>\n",
       "      <td>592</td>\n",
       "      <td>325</td>\n",
       "      <td>3.0</td>\n",
       "      <td>837350907</td>\n",
       "      <td>3.585106</td>\n",
       "      <td>National Lampoon's Senior Trip (1995)</td>\n",
       "      <td>Comedy</td>\n",
       "      <td>2.5</td>\n",
       "    </tr>\n",
       "    <tr>\n",
       "      <th>230024</th>\n",
       "      <td>599</td>\n",
       "      <td>325</td>\n",
       "      <td>1.5</td>\n",
       "      <td>1498505156</td>\n",
       "      <td>2.642050</td>\n",
       "      <td>National Lampoon's Senior Trip (1995)</td>\n",
       "      <td>Comedy</td>\n",
       "      <td>2.5</td>\n",
       "    </tr>\n",
       "  </tbody>\n",
       "</table>\n",
       "</div>"
      ],
      "text/plain": [
       "        userId  movieId  rating_x  timestamp_rating  avg_user_rating  \\\n",
       "230018      19      325       2.0         965708360         2.607397   \n",
       "230019      43      325       5.0         848994749         4.552632   \n",
       "230020      99      325       2.0         829828006         3.867925   \n",
       "230021     294      325       2.0         966597066         2.610984   \n",
       "230022     414      325       2.0         961439358         3.391957   \n",
       "230023     592      325       3.0         837350907         3.585106   \n",
       "230024     599      325       1.5        1498505156         2.642050   \n",
       "\n",
       "                                        title tags_genres  avg_movie_ratings  \n",
       "230018  National Lampoon's Senior Trip (1995)     Comedy                 2.5  \n",
       "230019  National Lampoon's Senior Trip (1995)     Comedy                 2.5  \n",
       "230020  National Lampoon's Senior Trip (1995)     Comedy                 2.5  \n",
       "230021  National Lampoon's Senior Trip (1995)     Comedy                 2.5  \n",
       "230022  National Lampoon's Senior Trip (1995)     Comedy                 2.5  \n",
       "230023  National Lampoon's Senior Trip (1995)     Comedy                 2.5  \n",
       "230024  National Lampoon's Senior Trip (1995)     Comedy                 2.5  "
      ]
     },
     "execution_count": 70,
     "metadata": {},
     "output_type": "execute_result"
    }
   ],
   "source": [
    "ratings.loc[ratings['movieId'] == 325]"
   ]
  },
  {
   "cell_type": "markdown",
   "metadata": {},
   "source": [
    "### Что в итоге будем рекомендовать пользователю 414"
=======
    "y.unique()"
>>>>>>> 17e33bfda7e3d0483cdd9afd457f60f7b32f4b49:Машинное обучение - фундаментальные инструменты и практики/Section 2. Recomendation systems/Lesson 2. Рекомендации на основе содержания/Untitled.ipynb
   ]
  },
  {
   "cell_type": "code",
<<<<<<< HEAD:ML/Section 2. Recomendation systems/Lesson 2. Рекомендации на основе содержания/Untitled.ipynb
   "execution_count": 71,
=======
   "execution_count": 205,
>>>>>>> 17e33bfda7e3d0483cdd9afd457f60f7b32f4b49:Машинное обучение - фундаментальные инструменты и практики/Section 2. Recomendation systems/Lesson 2. Рекомендации на основе содержания/Untitled.ipynb
   "metadata": {},
   "outputs": [
    {
     "data": {
      "text/plain": [
<<<<<<< HEAD:ML/Section 2. Recomendation systems/Lesson 2. Рекомендации на основе содержания/Untitled.ipynb
       "array(['Coneheads (1993)', 'Last Man Standing (1996)',\n",
       "       'Ready to Wear (Pret-A-Porter) (1994)',\n",
       "       \"National Lampoon's Senior Trip (1995)\", 'Wide Awake (1998)',\n",
       "       'Underground (1995)', 'Tom Jones (1963)'], dtype=object)"
      ]
     },
     "execution_count": 71,
=======
       "DecisionTreeClassifier(max_depth=5)"
      ]
     },
     "execution_count": 205,
>>>>>>> 17e33bfda7e3d0483cdd9afd457f60f7b32f4b49:Машинное обучение - фундаментальные инструменты и практики/Section 2. Recomendation systems/Lesson 2. Рекомендации на основе содержания/Untitled.ipynb
     "metadata": {},
     "output_type": "execute_result"
    }
   ],
   "source": [
<<<<<<< HEAD:ML/Section 2. Recomendation systems/Lesson 2. Рекомендации на основе содержания/Untitled.ipynb
    "ratings[ratings['movieId'].isin(rec_movies_ids)]['title'].unique()"
   ]
  },
  {
   "cell_type": "markdown",
   "metadata": {},
   "source": [
    "### Часть 2. Предсказание"
=======
    "clf.fit(X, y)"
>>>>>>> 17e33bfda7e3d0483cdd9afd457f60f7b32f4b49:Машинное обучение - фундаментальные инструменты и практики/Section 2. Recomendation systems/Lesson 2. Рекомендации на основе содержания/Untitled.ipynb
   ]
  },
  {
   "cell_type": "code",
<<<<<<< HEAD:ML/Section 2. Recomendation systems/Lesson 2. Рекомендации на основе содержания/Untitled.ipynb
   "execution_count": 72,
   "metadata": {},
   "outputs": [],
   "source": [
    "from sklearn.tree import DecisionTreeClassifier"
   ]
  },
  {
   "cell_type": "code",
   "execution_count": 73,
   "metadata": {
    "scrolled": true
   },
   "outputs": [
    {
     "data": {
      "text/html": [
       "<div>\n",
       "<style scoped>\n",
       "    .dataframe tbody tr th:only-of-type {\n",
       "        vertical-align: middle;\n",
       "    }\n",
       "\n",
       "    .dataframe tbody tr th {\n",
       "        vertical-align: top;\n",
       "    }\n",
       "\n",
       "    .dataframe thead th {\n",
       "        text-align: right;\n",
       "    }\n",
       "</style>\n",
       "<table border=\"1\" class=\"dataframe\">\n",
       "  <thead>\n",
       "    <tr style=\"text-align: right;\">\n",
       "      <th></th>\n",
       "      <th>userId</th>\n",
       "      <th>movieId</th>\n",
       "      <th>rating_x</th>\n",
       "      <th>timestamp_rating</th>\n",
       "      <th>avg_user_rating</th>\n",
       "      <th>title</th>\n",
       "      <th>tags_genres</th>\n",
       "      <th>avg_movie_ratings</th>\n",
       "    </tr>\n",
       "  </thead>\n",
       "  <tbody>\n",
       "    <tr>\n",
       "      <th>0</th>\n",
       "      <td>1</td>\n",
       "      <td>1</td>\n",
       "      <td>4.0</td>\n",
       "      <td>964982703</td>\n",
       "      <td>4.366379</td>\n",
       "      <td>Toy Story (1995)</td>\n",
       "      <td>Adventure Animation Children Comedy Fantasy pi...</td>\n",
       "      <td>3.92093</td>\n",
       "    </tr>\n",
       "    <tr>\n",
       "      <th>3</th>\n",
       "      <td>5</td>\n",
       "      <td>1</td>\n",
       "      <td>4.0</td>\n",
       "      <td>847434962</td>\n",
       "      <td>3.636364</td>\n",
       "      <td>Toy Story (1995)</td>\n",
       "      <td>Adventure Animation Children Comedy Fantasy pi...</td>\n",
       "      <td>3.92093</td>\n",
       "    </tr>\n",
       "    <tr>\n",
       "      <th>6</th>\n",
       "      <td>7</td>\n",
       "      <td>1</td>\n",
       "      <td>4.5</td>\n",
       "      <td>1106635946</td>\n",
       "      <td>3.230263</td>\n",
       "      <td>Toy Story (1995)</td>\n",
       "      <td>Adventure Animation Children Comedy Fantasy pi...</td>\n",
       "      <td>3.92093</td>\n",
       "    </tr>\n",
       "    <tr>\n",
       "      <th>9</th>\n",
       "      <td>15</td>\n",
       "      <td>1</td>\n",
       "      <td>2.5</td>\n",
       "      <td>1510577970</td>\n",
       "      <td>3.448148</td>\n",
       "      <td>Toy Story (1995)</td>\n",
       "      <td>Adventure Animation Children Comedy Fantasy pi...</td>\n",
       "      <td>3.92093</td>\n",
       "    </tr>\n",
       "    <tr>\n",
       "      <th>12</th>\n",
       "      <td>17</td>\n",
       "      <td>1</td>\n",
       "      <td>4.5</td>\n",
       "      <td>1305696483</td>\n",
       "      <td>4.209524</td>\n",
       "      <td>Toy Story (1995)</td>\n",
       "      <td>Adventure Animation Children Comedy Fantasy pi...</td>\n",
       "      <td>3.92093</td>\n",
       "    </tr>\n",
       "  </tbody>\n",
       "</table>\n",
       "</div>"
      ],
      "text/plain": [
       "    userId  movieId  rating_x  timestamp_rating  avg_user_rating  \\\n",
       "0        1        1       4.0         964982703         4.366379   \n",
       "3        5        1       4.0         847434962         3.636364   \n",
       "6        7        1       4.5        1106635946         3.230263   \n",
       "9       15        1       2.5        1510577970         3.448148   \n",
       "12      17        1       4.5        1305696483         4.209524   \n",
       "\n",
       "               title                                        tags_genres  \\\n",
       "0   Toy Story (1995)  Adventure Animation Children Comedy Fantasy pi...   \n",
       "3   Toy Story (1995)  Adventure Animation Children Comedy Fantasy pi...   \n",
       "6   Toy Story (1995)  Adventure Animation Children Comedy Fantasy pi...   \n",
       "9   Toy Story (1995)  Adventure Animation Children Comedy Fantasy pi...   \n",
       "12  Toy Story (1995)  Adventure Animation Children Comedy Fantasy pi...   \n",
       "\n",
       "    avg_movie_ratings  \n",
       "0             3.92093  \n",
       "3             3.92093  \n",
       "6             3.92093  \n",
       "9             3.92093  \n",
       "12            3.92093  "
      ]
     },
     "execution_count": 73,
     "metadata": {},
     "output_type": "execute_result"
    }
   ],
   "source": [
    "ratings.head()"
   ]
  },
  {
   "cell_type": "code",
   "execution_count": 74,
   "metadata": {},
   "outputs": [
    {
     "data": {
      "text/plain": [
       "2158.4"
      ]
     },
     "execution_count": 74,
     "metadata": {},
     "output_type": "execute_result"
    }
   ],
   "source": [
    "len(ratings.loc[ratings.userId == 414])*0.8"
   ]
  },
  {
   "cell_type": "code",
   "execution_count": 75,
   "metadata": {},
   "outputs": [],
   "source": [
    "clf = DecisionTreeClassifier(max_depth=5)"
   ]
  },
  {
   "cell_type": "code",
   "execution_count": 76,
   "metadata": {},
   "outputs": [
    {
     "ename": "NameError",
     "evalue": "name 'X' is not defined",
     "output_type": "error",
     "traceback": [
      "\u001b[1;31m---------------------------------------------------------------------------\u001b[0m",
      "\u001b[1;31mNameError\u001b[0m                                 Traceback (most recent call last)",
      "\u001b[1;32m<ipython-input-76-6330ed2c797f>\u001b[0m in \u001b[0;36m<module>\u001b[1;34m\u001b[0m\n\u001b[1;32m----> 1\u001b[1;33m \u001b[0mXcut\u001b[0m \u001b[1;33m=\u001b[0m \u001b[0mX\u001b[0m\u001b[1;33m[\u001b[0m\u001b[0mX\u001b[0m\u001b[1;33m.\u001b[0m\u001b[0mcolumns\u001b[0m\u001b[1;33m[\u001b[0m\u001b[1;36m2\u001b[0m\u001b[1;33m:\u001b[0m\u001b[1;36m4\u001b[0m\u001b[1;33m]\u001b[0m\u001b[1;33m]\u001b[0m\u001b[1;33m\u001b[0m\u001b[1;33m\u001b[0m\u001b[0m\n\u001b[0m",
      "\u001b[1;31mNameError\u001b[0m: name 'X' is not defined"
=======
   "execution_count": 206,
   "metadata": {},
   "outputs": [
    {
     "ename": "ValueError",
     "evalue": "Number of features of the model must match the input. Model n_features is 5 and input n_features is 2 ",
     "output_type": "error",
     "traceback": [
      "\u001b[1;31m---------------------------------------------------------------------------\u001b[0m",
      "\u001b[1;31mValueError\u001b[0m                                Traceback (most recent call last)",
      "\u001b[1;32m<ipython-input-206-45ee234ed5bb>\u001b[0m in \u001b[0;36m<module>\u001b[1;34m\u001b[0m\n\u001b[1;32m----> 1\u001b[1;33m \u001b[0mclf\u001b[0m\u001b[1;33m.\u001b[0m\u001b[0mpredict\u001b[0m\u001b[1;33m(\u001b[0m\u001b[1;33m[\u001b[0m \u001b[1;33m[\u001b[0m\u001b[1;36m1\u001b[0m\u001b[1;33m,\u001b[0m\u001b[1;36m1\u001b[0m\u001b[1;33m]\u001b[0m\u001b[1;33m,\u001b[0m \u001b[1;33m[\u001b[0m\u001b[1;36m3\u001b[0m\u001b[1;33m,\u001b[0m\u001b[1;36m3\u001b[0m\u001b[1;33m]\u001b[0m \u001b[1;33m]\u001b[0m\u001b[1;33m)\u001b[0m\u001b[1;33m\u001b[0m\u001b[1;33m\u001b[0m\u001b[0m\n\u001b[0m",
      "\u001b[1;32m~\\anaconda3\\lib\\site-packages\\sklearn\\tree\\_classes.py\u001b[0m in \u001b[0;36mpredict\u001b[1;34m(self, X, check_input)\u001b[0m\n\u001b[0;32m    425\u001b[0m         \"\"\"\n\u001b[0;32m    426\u001b[0m         \u001b[0mcheck_is_fitted\u001b[0m\u001b[1;33m(\u001b[0m\u001b[0mself\u001b[0m\u001b[1;33m)\u001b[0m\u001b[1;33m\u001b[0m\u001b[1;33m\u001b[0m\u001b[0m\n\u001b[1;32m--> 427\u001b[1;33m         \u001b[0mX\u001b[0m \u001b[1;33m=\u001b[0m \u001b[0mself\u001b[0m\u001b[1;33m.\u001b[0m\u001b[0m_validate_X_predict\u001b[0m\u001b[1;33m(\u001b[0m\u001b[0mX\u001b[0m\u001b[1;33m,\u001b[0m \u001b[0mcheck_input\u001b[0m\u001b[1;33m)\u001b[0m\u001b[1;33m\u001b[0m\u001b[1;33m\u001b[0m\u001b[0m\n\u001b[0m\u001b[0;32m    428\u001b[0m         \u001b[0mproba\u001b[0m \u001b[1;33m=\u001b[0m \u001b[0mself\u001b[0m\u001b[1;33m.\u001b[0m\u001b[0mtree_\u001b[0m\u001b[1;33m.\u001b[0m\u001b[0mpredict\u001b[0m\u001b[1;33m(\u001b[0m\u001b[0mX\u001b[0m\u001b[1;33m)\u001b[0m\u001b[1;33m\u001b[0m\u001b[1;33m\u001b[0m\u001b[0m\n\u001b[0;32m    429\u001b[0m         \u001b[0mn_samples\u001b[0m \u001b[1;33m=\u001b[0m \u001b[0mX\u001b[0m\u001b[1;33m.\u001b[0m\u001b[0mshape\u001b[0m\u001b[1;33m[\u001b[0m\u001b[1;36m0\u001b[0m\u001b[1;33m]\u001b[0m\u001b[1;33m\u001b[0m\u001b[1;33m\u001b[0m\u001b[0m\n",
      "\u001b[1;32m~\\anaconda3\\lib\\site-packages\\sklearn\\tree\\_classes.py\u001b[0m in \u001b[0;36m_validate_X_predict\u001b[1;34m(self, X, check_input)\u001b[0m\n\u001b[0;32m    397\u001b[0m                              \u001b[1;34m\"match the input. Model n_features is %s and \"\u001b[0m\u001b[1;33m\u001b[0m\u001b[1;33m\u001b[0m\u001b[0m\n\u001b[0;32m    398\u001b[0m                              \u001b[1;34m\"input n_features is %s \"\u001b[0m\u001b[1;33m\u001b[0m\u001b[1;33m\u001b[0m\u001b[0m\n\u001b[1;32m--> 399\u001b[1;33m                              % (self.n_features_, n_features))\n\u001b[0m\u001b[0;32m    400\u001b[0m \u001b[1;33m\u001b[0m\u001b[0m\n\u001b[0;32m    401\u001b[0m         \u001b[1;32mreturn\u001b[0m \u001b[0mX\u001b[0m\u001b[1;33m\u001b[0m\u001b[1;33m\u001b[0m\u001b[0m\n",
      "\u001b[1;31mValueError\u001b[0m: Number of features of the model must match the input. Model n_features is 5 and input n_features is 2 "
>>>>>>> 17e33bfda7e3d0483cdd9afd457f60f7b32f4b49:Машинное обучение - фундаментальные инструменты и практики/Section 2. Recomendation systems/Lesson 2. Рекомендации на основе содержания/Untitled.ipynb
     ]
    }
   ],
   "source": [
<<<<<<< HEAD:ML/Section 2. Recomendation systems/Lesson 2. Рекомендации на основе содержания/Untitled.ipynb
    "Xcut = X[X.columns[2:4]]"
   ]
  },
  {
   "cell_type": "code",
   "execution_count": null,
   "metadata": {},
   "outputs": [],
   "source": [
    "clf.fit(Xcut, y)"
   ]
  },
  {
   "cell_type": "code",
   "execution_count": null,
   "metadata": {},
   "outputs": [],
   "source": []
=======
    "clf.predict([ [1,1], [3,3] ])"
   ]
>>>>>>> 17e33bfda7e3d0483cdd9afd457f60f7b32f4b49:Машинное обучение - фундаментальные инструменты и практики/Section 2. Recomendation systems/Lesson 2. Рекомендации на основе содержания/Untitled.ipynb
  }
 ],
 "metadata": {
  "kernelspec": {
   "display_name": "Python 3",
   "language": "python",
   "name": "python3"
  },
  "language_info": {
   "codemirror_mode": {
    "name": "ipython",
    "version": 3
   },
   "file_extension": ".py",
   "mimetype": "text/x-python",
   "name": "python",
   "nbconvert_exporter": "python",
   "pygments_lexer": "ipython3",
   "version": "3.8.3"
  }
 },
 "nbformat": 4,
 "nbformat_minor": 4
}
