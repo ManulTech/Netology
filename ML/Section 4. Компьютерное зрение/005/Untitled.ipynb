{
 "cells": [
  {
   "cell_type": "code",
   "execution_count": 71,
   "metadata": {},
   "outputs": [
    {
     "name": "stdout",
     "output_type": "stream",
     "text": [
      "2.4.1\n",
      "True\n",
      "channels_last\n"
     ]
    }
   ],
   "source": [
    "from sklearn.preprocessing import LabelBinarizer\n",
    "from sklearn.model_selection import train_test_split\n",
    "from sklearn.metrics import classification_report\n",
    "from keras.models import Sequential\n",
    "from keras.layers.core import Dense\n",
    "from keras.optimizers import SGD\n",
    "from imutils import paths\n",
    "import matplotlib.pyplot as plt\n",
    "import tensorflow as tf\n",
    "import numpy as np\n",
    "import argparse\n",
    "import random\n",
    "import pickle\n",
    "import cv2\n",
    "import os \n",
    "from tensorflow.keras.applications import vgg19\n",
    "\n",
    "print(tf.__version__)\n",
    "print(tf.executing_eagerly())\n",
    "print(tf.keras.backend.image_data_format())"
   ]
  },
  {
   "cell_type": "markdown",
   "metadata": {},
   "source": [
    "### Собираем  датасет"
   ]
  },
  {
   "cell_type": "code",
   "execution_count": 186,
   "metadata": {},
   "outputs": [],
   "source": [
    "path_ants = 'C:/Users/Александр/Documents/Netology/ML/Section 4. Компьютерное зрение/005/hymenoptera_data/train/ants/'"
   ]
  },
  {
   "cell_type": "code",
   "execution_count": 194,
   "metadata": {},
   "outputs": [
    {
     "ename": "SyntaxError",
     "evalue": "EOL while scanning string literal (<ipython-input-194-c822a6c0d8f4>, line 1)",
     "output_type": "error",
     "traceback": [
      "\u001b[1;36m  File \u001b[1;32m\"<ipython-input-194-c822a6c0d8f4>\"\u001b[1;36m, line \u001b[1;32m1\u001b[0m\n\u001b[1;33m    os.path.exists(r'C:\\Users\\Александр\\Documents\\Netology\\ML\\Section 4. Компьютерное зрение\\005\\hymenoptera_data\\train\\ants\\')\u001b[0m\n\u001b[1;37m                                                                                                                               ^\u001b[0m\n\u001b[1;31mSyntaxError\u001b[0m\u001b[1;31m:\u001b[0m EOL while scanning string literal\n"
     ]
    }
   ],
   "source": [
    "os.path.exists(r'C:\\Users\\Александр\\Documents\\Netology\\ML\\Section 4. Компьютерное зрение\\005\\hymenoptera_data\\train\\ants\\')"
   ]
  },
  {
   "cell_type": "code",
   "execution_count": 230,
   "metadata": {},
   "outputs": [],
   "source": [
    "im=cv2.imread(\"C:/Users/Александр/Documents/Netology/ML/Section 4. Компьютерное зрение/005/hymenoptera_data/train/ants/0013035.jpg\")\n",
    "im"
   ]
  },
  {
   "cell_type": "code",
   "execution_count": 234,
   "metadata": {},
   "outputs": [
    {
     "ename": "AttributeError",
     "evalue": "module 'cv2.cv2' has no attribute 'LoadImage'",
     "output_type": "error",
     "traceback": [
      "\u001b[1;31m---------------------------------------------------------------------------\u001b[0m",
      "\u001b[1;31mAttributeError\u001b[0m                            Traceback (most recent call last)",
      "\u001b[1;32m<ipython-input-234-d8c1cf9f020b>\u001b[0m in \u001b[0;36m<module>\u001b[1;34m\u001b[0m\n\u001b[1;32m----> 1\u001b[1;33m \u001b[0mim\u001b[0m \u001b[1;33m=\u001b[0m \u001b[0mcv2\u001b[0m\u001b[1;33m.\u001b[0m\u001b[0mcv2\u001b[0m\u001b[1;33m.\u001b[0m\u001b[0mLoadImage\u001b[0m\u001b[1;33m(\u001b[0m\u001b[0mpath_ants\u001b[0m \u001b[1;33m+\u001b[0m \u001b[1;34m'0013035.jpg'\u001b[0m\u001b[1;33m,\u001b[0m\u001b[0mCV_LOAD_IMAGE_COLOR\u001b[0m\u001b[1;33m)\u001b[0m\u001b[1;33m\u001b[0m\u001b[1;33m\u001b[0m\u001b[0m\n\u001b[0m",
      "\u001b[1;31mAttributeError\u001b[0m: module 'cv2.cv2' has no attribute 'LoadImage'"
     ]
    }
   ],
   "source": [
    "im = cv2.cv2.LoadImage(path_ants + '0013035.jpg',CV_LOAD_IMAGE_COLOR) "
   ]
  },
  {
   "cell_type": "code",
   "execution_count": 237,
   "metadata": {},
   "outputs": [],
   "source": [
    "img_ants= []\n",
    "for filename in listdir(path_ants):\n",
    "    img_ant = cv2.imread(path_ants + filename)\n",
    "    img_ants.append(img_ant)"
   ]
  },
  {
   "cell_type": "code",
   "execution_count": 238,
   "metadata": {},
   "outputs": [
    {
     "data": {
      "text/plain": [
       "[None, None, None, None, None]"
      ]
     },
     "execution_count": 238,
     "metadata": {},
     "output_type": "execute_result"
    }
   ],
   "source": [
    "img_ants[:5]"
   ]
  },
  {
   "cell_type": "code",
   "execution_count": 206,
   "metadata": {},
   "outputs": [],
   "source": [
    "# plt.imshow(img_ant)"
   ]
  },
  {
   "cell_type": "code",
   "execution_count": 239,
   "metadata": {},
   "outputs": [
    {
     "data": {
      "text/plain": [
       "['0013035.jpg',\n",
       " '1030023514_aad5c608f9.jpg',\n",
       " '1095476100_3906d8afde.jpg',\n",
       " '1099452230_d1949d3250.jpg',\n",
       " '116570827_e9c126745d.jpg',\n",
       " '1225872729_6f0856588f.jpg',\n",
       " '1262877379_64fcada201.jpg',\n",
       " '1269756697_0bce92cdab.jpg',\n",
       " '1286984635_5119e80de1.jpg',\n",
       " '132478121_2a430adea2.jpg',\n",
       " '1360291657_dc248c5eea.jpg',\n",
       " '1368913450_e146e2fb6d.jpg',\n",
       " '1473187633_63ccaacea6.jpg',\n",
       " '148715752_302c84f5a4.jpg',\n",
       " '1489674356_09d48dde0a.jpg',\n",
       " '149244013_c529578289.jpg',\n",
       " '150801003_3390b73135.jpg',\n",
       " '150801171_cd86f17ed8.jpg',\n",
       " '154124431_65460430f2.jpg',\n",
       " '162603798_40b51f1654.jpg',\n",
       " '1660097129_384bf54490.jpg',\n",
       " '167890289_dd5ba923f3.jpg',\n",
       " '1693954099_46d4c20605.jpg',\n",
       " '175998972.jpg',\n",
       " '178538489_bec7649292.jpg',\n",
       " '1804095607_0341701e1c.jpg',\n",
       " '1808777855_2a895621d7.jpg',\n",
       " '188552436_605cc9b36b.jpg',\n",
       " '1917341202_d00a7f9af5.jpg',\n",
       " '1924473702_daa9aacdbe.jpg',\n",
       " '196057951_63bf063b92.jpg',\n",
       " '196757565_326437f5fe.jpg',\n",
       " '201558278_fe4caecc76.jpg',\n",
       " '201790779_527f4c0168.jpg',\n",
       " '2019439677_2db655d361.jpg',\n",
       " '207947948_3ab29d7207.jpg',\n",
       " '20935278_9190345f6b.jpg',\n",
       " '224655713_3956f7d39a.jpg',\n",
       " '2265824718_2c96f485da.jpg',\n",
       " '2265825502_fff99cfd2d.jpg',\n",
       " '226951206_d6bf946504.jpg',\n",
       " '2278278459_6b99605e50.jpg',\n",
       " '2288450226_a6e96e8fdf.jpg',\n",
       " '2288481644_83ff7e4572.jpg',\n",
       " '2292213964_ca51ce4bef.jpg',\n",
       " '24335309_c5ea483bb8.jpg',\n",
       " '245647475_9523dfd13e.jpg',\n",
       " '255434217_1b2b3fe0a4.jpg',\n",
       " '258217966_d9d90d18d3.jpg',\n",
       " '275429470_b2d7d9290b.jpg',\n",
       " '28847243_e79fe052cd.jpg',\n",
       " '318052216_84dff3f98a.jpg',\n",
       " '334167043_cbd1adaeb9.jpg',\n",
       " '339670531_94b75ae47a.jpg',\n",
       " '342438950_a3da61deab.jpg',\n",
       " '36439863_0bec9f554f.jpg',\n",
       " '374435068_7eee412ec4.jpg',\n",
       " '382971067_0bfd33afe0.jpg',\n",
       " '384191229_5779cf591b.jpg',\n",
       " '386190770_672743c9a7.jpg',\n",
       " '392382602_1b7bed32fa.jpg',\n",
       " '403746349_71384f5b58.jpg',\n",
       " '408393566_b5b694119b.jpg',\n",
       " '424119020_6d57481dab.jpg',\n",
       " '424873399_47658a91fb.jpg',\n",
       " '450057712_771b3bfc91.jpg',\n",
       " '45472593_bfd624f8dc.jpg',\n",
       " '459694881_ac657d3187.jpg',\n",
       " '460372577_f2f6a8c9fc.jpg',\n",
       " '460874319_0a45ab4d05.jpg',\n",
       " '466430434_4000737de9.jpg',\n",
       " '470127037_513711fd21.jpg',\n",
       " '474806473_ca6caab245.jpg',\n",
       " '475961153_b8c13fd405.jpg',\n",
       " '484293231_e53cfc0c89.jpg',\n",
       " '49375974_e28ba6f17e.jpg',\n",
       " '506249802_207cd979b4.jpg',\n",
       " '506249836_717b73f540.jpg',\n",
       " '512164029_c0a66b8498.jpg',\n",
       " '512863248_43c8ce579b.jpg',\n",
       " '518773929_734dbc5ff4.jpg',\n",
       " '522163566_fec115ca66.jpg',\n",
       " '522415432_2218f34bf8.jpg',\n",
       " '531979952_bde12b3bc0.jpg',\n",
       " '533848102_70a85ad6dd.jpg',\n",
       " '535522953_308353a07c.jpg',\n",
       " '540889389_48bb588b21.jpg',\n",
       " '541630764_dbd285d63c.jpg',\n",
       " '543417860_b14237f569.jpg',\n",
       " '560966032_988f4d7bc4.jpg',\n",
       " '5650366_e22b7e1065.jpg',\n",
       " '6240329_72c01e663e.jpg',\n",
       " '6240338_93729615ec.jpg',\n",
       " '649026570_e58656104b.jpg',\n",
       " '662541407_ff8db781e7.jpg',\n",
       " '67270775_e9fdf77e9d.jpg',\n",
       " '6743948_2b8c096dda.jpg',\n",
       " '684133190_35b62c0c1d.jpg',\n",
       " '69639610_95e0de17aa.jpg',\n",
       " '707895295_009cf23188.jpg',\n",
       " '7759525_1363d24e88.jpg',\n",
       " '795000156_a9900a4a71.jpg',\n",
       " '822537660_caf4ba5514.jpg',\n",
       " '82852639_52b7f7f5e3.jpg',\n",
       " '841049277_b28e58ad05.jpg',\n",
       " '886401651_f878e888cd.jpg',\n",
       " '892108839_f1aad4ca46.jpg',\n",
       " '938946700_ca1c669085.jpg',\n",
       " '957233405_25c1d1187b.jpg',\n",
       " '9715481_b3cb4114ff.jpg',\n",
       " '998118368_6ac1d91f81.jpg',\n",
       " 'ant photos.jpg',\n",
       " 'Ant_1.jpg',\n",
       " 'army-ants-red-picture.jpg',\n",
       " 'formica.jpeg',\n",
       " 'hormiga_co_por.jpg',\n",
       " 'imageNotFound.gif',\n",
       " 'kurokusa.jpg',\n",
       " 'MehdiabadiAnt2_600.jpg',\n",
       " 'Nepenthes_rafflesiana_ant.jpg',\n",
       " 'swiss-army-ant.jpg',\n",
       " 'termite-vs-ant.jpg',\n",
       " 'trap-jaw-ant-insect-bg.jpg',\n",
       " 'VietnameseAntMimicSpider.jpg']"
      ]
     },
     "execution_count": 239,
     "metadata": {},
     "output_type": "execute_result"
    }
   ],
   "source": [
    "listdir(r'hymenoptera_data\\train\\ants')"
   ]
  },
  {
   "cell_type": "code",
   "execution_count": 243,
   "metadata": {},
   "outputs": [],
   "source": [
    "img_ants = list()\n",
    "for filename in listdir(r'hymenoptera_data\\train\\ants'):\n",
    "    img_ant = cv2.imread('hymenoptera_data\\train\\ants' + filename)\n",
    "#    img_ants.append(img_ant)"
   ]
  },
  {
   "cell_type": "code",
   "execution_count": 244,
   "metadata": {},
   "outputs": [],
   "source": [
    "img_ant"
   ]
  },
  {
   "cell_type": "code",
   "execution_count": 241,
   "metadata": {},
   "outputs": [],
   "source": [
    "cv2.imread('hymenoptera_data\\train\\ants' + filename)"
   ]
  },
  {
   "cell_type": "code",
   "execution_count": 242,
   "metadata": {},
   "outputs": [],
   "source": [
    "img_bees = list()\n",
    "for filename in listdir(r'hymenoptera_data\\train\\bees'):\n",
    "    img_bee = cv2.imread('hymenoptera_data\\train\\bees' + filename)\n",
    "    img_bees.append(img_bee)"
   ]
  },
  {
   "cell_type": "code",
   "execution_count": 58,
   "metadata": {},
   "outputs": [
    {
     "data": {
      "text/plain": [
       "[None,\n",
       " None,\n",
       " None,\n",
       " None,\n",
       " None,\n",
       " None,\n",
       " None,\n",
       " None,\n",
       " None,\n",
       " None,\n",
       " None,\n",
       " None,\n",
       " None,\n",
       " None,\n",
       " None,\n",
       " None,\n",
       " None,\n",
       " None,\n",
       " None,\n",
       " None,\n",
       " None,\n",
       " None,\n",
       " None,\n",
       " None,\n",
       " None,\n",
       " None,\n",
       " None,\n",
       " None,\n",
       " None,\n",
       " None,\n",
       " None,\n",
       " None,\n",
       " None,\n",
       " None,\n",
       " None,\n",
       " None,\n",
       " None,\n",
       " None,\n",
       " None,\n",
       " None,\n",
       " None,\n",
       " None,\n",
       " None,\n",
       " None,\n",
       " None,\n",
       " None,\n",
       " None,\n",
       " None,\n",
       " None,\n",
       " None,\n",
       " None,\n",
       " None,\n",
       " None,\n",
       " None,\n",
       " None,\n",
       " None,\n",
       " None,\n",
       " None,\n",
       " None,\n",
       " None,\n",
       " None,\n",
       " None,\n",
       " None,\n",
       " None,\n",
       " None,\n",
       " None,\n",
       " None,\n",
       " None,\n",
       " None,\n",
       " None,\n",
       " None,\n",
       " None,\n",
       " None,\n",
       " None,\n",
       " None,\n",
       " None,\n",
       " None,\n",
       " None,\n",
       " None,\n",
       " None,\n",
       " None,\n",
       " None,\n",
       " None,\n",
       " None,\n",
       " None,\n",
       " None,\n",
       " None,\n",
       " None,\n",
       " None,\n",
       " None,\n",
       " None,\n",
       " None,\n",
       " None,\n",
       " None,\n",
       " None,\n",
       " None,\n",
       " None,\n",
       " None,\n",
       " None,\n",
       " None,\n",
       " None,\n",
       " None,\n",
       " None,\n",
       " None,\n",
       " None,\n",
       " None,\n",
       " None,\n",
       " None,\n",
       " None,\n",
       " None,\n",
       " None,\n",
       " None,\n",
       " None,\n",
       " None,\n",
       " None,\n",
       " None,\n",
       " None,\n",
       " None,\n",
       " None,\n",
       " None,\n",
       " None,\n",
       " None,\n",
       " None,\n",
       " None]"
      ]
     },
     "execution_count": 58,
     "metadata": {},
     "output_type": "execute_result"
    }
   ],
   "source": [
    "img_ants"
   ]
  },
  {
   "cell_type": "code",
   "execution_count": 57,
   "metadata": {},
   "outputs": [
    {
     "ename": "AttributeError",
     "evalue": "'list' object has no attribute 'shape'",
     "output_type": "error",
     "traceback": [
      "\u001b[1;31m---------------------------------------------------------------------------\u001b[0m",
      "\u001b[1;31mAttributeError\u001b[0m                            Traceback (most recent call last)",
      "\u001b[1;32m<ipython-input-57-dd2cfc826596>\u001b[0m in \u001b[0;36m<module>\u001b[1;34m\u001b[0m\n\u001b[1;32m----> 1\u001b[1;33m \u001b[0mimg_ants\u001b[0m\u001b[1;33m.\u001b[0m\u001b[0mshape\u001b[0m\u001b[1;33m\u001b[0m\u001b[1;33m\u001b[0m\u001b[0m\n\u001b[0m",
      "\u001b[1;31mAttributeError\u001b[0m: 'list' object has no attribute 'shape'"
     ]
    }
   ],
   "source": [
    "img_ants.shape"
   ]
  },
  {
   "cell_type": "code",
   "execution_count": 17,
   "metadata": {},
   "outputs": [
    {
     "ename": "PermissionError",
     "evalue": "[Errno 13] Permission denied: 'hymenoptera_data\\\\\\\\train'",
     "output_type": "error",
     "traceback": [
      "\u001b[1;31m---------------------------------------------------------------------------\u001b[0m",
      "\u001b[1;31mPermissionError\u001b[0m                           Traceback (most recent call last)",
      "\u001b[1;32m<ipython-input-17-28e900225aeb>\u001b[0m in \u001b[0;36m<module>\u001b[1;34m\u001b[0m\n\u001b[1;32m----> 1\u001b[1;33m \u001b[0mtrain\u001b[0m \u001b[1;33m=\u001b[0m \u001b[0mnp\u001b[0m\u001b[1;33m.\u001b[0m\u001b[0mload\u001b[0m\u001b[1;33m(\u001b[0m\u001b[1;34mr'hymenoptera_data\\\\train'\u001b[0m\u001b[1;33m)\u001b[0m\u001b[1;33m\u001b[0m\u001b[1;33m\u001b[0m\u001b[0m\n\u001b[0m",
      "\u001b[1;32mC:\\ProgramData\\Anaconda3\\lib\\site-packages\\numpy\\lib\\npyio.py\u001b[0m in \u001b[0;36mload\u001b[1;34m(file, mmap_mode, allow_pickle, fix_imports, encoding)\u001b[0m\n\u001b[0;32m    414\u001b[0m             \u001b[0mown_fid\u001b[0m \u001b[1;33m=\u001b[0m \u001b[1;32mFalse\u001b[0m\u001b[1;33m\u001b[0m\u001b[1;33m\u001b[0m\u001b[0m\n\u001b[0;32m    415\u001b[0m         \u001b[1;32melse\u001b[0m\u001b[1;33m:\u001b[0m\u001b[1;33m\u001b[0m\u001b[1;33m\u001b[0m\u001b[0m\n\u001b[1;32m--> 416\u001b[1;33m             \u001b[0mfid\u001b[0m \u001b[1;33m=\u001b[0m \u001b[0mstack\u001b[0m\u001b[1;33m.\u001b[0m\u001b[0menter_context\u001b[0m\u001b[1;33m(\u001b[0m\u001b[0mopen\u001b[0m\u001b[1;33m(\u001b[0m\u001b[0mos_fspath\u001b[0m\u001b[1;33m(\u001b[0m\u001b[0mfile\u001b[0m\u001b[1;33m)\u001b[0m\u001b[1;33m,\u001b[0m \u001b[1;34m\"rb\"\u001b[0m\u001b[1;33m)\u001b[0m\u001b[1;33m)\u001b[0m\u001b[1;33m\u001b[0m\u001b[1;33m\u001b[0m\u001b[0m\n\u001b[0m\u001b[0;32m    417\u001b[0m             \u001b[0mown_fid\u001b[0m \u001b[1;33m=\u001b[0m \u001b[1;32mTrue\u001b[0m\u001b[1;33m\u001b[0m\u001b[1;33m\u001b[0m\u001b[0m\n\u001b[0;32m    418\u001b[0m \u001b[1;33m\u001b[0m\u001b[0m\n",
      "\u001b[1;31mPermissionError\u001b[0m: [Errno 13] Permission denied: 'hymenoptera_data\\\\\\\\train'"
     ]
    }
   ],
   "source": [
    "train = np.load(r'hymenoptera_data\\train')"
   ]
  },
  {
   "cell_type": "code",
   "execution_count": 8,
   "metadata": {},
   "outputs": [
    {
     "data": {
      "text/plain": [
       "array([[1., 0., 0., ..., 0., 0., 0.],\n",
       "       [0., 0., 0., ..., 0., 0., 0.],\n",
       "       [1., 0., 0., ..., 0., 0., 0.],\n",
       "       ...,\n",
       "       [7., 0., 0., ..., 0., 0., 0.],\n",
       "       [6., 0., 0., ..., 0., 0., 0.],\n",
       "       [9., 0., 0., ..., 0., 0., 0.]])"
      ]
     },
     "execution_count": 8,
     "metadata": {},
     "output_type": "execute_result"
    }
   ],
   "source": [
    "train"
   ]
  },
  {
   "cell_type": "code",
   "execution_count": null,
   "metadata": {},
   "outputs": [],
   "source": []
  }
 ],
 "metadata": {
  "kernelspec": {
   "display_name": "Python 3",
   "language": "python",
   "name": "python3"
  },
  "language_info": {
   "codemirror_mode": {
    "name": "ipython",
    "version": 3
   },
   "file_extension": ".py",
   "mimetype": "text/x-python",
   "name": "python",
   "nbconvert_exporter": "python",
   "pygments_lexer": "ipython3",
   "version": "3.8.3"
  }
 },
 "nbformat": 4,
 "nbformat_minor": 4
}
