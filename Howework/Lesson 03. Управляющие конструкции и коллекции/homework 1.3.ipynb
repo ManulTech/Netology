{
 "cells": [
  {
   "cell_type": "code",
   "execution_count": 6,
   "metadata": {},
   "outputs": [
    {
     "name": "stdout",
     "output_type": "stream",
     "text": [
      "Введите слово: test\n",
      "es\n"
     ]
    }
   ],
   "source": [
    "# Задание 1\n",
    "word = input(\"Введите слово: \")\n",
    "word_length = len(word)\n",
    "if word_length % 2 == 0:\n",
    "    symbol_1 = int(word_length / 2 - 1)\n",
    "    symbol_2 = int(word_length / 2)\n",
    "    print(word[symbol_1] + word[symbol_2])\n",
    "elif word_length % 2 != 0:\n",
    "    symbol_1 = int(word_length / 2 - 0.5)\n",
    "    print(word[symbol_1])"
   ]
  },
  {
   "cell_type": "code",
   "execution_count": 7,
   "metadata": {},
   "outputs": [
    {
     "name": "stdout",
     "output_type": "stream",
     "text": [
      "Идеальные пары:\n",
      "Alex и Emma\n",
      "Arthur и Kate\n",
      "John и Kira\n",
      "Peter и Liza\n",
      "Richard и Trisha\n"
     ]
    }
   ],
   "source": [
    "# Задание 2\n",
    "boys = ['Peter', 'Alex', 'John', 'Arthur', 'Richard']\n",
    "girls = ['Kate', 'Liza', 'Kira', 'Emma', 'Trisha']\n",
    "\n",
    "boys = sorted(['Peter', 'Alex', 'John', 'Arthur', 'Richard'])\n",
    "girls = sorted(['Kate', 'Liza', 'Kira', 'Emma', 'Trisha'])\n",
    "\n",
    "if len(boys) == len(girls):\n",
    "    boys_and_girls = list(zip(boys, girls))\n",
    "    print ('Идеальные пары:')\n",
    "    for pair in boys_and_girls:  \n",
    "        print (f'{pair[0]} и {pair[1]}')\n",
    "else:\n",
    "    print ('кто-то может остаться без пары')"
   ]
  },
  {
   "cell_type": "code",
   "execution_count": 8,
   "metadata": {},
   "outputs": [
    {
     "name": "stdout",
     "output_type": "stream",
     "text": [
      "Средняя температура в Thailand равна 23.86\n",
      "Средняя температура в Germany равна 13.71\n",
      "Средняя температура в Russia равна 3.71\n",
      "Средняя температура в Poland равна 11.86\n"
     ]
    }
   ],
   "source": [
    "# Задание 3\n",
    "countries_temperature = [\n",
    " ['Thailand', [75.2, 77, 78.8, 73.4, 68, 75.2, 77]],\n",
    " ['Germany', [57.2, 55.4, 59, 59, 53.6, 55.4, 57.2]],\n",
    " ['Russia', [35.6, 37.4, 39.2, 41, 42.8, 39.2, 35.6]],\n",
    " ['Poland', [50, 50, 53.6, 57.2, 55.4, 55.4, 51.8]],\n",
    "]\n",
    "\n",
    "for item in countries_temperature:\n",
    "    country = item[0]\n",
    "    #print(country, type(country))\n",
    "    f_temperature = item[1]\n",
    "    #print(f_temperature, type(f_temperature))\n",
    "    for t in f_temperature:\n",
    "        t = float(t)\n",
    "        t_farengate_avg = sum(f_temperature)/len(f_temperature)\n",
    "        #print(t_farengate_avg, type(t_farengate_avg))\n",
    "    t_celsy_avg = (t_farengate_avg - 32) * (5 / 9)\n",
    "    print (f'Средняя температура в {country} равна {t_celsy_avg:.2f}')\n",
    "\n",
    "            "
   ]
  },
  {
   "cell_type": "code",
   "execution_count": 9,
   "metadata": {},
   "outputs": [
    {
     "name": "stdout",
     "output_type": "stream",
     "text": [
      "Общее количество просмотров:  93 Среднее количество просмотров на пользователя:  23.25\n"
     ]
    }
   ],
   "source": [
    "# Задание 4\n",
    "stream = [\n",
    "    '2018-01-01,user1,3',\n",
    "    '2018-01-07,user1,4',\n",
    "    '2018-03-29,user1,1',\n",
    "    '2018-04-04,user1,13',\n",
    "    '2018-01-05,user2,7',\n",
    "    '2018-06-14,user3,4',\n",
    "    '2018-07-02,user3,10',\n",
    "    '2018-03-21,user4,19',\n",
    "    '2018-03-22,user4,4',\n",
    "    '2018-04-22,user4,8',\n",
    "    '2018-05-03,user4,9',\n",
    "    '2018-05-11,user4,11',\n",
    "]\n",
    "\n",
    "username_list = []\n",
    "userviews_list = []\n",
    "i = 0\n",
    "for string in stream:\n",
    "    stream[i] = string.split(',')\n",
    "    stream[i][2] = int(stream[i][2])\n",
    "    userviews_list.append(stream[i][2])\n",
    "    if stream[i][1] not in username_list:\n",
    "        username_list.append(stream[i][1]) \n",
    "    i += 1     \n",
    "total_users_views = sum(userviews_list)\n",
    "avg_views_per_user = total_users_views / len(username_list)\n",
    "\n",
    "print('Общее количество просмотров: ', total_users_views, 'Среднее количество просмотров на пользователя: ', avg_views_per_user) "
   ]
  },
  {
   "cell_type": "code",
   "execution_count": 10,
   "metadata": {},
   "outputs": [
    {
     "name": "stdout",
     "output_type": "stream",
     "text": [
      "ввведите названиие кампании: market\n",
      "ввведите дату YYYY-MM-DD: 2018-01-03\n",
      "2018-01-03 market\n"
     ]
    }
   ],
   "source": [
    "\n",
    "stats = [\n",
    "    ['2018-01-01', 'google', 25],\n",
    "    ['2018-01-01', 'yandex', 65],\n",
    "    ['2018-01-01', 'market', 89],\n",
    "    ['2018-01-02', 'google', 574],\n",
    "    ['2018-01-02', 'yandex', 249],\n",
    "    ['2018-01-02', 'market', 994],\n",
    "    ['2018-01-03', 'google', 1843],\n",
    "    ['2018-01-03', 'yandex', 1327],\n",
    "    ['2018-01-03', 'market', 1764],\n",
    "]\n",
    "\n",
    "campain = input('ввведите названиие кампании: ')\n",
    "date = input('ввведите дату YYYY-MM-DD: ')\n",
    "\n",
    "for i in stats:\n",
    "        if i[0] == date and i[1] == campain: \n",
    "            print (i[0], i[1])\n",
    "        #else:\n",
    "        #    print('Ничего не найдено')"
   ]
  },
  {
   "cell_type": "code",
   "execution_count": 11,
   "metadata": {},
   "outputs": [
    {
     "name": "stdout",
     "output_type": "stream",
     "text": [
      "Сумма диагонали равна: 103\n"
     ]
    }
   ],
   "source": [
    "#Задание 6\n",
    "data = [\n",
    "    [13, 25, 23, 34],\n",
    "    [45, 32, 44, 47],\n",
    "    [12, 33, 23, 95],\n",
    "    [13, 53, 34, 35]\n",
    "]\n",
    "\n",
    "#print (len(data))\n",
    "sum = 0\n",
    "for i in range(len(data)):\n",
    "    #print(i)\n",
    "    for j in range(len(data)):        \n",
    "        if i == j:\n",
    "            value = data[i][j]\n",
    "            sum = sum + value\n",
    "            #print(i, j, value, sum)\n",
    "print('Сумма диагонали равна:', sum)\n",
    "\n",
    "\n"
   ]
  },
  {
   "cell_type": "code",
   "execution_count": null,
   "metadata": {},
   "outputs": [],
   "source": []
  }
 ],
 "metadata": {
  "kernelspec": {
   "display_name": "Python 3",
   "language": "python",
   "name": "python3"
  },
  "language_info": {
   "codemirror_mode": {
    "name": "ipython",
    "version": 3
   },
   "file_extension": ".py",
   "mimetype": "text/x-python",
   "name": "python",
   "nbconvert_exporter": "python",
   "pygments_lexer": "ipython3",
   "version": "3.7.6"
  }
 },
 "nbformat": 4,
 "nbformat_minor": 4
}
