{
 "cells": [
  {
   "cell_type": "markdown",
   "metadata": {},
   "source": [
    "#### Задание 1.\n",
    "\n",
    "Обязательная часть\n",
    "Будем парсить страницу со свежеми новостям на habr.com.\n",
    "\n",
    "Вам необходимо собирать только те статьи, в которых встречается хотя бы одно требуемое ключевое слово. Эти слова определяем в начале кода в переменной, например:\n",
    "\n",
    "KEYWORDS = [‘python’, ‘парсинг’]\n",
    "\n",
    "Поиск вести по всей доступной preview-информации (это информация, доступная непосредственно с текущей страницы).\n",
    "\n",
    "В итоге должен формироваться датафрейм со столбцами: <дата> - <заголовок> - <ссылка>."
   ]
  },
  {
   "cell_type": "code",
   "execution_count": 1,
   "metadata": {},
   "outputs": [],
   "source": [
    "import requests\n",
    "import pandas as pd\n",
    "import time\n",
    "from bs4 import BeautifulSoup"
   ]
  },
  {
   "cell_type": "code",
   "execution_count": 2,
   "metadata": {},
   "outputs": [
    {
     "data": {
      "text/plain": [
       "<Response [200]>"
      ]
     },
     "execution_count": 2,
     "metadata": {},
     "output_type": "execute_result"
    }
   ],
   "source": [
    "res = requests.get('https://habr.com/ru/')\n",
    "res"
   ]
  },
  {
   "cell_type": "code",
   "execution_count": 3,
   "metadata": {},
   "outputs": [],
   "source": [
    "req = requests.get('https://habr.com/ru/')\n",
    "soup = BeautifulSoup(req.text, 'html.parser')"
   ]
  },
  {
   "cell_type": "code",
   "execution_count": 4,
   "metadata": {},
   "outputs": [
    {
     "data": {
      "text/plain": [
       "20"
      ]
     },
     "execution_count": 4,
     "metadata": {},
     "output_type": "execute_result"
    }
   ],
   "source": [
    "posts = soup.find_all('article', class_='post')\n",
    "len(posts)"
   ]
  },
  {
   "cell_type": "code",
   "execution_count": 5,
   "metadata": {},
   "outputs": [],
   "source": [
    "import re"
   ]
  },
  {
   "cell_type": "code",
   "execution_count": 6,
   "metadata": {},
   "outputs": [],
   "source": [
    "keywords = ['Raspberry ', 'Гаджеты', 'python', 'JavaScript', 'Node.JS', 'Управление проектами', 'alkaline']"
   ]
  },
  {
   "cell_type": "code",
   "execution_count": 7,
   "metadata": {},
   "outputs": [
    {
     "name": "stdout",
     "output_type": "stream",
     "text": [
      "{510904: ['JavaScript'], 511280: ['Управление проектами']}\n"
     ]
    }
   ],
   "source": [
    "my_posts = {}\n",
    "my_keywords = []\n",
    "for post in posts:\n",
    "    for keyword in keywords:\n",
    "        if re.findall(keyword, post.text):\n",
    "            my_keywords.append(keyword)\n",
    "            post_id = post.parent.attrs.get('id')\n",
    "            post_id = int(post_id.split('_')[-1])\n",
    "            my_posts.setdefault(post_id, my_keywords)    \n",
    "    my_keywords = []     \n",
    "print(my_posts)"
   ]
  },
  {
   "cell_type": "code",
   "execution_count": 8,
   "metadata": {},
   "outputs": [
    {
     "name": "stdout",
     "output_type": "stream",
     "text": [
      "{'https://habr.com/ru/company/ruvds/blog/510904/': ['JavaScript'], 'https://habr.com/ru/company/oleg-bunin/blog/511280/': ['Управление проектами']}\n"
     ]
    }
   ],
   "source": [
    "my_posts = {}\n",
    "my_keywords = []\n",
    "for post in posts:\n",
    "    for keyword in keywords:\n",
    "        if re.findall(keyword, post.text):\n",
    "            my_keywords.append(keyword)\n",
    "            post_link = post.find('a', class_='post__title_link').get('href')\n",
    "            my_posts.setdefault(post_link, my_keywords)    \n",
    "    my_keywords = []     \n",
    "print(my_posts)"
   ]
  },
  {
   "cell_type": "code",
   "execution_count": 9,
   "metadata": {},
   "outputs": [
    {
     "name": "stdout",
     "output_type": "stream",
     "text": [
      "[['сегодня в 16:17', 'Wasm или не Wasm?', 'https://habr.com/ru/company/ruvds/blog/510904/'], ['сегодня в 15:20', 'Почему онлайн-конференция по управлению знаниями — это не скучно', 'https://habr.com/ru/company/oleg-bunin/blog/511280/']]\n"
     ]
    }
   ],
   "source": [
    "results = []\n",
    "result = []\n",
    "for post in posts:\n",
    "    for keyword in keywords:\n",
    "        if re.findall(keyword, post.text):\n",
    "            post_date = post.find('span', class_='post__time').get_text()\n",
    "            post_header = post.find('a', class_='post__title_link').get_text()\n",
    "            post_link = post.find('a', class_='post__title_link').get('href')\n",
    "            result = [post_date, post_header, post_link]\n",
    "            results.append(result)\n",
    "print(results)"
   ]
  },
  {
   "cell_type": "code",
   "execution_count": 10,
   "metadata": {},
   "outputs": [
    {
     "data": {
      "text/html": [
       "<div>\n",
       "<style scoped>\n",
       "    .dataframe tbody tr th:only-of-type {\n",
       "        vertical-align: middle;\n",
       "    }\n",
       "\n",
       "    .dataframe tbody tr th {\n",
       "        vertical-align: top;\n",
       "    }\n",
       "\n",
       "    .dataframe thead th {\n",
       "        text-align: right;\n",
       "    }\n",
       "</style>\n",
       "<table border=\"1\" class=\"dataframe\">\n",
       "  <thead>\n",
       "    <tr style=\"text-align: right;\">\n",
       "      <th></th>\n",
       "      <th>Дата</th>\n",
       "      <th>Заголовок</th>\n",
       "      <th>Ссылка</th>\n",
       "    </tr>\n",
       "  </thead>\n",
       "  <tbody>\n",
       "    <tr>\n",
       "      <th>0</th>\n",
       "      <td>сегодня в 16:17</td>\n",
       "      <td>Wasm или не Wasm?</td>\n",
       "      <td>https://habr.com/ru/company/ruvds/blog/510904/</td>\n",
       "    </tr>\n",
       "    <tr>\n",
       "      <th>1</th>\n",
       "      <td>сегодня в 15:20</td>\n",
       "      <td>Почему онлайн-конференция по управлению знания...</td>\n",
       "      <td>https://habr.com/ru/company/oleg-bunin/blog/51...</td>\n",
       "    </tr>\n",
       "  </tbody>\n",
       "</table>\n",
       "</div>"
      ],
      "text/plain": [
       "              Дата                                          Заголовок  \\\n",
       "0  сегодня в 16:17                                  Wasm или не Wasm?   \n",
       "1  сегодня в 15:20  Почему онлайн-конференция по управлению знания...   \n",
       "\n",
       "                                              Ссылка  \n",
       "0     https://habr.com/ru/company/ruvds/blog/510904/  \n",
       "1  https://habr.com/ru/company/oleg-bunin/blog/51...  "
      ]
     },
     "execution_count": 10,
     "metadata": {},
     "output_type": "execute_result"
    }
   ],
   "source": [
    "df = pd.DataFrame(results, columns=['Дата', 'Заголовок', 'Ссылка'])\n",
    "df"
   ]
  },
  {
   "cell_type": "markdown",
   "metadata": {},
   "source": [
    "#### Дополнительная часть (необязательная)\n",
    "Улучшить скрипт так, чтобы он анализировал не только preview-информацию статьи, но и весь текст статьи целиком.\n",
    "\n",
    "Для этого потребуется получать страницы статей и искать по тексту внутри этой страницы.\n",
    "\n",
    "Итоговый датафрейм формировать со столбцами: <дата> - <заголовок> - <ссылка> - <текст статьи>"
   ]
  },
  {
   "cell_type": "markdown",
   "metadata": {},
   "source": [
    "#### Алгоритм\n",
    "1. Нахожу ссылку на каждый пост на главной странице (всего 20)\n",
    "\n",
    "2. Открываю каждую и ищу вхождения из keywords. \n",
    "\n",
    "3. Если нашёл, то добавляю в result.\n",
    "\n",
    "4. Результирующий список results.append(results)"
   ]
  },
  {
   "cell_type": "code",
   "execution_count": 11,
   "metadata": {},
   "outputs": [],
   "source": [
    "keywords = ['Софт', 'Физика']"
   ]
  },
  {
   "cell_type": "code",
   "execution_count": 12,
   "metadata": {
    "scrolled": false
   },
   "outputs": [
    {
     "data": {
      "text/plain": [
       "2"
      ]
     },
     "execution_count": 12,
     "metadata": {},
     "output_type": "execute_result"
    }
   ],
   "source": [
    "results = []\n",
    "result = []\n",
    "for post in posts:\n",
    "    post_link = post.find('a', class_='post__title_link').get('href')\n",
    "    post_content = BeautifulSoup(requests.get(post_link).text, 'html.parser')\n",
    "    for keyword in keywords:\n",
    "        if re.findall(keyword, post_content.text):\n",
    "            post_date = post_content.find('span', class_='post__time').get_text()\n",
    "            post_header = post_content.find('span', class_='post__title-text').get_text()\n",
    "            post_text = post_content.find('div', class_='post__text').get_text()\n",
    "            result = [post_date, post_header, post_link, post_text]\n",
    "            results.append(result)\n",
    "len(results)\n",
    "\n",
    "# post_tag.text"
   ]
  },
  {
   "cell_type": "code",
   "execution_count": 13,
   "metadata": {},
   "outputs": [
    {
     "data": {
      "text/html": [
       "<div>\n",
       "<style scoped>\n",
       "    .dataframe tbody tr th:only-of-type {\n",
       "        vertical-align: middle;\n",
       "    }\n",
       "\n",
       "    .dataframe tbody tr th {\n",
       "        vertical-align: top;\n",
       "    }\n",
       "\n",
       "    .dataframe thead th {\n",
       "        text-align: right;\n",
       "    }\n",
       "</style>\n",
       "<table border=\"1\" class=\"dataframe\">\n",
       "  <thead>\n",
       "    <tr style=\"text-align: right;\">\n",
       "      <th></th>\n",
       "      <th>Дата</th>\n",
       "      <th>Заголовок</th>\n",
       "      <th>Ссылка</th>\n",
       "      <th>Текст статьи</th>\n",
       "    </tr>\n",
       "  </thead>\n",
       "  <tbody>\n",
       "    <tr>\n",
       "      <th>0</th>\n",
       "      <td>сегодня в 14:26</td>\n",
       "      <td>Расследование: создатель AlterOffice украл код...</td>\n",
       "      <td>https://habr.com/ru/post/494070/</td>\n",
       "      <td>\\n\\r\\nПолгода назад я опубликовал на Хабре ста...</td>\n",
       "    </tr>\n",
       "    <tr>\n",
       "      <th>1</th>\n",
       "      <td>вчера в 21:04</td>\n",
       "      <td>Лекция с разбором правды и мифов об аварии на ...</td>\n",
       "      <td>https://habr.com/ru/post/511156/</td>\n",
       "      <td>Внимательные читатели и подписчики наверняка ж...</td>\n",
       "    </tr>\n",
       "  </tbody>\n",
       "</table>\n",
       "</div>"
      ],
      "text/plain": [
       "              Дата                                          Заголовок  \\\n",
       "0  сегодня в 14:26  Расследование: создатель AlterOffice украл код...   \n",
       "1    вчера в 21:04  Лекция с разбором правды и мифов об аварии на ...   \n",
       "\n",
       "                             Ссылка  \\\n",
       "0  https://habr.com/ru/post/494070/   \n",
       "1  https://habr.com/ru/post/511156/   \n",
       "\n",
       "                                        Текст статьи  \n",
       "0  \\n\\r\\nПолгода назад я опубликовал на Хабре ста...  \n",
       "1  Внимательные читатели и подписчики наверняка ж...  "
      ]
     },
     "execution_count": 13,
     "metadata": {},
     "output_type": "execute_result"
    }
   ],
   "source": [
    "df = pd.DataFrame(results, columns=['Дата', 'Заголовок', 'Ссылка', 'Текст статьи'])\n",
    "df"
   ]
  }
 ],
 "metadata": {
  "kernelspec": {
   "display_name": "Python 3",
   "language": "python",
   "name": "python3"
  },
  "language_info": {
   "codemirror_mode": {
    "name": "ipython",
    "version": 3
   },
   "file_extension": ".py",
   "mimetype": "text/x-python",
   "name": "python",
   "nbconvert_exporter": "python",
   "pygments_lexer": "ipython3",
   "version": "3.7.6"
  }
 },
 "nbformat": 4,
 "nbformat_minor": 4
}
