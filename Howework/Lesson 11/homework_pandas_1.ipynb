{
 "cells": [
  {
   "cell_type": "code",
   "execution_count": 1,
   "metadata": {},
   "outputs": [],
   "source": [
    "import pandas as pd"
   ]
  },
  {
   "cell_type": "markdown",
   "metadata": {},
   "source": [
    "### Задание 1\n",
    "Скачайте с сайта https://grouplens.org/datasets/movielens/ датасет любого размера. Определите какому фильму было выставлено больше всего оценок 5.0."
   ]
  },
  {
   "cell_type": "code",
   "execution_count": 23,
   "metadata": {},
   "outputs": [],
   "source": [
    "data_movie = pd.read_csv(r'C:\\Users\\aekom\\Lessons\\11 Pandas\\ml-25m\\movies.csv')\n",
    "data_rating = pd.read_csv(r'C:\\Users\\aekom\\Lessons\\11 Pandas\\ml-25m\\ratings.csv')"
   ]
  },
  {
   "cell_type": "code",
   "execution_count": 24,
   "metadata": {},
   "outputs": [
    {
     "data": {
      "text/html": [
       "<div>\n",
       "<style scoped>\n",
       "    .dataframe tbody tr th:only-of-type {\n",
       "        vertical-align: middle;\n",
       "    }\n",
       "\n",
       "    .dataframe tbody tr th {\n",
       "        vertical-align: top;\n",
       "    }\n",
       "\n",
       "    .dataframe thead th {\n",
       "        text-align: right;\n",
       "    }\n",
       "</style>\n",
       "<table border=\"1\" class=\"dataframe\">\n",
       "  <thead>\n",
       "    <tr style=\"text-align: right;\">\n",
       "      <th></th>\n",
       "      <th>movieId</th>\n",
       "      <th>title</th>\n",
       "      <th>genres</th>\n",
       "    </tr>\n",
       "  </thead>\n",
       "  <tbody>\n",
       "    <tr>\n",
       "      <th>0</th>\n",
       "      <td>1</td>\n",
       "      <td>Toy Story (1995)</td>\n",
       "      <td>Adventure|Animation|Children|Comedy|Fantasy</td>\n",
       "    </tr>\n",
       "    <tr>\n",
       "      <th>1</th>\n",
       "      <td>2</td>\n",
       "      <td>Jumanji (1995)</td>\n",
       "      <td>Adventure|Children|Fantasy</td>\n",
       "    </tr>\n",
       "    <tr>\n",
       "      <th>2</th>\n",
       "      <td>3</td>\n",
       "      <td>Grumpier Old Men (1995)</td>\n",
       "      <td>Comedy|Romance</td>\n",
       "    </tr>\n",
       "    <tr>\n",
       "      <th>3</th>\n",
       "      <td>4</td>\n",
       "      <td>Waiting to Exhale (1995)</td>\n",
       "      <td>Comedy|Drama|Romance</td>\n",
       "    </tr>\n",
       "    <tr>\n",
       "      <th>4</th>\n",
       "      <td>5</td>\n",
       "      <td>Father of the Bride Part II (1995)</td>\n",
       "      <td>Comedy</td>\n",
       "    </tr>\n",
       "  </tbody>\n",
       "</table>\n",
       "</div>"
      ],
      "text/plain": [
       "   movieId                               title  \\\n",
       "0        1                    Toy Story (1995)   \n",
       "1        2                      Jumanji (1995)   \n",
       "2        3             Grumpier Old Men (1995)   \n",
       "3        4            Waiting to Exhale (1995)   \n",
       "4        5  Father of the Bride Part II (1995)   \n",
       "\n",
       "                                        genres  \n",
       "0  Adventure|Animation|Children|Comedy|Fantasy  \n",
       "1                   Adventure|Children|Fantasy  \n",
       "2                               Comedy|Romance  \n",
       "3                         Comedy|Drama|Romance  \n",
       "4                                       Comedy  "
      ]
     },
     "execution_count": 24,
     "metadata": {},
     "output_type": "execute_result"
    }
   ],
   "source": [
    "data_movie.head()"
   ]
  },
  {
   "cell_type": "code",
   "execution_count": 25,
   "metadata": {},
   "outputs": [
    {
     "data": {
      "text/html": [
       "<div>\n",
       "<style scoped>\n",
       "    .dataframe tbody tr th:only-of-type {\n",
       "        vertical-align: middle;\n",
       "    }\n",
       "\n",
       "    .dataframe tbody tr th {\n",
       "        vertical-align: top;\n",
       "    }\n",
       "\n",
       "    .dataframe thead th {\n",
       "        text-align: right;\n",
       "    }\n",
       "</style>\n",
       "<table border=\"1\" class=\"dataframe\">\n",
       "  <thead>\n",
       "    <tr style=\"text-align: right;\">\n",
       "      <th></th>\n",
       "      <th>userId</th>\n",
       "      <th>movieId</th>\n",
       "      <th>rating</th>\n",
       "      <th>timestamp</th>\n",
       "    </tr>\n",
       "  </thead>\n",
       "  <tbody>\n",
       "    <tr>\n",
       "      <th>0</th>\n",
       "      <td>1</td>\n",
       "      <td>296</td>\n",
       "      <td>5.0</td>\n",
       "      <td>1147880044</td>\n",
       "    </tr>\n",
       "    <tr>\n",
       "      <th>1</th>\n",
       "      <td>1</td>\n",
       "      <td>306</td>\n",
       "      <td>3.5</td>\n",
       "      <td>1147868817</td>\n",
       "    </tr>\n",
       "    <tr>\n",
       "      <th>2</th>\n",
       "      <td>1</td>\n",
       "      <td>307</td>\n",
       "      <td>5.0</td>\n",
       "      <td>1147868828</td>\n",
       "    </tr>\n",
       "    <tr>\n",
       "      <th>3</th>\n",
       "      <td>1</td>\n",
       "      <td>665</td>\n",
       "      <td>5.0</td>\n",
       "      <td>1147878820</td>\n",
       "    </tr>\n",
       "    <tr>\n",
       "      <th>4</th>\n",
       "      <td>1</td>\n",
       "      <td>899</td>\n",
       "      <td>3.5</td>\n",
       "      <td>1147868510</td>\n",
       "    </tr>\n",
       "  </tbody>\n",
       "</table>\n",
       "</div>"
      ],
      "text/plain": [
       "   userId  movieId  rating   timestamp\n",
       "0       1      296     5.0  1147880044\n",
       "1       1      306     3.5  1147868817\n",
       "2       1      307     5.0  1147868828\n",
       "3       1      665     5.0  1147878820\n",
       "4       1      899     3.5  1147868510"
      ]
     },
     "execution_count": 25,
     "metadata": {},
     "output_type": "execute_result"
    }
   ],
   "source": [
    "data_rating.head()"
   ]
  },
  {
   "cell_type": "code",
   "execution_count": 66,
   "metadata": {},
   "outputs": [
    {
     "data": {
      "text/plain": [
       "356     81491\n",
       "318     81482\n",
       "296     79672\n",
       "593     74127\n",
       "2571    72674\n",
       "Name: movieId, dtype: int64"
      ]
     },
     "execution_count": 66,
     "metadata": {},
     "output_type": "execute_result"
    }
   ],
   "source": [
    "data_rating['movieId'].value_counts().head()"
   ]
  },
  {
   "cell_type": "code",
   "execution_count": 72,
   "metadata": {},
   "outputs": [
    {
     "data": {
      "text/html": [
       "<div>\n",
       "<style scoped>\n",
       "    .dataframe tbody tr th:only-of-type {\n",
       "        vertical-align: middle;\n",
       "    }\n",
       "\n",
       "    .dataframe tbody tr th {\n",
       "        vertical-align: top;\n",
       "    }\n",
       "\n",
       "    .dataframe thead th {\n",
       "        text-align: right;\n",
       "    }\n",
       "</style>\n",
       "<table border=\"1\" class=\"dataframe\">\n",
       "  <thead>\n",
       "    <tr style=\"text-align: right;\">\n",
       "      <th></th>\n",
       "      <th>movieId</th>\n",
       "      <th>title</th>\n",
       "      <th>genres</th>\n",
       "    </tr>\n",
       "  </thead>\n",
       "  <tbody>\n",
       "    <tr>\n",
       "      <th>292</th>\n",
       "      <td>296</td>\n",
       "      <td>Pulp Fiction (1994)</td>\n",
       "      <td>Comedy|Crime|Drama|Thriller</td>\n",
       "    </tr>\n",
       "    <tr>\n",
       "      <th>314</th>\n",
       "      <td>318</td>\n",
       "      <td>Shawshank Redemption, The (1994)</td>\n",
       "      <td>Crime|Drama</td>\n",
       "    </tr>\n",
       "    <tr>\n",
       "      <th>351</th>\n",
       "      <td>356</td>\n",
       "      <td>Forrest Gump (1994)</td>\n",
       "      <td>Comedy|Drama|Romance|War</td>\n",
       "    </tr>\n",
       "    <tr>\n",
       "      <th>585</th>\n",
       "      <td>593</td>\n",
       "      <td>Silence of the Lambs, The (1991)</td>\n",
       "      <td>Crime|Horror|Thriller</td>\n",
       "    </tr>\n",
       "    <tr>\n",
       "      <th>2480</th>\n",
       "      <td>2571</td>\n",
       "      <td>Matrix, The (1999)</td>\n",
       "      <td>Action|Sci-Fi|Thriller</td>\n",
       "    </tr>\n",
       "  </tbody>\n",
       "</table>\n",
       "</div>"
      ],
      "text/plain": [
       "      movieId                             title                       genres\n",
       "292       296               Pulp Fiction (1994)  Comedy|Crime|Drama|Thriller\n",
       "314       318  Shawshank Redemption, The (1994)                  Crime|Drama\n",
       "351       356               Forrest Gump (1994)     Comedy|Drama|Romance|War\n",
       "585       593  Silence of the Lambs, The (1991)        Crime|Horror|Thriller\n",
       "2480     2571                Matrix, The (1999)       Action|Sci-Fi|Thriller"
      ]
     },
     "execution_count": 72,
     "metadata": {},
     "output_type": "execute_result"
    }
   ],
   "source": [
    "data_movie[data_movie['movieId'].isin(['356', '318', '296', '593', '2571'])] "
   ]
  },
  {
   "cell_type": "markdown",
   "metadata": {},
   "source": [
    "### Задание 2\n",
    "По данным файла power.csv посчитайте суммарное потребление стран Прибалтики (Латвия, Литва и Эстония) категорий 4, 12 и 21 за период с 2005 по 2010 года. Не учитывайте в расчетах отрицательные значения quantity."
   ]
  },
  {
   "cell_type": "code",
   "execution_count": 68,
   "metadata": {},
   "outputs": [],
   "source": [
    "dataset = pd.read_csv('power.csv')"
   ]
  },
  {
   "cell_type": "code",
   "execution_count": 69,
   "metadata": {},
   "outputs": [
    {
     "data": {
      "text/html": [
       "<div>\n",
       "<style scoped>\n",
       "    .dataframe tbody tr th:only-of-type {\n",
       "        vertical-align: middle;\n",
       "    }\n",
       "\n",
       "    .dataframe tbody tr th {\n",
       "        vertical-align: top;\n",
       "    }\n",
       "\n",
       "    .dataframe thead th {\n",
       "        text-align: right;\n",
       "    }\n",
       "</style>\n",
       "<table border=\"1\" class=\"dataframe\">\n",
       "  <thead>\n",
       "    <tr style=\"text-align: right;\">\n",
       "      <th></th>\n",
       "      <th>country</th>\n",
       "      <th>year</th>\n",
       "      <th>quantity</th>\n",
       "      <th>category</th>\n",
       "    </tr>\n",
       "  </thead>\n",
       "  <tbody>\n",
       "    <tr>\n",
       "      <th>0</th>\n",
       "      <td>Austria</td>\n",
       "      <td>1996</td>\n",
       "      <td>5.0</td>\n",
       "      <td>1</td>\n",
       "    </tr>\n",
       "    <tr>\n",
       "      <th>1</th>\n",
       "      <td>Austria</td>\n",
       "      <td>1995</td>\n",
       "      <td>17.0</td>\n",
       "      <td>1</td>\n",
       "    </tr>\n",
       "    <tr>\n",
       "      <th>2</th>\n",
       "      <td>Belgium</td>\n",
       "      <td>2014</td>\n",
       "      <td>0.0</td>\n",
       "      <td>1</td>\n",
       "    </tr>\n",
       "    <tr>\n",
       "      <th>3</th>\n",
       "      <td>Belgium</td>\n",
       "      <td>2013</td>\n",
       "      <td>0.0</td>\n",
       "      <td>1</td>\n",
       "    </tr>\n",
       "    <tr>\n",
       "      <th>4</th>\n",
       "      <td>Belgium</td>\n",
       "      <td>2012</td>\n",
       "      <td>35.0</td>\n",
       "      <td>1</td>\n",
       "    </tr>\n",
       "  </tbody>\n",
       "</table>\n",
       "</div>"
      ],
      "text/plain": [
       "   country  year  quantity  category\n",
       "0  Austria  1996       5.0         1\n",
       "1  Austria  1995      17.0         1\n",
       "2  Belgium  2014       0.0         1\n",
       "3  Belgium  2013       0.0         1\n",
       "4  Belgium  2012      35.0         1"
      ]
     },
     "execution_count": 69,
     "metadata": {},
     "output_type": "execute_result"
    }
   ],
   "source": [
    "dataset.head()"
   ]
  },
  {
   "cell_type": "code",
   "execution_count": 87,
   "metadata": {},
   "outputs": [
    {
     "data": {
      "text/plain": [
       "array(['Lithuania', 'Latvia', 'Estonia'], dtype=object)"
      ]
     },
     "execution_count": 87,
     "metadata": {},
     "output_type": "execute_result"
    }
   ],
   "source": [
    "dataset[ dataset['country'].str.contains(r'(Latvia)|(Estonia)|(Lit)', case=False) ]['country'].unique()"
   ]
  },
  {
   "cell_type": "code",
   "execution_count": 144,
   "metadata": {},
   "outputs": [
    {
     "name": "stdout",
     "output_type": "stream",
     "text": [
      "          country  year  quantity  category\n",
      "11156   Lithuania  2008       1.0         4\n",
      "11157   Lithuania  2007       0.0         4\n",
      "11158   Lithuania  2006       1.0         4\n",
      "11159   Lithuania  2005       1.0         4\n",
      "13294   Lithuania  2008       1.0         4\n",
      "...           ...   ...       ...       ...\n",
      "253982  Lithuania  2009      98.0        21\n",
      "253983  Lithuania  2008      54.0        21\n",
      "253984  Lithuania  2007      47.0        21\n",
      "253985  Lithuania  2006      31.0        21\n",
      "253986  Lithuania  2005       1.0        21\n",
      "\n",
      "[309 rows x 4 columns]\n",
      "Сумма по quanity равна:  177140.0 \n",
      "Вся сумма по \"quantity\" равна:  219179627208.76712\n"
     ]
    }
   ],
   "source": [
    "filtered_countries = dataset[ \n",
    "    ( (dataset['country']=='Latvia') | (dataset['country']=='Lithuania') | (dataset['country']=='Lithuania') ) & \n",
    "    ( (dataset['category']==4) | (dataset['category']==12) | (dataset['category']==21) ) &\n",
    "    ( (dataset['year'] >= 2005) & (dataset['year'] <= 2010)  ) &\n",
    "    ( (dataset['quantity'] >= 0) )\n",
    "]\n",
    "print(filtered_countries)\n",
    "print ('Сумма по quanity равна: ', filtered_countries['quantity'].sum(), \n",
    "       '\\nВся сумма по \"quantity\" равна: ', dataset['quantity'].sum())"
   ]
  },
  {
   "cell_type": "markdown",
   "metadata": {},
   "source": [
    "### Задание 3\n",
    "Выберите страницу любого сайта с табличными данными. Импортируйте таблицы в pandas dataframe.\n",
    "Примеры страниц (необязательно брать именно эти):\n",
    "https://fortrader.org/quotes\n",
    "https://www.finanz.ru/valyuty/v-realnom-vremeni"
   ]
  },
  {
   "cell_type": "code",
   "execution_count": 139,
   "metadata": {},
   "outputs": [
    {
     "name": "stdout",
     "output_type": "stream",
     "text": [
      "[     0       1      2        3      4      5        6      7      8        9   \\\n",
      "0  ММВБ   2 709  -0,3%   Nasdaq  9 325   0,4%  Биткойн  9 301   1,4%  USD/RUB   \n",
      "1   РТС   1 188  -1,5%   S&P500  2 955   0,2%    Нефть    351  -2,3%  EUR/RUB   \n",
      "2   Dow  24 465   0,0%  FTSE100  5 993  -0,4%   Золото  1 737   0,0%  EUR/USD   \n",
      "\n",
      "       10     11  \n",
      "0  715745   0,9%  \n",
      "1  780390   0,3%  \n",
      "2   10898  -0,5%  ,     Unnamed: 0              Рубль  Предложение  Спрос  Предыдущее закрытие  \\\n",
      "0          NaN            GBP/RUB       871277      -               871974   \n",
      "1          NaN            EUR/RUB       780390      -               777675   \n",
      "2          NaN            USD/RUB       715745      -               709500   \n",
      "3          NaN            JPY/RUB        06649      -                06654   \n",
      "4          NaN            CNY/RUB       100380      -               100460   \n",
      "5          NaN            CHF/RUB       736970      -               737560   \n",
      "6          NaN               Евро  Предложение  Спрос  Предыдущее закрытие   \n",
      "7          NaN            EUR/USD        10898      -                10949   \n",
      "8          NaN            EUR/GBP        08953      -                08957   \n",
      "9          NaN            EUR/JPY      1173700      -              1178400   \n",
      "10         NaN            EUR/CHF        10591      -                10628   \n",
      "11         NaN         Доллар США  Предложение  Спрос  Предыдущее закрытие   \n",
      "12         NaN            USD/EUR        09176      -                09176   \n",
      "13         NaN            USD/GBP        08215      -                08215   \n",
      "14         NaN            USD/JPY      1076450      -              1076450   \n",
      "15         NaN            USD/CHF        09712      -                09708   \n",
      "16         NaN      Японская иена  Предложение  Спрос  Предыдущее закрытие   \n",
      "17         NaN    JPY/EUR (100:1)        08500      -                08500   \n",
      "18         NaN            JPY/GBP        00076      -                00076   \n",
      "19         NaN            JPY/USD        00093      -                00093   \n",
      "20         NaN    JPY/CHF (100:1)        09000      -                09000   \n",
      "21         NaN    Фунт стерлингов  Предложение  Спрос  Предыдущее закрытие   \n",
      "22         NaN            GBP/USD        12173      -                12223   \n",
      "23         NaN            GBP/JPY      1310363      -              1310424   \n",
      "24         NaN            GBP/EUR        11170      -                11166   \n",
      "25         NaN            GBP/CHF        11821      -                11866   \n",
      "26         NaN  Швейцарский франк  Предложение  Спрос  Предыдущее закрытие   \n",
      "27         NaN            GBP/CHF        11821      -                11866   \n",
      "28         NaN            EUR/CHF        10591      -                10628   \n",
      "29         NaN    JPY/CHF (100:1)        09000      -                09000   \n",
      "30         NaN            USD/CHF        09712      -                09708   \n",
      "31         NaN  Украинская гривна  Предложение  Спрос  Предыдущее закрытие   \n",
      "32         NaN            EUR/UAH       291675      -               291675   \n",
      "33         NaN            USD/UAH       267653      -               267653   \n",
      "34         NaN            CHF/UAH       275591      -               275591   \n",
      "35         NaN            GBP/UAH       325814      -               325814   \n",
      "\n",
      "          %  Абсолютное значение     Время  \n",
      "0   -0,08 %               -00697  06:35:00  \n",
      "1    0,35 %                02715  00:41:00  \n",
      "2    0,88 %                06245  00:00:00  \n",
      "3   -0,08 %               -00005  06:35:00  \n",
      "4   -0,08 %               -00080  06:35:00  \n",
      "5   -0,08 %               -00590  06:35:00  \n",
      "6         %  Абсолютное значение     Время  \n",
      "7   -0,47 %               -00051  00:23:00  \n",
      "8   -0,04 %               -00004  00:23:00  \n",
      "9   -0,40 %               -04700  00:54:00  \n",
      "10  -0,35 %               -00037  00:07:00  \n",
      "11        %  Абсолютное значение     Время  \n",
      "12   0,00 %                00000  06:35:00  \n",
      "13   0,00 %                00000  06:35:00  \n",
      "14   0,00 %                00000  00:23:00  \n",
      "15   0,04 %                00004  00:52:00  \n",
      "16        %  Абсолютное значение     Время  \n",
      "17   0,00 %                00000  06:35:00  \n",
      "18   0,00 %                00000  06:35:00  \n",
      "19   0,00 %                00000  06:35:00  \n",
      "20   0,04 %                00000  00:53:00  \n",
      "21        %  Абсолютное значение     Время  \n",
      "22  -0,41 %               -00050  00:09:00  \n",
      "23   0,00 %               -00061  06:35:00  \n",
      "24   0,04 %                00004  00:23:00  \n",
      "25  -0,38 %               -00045  00:09:00  \n",
      "26        %  Абсолютное значение     Время  \n",
      "27  -0,38 %               -00045  00:09:00  \n",
      "28  -0,35 %               -00037  00:07:00  \n",
      "29   0,04 %                00000  00:53:00  \n",
      "30   0,04 %                00004  00:52:00  \n",
      "31        %  Абсолютное значение     Время  \n",
      "32   0,00 %                00000  06:35:00  \n",
      "33   0,00 %                00000  06:35:00  \n",
      "34   0,00 %                00000  06:35:00  \n",
      "35   0,00 %                00000  06:35:00  ,                                                    0  \\\n",
      "0                                      Имя и фамилия   \n",
      "1                                            Телефон   \n",
      "2                                                NaN   \n",
      "3  Я даю согласие на обработку своих персональных...   \n",
      "\n",
      "                                                   1  \\\n",
      "0                                              Город   \n",
      "1                                              Email   \n",
      "2                                                NaN   \n",
      "3  Я даю согласие на обработку своих персональных...   \n",
      "\n",
      "                                                   2  \\\n",
      "0                                                NaN   \n",
      "1                                                NaN   \n",
      "2  Спасибо! Ваша заявка отправлена Финансовый кон...   \n",
      "3                                                NaN   \n",
      "\n",
      "                                                   3  \\\n",
      "0                                                NaN   \n",
      "1                                                NaN   \n",
      "2  Спасибо! Ваша заявка отправлена Финансовый кон...   \n",
      "3                                                NaN   \n",
      "\n",
      "                                                   4  \\\n",
      "0                                                NaN   \n",
      "1                                                NaN   \n",
      "2  ошибка: не удалось создать заявку в журнале за...   \n",
      "3                                                NaN   \n",
      "\n",
      "                                                   5                       6  \\\n",
      "0                                                NaN                     NaN   \n",
      "1                                                NaN                     NaN   \n",
      "2  ошибка: не удалось создать заявку в журнале за...  ошибка: не POST-запрос   \n",
      "3                                                NaN                     NaN   \n",
      "\n",
      "                        7                                                  8  \\\n",
      "0                     NaN                                                NaN   \n",
      "1                     NaN                                                NaN   \n",
      "2  ошибка: не POST-запрос  Просим Вас согласиться на передачу и обработку...   \n",
      "3                     NaN                                                NaN   \n",
      "\n",
      "                                                   9  \n",
      "0                                                NaN  \n",
      "1                                                NaN  \n",
      "2  Просим Вас согласиться на передачу и обработку...  \n",
      "3                                                NaN  ]\n"
     ]
    }
   ],
   "source": [
    "my_tables = pd.read_html('https://www.finanz.ru/valyuty/v-realnom-vremeni', encoding='UTF-8')\n",
    "print(my_tables)"
   ]
  }
 ],
 "metadata": {
  "kernelspec": {
   "display_name": "Python 3",
   "language": "python",
   "name": "python3"
  },
  "language_info": {
   "codemirror_mode": {
    "name": "ipython",
    "version": 3
   },
   "file_extension": ".py",
   "mimetype": "text/x-python",
   "name": "python",
   "nbconvert_exporter": "python",
   "pygments_lexer": "ipython3",
   "version": "3.7.6"
  }
 },
 "nbformat": 4,
 "nbformat_minor": 4
}
