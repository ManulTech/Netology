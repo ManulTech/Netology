{
 "cells": [
  {
   "cell_type": "code",
   "execution_count": 2,
   "metadata": {
    "colab": {},
    "colab_type": "code",
    "id": "uQ_wV-PDIIPy"
   },
   "outputs": [],
   "source": [
    "import pandas as pd\n",
    "import numpy as np\n",
    "import matplotlib.pyplot as plt\n",
    "import scipy.stats as sts\n",
    "%matplotlib inline\n",
    "import statistics"
   ]
  },
  {
   "cell_type": "markdown",
   "metadata": {
    "colab_type": "text",
    "id": "YAR-DsCuMr9G"
   },
   "source": [
    "# Основные понятия статистики\n",
    "\n"
   ]
  },
  {
   "cell_type": "markdown",
   "metadata": {
    "colab_type": "text",
    "id": "vBw6YdadPSKo"
   },
   "source": [
    "Возьмем данные о фильмах с контентом на английском языке: данные представляют собой таблицу, в которой каждая строчка - это фильм, а столбцы - это атрибуты фильма. "
   ]
  },
  {
   "cell_type": "code",
   "execution_count": 3,
   "metadata": {
    "colab": {},
    "colab_type": "code",
    "id": "gRn0ijGZMwA9"
   },
   "outputs": [],
   "source": [
    "import ssl\n",
    "ssl._create_default_https_context = ssl._create_unverified_context\n",
    "\n",
    "url=\"http://yustiks.ru/dataset/FilmTV_dataset.csv\"\n",
    "df=pd.read_csv(url)"
   ]
  },
  {
   "cell_type": "markdown",
   "metadata": {
    "colab_type": "text",
    "id": "FIicq4TJPi2C"
   },
   "source": [
    "*   **filmtv_ID** FilmTV ID - id фильма\n",
    "*   **film_title** Movie Title - наименование фильма\n",
    "*   **year** Year of Release - год выпуска\n",
    "*   **genre** Movie Genre - жанр фильма\n",
    "*   **duration** Movie Duration - продолжительность фильма\n",
    "*   **country** Movie Country - страна производства\n",
    "*   **director** Movie Director - режиссер\n",
    "*   **actors** Movie Actors - актеры\n",
    "*   **avg_vote** Movie Average Vote - средняя оценка\n",
    "*   **votes** Movie Number of Votes - количество проголосовавших\n"
   ]
  },
  {
   "cell_type": "markdown",
   "metadata": {
    "colab_type": "text",
    "id": "dgqe3OYPQboc"
   },
   "source": [
    "Посмотрим основные колонки из таблицы (head() - выводит первые пять фильмов)"
   ]
  },
  {
   "cell_type": "code",
   "execution_count": 3,
   "metadata": {
    "colab": {
     "base_uri": "https://localhost:8080/",
     "height": 289
    },
    "colab_type": "code",
    "id": "ney7duVrQQyX",
    "outputId": "3384b8ab-eb72-4093-a383-f453e79e05e4"
   },
   "outputs": [
    {
     "data": {
      "text/html": [
       "<div>\n",
       "<style scoped>\n",
       "    .dataframe tbody tr th:only-of-type {\n",
       "        vertical-align: middle;\n",
       "    }\n",
       "\n",
       "    .dataframe tbody tr th {\n",
       "        vertical-align: top;\n",
       "    }\n",
       "\n",
       "    .dataframe thead th {\n",
       "        text-align: right;\n",
       "    }\n",
       "</style>\n",
       "<table border=\"1\" class=\"dataframe\">\n",
       "  <thead>\n",
       "    <tr style=\"text-align: right;\">\n",
       "      <th></th>\n",
       "      <th>filmtv_ID</th>\n",
       "      <th>film_title</th>\n",
       "      <th>year</th>\n",
       "      <th>genre</th>\n",
       "      <th>duration</th>\n",
       "      <th>country</th>\n",
       "      <th>director</th>\n",
       "      <th>actors</th>\n",
       "      <th>avg_vote</th>\n",
       "      <th>votes</th>\n",
       "    </tr>\n",
       "  </thead>\n",
       "  <tbody>\n",
       "    <tr>\n",
       "      <th>0</th>\n",
       "      <td>2</td>\n",
       "      <td>Bugs Bunny's Third Movie: 1001 Rabbit Tales</td>\n",
       "      <td>1982</td>\n",
       "      <td>Animation</td>\n",
       "      <td>76</td>\n",
       "      <td>United States</td>\n",
       "      <td>David Detiege, Art Davis, Bill Perez</td>\n",
       "      <td>NaN</td>\n",
       "      <td>7.7</td>\n",
       "      <td>28</td>\n",
       "    </tr>\n",
       "    <tr>\n",
       "      <th>1</th>\n",
       "      <td>3</td>\n",
       "      <td>18 anni tra una settimana</td>\n",
       "      <td>1991</td>\n",
       "      <td>Drama</td>\n",
       "      <td>98</td>\n",
       "      <td>Italy</td>\n",
       "      <td>Luigi Perelli</td>\n",
       "      <td>Kim Rossi Stuart, Simona Cavallari, Ennio Fant...</td>\n",
       "      <td>7.0</td>\n",
       "      <td>3</td>\n",
       "    </tr>\n",
       "    <tr>\n",
       "      <th>2</th>\n",
       "      <td>17</td>\n",
       "      <td>Ride a Wild Pony</td>\n",
       "      <td>1976</td>\n",
       "      <td>Romantic</td>\n",
       "      <td>91</td>\n",
       "      <td>United States</td>\n",
       "      <td>Don Chaffey</td>\n",
       "      <td>Michael Craig, John Meillon, Eva Griffith, Gra...</td>\n",
       "      <td>5.6</td>\n",
       "      <td>10</td>\n",
       "    </tr>\n",
       "    <tr>\n",
       "      <th>3</th>\n",
       "      <td>18</td>\n",
       "      <td>Diner</td>\n",
       "      <td>1982</td>\n",
       "      <td>Comedy</td>\n",
       "      <td>95</td>\n",
       "      <td>United States</td>\n",
       "      <td>Barry Levinson</td>\n",
       "      <td>Mickey Rourke, Steve Guttenberg, Ellen Barkin</td>\n",
       "      <td>7.1</td>\n",
       "      <td>14</td>\n",
       "    </tr>\n",
       "    <tr>\n",
       "      <th>4</th>\n",
       "      <td>20</td>\n",
       "      <td>A che servono questi quattrini?</td>\n",
       "      <td>1942</td>\n",
       "      <td>Comedy</td>\n",
       "      <td>85</td>\n",
       "      <td>Italy</td>\n",
       "      <td>Esodo Pratelli</td>\n",
       "      <td>Eduardo De Filippo, Peppino De Filippo, Clelia...</td>\n",
       "      <td>5.9</td>\n",
       "      <td>12</td>\n",
       "    </tr>\n",
       "  </tbody>\n",
       "</table>\n",
       "</div>"
      ],
      "text/plain": [
       "   filmtv_ID                                   film_title  year      genre  \\\n",
       "0          2  Bugs Bunny's Third Movie: 1001 Rabbit Tales  1982  Animation   \n",
       "1          3                    18 anni tra una settimana  1991      Drama   \n",
       "2         17                             Ride a Wild Pony  1976   Romantic   \n",
       "3         18                                        Diner  1982     Comedy   \n",
       "4         20              A che servono questi quattrini?  1942     Comedy   \n",
       "\n",
       "   duration        country                              director  \\\n",
       "0        76  United States  David Detiege, Art Davis, Bill Perez   \n",
       "1        98          Italy                         Luigi Perelli   \n",
       "2        91  United States                           Don Chaffey   \n",
       "3        95  United States                        Barry Levinson   \n",
       "4        85          Italy                        Esodo Pratelli   \n",
       "\n",
       "                                              actors  avg_vote  votes  \n",
       "0                                                NaN       7.7     28  \n",
       "1  Kim Rossi Stuart, Simona Cavallari, Ennio Fant...       7.0      3  \n",
       "2  Michael Craig, John Meillon, Eva Griffith, Gra...       5.6     10  \n",
       "3      Mickey Rourke, Steve Guttenberg, Ellen Barkin       7.1     14  \n",
       "4  Eduardo De Filippo, Peppino De Filippo, Clelia...       5.9     12  "
      ]
     },
     "execution_count": 3,
     "metadata": {},
     "output_type": "execute_result"
    }
   ],
   "source": [
    "df.head()"
   ]
  },
  {
   "cell_type": "markdown",
   "metadata": {
    "colab_type": "text",
    "id": "nOpaN0kvTC8-"
   },
   "source": [
    "# Математические ожидание и среднее значение"
   ]
  },
  {
   "cell_type": "markdown",
   "metadata": {
    "colab_type": "text",
    "id": "BfQV1EO9jL_D"
   },
   "source": [
    "Каждая колонка таблицы - это атрибут - некоторая случайное распределение. В данном контексте возьмем duration (сколько идет фильм в секундах) и avg_vote (средняя оценка фильма).\n",
    "Построим точечный график двух величин."
   ]
  },
  {
   "cell_type": "code",
   "execution_count": 4,
   "metadata": {
    "colab": {
     "base_uri": "https://localhost:8080/",
     "height": 295
    },
    "colab_type": "code",
    "id": "0TrP0CrFjKMx",
    "outputId": "e194fe5b-8d3d-4c93-e451-48252c3a26db"
   },
   "outputs": [
    {
     "data": {
      "image/png": "[encoded data removed]",
      "text/plain": [
       "<Figure size 432x288 with 1 Axes>"
      ]
     },
     "metadata": {
      "needs_background": "light"
     },
     "output_type": "display_data"
    }
   ],
   "source": [
    "duration = df['duration']\n",
    "votes = df['votes']\n",
    "fig, ax = plt.subplots()\n",
    "ax.scatter(duration, votes, c='red', alpha=0.3, edgecolors='none')\n",
    "\n",
    "ax.grid(True)\n",
    "plt.xlabel('duration')\n",
    "plt.ylabel('votes')\n",
    "plt.title('Точечный график двух случайных величин')\n",
    "plt.show()"
   ]
  },
  {
   "cell_type": "markdown",
   "metadata": {
    "colab_type": "text",
    "id": "yyEVdWbOkrlj"
   },
   "source": [
    "Рассмотрим атрибут duration - сколько длится фильм по времени."
   ]
  },
  {
   "cell_type": "markdown",
   "metadata": {
    "colab_type": "text",
    "id": "N6GZxbKeUdu4"
   },
   "source": [
    "# Среднее значение случайной величины"
   ]
  },
  {
   "cell_type": "markdown",
   "metadata": {
    "colab_type": "text",
    "id": "L2fFkpkqUWXI"
   },
   "source": [
    "Посчитаем среднее значение случайной величины:"
   ]
  },
  {
   "cell_type": "markdown",
   "metadata": {
    "colab_type": "text",
    "id": "iVKr2LAKGI44"
   },
   "source": [
    "Складываем все значения выборки и делим на количество элементов в выборке"
   ]
  },
  {
   "cell_type": "code",
   "execution_count": 5,
   "metadata": {
    "colab": {
     "base_uri": "https://localhost:8080/",
     "height": 34
    },
    "colab_type": "code",
    "id": "lmsV-ZzdQB_a",
    "outputId": "c197e682-347a-4751-d26f-cde445141d8d"
   },
   "outputs": [
    {
     "data": {
      "text/plain": [
       "99.23111689086916"
      ]
     },
     "execution_count": 5,
     "metadata": {},
     "output_type": "execute_result"
    }
   ],
   "source": [
    "statistics.mean(df['duration'])"
   ]
  },
  {
   "cell_type": "code",
   "execution_count": 6,
   "metadata": {
    "colab": {
     "base_uri": "https://localhost:8080/",
     "height": 34
    },
    "colab_type": "code",
    "id": "rzGeATSAS-_R",
    "outputId": "81b116b7-45ca-41e0-f541-99de3b1195ef"
   },
   "outputs": [
    {
     "data": {
      "text/plain": [
       "99.23111689086916"
      ]
     },
     "execution_count": 6,
     "metadata": {},
     "output_type": "execute_result"
    }
   ],
   "source": [
    "sum(df['duration'])/len(df['duration'])"
   ]
  },
  {
   "cell_type": "markdown",
   "metadata": {
    "colab_type": "text",
    "id": "L5hMF6wHF59S"
   },
   "source": [
    "# Медиана"
   ]
  },
  {
   "cell_type": "markdown",
   "metadata": {
    "colab_type": "text",
    "id": "_cHJ0h1aQvm5"
   },
   "source": [
    "Возьмем колонку Duration - продолжительность фильма - и посчитаем медиану. **Медиана** - это такое значение случайного распределения, что ровно половина выборки меньше него, а ровно половина - больше. "
   ]
  },
  {
   "cell_type": "markdown",
   "metadata": {
    "colab_type": "text",
    "id": "XPOdqSa7Gppk"
   },
   "source": [
    "1ый способ:"
   ]
  },
  {
   "cell_type": "code",
   "execution_count": 7,
   "metadata": {
    "colab": {
     "base_uri": "https://localhost:8080/",
     "height": 34
    },
    "colab_type": "code",
    "id": "DC2LXb8vTfE7",
    "outputId": "013dde95-4033-43d7-e0b5-0c293b139a75"
   },
   "outputs": [
    {
     "name": "stdout",
     "output_type": "stream",
     "text": [
      "Медиана:  95\n"
     ]
    }
   ],
   "source": [
    "# Извлекаем duration \n",
    "duration = df['duration']\n",
    "\n",
    "# Находим их количество\n",
    "num_duration = len(duration)\n",
    "\n",
    "# Сортируем в порядке возрастания\n",
    "sorted_duration = sorted(duration)\n",
    "\n",
    "# Ищем индекс среднего элемента\n",
    "# если количество элементов четное, то берем среднее двух элементов в середине\n",
    "middle = (num_duration // 2)\n",
    "if num_duration%2==0:\n",
    "  result = (sorted_duration[middle-1] + sorted_duration[middle])/2\n",
    "else:\n",
    "  result = sorted_duration[middle]\n",
    "# Находим медиану\n",
    "print('Медиана: ', result)"
   ]
  },
  {
   "cell_type": "markdown",
   "metadata": {
    "colab_type": "text",
    "id": "oGWGPGniG4Ri"
   },
   "source": [
    "2ой способ:"
   ]
  },
  {
   "cell_type": "code",
   "execution_count": 13,
   "metadata": {
    "colab": {
     "base_uri": "https://localhost:8080/",
     "height": 34
    },
    "colab_type": "code",
    "id": "0uaz9T_VSqo9",
    "outputId": "d313484e-9700-4794-a26e-f14e1b1448b2"
   },
   "outputs": [
    {
     "name": "stdout",
     "output_type": "stream",
     "text": [
      "Медиана:  95\n"
     ]
    }
   ],
   "source": [
    "print('Медиана: ', statistics.median(df['duration']))"
   ]
  },
  {
   "cell_type": "markdown",
   "metadata": {
    "colab_type": "text",
    "id": "qdiM-4KTTPs6"
   },
   "source": [
    "# Мода"
   ]
  },
  {
   "cell_type": "markdown",
   "metadata": {
    "colab_type": "text",
    "id": "2KTU0bZfGCUK"
   },
   "source": [
    "Мода - значение, которое наиболее часто встречается в выборке"
   ]
  },
  {
   "cell_type": "code",
   "execution_count": 14,
   "metadata": {
    "colab": {
     "base_uri": "https://localhost:8080/",
     "height": 34
    },
    "colab_type": "code",
    "id": "XPGGb12LTRVM",
    "outputId": "8779edcb-cb39-4cfd-b7a1-342a3dbba90c"
   },
   "outputs": [
    {
     "name": "stdout",
     "output_type": "stream",
     "text": [
      "Значение моды:  90 Количество встречаемости:  5511\n"
     ]
    }
   ],
   "source": [
    "# Создаём пустой словарь, в котором будем считать количество появлений значений продолжительности фильма\n",
    "duration_counts = {}\n",
    "for p in duration:\n",
    "    if p not in duration_counts:\n",
    "        duration_counts[p] = 1\n",
    "    else:\n",
    "        duration_counts[p] += 1\n",
    "\n",
    "# Проходимся по словарю и ищем максимальное количество повторений\n",
    "# Алгоритм поиска максимума\n",
    "maxp = 0\n",
    "mode_duration = None\n",
    "for k, v in duration_counts.items():\n",
    "    if maxp < v:\n",
    "        maxp = v\n",
    "        mode_duration = k\n",
    "print('Значение моды: ', mode_duration, 'Количество встречаемости: ', maxp)\n"
   ]
  },
  {
   "cell_type": "code",
   "execution_count": 15,
   "metadata": {
    "colab": {
     "base_uri": "https://localhost:8080/",
     "height": 34
    },
    "colab_type": "code",
    "id": "HdZVYbzMUtPN",
    "outputId": "1bcb1c7a-4e08-43b7-e59d-80fc2ea45634"
   },
   "outputs": [
    {
     "name": "stdout",
     "output_type": "stream",
     "text": [
      "Значение моды:  90\n"
     ]
    }
   ],
   "source": [
    "print('Значение моды: ', statistics.mode(duration))"
   ]
  },
  {
   "cell_type": "markdown",
   "metadata": {},
   "source": [
    "# Рассмотрим пример моды на датасете о спуске и подъеме человека по стене (из материалов лекции №1)"
   ]
  },
  {
   "cell_type": "code",
   "execution_count": 25,
   "metadata": {},
   "outputs": [
    {
     "data": {
      "text/html": [
       "<div>\n",
       "<style scoped>\n",
       "    .dataframe tbody tr th:only-of-type {\n",
       "        vertical-align: middle;\n",
       "    }\n",
       "\n",
       "    .dataframe tbody tr th {\n",
       "        vertical-align: top;\n",
       "    }\n",
       "\n",
       "    .dataframe thead th {\n",
       "        text-align: right;\n",
       "    }\n",
       "</style>\n",
       "<table border=\"1\" class=\"dataframe\">\n",
       "  <thead>\n",
       "    <tr style=\"text-align: right;\">\n",
       "      <th></th>\n",
       "      <th>sec</th>\n",
       "      <th>x1</th>\n",
       "      <th>y1</th>\n",
       "      <th>x2</th>\n",
       "      <th>y2</th>\n",
       "      <th>height</th>\n",
       "    </tr>\n",
       "  </thead>\n",
       "  <tbody>\n",
       "    <tr>\n",
       "      <th>0</th>\n",
       "      <td>0</td>\n",
       "      <td>875</td>\n",
       "      <td>1411</td>\n",
       "      <td>1008</td>\n",
       "      <td>1835</td>\n",
       "      <td>414</td>\n",
       "    </tr>\n",
       "    <tr>\n",
       "      <th>1</th>\n",
       "      <td>1</td>\n",
       "      <td>883</td>\n",
       "      <td>1377</td>\n",
       "      <td>1057</td>\n",
       "      <td>1873</td>\n",
       "      <td>417</td>\n",
       "    </tr>\n",
       "    <tr>\n",
       "      <th>2</th>\n",
       "      <td>2</td>\n",
       "      <td>862</td>\n",
       "      <td>1397</td>\n",
       "      <td>1066</td>\n",
       "      <td>1872</td>\n",
       "      <td>417</td>\n",
       "    </tr>\n",
       "    <tr>\n",
       "      <th>3</th>\n",
       "      <td>3</td>\n",
       "      <td>878</td>\n",
       "      <td>1394</td>\n",
       "      <td>1046</td>\n",
       "      <td>1875</td>\n",
       "      <td>417</td>\n",
       "    </tr>\n",
       "    <tr>\n",
       "      <th>4</th>\n",
       "      <td>4</td>\n",
       "      <td>910</td>\n",
       "      <td>1378</td>\n",
       "      <td>1070</td>\n",
       "      <td>1866</td>\n",
       "      <td>417</td>\n",
       "    </tr>\n",
       "  </tbody>\n",
       "</table>\n",
       "</div>"
      ],
      "text/plain": [
       "   sec   x1    y1    x2    y2  height\n",
       "0    0  875  1411  1008  1835     414\n",
       "1    1  883  1377  1057  1873     417\n",
       "2    2  862  1397  1066  1872     417\n",
       "3    3  878  1394  1046  1875     417\n",
       "4    4  910  1378  1070  1866     417"
      ]
     },
     "execution_count": 25,
     "metadata": {},
     "output_type": "execute_result"
    }
   ],
   "source": [
    "data = pd.read_csv('data/video.csv')\n",
    "data.head()"
   ]
  },
  {
   "cell_type": "code",
   "execution_count": 26,
   "metadata": {},
   "outputs": [
    {
     "data": {
      "text/plain": [
       "Text(0, 0.5, 'изменение высоты по времени')"
      ]
     },
     "execution_count": 26,
     "metadata": {},
     "output_type": "execute_result"
    },
    {
     "data": {
      "image/png": "[encoded data removed]",
      "text/plain": [
       "<Figure size 1440x288 with 1 Axes>"
      ]
     },
     "metadata": {
      "needs_background": "light"
     },
     "output_type": "display_data"
    }
   ],
   "source": [
    "plt.figure(figsize=(20,4))\n",
    "plt.plot(data.height)\n",
    "plt.xlabel('время')\n",
    "plt.ylabel('изменение высоты по времени')"
   ]
  },
  {
   "cell_type": "markdown",
   "metadata": {},
   "source": [
    "**Задание**: чему равна мода для данного распределения?\n",
    "    Чему равна медиана?\n",
    "    Чему равно математическое ожидание?"
   ]
  },
  {
   "cell_type": "code",
   "execution_count": 27,
   "metadata": {},
   "outputs": [
    {
     "data": {
      "text/plain": [
       "972.6911883589329"
      ]
     },
     "execution_count": 27,
     "metadata": {},
     "output_type": "execute_result"
    }
   ],
   "source": [
    "statistics.mean(data.height)"
   ]
  },
  {
   "cell_type": "code",
   "execution_count": 30,
   "metadata": {},
   "outputs": [
    {
     "data": {
      "text/plain": [
       "427"
      ]
     },
     "execution_count": 30,
     "metadata": {},
     "output_type": "execute_result"
    }
   ],
   "source": [
    "statistics.mode(data.height)"
   ]
  },
  {
   "cell_type": "code",
   "execution_count": 32,
   "metadata": {},
   "outputs": [
    {
     "data": {
      "text/plain": [
       "1000"
      ]
     },
     "execution_count": 32,
     "metadata": {},
     "output_type": "execute_result"
    }
   ],
   "source": [
    "statistics.median(data.height)"
   ]
  },
  {
   "cell_type": "code",
   "execution_count": 41,
   "metadata": {},
   "outputs": [
    {
     "data": {
      "text/plain": [
       "Text(0, 0.5, 'изменение высоты по времени')"
      ]
     },
     "execution_count": 41,
     "metadata": {},
     "output_type": "execute_result"
    },
    {
     "data": {
      "image/png": "[encoded data removed]",
      "text/plain": [
       "<Figure size 1440x288 with 1 Axes>"
      ]
     },
     "metadata": {
      "needs_background": "light"
     },
     "output_type": "display_data"
    }
   ],
   "source": [
    "plt.figure(figsize=(20,4))\n",
    "plt.plot(data.height)\n",
    "plt.plot([0, 1200], [statistics.mode(data.height), statistics.mode(data.height)], '-')\n",
    "plt.plot([0, 1200], [statistics.median(data.height), statistics.median(data.height)], '-')\n",
    "plt.plot([0, 1200], [statistics.mean(data.height), statistics.mean(data.height)], '-')\n",
    "plt.legend(['высота', 'мода', 'медиана', 'среднее'])\n",
    "plt.xlabel('время')\n",
    "plt.ylabel('изменение высоты по времени')"
   ]
  },
  {
   "cell_type": "code",
   "execution_count": 48,
   "metadata": {},
   "outputs": [
    {
     "data": {
      "text/plain": [
       "<matplotlib.collections.PathCollection at 0x7fd3c24d5f60>"
      ]
     },
     "execution_count": 48,
     "metadata": {},
     "output_type": "execute_result"
    },
    {
     "data": {
      "image/png": "[encoded data removed]",
      "text/plain": [
       "<Figure size 1440x288 with 1 Axes>"
      ]
     },
     "metadata": {
      "needs_background": "light"
     },
     "output_type": "display_data"
    }
   ],
   "source": [
    "plt.figure(figsize=(20,4))\n",
    "plt.plot([0, 1200], [statistics.median(data.height), statistics.median(data.height)], '-')\n",
    "plt.plot([0, 1200], [statistics.mean(data.height), statistics.mean(data.height)], '-')\n",
    "plt.legend(['медиана', 'среднее'])\n",
    "plt.scatter(data.sec, data.height)"
   ]
  },
  {
   "cell_type": "markdown",
   "metadata": {},
   "source": [
    "Медиана делит данные таким образом, что ровно половина значений сверху, ровно половина снизу"
   ]
  },
  {
   "cell_type": "markdown",
   "metadata": {},
   "source": [
    "Среднее значение - среднее арифмитическое значение выборки"
   ]
  },
  {
   "cell_type": "markdown",
   "metadata": {
    "colab_type": "text",
    "id": "pRiYnAwVVPYe"
   },
   "source": [
    "# Минимум и максимум"
   ]
  },
  {
   "cell_type": "code",
   "execution_count": 16,
   "metadata": {
    "colab": {
     "base_uri": "https://localhost:8080/",
     "height": 34
    },
    "colab_type": "code",
    "id": "eWoVIZvjVSWm",
    "outputId": "714192b2-7eb3-4bfb-ad44-852fc017f581"
   },
   "outputs": [
    {
     "data": {
      "text/plain": [
       "40"
      ]
     },
     "execution_count": 16,
     "metadata": {},
     "output_type": "execute_result"
    }
   ],
   "source": [
    "min(duration)"
   ]
  },
  {
   "cell_type": "code",
   "execution_count": 17,
   "metadata": {
    "colab": {
     "base_uri": "https://localhost:8080/",
     "height": 34
    },
    "colab_type": "code",
    "id": "tJ-8XfmBVU7n",
    "outputId": "e359caf8-3bf2-4421-afc9-db680348c992"
   },
   "outputs": [
    {
     "data": {
      "text/plain": [
       "5280"
      ]
     },
     "execution_count": 17,
     "metadata": {},
     "output_type": "execute_result"
    }
   ],
   "source": [
    "max(duration)"
   ]
  },
  {
   "cell_type": "markdown",
   "metadata": {
    "colab_type": "text",
    "id": "UXN_1OYSGG2Q"
   },
   "source": [
    "# Выбросы"
   ]
  },
  {
   "cell_type": "markdown",
   "metadata": {
    "colab_type": "text",
    "id": "hKS4YwmXJfnv"
   },
   "source": [
    "В табличных данных выбросы - либо переменной нет в таблице, либо значение слишком варьируется от среднего значения выборки."
   ]
  },
  {
   "cell_type": "markdown",
   "metadata": {
    "colab_type": "text",
    "id": "AP3hy0ZhVdDY"
   },
   "source": [
    "**Выбросы** - отсутствующих значений в данной колонке нет"
   ]
  },
  {
   "cell_type": "code",
   "execution_count": 18,
   "metadata": {
    "colab": {
     "base_uri": "https://localhost:8080/",
     "height": 34
    },
    "colab_type": "code",
    "id": "aoJwHJpQVeiA",
    "outputId": "fffc14ee-d714-494d-b113-8730f86f5af8"
   },
   "outputs": [
    {
     "data": {
      "text/plain": [
       "0"
      ]
     },
     "execution_count": 18,
     "metadata": {},
     "output_type": "execute_result"
    }
   ],
   "source": [
    "duration.isnull().sum()"
   ]
  },
  {
   "cell_type": "code",
   "execution_count": 19,
   "metadata": {
    "colab": {
     "base_uri": "https://localhost:8080/",
     "height": 279
    },
    "colab_type": "code",
    "id": "EgeWA_kAppRJ",
    "outputId": "5e078ec7-3d0a-449f-8c89-63d4a7aac3b8"
   },
   "outputs": [
    {
     "data": {
      "image/png": "[encoded data removed]",
      "text/plain": [
       "<Figure size 432x288 with 1 Axes>"
      ]
     },
     "metadata": {
      "needs_background": "light"
     },
     "output_type": "display_data"
    }
   ],
   "source": [
    "duration = df['duration']\n",
    "year = df['year']\n",
    "fig, ax = plt.subplots()\n",
    "ax.scatter(duration, year, c='red', alpha=0.3, edgecolors='none')\n",
    "\n",
    "ax.grid(True)\n",
    "plt.xlabel('duration')\n",
    "plt.ylabel('year')\n",
    "plt.show()"
   ]
  },
  {
   "cell_type": "markdown",
   "metadata": {
    "colab_type": "text",
    "id": "qFZHcwxWoNkY"
   },
   "source": [
    "Фильм, продолжительность которого составляет более 5000 секунд:"
   ]
  },
  {
   "cell_type": "code",
   "execution_count": 20,
   "metadata": {
    "colab": {
     "base_uri": "https://localhost:8080/",
     "height": 80
    },
    "colab_type": "code",
    "id": "zoKoFrE7WJwr",
    "outputId": "48d8d704-c48c-4800-9c45-404e93d16db5"
   },
   "outputs": [
    {
     "data": {
      "text/html": [
       "<div>\n",
       "<style scoped>\n",
       "    .dataframe tbody tr th:only-of-type {\n",
       "        vertical-align: middle;\n",
       "    }\n",
       "\n",
       "    .dataframe tbody tr th {\n",
       "        vertical-align: top;\n",
       "    }\n",
       "\n",
       "    .dataframe thead th {\n",
       "        text-align: right;\n",
       "    }\n",
       "</style>\n",
       "<table border=\"1\" class=\"dataframe\">\n",
       "  <thead>\n",
       "    <tr style=\"text-align: right;\">\n",
       "      <th></th>\n",
       "      <th>filmtv_ID</th>\n",
       "      <th>film_title</th>\n",
       "      <th>year</th>\n",
       "      <th>genre</th>\n",
       "      <th>duration</th>\n",
       "      <th>country</th>\n",
       "      <th>director</th>\n",
       "      <th>actors</th>\n",
       "      <th>avg_vote</th>\n",
       "      <th>votes</th>\n",
       "    </tr>\n",
       "  </thead>\n",
       "  <tbody>\n",
       "    <tr>\n",
       "      <th>27639</th>\n",
       "      <td>35647</td>\n",
       "      <td>Farscape</td>\n",
       "      <td>1999</td>\n",
       "      <td>Adventure</td>\n",
       "      <td>5280</td>\n",
       "      <td>United States</td>\n",
       "      <td>Geoff Bennett, Tony Tilse, Ian Watson</td>\n",
       "      <td>Ben Browder, Virginia Hey, Wayne Pigram, Claud...</td>\n",
       "      <td>8.0</td>\n",
       "      <td>1</td>\n",
       "    </tr>\n",
       "  </tbody>\n",
       "</table>\n",
       "</div>"
      ],
      "text/plain": [
       "       filmtv_ID film_title  year      genre  duration        country  \\\n",
       "27639      35647   Farscape  1999  Adventure      5280  United States   \n",
       "\n",
       "                                    director  \\\n",
       "27639  Geoff Bennett, Tony Tilse, Ian Watson   \n",
       "\n",
       "                                                  actors  avg_vote  votes  \n",
       "27639  Ben Browder, Virginia Hey, Wayne Pigram, Claud...       8.0      1  "
      ]
     },
     "execution_count": 20,
     "metadata": {},
     "output_type": "execute_result"
    }
   ],
   "source": [
    "df.loc[df['duration'] > 5000, :]"
   ]
  },
  {
   "cell_type": "markdown",
   "metadata": {
    "colab_type": "text",
    "id": "6g6XCLFtobAL"
   },
   "source": [
    "Оказывается, что \"Farscape\" - австралийско-американский фантастический телевизионный сериал. Всего в данном сериале 90 серий. "
   ]
  },
  {
   "cell_type": "markdown",
   "metadata": {
    "colab_type": "text",
    "id": "LhtxETenlMD8"
   },
   "source": [
    "По графику можно увидеть, что есть некие значения, выходящие за рамки всех остальных значений. Найдем его."
   ]
  },
  {
   "cell_type": "code",
   "execution_count": 21,
   "metadata": {
    "colab": {
     "base_uri": "https://localhost:8080/",
     "height": 170
    },
    "colab_type": "code",
    "id": "ln-VOGfDlWph",
    "outputId": "6a9c1c1c-48b7-415a-d438-f4a66275f7a9"
   },
   "outputs": [
    {
     "data": {
      "text/plain": [
       "23844     924\n",
       "23845    1525\n",
       "23846     729\n",
       "24019     680\n",
       "27462    1470\n",
       "27639    5280\n",
       "39271     713\n",
       "41240    1200\n",
       "42871     705\n",
       "Name: duration, dtype: int64"
      ]
     },
     "execution_count": 21,
     "metadata": {},
     "output_type": "execute_result"
    }
   ],
   "source": [
    "duration[duration>600]"
   ]
  },
  {
   "cell_type": "markdown",
   "metadata": {
    "colab_type": "text",
    "id": "Oqh0xPpflhc1"
   },
   "source": [
    "Удалим эти значения, считая их выбросами."
   ]
  },
  {
   "cell_type": "code",
   "execution_count": 22,
   "metadata": {
    "colab": {
     "base_uri": "https://localhost:8080/",
     "height": 279
    },
    "colab_type": "code",
    "id": "PKue57NEllr1",
    "outputId": "4e5d0159-e7df-42ca-b9e1-e372ea3c89b0"
   },
   "outputs": [
    {
     "data": {
      "image/png": "[encoded data removed]",
      "text/plain": [
       "<Figure size 432x288 with 1 Axes>"
      ]
     },
     "metadata": {
      "needs_background": "light"
     },
     "output_type": "display_data"
    }
   ],
   "source": [
    "# из распределения выбираем только те значения которые меньше 600\n",
    "duration_new = duration[duration<600]\n",
    "year_new = year[duration<600]\n",
    "\n",
    "fig, ax = plt.subplots()\n",
    "ax.scatter(duration_new, year_new, c='red', alpha=0.3, edgecolors='none')\n",
    "\n",
    "ax.grid(True)\n",
    "plt.xlabel('duration')\n",
    "plt.ylabel('year')\n",
    "plt.show()"
   ]
  },
  {
   "cell_type": "markdown",
   "metadata": {
    "colab_type": "text",
    "id": "QJVyoEvcmITE"
   },
   "source": [
    "Можно заметить, что картина стала более ясная после удаления выбросов."
   ]
  },
  {
   "cell_type": "markdown",
   "metadata": {
    "colab_type": "text",
    "id": "SSXBzVCwWYmg"
   },
   "source": [
    "Есть отсутствующие значения в колонке actors"
   ]
  },
  {
   "cell_type": "code",
   "execution_count": 23,
   "metadata": {
    "colab": {
     "base_uri": "https://localhost:8080/",
     "height": 34
    },
    "colab_type": "code",
    "id": "HpzbtsXQWffw",
    "outputId": "bde2a757-e112-4ca7-f25b-a358d9264eed"
   },
   "outputs": [
    {
     "data": {
      "text/plain": [
       "129"
      ]
     },
     "execution_count": 23,
     "metadata": {},
     "output_type": "execute_result"
    }
   ],
   "source": [
    "df['actors'].isnull().sum()"
   ]
  },
  {
   "cell_type": "markdown",
   "metadata": {
    "colab_type": "text",
    "id": "cfCDahKfVehb"
   },
   "source": [
    "Посмотрим эти значения"
   ]
  },
  {
   "cell_type": "code",
   "execution_count": 24,
   "metadata": {
    "colab": {
     "base_uri": "https://localhost:8080/",
     "height": 419
    },
    "colab_type": "code",
    "id": "Pi5PJVppVg_3",
    "outputId": "a2a9dc82-d5f3-458c-e516-f3da1d28860f"
   },
   "outputs": [
    {
     "data": {
      "text/html": [
       "<div>\n",
       "<style scoped>\n",
       "    .dataframe tbody tr th:only-of-type {\n",
       "        vertical-align: middle;\n",
       "    }\n",
       "\n",
       "    .dataframe tbody tr th {\n",
       "        vertical-align: top;\n",
       "    }\n",
       "\n",
       "    .dataframe thead th {\n",
       "        text-align: right;\n",
       "    }\n",
       "</style>\n",
       "<table border=\"1\" class=\"dataframe\">\n",
       "  <thead>\n",
       "    <tr style=\"text-align: right;\">\n",
       "      <th></th>\n",
       "      <th>filmtv_ID</th>\n",
       "      <th>film_title</th>\n",
       "      <th>year</th>\n",
       "      <th>genre</th>\n",
       "      <th>duration</th>\n",
       "      <th>country</th>\n",
       "      <th>director</th>\n",
       "      <th>actors</th>\n",
       "      <th>avg_vote</th>\n",
       "      <th>votes</th>\n",
       "    </tr>\n",
       "  </thead>\n",
       "  <tbody>\n",
       "    <tr>\n",
       "      <th>0</th>\n",
       "      <td>2</td>\n",
       "      <td>Bugs Bunny's Third Movie: 1001 Rabbit Tales</td>\n",
       "      <td>1982</td>\n",
       "      <td>Animation</td>\n",
       "      <td>76</td>\n",
       "      <td>United States</td>\n",
       "      <td>David Detiege, Art Davis, Bill Perez</td>\n",
       "      <td>NaN</td>\n",
       "      <td>7.7</td>\n",
       "      <td>28</td>\n",
       "    </tr>\n",
       "    <tr>\n",
       "      <th>116</th>\n",
       "      <td>144</td>\n",
       "      <td>Africa addio</td>\n",
       "      <td>1966</td>\n",
       "      <td>Documentary</td>\n",
       "      <td>140</td>\n",
       "      <td>Italy</td>\n",
       "      <td>Gualtiero Jacopetti, Franco Prosperi</td>\n",
       "      <td>NaN</td>\n",
       "      <td>4.9</td>\n",
       "      <td>22</td>\n",
       "    </tr>\n",
       "    <tr>\n",
       "      <th>216</th>\n",
       "      <td>260</td>\n",
       "      <td>The Land Before Time</td>\n",
       "      <td>1988</td>\n",
       "      <td>Animation</td>\n",
       "      <td>79</td>\n",
       "      <td>United States</td>\n",
       "      <td>Don Bluth</td>\n",
       "      <td>NaN</td>\n",
       "      <td>7.5</td>\n",
       "      <td>81</td>\n",
       "    </tr>\n",
       "    <tr>\n",
       "      <th>570</th>\n",
       "      <td>679</td>\n",
       "      <td>Asterix et le coup de menhir</td>\n",
       "      <td>1989</td>\n",
       "      <td>Animation</td>\n",
       "      <td>81</td>\n",
       "      <td>France</td>\n",
       "      <td>Philippe Grimond</td>\n",
       "      <td>NaN</td>\n",
       "      <td>7.5</td>\n",
       "      <td>34</td>\n",
       "    </tr>\n",
       "    <tr>\n",
       "      <th>573</th>\n",
       "      <td>682</td>\n",
       "      <td>Atlantis</td>\n",
       "      <td>1991</td>\n",
       "      <td>Documentary</td>\n",
       "      <td>78</td>\n",
       "      <td>France</td>\n",
       "      <td>Luc Besson</td>\n",
       "      <td>NaN</td>\n",
       "      <td>5.9</td>\n",
       "      <td>10</td>\n",
       "    </tr>\n",
       "    <tr>\n",
       "      <th>...</th>\n",
       "      <td>...</td>\n",
       "      <td>...</td>\n",
       "      <td>...</td>\n",
       "      <td>...</td>\n",
       "      <td>...</td>\n",
       "      <td>...</td>\n",
       "      <td>...</td>\n",
       "      <td>...</td>\n",
       "      <td>...</td>\n",
       "      <td>...</td>\n",
       "    </tr>\n",
       "    <tr>\n",
       "      <th>13562</th>\n",
       "      <td>15137</td>\n",
       "      <td>Roger and Me</td>\n",
       "      <td>1989</td>\n",
       "      <td>Documentary</td>\n",
       "      <td>90</td>\n",
       "      <td>United States</td>\n",
       "      <td>Michael Moore</td>\n",
       "      <td>NaN</td>\n",
       "      <td>7.3</td>\n",
       "      <td>24</td>\n",
       "    </tr>\n",
       "    <tr>\n",
       "      <th>13576</th>\n",
       "      <td>15153</td>\n",
       "      <td>Nudo e crudele</td>\n",
       "      <td>1984</td>\n",
       "      <td>Documentary</td>\n",
       "      <td>96</td>\n",
       "      <td>Italy</td>\n",
       "      <td>Albert Thomas (Bitto Albertini)</td>\n",
       "      <td>NaN</td>\n",
       "      <td>2.9</td>\n",
       "      <td>17</td>\n",
       "    </tr>\n",
       "    <tr>\n",
       "      <th>13612</th>\n",
       "      <td>15195</td>\n",
       "      <td>La donna nel mondo</td>\n",
       "      <td>1963</td>\n",
       "      <td>Documentary</td>\n",
       "      <td>118</td>\n",
       "      <td>Italy</td>\n",
       "      <td>Gualtiero Jacopetti, Paolo Cavara, Franco Pros...</td>\n",
       "      <td>NaN</td>\n",
       "      <td>4.0</td>\n",
       "      <td>12</td>\n",
       "    </tr>\n",
       "    <tr>\n",
       "      <th>13632</th>\n",
       "      <td>15217</td>\n",
       "      <td>Sogni infranti (ragionamenti e deliri)</td>\n",
       "      <td>1995</td>\n",
       "      <td>Documentary</td>\n",
       "      <td>95</td>\n",
       "      <td>Italy</td>\n",
       "      <td>Marco Bellocchio</td>\n",
       "      <td>NaN</td>\n",
       "      <td>7.3</td>\n",
       "      <td>5</td>\n",
       "    </tr>\n",
       "    <tr>\n",
       "      <th>13642</th>\n",
       "      <td>15228</td>\n",
       "      <td>Lions of the Kalahari</td>\n",
       "      <td>1991</td>\n",
       "      <td>Documentary</td>\n",
       "      <td>90</td>\n",
       "      <td>Great Britain</td>\n",
       "      <td>Fanie e Laura Van Der Merwe</td>\n",
       "      <td>NaN</td>\n",
       "      <td>8.0</td>\n",
       "      <td>1</td>\n",
       "    </tr>\n",
       "  </tbody>\n",
       "</table>\n",
       "<p>129 rows × 10 columns</p>\n",
       "</div>"
      ],
      "text/plain": [
       "       filmtv_ID                                   film_title  year  \\\n",
       "0              2  Bugs Bunny's Third Movie: 1001 Rabbit Tales  1982   \n",
       "116          144                                 Africa addio  1966   \n",
       "216          260                         The Land Before Time  1988   \n",
       "570          679                 Asterix et le coup de menhir  1989   \n",
       "573          682                                     Atlantis  1991   \n",
       "...          ...                                          ...   ...   \n",
       "13562      15137                                 Roger and Me  1989   \n",
       "13576      15153                               Nudo e crudele  1984   \n",
       "13612      15195                           La donna nel mondo  1963   \n",
       "13632      15217       Sogni infranti (ragionamenti e deliri)  1995   \n",
       "13642      15228                        Lions of the Kalahari  1991   \n",
       "\n",
       "             genre  duration        country  \\\n",
       "0        Animation        76  United States   \n",
       "116    Documentary       140          Italy   \n",
       "216      Animation        79  United States   \n",
       "570      Animation        81         France   \n",
       "573    Documentary        78         France   \n",
       "...            ...       ...            ...   \n",
       "13562  Documentary        90  United States   \n",
       "13576  Documentary        96          Italy   \n",
       "13612  Documentary       118          Italy   \n",
       "13632  Documentary        95          Italy   \n",
       "13642  Documentary        90  Great Britain   \n",
       "\n",
       "                                                director actors  avg_vote  \\\n",
       "0                   David Detiege, Art Davis, Bill Perez    NaN       7.7   \n",
       "116                 Gualtiero Jacopetti, Franco Prosperi    NaN       4.9   \n",
       "216                                            Don Bluth    NaN       7.5   \n",
       "570                                     Philippe Grimond    NaN       7.5   \n",
       "573                                           Luc Besson    NaN       5.9   \n",
       "...                                                  ...    ...       ...   \n",
       "13562                                      Michael Moore    NaN       7.3   \n",
       "13576                    Albert Thomas (Bitto Albertini)    NaN       2.9   \n",
       "13612  Gualtiero Jacopetti, Paolo Cavara, Franco Pros...    NaN       4.0   \n",
       "13632                                   Marco Bellocchio    NaN       7.3   \n",
       "13642                        Fanie e Laura Van Der Merwe    NaN       8.0   \n",
       "\n",
       "       votes  \n",
       "0         28  \n",
       "116       22  \n",
       "216       81  \n",
       "570       34  \n",
       "573       10  \n",
       "...      ...  \n",
       "13562     24  \n",
       "13576     17  \n",
       "13612     12  \n",
       "13632      5  \n",
       "13642      1  \n",
       "\n",
       "[129 rows x 10 columns]"
      ]
     },
     "execution_count": 24,
     "metadata": {},
     "output_type": "execute_result"
    }
   ],
   "source": [
    "df[df['actors'].isnull()]"
   ]
  },
  {
   "cell_type": "markdown",
   "metadata": {
    "colab_type": "text",
    "id": "VZeoJnJyVrTK"
   },
   "source": [
    "Действительно, все актеры в выборке, заданной формулой выше, имеют отсутствующее значение (Nan)"
   ]
  },
  {
   "cell_type": "markdown",
   "metadata": {
    "colab_type": "text",
    "id": "9Y239gfqVaL-"
   },
   "source": [
    "# Стандартное отклонение - standard deviation"
   ]
  },
  {
   "cell_type": "markdown",
   "metadata": {
    "colab_type": "text",
    "id": "PDYjypiwJWKB"
   },
   "source": [
    "Мера разброса данных (насколько данные варьируются от среднего значения) - **Среднеквадрати́ческое отклоне́ние (среднее квадрати́ческое отклоне́ние, среднеквадрати́чное отклоне́ние, квадрати́чное отклоне́ние, станда́ртное отклоне́ние, станда́ртный разбро́с**."
   ]
  },
  {
   "cell_type": "markdown",
   "metadata": {
    "colab_type": "text",
    "id": "TS4JCMU9a7_L"
   },
   "source": [
    "![alt text](https://sun9-53.userapi.com/c858336/v858336794/16b91a/Ek5MlWa4dVM.jpg)"
   ]
  },
  {
   "cell_type": "markdown",
   "metadata": {
    "colab_type": "text",
    "id": "8tDz8NZHb3c-"
   },
   "source": [
    "Показывает, насколько в целом данные разбросаны относительно среднего значения. Маленькое среднеквадратическое значение свидетельствует о том, что данные имеют значение, близкое к среднему. С помощью данной величины можно посчитать доверительный интервал - сколько элементов из имеющегося распределения находится в определенном интервале?"
   ]
  },
  {
   "cell_type": "markdown",
   "metadata": {
    "colab_type": "text",
    "id": "H3TMcs74KqoV"
   },
   "source": [
    "1ой метод вычисления:"
   ]
  },
  {
   "cell_type": "code",
   "execution_count": 49,
   "metadata": {
    "colab": {
     "base_uri": "https://localhost:8080/",
     "height": 34
    },
    "colab_type": "code",
    "id": "KbJrfmd7faCm",
    "outputId": "ec891589-b430-49c8-b42f-305c44836f7b"
   },
   "outputs": [
    {
     "data": {
      "text/plain": [
       "34.95860443683266"
      ]
     },
     "execution_count": 49,
     "metadata": {},
     "output_type": "execute_result"
    }
   ],
   "source": [
    "statistics.pstdev(duration)"
   ]
  },
  {
   "cell_type": "markdown",
   "metadata": {
    "colab_type": "text",
    "id": "38eEjUYaKuf5"
   },
   "source": [
    "2ой метод вычисления:"
   ]
  },
  {
   "cell_type": "code",
   "execution_count": 50,
   "metadata": {
    "colab": {
     "base_uri": "https://localhost:8080/",
     "height": 34
    },
    "colab_type": "code",
    "id": "J0qTV1YmgBCd",
    "outputId": "7365743e-25eb-4fb1-b294-8b9ae2fb099f"
   },
   "outputs": [
    {
     "name": "stdout",
     "output_type": "stream",
     "text": [
      "34.9589770801773\n"
     ]
    }
   ],
   "source": [
    "def stdev(nums):\n",
    "    diffs = 0\n",
    "    # считаем среднее значение\n",
    "    avg = sum(nums)/len(nums)\n",
    "    for n in nums:\n",
    "        # считаем сумму квадратичных отклонений\n",
    "        diffs += (n - avg)**(2)\n",
    "    # считаем корень среднеквадратичного значения\n",
    "    return (diffs/(len(nums)-1))**(0.5)\n",
    "\n",
    "print(stdev(duration))"
   ]
  },
  {
   "cell_type": "markdown",
   "metadata": {
    "colab_type": "text",
    "id": "6MsGMUEeGLnX"
   },
   "source": [
    "# Дисперсия - Variance"
   ]
  },
  {
   "cell_type": "markdown",
   "metadata": {
    "colab_type": "text",
    "id": "9dV15Q5Ag60o"
   },
   "source": [
    "Дисперсия - квадрат стандартного отклонения"
   ]
  },
  {
   "cell_type": "code",
   "execution_count": 51,
   "metadata": {
    "colab": {
     "base_uri": "https://localhost:8080/",
     "height": 34
    },
    "colab_type": "code",
    "id": "addZ1sLdghk5",
    "outputId": "bcac056d-cac0-4050-de5e-84bef7e7e230"
   },
   "outputs": [
    {
     "data": {
      "text/plain": [
       "1222.1040241709359"
      ]
     },
     "execution_count": 51,
     "metadata": {},
     "output_type": "execute_result"
    }
   ],
   "source": [
    "statistics.pvariance(duration)"
   ]
  },
  {
   "cell_type": "code",
   "execution_count": 52,
   "metadata": {
    "colab": {
     "base_uri": "https://localhost:8080/",
     "height": 34
    },
    "colab_type": "code",
    "id": "VChDIQP_VjKq",
    "outputId": "2f64578e-a079-4596-a041-10d3990fe2c0"
   },
   "outputs": [
    {
     "data": {
      "text/plain": [
       "1222.1300784923617"
      ]
     },
     "execution_count": 52,
     "metadata": {},
     "output_type": "execute_result"
    }
   ],
   "source": [
    "34.9589770801773**2"
   ]
  },
  {
   "cell_type": "code",
   "execution_count": 53,
   "metadata": {
    "colab": {
     "base_uri": "https://localhost:8080/",
     "height": 34
    },
    "colab_type": "code",
    "id": "xgh0WUa9XpKw",
    "outputId": "f459e525-5979-46cb-9e12-ed8ac4506fdf"
   },
   "outputs": [
    {
     "name": "stdout",
     "output_type": "stream",
     "text": [
      "1222.130078492362\n"
     ]
    }
   ],
   "source": [
    "def dispersia(nums):\n",
    "    diffs = 0\n",
    "    # считаем среднее значение\n",
    "    avg = sum(nums)/len(nums)\n",
    "    for n in nums:\n",
    "        # считаем сумму квадратичных отклонений\n",
    "        diffs += (n - avg)**(2)\n",
    "    # считаем среднеквадратичного значения\n",
    "    return (diffs/(len(nums)-1))\n",
    "\n",
    "print(dispersia(duration))"
   ]
  },
  {
   "cell_type": "markdown",
   "metadata": {
    "colab_type": "text",
    "id": "4racI4iNfnfV"
   },
   "source": [
    "# Размах"
   ]
  },
  {
   "cell_type": "markdown",
   "metadata": {
    "colab_type": "text",
    "id": "mGaQm1fLK98x"
   },
   "source": [
    "Разница между минимальным и максимальным значениями"
   ]
  },
  {
   "cell_type": "code",
   "execution_count": 54,
   "metadata": {
    "colab": {
     "base_uri": "https://localhost:8080/",
     "height": 34
    },
    "colab_type": "code",
    "id": "tBwHhAu4fo5p",
    "outputId": "c5b34559-312b-418d-bb0e-f2e4311b9a49"
   },
   "outputs": [
    {
     "name": "stdout",
     "output_type": "stream",
     "text": [
      "5240\n"
     ]
    }
   ],
   "source": [
    "duration_range = max(duration) - min(duration)\n",
    "print(duration_range)"
   ]
  },
  {
   "cell_type": "markdown",
   "metadata": {
    "colab_type": "text",
    "id": "xa-9aSq7okAb"
   },
   "source": [
    "Можно посмотреть разброс фильмов по их продолжительности: посмотрим продолжительность всех фильмов (кроме одного, самого длинного фильма)."
   ]
  },
  {
   "cell_type": "code",
   "execution_count": 55,
   "metadata": {
    "colab": {
     "base_uri": "https://localhost:8080/",
     "height": 295
    },
    "colab_type": "code",
    "id": "tuv57pwyizO7",
    "outputId": "bb37c3d3-6465-4ec1-ad34-08b1191e1881"
   },
   "outputs": [
    {
     "data": {
      "image/png": "[encoded data removed]",
      "text/plain": [
       "<Figure size 432x288 with 1 Axes>"
      ]
     },
     "metadata": {
      "needs_background": "light"
     },
     "output_type": "display_data"
    }
   ],
   "source": [
    "y = df.loc[df['duration'] < 5000, 'duration']\n",
    "\n",
    "plt.xlabel('номер фильма')\n",
    "plt.ylabel('длительность')\n",
    "plt.title('Точечный график зависимости двух выборок x и y')\n",
    "plt.grid(True)\n",
    "# вектор от 0 до количество фильмов - 1 (так как мы удалили один фильм в первой строчке)\n",
    "x = [i for i in range(0, len(duration)-1)]\n",
    "plt.scatter(x, y, marker='.')\n",
    "plt.show()"
   ]
  },
  {
   "cell_type": "markdown",
   "metadata": {
    "colab_type": "text",
    "id": "g5QIcm7UHDX5"
   },
   "source": [
    "# Коррелляция"
   ]
  },
  {
   "cell_type": "markdown",
   "metadata": {
    "colab_type": "text",
    "id": "nnoXnqBSHJ2D"
   },
   "source": [
    "Корреляция - линейная взаимосвязь двух распределений друг от друга. Чтобы графически увидеть взаимосвязь двух переменных, можно к примеру построить точечный график зависимости друг от друга. Как вариант, возьмер 2 параметра - duration (продолжительность фильма) и avg_vote (средняя оценка). Зависит ли средняя оценка фильма от того, насколько долго он идет?"
   ]
  },
  {
   "cell_type": "code",
   "execution_count": 56,
   "metadata": {
    "colab": {
     "base_uri": "https://localhost:8080/",
     "height": 312
    },
    "colab_type": "code",
    "id": "ON7YUAomHeyJ",
    "outputId": "4dedaaaf-6723-42f1-f9d4-0b38ee73e8fa"
   },
   "outputs": [
    {
     "data": {
      "text/plain": [
       "<matplotlib.collections.PathCollection at 0x7fd3c229d630>"
      ]
     },
     "execution_count": 56,
     "metadata": {},
     "output_type": "execute_result"
    },
    {
     "data": {
      "image/png": "[encoded data removed]",
      "text/plain": [
       "<Figure size 432x288 with 1 Axes>"
      ]
     },
     "metadata": {
      "needs_background": "light"
     },
     "output_type": "display_data"
    }
   ],
   "source": [
    "duration = df['duration']\n",
    "avg_vote = df['avg_vote']\n",
    "plt.xlabel('выборка duration')\n",
    "plt.ylabel('выборка avg_vote')\n",
    "plt.title('Точечный график зависимости двух выборок x и y')\n",
    "plt.grid(True)\n",
    "plt.scatter(duration, avg_vote, marker='.')"
   ]
  },
  {
   "cell_type": "markdown",
   "metadata": {
    "colab_type": "text",
    "id": "OknprCp8qUAd"
   },
   "source": [
    "Удалим фильм под номером 35647 - сериал \"Farscape\", так как он явно является нестандартом (или выбросом). "
   ]
  },
  {
   "cell_type": "code",
   "execution_count": 57,
   "metadata": {
    "colab": {},
    "colab_type": "code",
    "id": "uX3hkrY_ZGDU"
   },
   "outputs": [],
   "source": [
    "df = df.loc[df['filmtv_ID']!=35647, :]"
   ]
  },
  {
   "cell_type": "markdown",
   "metadata": {
    "colab_type": "text",
    "id": "HBy935PVkUYg"
   },
   "source": [
    "После удаления фильма график получился более точным"
   ]
  },
  {
   "cell_type": "code",
   "execution_count": 58,
   "metadata": {
    "colab": {
     "base_uri": "https://localhost:8080/",
     "height": 312
    },
    "colab_type": "code",
    "id": "-DT8xl8Tqh-v",
    "outputId": "f108bc31-32d2-498a-ebb0-17fde490445f"
   },
   "outputs": [
    {
     "data": {
      "text/plain": [
       "<matplotlib.collections.PathCollection at 0x7fd3c227c3c8>"
      ]
     },
     "execution_count": 58,
     "metadata": {},
     "output_type": "execute_result"
    },
    {
     "data": {
      "image/png": "[encoded data removed]",
      "text/plain": [
       "<Figure size 432x288 with 1 Axes>"
      ]
     },
     "metadata": {
      "needs_background": "light"
     },
     "output_type": "display_data"
    }
   ],
   "source": [
    "duration = df['duration']\n",
    "avg_vote = df['avg_vote']\n",
    "plt.xlabel('выборка duration')\n",
    "plt.ylabel('выборка avg_vote')\n",
    "plt.title('Точечный график зависимости двух выборок x и y')\n",
    "plt.grid(True)\n",
    "plt.scatter(duration, avg_vote, marker='.')"
   ]
  },
  {
   "cell_type": "markdown",
   "metadata": {
    "colab_type": "text",
    "id": "dZwl1uXNqq62"
   },
   "source": [
    "**Выводы по графику** - чем длиннее фильм, тем выше у данного фильма оценка."
   ]
  },
  {
   "cell_type": "markdown",
   "metadata": {
    "colab_type": "text",
    "id": "Irh86ByjImfy"
   },
   "source": [
    "По данному графику можно заметить, что чем короткие фильмы имеют разные оценки - как низкие, так и высокие. Фильмы средней и большой длины имеют тенденция получать высокие оценки. Таким образом, между двумя выборками мы можем увидеть сильную коррелляцию."
   ]
  },
  {
   "cell_type": "markdown",
   "metadata": {
    "colab_type": "text",
    "id": "Aj8Ak22okre7"
   },
   "source": [
    "# Нормальное распределение"
   ]
  },
  {
   "cell_type": "markdown",
   "metadata": {
    "colab_type": "text",
    "id": "TLmupVvL2Vjk"
   },
   "source": [
    "**Посмотрим как выглядит нормальное распределение на практике**. Возьмем табличное значение avg_vote - среднее значение голосов за данный фильм. Посмотрим график распределения данной величины."
   ]
  },
  {
   "cell_type": "code",
   "execution_count": 16,
   "metadata": {
    "colab": {
     "base_uri": "https://localhost:8080/",
     "height": 282
    },
    "colab_type": "code",
    "id": "Pc_IEf7c2ad2",
    "outputId": "d9a499be-a08a-44fa-d914-844a88349249"
   },
   "outputs": [
    {
     "data": {
      "text/plain": [
       "<matplotlib.collections.PathCollection at 0x20381e63108>"
      ]
     },
     "execution_count": 16,
     "metadata": {},
     "output_type": "execute_result"
    },
    {
     "data": {
      "image/png": "[encoded data removed]",
      "text/plain": [
       "<Figure size 432x288 with 1 Axes>"
      ]
     },
     "metadata": {
      "needs_background": "light"
     },
     "output_type": "display_data"
    }
   ],
   "source": [
    "len_column = len(df['avg_vote']) # сколько значений в колонке\n",
    "# генерируем значения от 0 до len_column \n",
    "x = np.linspace(0, len_column, len_column)\n",
    "# выводим все значения из таблицы\n",
    "plt.scatter(x, df['avg_vote'], marker='.')"
   ]
  },
  {
   "cell_type": "code",
   "execution_count": 17,
   "metadata": {},
   "outputs": [
    {
     "data": {
      "text/plain": [
       "46907"
      ]
     },
     "execution_count": 17,
     "metadata": {},
     "output_type": "execute_result"
    }
   ],
   "source": [
    "len_column"
   ]
  },
  {
   "cell_type": "markdown",
   "metadata": {
    "colab_type": "text",
    "id": "r4nBOf1h4O1W"
   },
   "source": [
    "По такому графику сложно понять, какое это распределение. Построим **частотный график** значений. "
   ]
  },
  {
   "cell_type": "code",
   "execution_count": 25,
   "metadata": {},
   "outputs": [
    {
     "data": {
      "text/html": [
       "<div>\n",
       "<style scoped>\n",
       "    .dataframe tbody tr th:only-of-type {\n",
       "        vertical-align: middle;\n",
       "    }\n",
       "\n",
       "    .dataframe tbody tr th {\n",
       "        vertical-align: top;\n",
       "    }\n",
       "\n",
       "    .dataframe thead th {\n",
       "        text-align: right;\n",
       "    }\n",
       "</style>\n",
       "<table border=\"1\" class=\"dataframe\">\n",
       "  <thead>\n",
       "    <tr style=\"text-align: right;\">\n",
       "      <th></th>\n",
       "      <th>filmtv_ID</th>\n",
       "      <th>film_title</th>\n",
       "      <th>year</th>\n",
       "      <th>genre</th>\n",
       "      <th>duration</th>\n",
       "      <th>country</th>\n",
       "      <th>director</th>\n",
       "      <th>actors</th>\n",
       "      <th>avg_vote</th>\n",
       "      <th>votes</th>\n",
       "    </tr>\n",
       "  </thead>\n",
       "  <tbody>\n",
       "    <tr>\n",
       "      <th>23786</th>\n",
       "      <td>27908</td>\n",
       "      <td>Seppuku</td>\n",
       "      <td>1962</td>\n",
       "      <td>Drama</td>\n",
       "      <td>135</td>\n",
       "      <td>Japan</td>\n",
       "      <td>Masaki Kobayashi</td>\n",
       "      <td>Tatsuya Nakadai, Shima Iwashita, Akira Ishihama</td>\n",
       "      <td>9.5</td>\n",
       "      <td>58</td>\n",
       "    </tr>\n",
       "    <tr>\n",
       "      <th>6792</th>\n",
       "      <td>7753</td>\n",
       "      <td>Sunset Boulevard</td>\n",
       "      <td>1950</td>\n",
       "      <td>Drama</td>\n",
       "      <td>100</td>\n",
       "      <td>United States</td>\n",
       "      <td>Billy Wilder</td>\n",
       "      <td>Gloria Swanson, William Holden, Erich Von Stro...</td>\n",
       "      <td>9.5</td>\n",
       "      <td>496</td>\n",
       "    </tr>\n",
       "    <tr>\n",
       "      <th>3329</th>\n",
       "      <td>3831</td>\n",
       "      <td>Ladri di biciclette</td>\n",
       "      <td>1948</td>\n",
       "      <td>Drama</td>\n",
       "      <td>90</td>\n",
       "      <td>Italy</td>\n",
       "      <td>Vittorio De Sica</td>\n",
       "      <td>Lamberto Maggiorani, Enzo Staiola, Lianella Ca...</td>\n",
       "      <td>9.4</td>\n",
       "      <td>433</td>\n",
       "    </tr>\n",
       "    <tr>\n",
       "      <th>40006</th>\n",
       "      <td>66829</td>\n",
       "      <td>Limite</td>\n",
       "      <td>1931</td>\n",
       "      <td>Drama</td>\n",
       "      <td>114</td>\n",
       "      <td>Brazil</td>\n",
       "      <td>Mario Peixoto</td>\n",
       "      <td>Olga Breno, Tatiana Rey, Raul Schnoor, Brutus ...</td>\n",
       "      <td>9.4</td>\n",
       "      <td>7</td>\n",
       "    </tr>\n",
       "    <tr>\n",
       "      <th>6154</th>\n",
       "      <td>7042</td>\n",
       "      <td>Modern Times</td>\n",
       "      <td>1936</td>\n",
       "      <td>Comedy</td>\n",
       "      <td>83</td>\n",
       "      <td>United States</td>\n",
       "      <td>Charles Chaplin</td>\n",
       "      <td>Charles Chaplin, Paulette Goddard, Henry Bergman</td>\n",
       "      <td>9.4</td>\n",
       "      <td>398</td>\n",
       "    </tr>\n",
       "    <tr>\n",
       "      <th>...</th>\n",
       "      <td>...</td>\n",
       "      <td>...</td>\n",
       "      <td>...</td>\n",
       "      <td>...</td>\n",
       "      <td>...</td>\n",
       "      <td>...</td>\n",
       "      <td>...</td>\n",
       "      <td>...</td>\n",
       "      <td>...</td>\n",
       "      <td>...</td>\n",
       "    </tr>\n",
       "    <tr>\n",
       "      <th>38409</th>\n",
       "      <td>59764</td>\n",
       "      <td>Forever Love</td>\n",
       "      <td>2013</td>\n",
       "      <td>Comedy</td>\n",
       "      <td>124</td>\n",
       "      <td>Taiwan</td>\n",
       "      <td>Shiao Li-shiou, Kitamura Toyoharu</td>\n",
       "      <td>Blue Lan, Amber An, Edison Wang, Tien Hsin, Lu...</td>\n",
       "      <td>1.0</td>\n",
       "      <td>1</td>\n",
       "    </tr>\n",
       "    <tr>\n",
       "      <th>38408</th>\n",
       "      <td>59758</td>\n",
       "      <td>Finding Mr. Right</td>\n",
       "      <td>2013</td>\n",
       "      <td>Comedy</td>\n",
       "      <td>121</td>\n",
       "      <td>China, Hong Kong</td>\n",
       "      <td>Xiao Lu Xue</td>\n",
       "      <td>Wei Tang, Xiubo Wu, Dante Lee Arias, Trevor Be...</td>\n",
       "      <td>1.0</td>\n",
       "      <td>1</td>\n",
       "    </tr>\n",
       "    <tr>\n",
       "      <th>38394</th>\n",
       "      <td>59698</td>\n",
       "      <td>Kwong Mo Pai</td>\n",
       "      <td>2013</td>\n",
       "      <td>Comedy</td>\n",
       "      <td>110</td>\n",
       "      <td>Hong Kong</td>\n",
       "      <td>Adam Wong</td>\n",
       "      <td>Cherry Ngan, Babyjohn, Lokman, Tommy Guns, Pau...</td>\n",
       "      <td>1.0</td>\n",
       "      <td>1</td>\n",
       "    </tr>\n",
       "    <tr>\n",
       "      <th>37236</th>\n",
       "      <td>55433</td>\n",
       "      <td>Une femme d'honneur: Son et lumière</td>\n",
       "      <td>1999</td>\n",
       "      <td>Thriller</td>\n",
       "      <td>92</td>\n",
       "      <td>France</td>\n",
       "      <td>David Delrieux</td>\n",
       "      <td>Corinne Touzet, Jean-Michel Dupuis, Anny Roman...</td>\n",
       "      <td>1.0</td>\n",
       "      <td>1</td>\n",
       "    </tr>\n",
       "    <tr>\n",
       "      <th>26689</th>\n",
       "      <td>33490</td>\n",
       "      <td>Silver City</td>\n",
       "      <td>2004</td>\n",
       "      <td>Comedy</td>\n",
       "      <td>128</td>\n",
       "      <td>United States</td>\n",
       "      <td>John Sayles</td>\n",
       "      <td>Chris Cooper, Richard Dreyfuss, Danny Huston, ...</td>\n",
       "      <td>0.5</td>\n",
       "      <td>2</td>\n",
       "    </tr>\n",
       "  </tbody>\n",
       "</table>\n",
       "<p>46907 rows × 10 columns</p>\n",
       "</div>"
      ],
      "text/plain": [
       "       filmtv_ID                           film_title  year     genre  \\\n",
       "23786      27908                              Seppuku  1962     Drama   \n",
       "6792        7753                     Sunset Boulevard  1950     Drama   \n",
       "3329        3831                  Ladri di biciclette  1948     Drama   \n",
       "40006      66829                               Limite  1931     Drama   \n",
       "6154        7042                         Modern Times  1936    Comedy   \n",
       "...          ...                                  ...   ...       ...   \n",
       "38409      59764                         Forever Love  2013    Comedy   \n",
       "38408      59758                    Finding Mr. Right  2013    Comedy   \n",
       "38394      59698                         Kwong Mo Pai  2013    Comedy   \n",
       "37236      55433  Une femme d'honneur: Son et lumière  1999  Thriller   \n",
       "26689      33490                          Silver City  2004    Comedy   \n",
       "\n",
       "       duration           country                           director  \\\n",
       "23786       135             Japan                   Masaki Kobayashi   \n",
       "6792        100     United States                       Billy Wilder   \n",
       "3329         90             Italy                   Vittorio De Sica   \n",
       "40006       114            Brazil                      Mario Peixoto   \n",
       "6154         83     United States                    Charles Chaplin   \n",
       "...         ...               ...                                ...   \n",
       "38409       124            Taiwan  Shiao Li-shiou, Kitamura Toyoharu   \n",
       "38408       121  China, Hong Kong                        Xiao Lu Xue   \n",
       "38394       110         Hong Kong                          Adam Wong   \n",
       "37236        92            France                     David Delrieux   \n",
       "26689       128     United States                        John Sayles   \n",
       "\n",
       "                                                  actors  avg_vote  votes  \n",
       "23786    Tatsuya Nakadai, Shima Iwashita, Akira Ishihama       9.5     58  \n",
       "6792   Gloria Swanson, William Holden, Erich Von Stro...       9.5    496  \n",
       "3329   Lamberto Maggiorani, Enzo Staiola, Lianella Ca...       9.4    433  \n",
       "40006  Olga Breno, Tatiana Rey, Raul Schnoor, Brutus ...       9.4      7  \n",
       "6154    Charles Chaplin, Paulette Goddard, Henry Bergman       9.4    398  \n",
       "...                                                  ...       ...    ...  \n",
       "38409  Blue Lan, Amber An, Edison Wang, Tien Hsin, Lu...       1.0      1  \n",
       "38408  Wei Tang, Xiubo Wu, Dante Lee Arias, Trevor Be...       1.0      1  \n",
       "38394  Cherry Ngan, Babyjohn, Lokman, Tommy Guns, Pau...       1.0      1  \n",
       "37236  Corinne Touzet, Jean-Michel Dupuis, Anny Roman...       1.0      1  \n",
       "26689  Chris Cooper, Richard Dreyfuss, Danny Huston, ...       0.5      2  \n",
       "\n",
       "[46907 rows x 10 columns]"
      ]
     },
     "execution_count": 25,
     "metadata": {},
     "output_type": "execute_result"
    }
   ],
   "source": [
    "df.sort_values(by='avg_vote', ascending=False)"
   ]
  },
  {
   "cell_type": "code",
   "execution_count": 28,
   "metadata": {
    "colab": {
     "base_uri": "https://localhost:8080/",
     "height": 295
    },
    "colab_type": "code",
    "id": "HJI8Ku504VDv",
    "outputId": "8c9522a8-d38a-46c6-f012-84a729c627f4"
   },
   "outputs": [
    {
     "data": {
      "image/png": "[encoded data removed]",
      "text/plain": [
       "<Figure size 432x288 with 1 Axes>"
      ]
     },
     "metadata": {
      "needs_background": "light"
     },
     "output_type": "display_data"
    }
   ],
   "source": [
    "# plt.hist - строит частотный график выборки, разбивая значения выборки на равные интервалы\n",
    "n, bins, patches = plt.hist(df['avg_vote'], 10, facecolor='g')\n",
    "\n",
    "plt.xlabel('avg_vote')\n",
    "plt.ylabel('frequency')\n",
    "plt.title('Частотный график avg_vote (разбиение интервала по 10 элементов)')\n",
    "plt.grid(True)\n",
    "plt.show()"
   ]
  },
  {
   "cell_type": "code",
   "execution_count": 23,
   "metadata": {},
   "outputs": [
    {
     "data": {
      "text/plain": [
       "array([0.5, 1.4, 2.3, 3.2, 4.1, 5. , 5.9, 6.8, 7.7, 8.6, 9.5])"
      ]
     },
     "execution_count": 23,
     "metadata": {},
     "output_type": "execute_result"
    }
   ],
   "source": [
    "bins"
   ]
  },
  {
   "cell_type": "markdown",
   "metadata": {
    "colab_type": "text",
    "id": "2Qwy5kXk5ZNE"
   },
   "source": [
    "Частотный график схож с **нормальным распределением** с некоторыми отклонениями. Мы можем поменять количество разбиений наших значений с 10 на 100:"
   ]
  },
  {
   "cell_type": "code",
   "execution_count": 6,
   "metadata": {
    "colab": {
     "base_uri": "https://localhost:8080/",
     "height": 295
    },
    "colab_type": "code",
    "id": "ErZp6rg16mYK",
    "outputId": "6c1396e5-ead8-49d4-c035-7fdb66266aba"
   },
   "outputs": [
    {
     "data": {
      "image/png": "[encoded data removed]",
      "text/plain": [
       "<Figure size 432x288 with 1 Axes>"
      ]
     },
     "metadata": {
      "needs_background": "light"
     },
     "output_type": "display_data"
    }
   ],
   "source": [
    "n, bins, patches = plt.hist(df['avg_vote'], 100, facecolor='g')\n",
    "\n",
    "plt.xlabel('frequency')\n",
    "plt.ylabel('avg_vote')\n",
    "plt.title('Частотный график avg_vote (разбиение интервала по 100 элементов)')\n",
    "plt.grid(True)\n",
    "plt.show()"
   ]
  },
  {
   "cell_type": "markdown",
   "metadata": {
    "colab_type": "text",
    "id": "b8eQNtZH6pul"
   },
   "source": [
    "Можно заметить, что у фильмов больше всего оценок 6 (всего таких фильмов со средней оценкой 6 более 7000)"
   ]
  },
  {
   "cell_type": "markdown",
   "metadata": {
    "colab_type": "text",
    "id": "KRnyXmca2DXX"
   },
   "source": [
    "**Зададим нормальное распределение теоретически.**"
   ]
  },
  {
   "cell_type": "markdown",
   "metadata": {
    "colab_type": "text",
    "id": "NurYf-P7IIP8"
   },
   "source": [
    "Зададим 2 выборки с нормальным распределением и построим точечный график зависимости двух переменных друг от друга.\n",
    "Параметр ```loc``` задаёт $\\mu$ или среднее значение, ```scale``` — среднеквадратичное отклонение $\\sigma$, ```size``` — размер выборки. Имя параметра ```size``` при вызове функции ```rvs``` можно не писать.\n"
   ]
  },
  {
   "cell_type": "code",
   "execution_count": 7,
   "metadata": {
    "colab": {
     "base_uri": "https://localhost:8080/",
     "height": 312
    },
    "colab_type": "code",
    "id": "4PEaut0MIIP2",
    "outputId": "d670c227-1e48-477f-92a5-5d252068c3e1"
   },
   "outputs": [
    {
     "data": {
      "text/plain": [
       "<matplotlib.collections.PathCollection at 0x20381cbc348>"
      ]
     },
     "execution_count": 7,
     "metadata": {},
     "output_type": "execute_result"
    },
    {
     "data": {
      "image/png": "[encoded data removed]",
      "text/plain": [
       "<Figure size 432x288 with 1 Axes>"
      ]
     },
     "metadata": {
      "needs_background": "light"
     },
     "output_type": "display_data"
    }
   ],
   "source": [
    "mu1 = 90\n",
    "sigma1 = 10\n",
    "\n",
    "mu2 = 10 \n",
    "sigma2 = 5\n",
    "\n",
    "amount = 1000\n",
    "\n",
    "# зададим 2 нормально распределенные случайные величины\n",
    "norm_rv1 = sts.norm(loc=mu1, scale=sigma1)\n",
    "norm_rv2 = sts.norm(loc=mu2, scale=sigma2)\n",
    "\n",
    "# сгенерируем 1000 значений\n",
    "x = norm_rv1.rvs(size=amount)\n",
    "y = norm_rv2.rvs(size=amount)\n",
    "\n",
    "# построим точечный график зависимости двух переменных\n",
    "\n",
    "plt.xlabel('выборка x')\n",
    "plt.ylabel('выборка y')\n",
    "plt.title('Точечный график зависимости двух выборок x и y')\n",
    "plt.grid(True)\n",
    "plt.scatter(x, y, marker='.')"
   ]
  },
  {
   "cell_type": "markdown",
   "metadata": {
    "colab_type": "text",
    "id": "YdUOXiVuMJwA"
   },
   "source": [
    "Частотный график выборки y  (или график плотности вероятности)."
   ]
  },
  {
   "cell_type": "code",
   "execution_count": 10,
   "metadata": {
    "colab": {
     "base_uri": "https://localhost:8080/",
     "height": 295
    },
    "colab_type": "code",
    "id": "F39tEj1hL0dm",
    "outputId": "53801603-027b-4467-f303-82e9738d1182"
   },
   "outputs": [
    {
     "data": {
      "image/png": "[encoded data removed]",
      "text/plain": [
       "<Figure size 432x288 with 1 Axes>"
      ]
     },
     "metadata": {
      "needs_background": "light"
     },
     "output_type": "display_data"
    }
   ],
   "source": [
    "plt.hist(y,100)\n",
    "plt.xlabel('интервал выборки')\n",
    "plt.ylabel('количество элементов')\n",
    "plt.title('Частотный график выборки y')\n",
    "plt.grid(True)\n",
    "plt.show()"
   ]
  },
  {
   "cell_type": "markdown",
   "metadata": {
    "colab_type": "text",
    "id": "Yv2Y54KLi8b8"
   },
   "source": [
    "2-ой способ теоритической генерации нормального распределения: модуль random. "
   ]
  },
  {
   "cell_type": "code",
   "execution_count": 45,
   "metadata": {
    "colab": {
     "base_uri": "https://localhost:8080/",
     "height": 295
    },
    "colab_type": "code",
    "id": "1ZDvSVyMjC4G",
    "outputId": "a6844745-2ef7-45dc-da73-54f74d341571"
   },
   "outputs": [
    {
     "data": {
      "image/png": "[encoded data removed]",
      "text/plain": [
       "<Figure size 432x288 with 1 Axes>"
      ]
     },
     "metadata": {
      "tags": []
     },
     "output_type": "display_data"
    }
   ],
   "source": [
    "mu, sigma = 0, 0.1 # среднее значение и стандартное отклонение\n",
    "s = np.random.normal(mu, sigma, 1000)\n",
    "\n",
    "count, bins, ignored = plt.hist(s, 30, density=True)\n",
    "# bins - разбиение интервала\n",
    "# формула плотности распределения Гаусса\n",
    "plt.plot(bins, 1/(sigma * np.sqrt(2 * np.pi)) *\n",
    "               np.exp( - (bins - mu)**2 / (2 * sigma**2) ), \n",
    "         linewidth=2, color='r')\n",
    "plt.xlabel('интервал выборки')\n",
    "plt.ylabel('количество элементов')\n",
    "plt.title('Частотный график выборки сгенерированной теоритически методом №2')\n",
    "plt.grid(True)\n",
    "plt.show()"
   ]
  },
  {
   "cell_type": "markdown",
   "metadata": {
    "colab_type": "text",
    "id": "3dVlvTJvIIQG"
   },
   "source": [
    "А так можно вычислить значение функции плотности вероятности нормального распределения в заданной точке:"
   ]
  },
  {
   "cell_type": "code",
   "execution_count": 46,
   "metadata": {
    "colab": {
     "base_uri": "https://localhost:8080/",
     "height": 34
    },
    "colab_type": "code",
    "id": "7gUcgJHRIIQH",
    "outputId": "b5d8a64d-2d37-4259-ab1f-ab95b96f2068"
   },
   "outputs": [
    {
     "data": {
      "text/plain": [
       "1.4622963575006582e-18"
      ]
     },
     "execution_count": 46,
     "metadata": {
      "tags": []
     },
     "output_type": "execute_result"
    }
   ],
   "source": [
    "norm_rv1.pdf(3)"
   ]
  },
  {
   "cell_type": "markdown",
   "metadata": {
    "colab_type": "text",
    "id": "k3G-NNtQIIQN"
   },
   "source": [
    "Построим графики функции плотности вероятности от различных выборок (с разными параметрами):"
   ]
  },
  {
   "cell_type": "code",
   "execution_count": 47,
   "metadata": {
    "colab": {
     "base_uri": "https://localhost:8080/",
     "height": 513
    },
    "colab_type": "code",
    "id": "uxKZEuFvIIQO",
    "outputId": "11c06875-0eb3-42e6-fddd-5578c8a31f39"
   },
   "outputs": [
    {
     "data": {
      "image/png": "[encoded data removed]",
      "text/plain": [
       "<Figure size 720x576 with 1 Axes>"
      ]
     },
     "metadata": {
      "tags": []
     },
     "output_type": "display_data"
    }
   ],
   "source": [
    "# зададим нормально распределенную случайную величину для нескольких выборок\n",
    "norm_rv = sts.norm(loc=2, scale=0.5)\n",
    "norm_rv2 = sts.norm(2, 0.1)\n",
    "norm_rv3 = sts.norm(2, 2)\n",
    "norm_rv4 = sts.norm(1, 1)\n",
    "\n",
    "# зададим вектор x от 0 до 4 с шагом 100 для отрисовки результата\n",
    "x = np.linspace(0,4,100) \n",
    "pdf = norm_rv.pdf(x)\n",
    "pdf2 = norm_rv2.pdf(x)\n",
    "pdf3 = norm_rv3.pdf(x)\n",
    "pdf4 = norm_rv4.pdf(x)\n",
    "plt.figure(figsize=(10,8))\n",
    "plt.plot(x, pdf)\n",
    "plt.plot(x, pdf3)\n",
    "plt.plot(x, pdf4)\n",
    "\n",
    "plt.legend(['среднее 2: дисперсия 0.5',  'среднее 2: дисперсия 2', 'среднее 1: дисперсия 1'])\n",
    "plt.ylabel('$f(x)$')\n",
    "plt.xlabel('$x$')\n",
    "plt.title('Плотности вероятности нескольких выборок')\n",
    "plt.grid(True)"
   ]
  },
  {
   "cell_type": "markdown",
   "metadata": {
    "colab_type": "text",
    "id": "RHDRQwOGIIQS"
   },
   "source": [
    "# Равномерное распределение на отрезке"
   ]
  },
  {
   "cell_type": "markdown",
   "metadata": {
    "colab_type": "text",
    "id": "fIDeV_TtA3Qj"
   },
   "source": [
    "Равномерное распределение на практике - это числа идущие последовательно от 0 до целого числа N. В равномерной выборке каждый элемент встречается одинаковое число раз."
   ]
  },
  {
   "cell_type": "code",
   "execution_count": 48,
   "metadata": {
    "colab": {
     "base_uri": "https://localhost:8080/",
     "height": 295
    },
    "colab_type": "code",
    "id": "bwD38X3QD86c",
    "outputId": "ae0c750d-cb8f-4567-951b-3e4245a4ac6c"
   },
   "outputs": [
    {
     "data": {
      "image/png": "[encoded data removed]",
      "text/plain": [
       "<Figure size 432x288 with 1 Axes>"
      ]
     },
     "metadata": {
      "tags": []
     },
     "output_type": "display_data"
    }
   ],
   "source": [
    "x = np.linspace(0, 100, 100)\n",
    "\n",
    "plt.ylabel('Количество элементов в данном интервале')\n",
    "plt.xlabel('Интервал значений')\n",
    "plt.title('Плотность распределения равномерной выборки')\n",
    "plt.hist(x, 50)\n",
    "plt.show()"
   ]
  },
  {
   "cell_type": "markdown",
   "metadata": {
    "colab_type": "text",
    "id": "lurOD0--IIQT"
   },
   "source": [
    "Сгенерируем теоритически выборку из случайной величины, имеющей равномерное распределение на отрезке $[a,b]$:"
   ]
  },
  {
   "cell_type": "code",
   "execution_count": 49,
   "metadata": {
    "colab": {
     "base_uri": "https://localhost:8080/",
     "height": 312
    },
    "colab_type": "code",
    "id": "82q5Z_Q9IIQU",
    "outputId": "a6794817-ddf3-4de1-86a8-b52ff8e1e6aa"
   },
   "outputs": [
    {
     "data": {
      "text/plain": [
       "[<matplotlib.lines.Line2D at 0x7f821967cac8>]"
      ]
     },
     "execution_count": 49,
     "metadata": {
      "tags": []
     },
     "output_type": "execute_result"
    },
    {
     "data": {
      "image/png": "[encoded data removed]",
      "text/plain": [
       "<Figure size 432x288 with 1 Axes>"
      ]
     },
     "metadata": {
      "tags": []
     },
     "output_type": "display_data"
    }
   ],
   "source": [
    "a = 1\n",
    "b = 4\n",
    "\n",
    "# обратите внимание, что в этой функции задается левая граница и масштаб, а не левая и правая границы:\n",
    "uniform_rv = sts.uniform(a, b-a)\n",
    "\n",
    "# сгенерируем вектор x для отрисовки значения в pyplot.plot()\n",
    "x = np.linspace(0, 5, 100)\n",
    "pdf = uniform_rv.pdf(x)\n",
    "\n",
    "plt.ylabel('y')\n",
    "plt.xlabel('$x$')\n",
    "plt.title('Плотности вероятности нескольких выборок')\n",
    "plt.plot(x, pdf)"
   ]
  },
  {
   "cell_type": "markdown",
   "metadata": {
    "colab_type": "text",
    "id": "N2zbTqJ8Psb2"
   },
   "source": [
    "# Нормализация данных"
   ]
  },
  {
   "cell_type": "markdown",
   "metadata": {
    "colab_type": "text",
    "id": "8L3FOm_HQvJ8"
   },
   "source": [
    "Операция центрирования"
   ]
  },
  {
   "cell_type": "code",
   "execution_count": 50,
   "metadata": {
    "colab": {
     "base_uri": "https://localhost:8080/",
     "height": 34
    },
    "colab_type": "code",
    "id": "EwYZwQ80Pu9U",
    "outputId": "400d4f43-ccab-46a5-bc20-df9666bb9bee"
   },
   "outputs": [
    {
     "name": "stdout",
     "output_type": "stream",
     "text": [
      "99.12066686564619\n"
     ]
    }
   ],
   "source": [
    "duration = df['duration']\n",
    "print(statistics.mean(duration))"
   ]
  },
  {
   "cell_type": "code",
   "execution_count": 51,
   "metadata": {
    "colab": {
     "base_uri": "https://localhost:8080/",
     "height": 34
    },
    "colab_type": "code",
    "id": "lOi7BDRFQM5F",
    "outputId": "d4a180d4-1abd-4b40-c618-ba9cb524a5ed"
   },
   "outputs": [
    {
     "name": "stdout",
     "output_type": "stream",
     "text": [
      "2.4903685191438297e-16\n"
     ]
    }
   ],
   "source": [
    "duration_1 = duration - statistics.mean(duration)\n",
    "print(statistics.mean(duration_1))"
   ]
  },
  {
   "cell_type": "markdown",
   "metadata": {
    "colab_type": "text",
    "id": "HKgw8RnoQI0K"
   },
   "source": [
    "Так как среднее значение не равно 0, необходимо нормализовать."
   ]
  },
  {
   "cell_type": "markdown",
   "metadata": {
    "colab_type": "text",
    "id": "TRb7CjfrRxjN"
   },
   "source": [
    "Масштабирование выборки"
   ]
  },
  {
   "cell_type": "markdown",
   "metadata": {
    "colab_type": "text",
    "id": "LMUSXtoSQgXY"
   },
   "source": [
    "Разброс данных приводим к виду (0,1)  либо (-1,1)"
   ]
  },
  {
   "cell_type": "code",
   "execution_count": 52,
   "metadata": {
    "colab": {
     "base_uri": "https://localhost:8080/",
     "height": 34
    },
    "colab_type": "code",
    "id": "cKCjedy0QrgV",
    "outputId": "c17c2e4f-c692-466b-c2cb-25e227bcd467"
   },
   "outputs": [
    {
     "data": {
      "text/plain": [
       "-59.120666865646186"
      ]
     },
     "execution_count": 52,
     "metadata": {
      "tags": []
     },
     "output_type": "execute_result"
    }
   ],
   "source": [
    "min(duration_1)"
   ]
  },
  {
   "cell_type": "code",
   "execution_count": 53,
   "metadata": {
    "colab": {
     "base_uri": "https://localhost:8080/",
     "height": 34
    },
    "colab_type": "code",
    "id": "sfVH2SPxQ0C5",
    "outputId": "f0c87a81-96d1-4937-a8f7-5ed02d4bffe7"
   },
   "outputs": [
    {
     "data": {
      "text/plain": [
       "1425.8793331343538"
      ]
     },
     "execution_count": 53,
     "metadata": {
      "tags": []
     },
     "output_type": "execute_result"
    }
   ],
   "source": [
    "max(duration_1)"
   ]
  },
  {
   "cell_type": "code",
   "execution_count": 54,
   "metadata": {
    "colab": {
     "base_uri": "https://localhost:8080/",
     "height": 51
    },
    "colab_type": "code",
    "id": "4xFlt0Z6RBHS",
    "outputId": "c1f503fa-bf53-4ed3-cd71-5dfdd4b324ce"
   },
   "outputs": [
    {
     "name": "stdout",
     "output_type": "stream",
     "text": [
      "[-1.]\n",
      "[1.]\n"
     ]
    }
   ],
   "source": [
    "from sklearn import preprocessing\n",
    "min_max_scaler = preprocessing.MinMaxScaler(feature_range=(-1,1))\n",
    "\n",
    "duration_2 = min_max_scaler.fit_transform(np.array(duration_1).reshape(-1, 1))\n",
    "print(min(duration_2))\n",
    "print(max(duration_2))"
   ]
  },
  {
   "cell_type": "markdown",
   "metadata": {
    "colab_type": "text",
    "id": "dClPNjPCkV6p"
   },
   "source": [
    "# Корелляция Пирсона"
   ]
  },
  {
   "cell_type": "code",
   "execution_count": 55,
   "metadata": {
    "colab": {
     "base_uri": "https://localhost:8080/",
     "height": 282
    },
    "colab_type": "code",
    "id": "OROijh5ISvwW",
    "outputId": "ad2d17a9-9307-4276-81d5-92b62cba5194"
   },
   "outputs": [
    {
     "name": "stdout",
     "output_type": "stream",
     "text": [
      "Коэффициент корреляции Пирсона: 1.0\n"
     ]
    },
    {
     "data": {
      "image/png": "[encoded data removed]",
      "text/plain": [
       "<Figure size 432x288 with 1 Axes>"
      ]
     },
     "metadata": {
      "tags": []
     },
     "output_type": "display_data"
    }
   ],
   "source": [
    "from scipy.stats import pearsonr\n",
    "x = [1, 2, 3, 4, 5]\n",
    "y = [2, 4, 6, 8, 10]\n",
    "\n",
    "corr, p_value = pearsonr(x, y)\n",
    "plt.scatter(x, y, marker='.')\n",
    "print('Коэффициент корреляции Пирсона:', corr)"
   ]
  },
  {
   "cell_type": "markdown",
   "metadata": {
    "colab_type": "text",
    "id": "JRss0MmITf7J"
   },
   "source": [
    "Чтобы приступать к расчетам коэффициента корреляции r-Пирсона необходимо выполнение следующих условий:\n",
    "\n",
    "*  Исследуемые переменные X и Y должны быть распределены нормально (делаем допущение, что переменные распределены нормально).\n",
    "*  Исследуемые переменные X и Y должны быть измерены в интервальной шкале или шкале отношений.\n",
    "*  Количество значений в исследуемых переменных X и Y должно быть одинаковым."
   ]
  },
  {
   "cell_type": "markdown",
   "metadata": {
    "colab_type": "text",
    "id": "g_dj25TdT3AP"
   },
   "source": [
    "Чем коэффициент ближе к 0, тем более независимы переменные."
   ]
  },
  {
   "cell_type": "code",
   "execution_count": 56,
   "metadata": {
    "colab": {
     "base_uri": "https://localhost:8080/",
     "height": 34
    },
    "colab_type": "code",
    "id": "s9skCSQIT9jN",
    "outputId": "4f8015af-6bdf-42aa-ee31-a2495db9908d"
   },
   "outputs": [
    {
     "name": "stdout",
     "output_type": "stream",
     "text": [
      "0.1111789114478769\n"
     ]
    }
   ],
   "source": [
    "corr, p_value = pearsonr(duration, avg_vote)\n",
    "print(corr)"
   ]
  },
  {
   "cell_type": "markdown",
   "metadata": {
    "colab_type": "text",
    "id": "uS5aIlZDTQEP"
   },
   "source": [
    "**Минусы коэффициента корреляции Пирсона:**\n",
    "- Неустойчивость к выбросам.\n",
    "- С помощью коэффициента корреляции Пирсона можно определить только силу линейной взаимосвязи между переменными, другие виды взаимосвязей выявляются методами регрессионного анализа."
   ]
  },
  {
   "cell_type": "markdown",
   "metadata": {
    "colab_type": "text",
    "id": "8QwR8rB80UpL"
   },
   "source": [
    "# Пример корелляции данных, загруженных с помощью pandas"
   ]
  },
  {
   "cell_type": "markdown",
   "metadata": {
    "colab_type": "text",
    "id": "a9luPeeG3igO"
   },
   "source": [
    "Загружаем данные о ценах на авокадо в США"
   ]
  },
  {
   "cell_type": "code",
   "execution_count": 0,
   "metadata": {
    "colab": {},
    "colab_type": "code",
    "id": "Grmgj92l0auw"
   },
   "outputs": [],
   "source": [
    "import io\n",
    "import requests\n",
    "url=\"http://yustiks.ru/avocado.csv\"\n",
    "df=pd.read_csv(url, index_col=False)"
   ]
  },
  {
   "cell_type": "markdown",
   "metadata": {
    "colab_type": "text",
    "id": "HwGRShRkrYnP"
   },
   "source": [
    "Данные представляют собой time-series data, или временной ряд. В каждый из дней даны такие показатели, как:\n",
    "\n",
    "\n",
    "*   Date - день показания\n",
    "*   AveragePrice - средняя цена на один авокадо (авокадо продаются обычно в брикетах по несколько штук)\n",
    "*   Total Volume - сколько всего было куплено авокадо\n",
    "*   4046 - общее количество авокадо с кодом 4046\n",
    "*   4225 - общее количество авокадо с кодом 4225\n",
    "*   4770 - общее количество авокадо с кодом 4770\n",
    "*   Total Bags - количество проданных брикетов всего\n",
    "*   Small Bags - количество проданных малых брикетов\n",
    "*   Large Bags - количество проданных больших брикетов\n",
    "*   XLarge Bags - количество проданных XLarge брикетов\n",
    "*   type - conventional или organic\n",
    "*   year - год продажи\n",
    "*   region - регион показаний\n",
    "\n",
    "\n"
   ]
  },
  {
   "cell_type": "markdown",
   "metadata": {
    "colab_type": "text",
    "id": "kwlAXki6tnOH"
   },
   "source": [
    "Более подробно можно почитать о датасете цен на авокадо: https://www.kaggle.com/neuromusic/avocado-prices"
   ]
  },
  {
   "cell_type": "markdown",
   "metadata": {
    "colab_type": "text",
    "id": "glN4jbZu3pWz"
   },
   "source": [
    "Печатаем 5 значений"
   ]
  },
  {
   "cell_type": "code",
   "execution_count": 64,
   "metadata": {
    "colab": {
     "base_uri": "https://localhost:8080/",
     "height": 204
    },
    "colab_type": "code",
    "id": "fuynoeix3pgK",
    "outputId": "ca11fc0b-22b8-4814-cdf5-99018619f388"
   },
   "outputs": [
    {
     "data": {
      "text/html": [
       "<div>\n",
       "<style scoped>\n",
       "    .dataframe tbody tr th:only-of-type {\n",
       "        vertical-align: middle;\n",
       "    }\n",
       "\n",
       "    .dataframe tbody tr th {\n",
       "        vertical-align: top;\n",
       "    }\n",
       "\n",
       "    .dataframe thead th {\n",
       "        text-align: right;\n",
       "    }\n",
       "</style>\n",
       "<table border=\"1\" class=\"dataframe\">\n",
       "  <thead>\n",
       "    <tr style=\"text-align: right;\">\n",
       "      <th></th>\n",
       "      <th>Unnamed: 0</th>\n",
       "      <th>Date</th>\n",
       "      <th>AveragePrice</th>\n",
       "      <th>Total Volume</th>\n",
       "      <th>4046</th>\n",
       "      <th>4225</th>\n",
       "      <th>4770</th>\n",
       "      <th>Total Bags</th>\n",
       "      <th>Small Bags</th>\n",
       "      <th>Large Bags</th>\n",
       "      <th>XLarge Bags</th>\n",
       "      <th>type</th>\n",
       "      <th>year</th>\n",
       "      <th>region</th>\n",
       "    </tr>\n",
       "  </thead>\n",
       "  <tbody>\n",
       "    <tr>\n",
       "      <th>0</th>\n",
       "      <td>0</td>\n",
       "      <td>2015-12-27</td>\n",
       "      <td>1.33</td>\n",
       "      <td>64236.62</td>\n",
       "      <td>1036.74</td>\n",
       "      <td>54454.85</td>\n",
       "      <td>48.16</td>\n",
       "      <td>8696.87</td>\n",
       "      <td>8603.62</td>\n",
       "      <td>93.25</td>\n",
       "      <td>0.0</td>\n",
       "      <td>conventional</td>\n",
       "      <td>2015</td>\n",
       "      <td>Albany</td>\n",
       "    </tr>\n",
       "    <tr>\n",
       "      <th>1</th>\n",
       "      <td>1</td>\n",
       "      <td>2015-12-20</td>\n",
       "      <td>1.35</td>\n",
       "      <td>54876.98</td>\n",
       "      <td>674.28</td>\n",
       "      <td>44638.81</td>\n",
       "      <td>58.33</td>\n",
       "      <td>9505.56</td>\n",
       "      <td>9408.07</td>\n",
       "      <td>97.49</td>\n",
       "      <td>0.0</td>\n",
       "      <td>conventional</td>\n",
       "      <td>2015</td>\n",
       "      <td>Albany</td>\n",
       "    </tr>\n",
       "    <tr>\n",
       "      <th>2</th>\n",
       "      <td>2</td>\n",
       "      <td>2015-12-13</td>\n",
       "      <td>0.93</td>\n",
       "      <td>118220.22</td>\n",
       "      <td>794.70</td>\n",
       "      <td>109149.67</td>\n",
       "      <td>130.50</td>\n",
       "      <td>8145.35</td>\n",
       "      <td>8042.21</td>\n",
       "      <td>103.14</td>\n",
       "      <td>0.0</td>\n",
       "      <td>conventional</td>\n",
       "      <td>2015</td>\n",
       "      <td>Albany</td>\n",
       "    </tr>\n",
       "    <tr>\n",
       "      <th>3</th>\n",
       "      <td>3</td>\n",
       "      <td>2015-12-06</td>\n",
       "      <td>1.08</td>\n",
       "      <td>78992.15</td>\n",
       "      <td>1132.00</td>\n",
       "      <td>71976.41</td>\n",
       "      <td>72.58</td>\n",
       "      <td>5811.16</td>\n",
       "      <td>5677.40</td>\n",
       "      <td>133.76</td>\n",
       "      <td>0.0</td>\n",
       "      <td>conventional</td>\n",
       "      <td>2015</td>\n",
       "      <td>Albany</td>\n",
       "    </tr>\n",
       "    <tr>\n",
       "      <th>4</th>\n",
       "      <td>4</td>\n",
       "      <td>2015-11-29</td>\n",
       "      <td>1.28</td>\n",
       "      <td>51039.60</td>\n",
       "      <td>941.48</td>\n",
       "      <td>43838.39</td>\n",
       "      <td>75.78</td>\n",
       "      <td>6183.95</td>\n",
       "      <td>5986.26</td>\n",
       "      <td>197.69</td>\n",
       "      <td>0.0</td>\n",
       "      <td>conventional</td>\n",
       "      <td>2015</td>\n",
       "      <td>Albany</td>\n",
       "    </tr>\n",
       "  </tbody>\n",
       "</table>\n",
       "</div>"
      ],
      "text/plain": [
       "   Unnamed: 0        Date  AveragePrice  ...          type  year  region\n",
       "0           0  2015-12-27          1.33  ...  conventional  2015  Albany\n",
       "1           1  2015-12-20          1.35  ...  conventional  2015  Albany\n",
       "2           2  2015-12-13          0.93  ...  conventional  2015  Albany\n",
       "3           3  2015-12-06          1.08  ...  conventional  2015  Albany\n",
       "4           4  2015-11-29          1.28  ...  conventional  2015  Albany\n",
       "\n",
       "[5 rows x 14 columns]"
      ]
     },
     "execution_count": 64,
     "metadata": {
      "tags": []
     },
     "output_type": "execute_result"
    }
   ],
   "source": [
    "df.head()"
   ]
  },
  {
   "cell_type": "markdown",
   "metadata": {
    "colab_type": "text",
    "id": "sEFsvHrz4_-e"
   },
   "source": [
    "Размер таблицы:"
   ]
  },
  {
   "cell_type": "code",
   "execution_count": 65,
   "metadata": {
    "colab": {
     "base_uri": "https://localhost:8080/",
     "height": 34
    },
    "colab_type": "code",
    "id": "7Jv8Ycd_5Ej3",
    "outputId": "15b25208-5d47-430c-8606-b3a56ef0f3d0"
   },
   "outputs": [
    {
     "data": {
      "text/plain": [
       "18249"
      ]
     },
     "execution_count": 65,
     "metadata": {
      "tags": []
     },
     "output_type": "execute_result"
    }
   ],
   "source": [
    "len(df)"
   ]
  },
  {
   "cell_type": "markdown",
   "metadata": {
    "colab_type": "text",
    "id": "_gAN_XSH5hw7"
   },
   "source": [
    "Нормализация значений"
   ]
  },
  {
   "cell_type": "code",
   "execution_count": 68,
   "metadata": {
    "colab": {
     "base_uri": "https://localhost:8080/",
     "height": 204
    },
    "colab_type": "code",
    "id": "hqEUSECn5glZ",
    "outputId": "497c6817-df3f-4949-a452-d6737d4ff53e"
   },
   "outputs": [
    {
     "data": {
      "text/html": [
       "<div>\n",
       "<style scoped>\n",
       "    .dataframe tbody tr th:only-of-type {\n",
       "        vertical-align: middle;\n",
       "    }\n",
       "\n",
       "    .dataframe tbody tr th {\n",
       "        vertical-align: top;\n",
       "    }\n",
       "\n",
       "    .dataframe thead th {\n",
       "        text-align: right;\n",
       "    }\n",
       "</style>\n",
       "<table border=\"1\" class=\"dataframe\">\n",
       "  <thead>\n",
       "    <tr style=\"text-align: right;\">\n",
       "      <th></th>\n",
       "      <th>0</th>\n",
       "      <th>1</th>\n",
       "    </tr>\n",
       "  </thead>\n",
       "  <tbody>\n",
       "    <tr>\n",
       "      <th>0</th>\n",
       "      <td>0.001026</td>\n",
       "      <td>0.000449</td>\n",
       "    </tr>\n",
       "    <tr>\n",
       "      <th>1</th>\n",
       "      <td>0.000877</td>\n",
       "      <td>0.000491</td>\n",
       "    </tr>\n",
       "    <tr>\n",
       "      <th>2</th>\n",
       "      <td>0.001890</td>\n",
       "      <td>0.000420</td>\n",
       "    </tr>\n",
       "    <tr>\n",
       "      <th>3</th>\n",
       "      <td>0.001262</td>\n",
       "      <td>0.000300</td>\n",
       "    </tr>\n",
       "    <tr>\n",
       "      <th>4</th>\n",
       "      <td>0.000815</td>\n",
       "      <td>0.000319</td>\n",
       "    </tr>\n",
       "  </tbody>\n",
       "</table>\n",
       "</div>"
      ],
      "text/plain": [
       "          0         1\n",
       "0  0.001026  0.000449\n",
       "1  0.000877  0.000491\n",
       "2  0.001890  0.000420\n",
       "3  0.001262  0.000300\n",
       "4  0.000815  0.000319"
      ]
     },
     "execution_count": 68,
     "metadata": {
      "tags": []
     },
     "output_type": "execute_result"
    }
   ],
   "source": [
    "from sklearn import preprocessing\n",
    "min_max_scaler = preprocessing.MinMaxScaler(feature_range=(0,1))\n",
    "\n",
    "np_scaled = min_max_scaler.fit_transform(df[['Total Volume', 'Total Bags']])\n",
    "df_norm = pd.DataFrame(np_scaled)\n",
    "df_norm.head()"
   ]
  },
  {
   "cell_type": "markdown",
   "metadata": {
    "colab_type": "text",
    "id": "XwQJ23Wt5LQL"
   },
   "source": [
    "Корелляция скорее всего между Total Volume и Total Bags - чем больше покупают авокадо, тем больше покупают сумок, так как эти фрукты нужно в чем-то нести домой."
   ]
  },
  {
   "cell_type": "code",
   "execution_count": 0,
   "metadata": {
    "colab": {},
    "colab_type": "code",
    "id": "z7LtIv0y5U47"
   },
   "outputs": [],
   "source": [
    "volume = df_norm[0]\n",
    "bags = df_norm[1]"
   ]
  },
  {
   "cell_type": "markdown",
   "metadata": {
    "colab_type": "text",
    "id": "L29CEeEg6g--"
   },
   "source": [
    "Посмотрим насколько они зависят друг от друга, построим для этого точечный график одного атрибута от другого."
   ]
  },
  {
   "cell_type": "code",
   "execution_count": 71,
   "metadata": {
    "colab": {
     "base_uri": "https://localhost:8080/",
     "height": 265
    },
    "colab_type": "code",
    "id": "kdxrRw2Y6klP",
    "outputId": "b7bf59d8-61e2-4006-c49d-932209a148d5"
   },
   "outputs": [
    {
     "data": {
      "image/png": "[encoded data removed]",
      "text/plain": [
       "<Figure size 432x288 with 1 Axes>"
      ]
     },
     "metadata": {
      "tags": []
     },
     "output_type": "display_data"
    }
   ],
   "source": [
    "plt.plot(volume, bags, 'r.')\n",
    "plt.show()"
   ]
  },
  {
   "cell_type": "code",
   "execution_count": 0,
   "metadata": {
    "colab": {
     "base_uri": "https://localhost:8080/",
     "height": 34
    },
    "colab_type": "code",
    "id": "4S9PgAj8X7FC",
    "outputId": "5de18071-4b5a-45c8-92a1-e2729f935b4a"
   },
   "outputs": [
    {
     "name": "stdout",
     "output_type": "stream",
     "text": [
      "0.9630470824267293\n"
     ]
    }
   ],
   "source": [
    "corr, p_value = pearsonr(volume, bags)\n",
    "print(corr)"
   ]
  },
  {
   "cell_type": "markdown",
   "metadata": {
    "colab_type": "text",
    "id": "Hg2Z9A29IIRH"
   },
   "source": [
    "Полный список функций SciPy для работы со всеми распределениями можно найти тут: http://docs.scipy.org/doc/scipy-0.14.0/reference/stats.html"
   ]
  },
  {
   "cell_type": "markdown",
   "metadata": {
    "colab_type": "text",
    "id": "ptR-sMx3ZuQ9"
   },
   "source": [
    "Матрица корреляций."
   ]
  },
  {
   "cell_type": "code",
   "execution_count": 72,
   "metadata": {
    "colab": {
     "base_uri": "https://localhost:8080/",
     "height": 760
    },
    "colab_type": "code",
    "id": "feNUY0iGZx_l",
    "outputId": "475c5ccc-7aa6-420e-d62f-d5b20b5e15b8"
   },
   "outputs": [
    {
     "data": {
      "image/png": "[encoded data removed]",
      "text/plain": [
       "<Figure size 864x864 with 2 Axes>"
      ]
     },
     "metadata": {
      "tags": []
     },
     "output_type": "display_data"
    }
   ],
   "source": [
    "import seaborn as sns\n",
    "sns.heatmap(df.corr(),annot=True,cmap='RdYlGn',linewidths=0.2) #data.corr()-->матрица корреляций\n",
    "# gcf() - получение текущей фигуры\n",
    "fig=plt.gcf()\n",
    "# set_size_inches() - установить размер фигуры\n",
    "fig.set_size_inches(12,12)\n",
    "plt.show()\n"
   ]
  },
  {
   "cell_type": "code",
   "execution_count": 73,
   "metadata": {
    "colab": {
     "base_uri": "https://localhost:8080/",
     "height": 204
    },
    "colab_type": "code",
    "id": "t_aB-4l1u37p",
    "outputId": "b382fd2f-9283-4be1-e4bb-aab0d5ed3545"
   },
   "outputs": [
    {
     "data": {
      "text/html": [
       "<div>\n",
       "<style scoped>\n",
       "    .dataframe tbody tr th:only-of-type {\n",
       "        vertical-align: middle;\n",
       "    }\n",
       "\n",
       "    .dataframe tbody tr th {\n",
       "        vertical-align: top;\n",
       "    }\n",
       "\n",
       "    .dataframe thead th {\n",
       "        text-align: right;\n",
       "    }\n",
       "</style>\n",
       "<table border=\"1\" class=\"dataframe\">\n",
       "  <thead>\n",
       "    <tr style=\"text-align: right;\">\n",
       "      <th></th>\n",
       "      <th>Unnamed: 0</th>\n",
       "      <th>Date</th>\n",
       "      <th>AveragePrice</th>\n",
       "      <th>Total Volume</th>\n",
       "      <th>4046</th>\n",
       "      <th>4225</th>\n",
       "      <th>4770</th>\n",
       "      <th>Total Bags</th>\n",
       "      <th>Small Bags</th>\n",
       "      <th>Large Bags</th>\n",
       "      <th>XLarge Bags</th>\n",
       "      <th>type</th>\n",
       "      <th>year</th>\n",
       "      <th>region</th>\n",
       "    </tr>\n",
       "  </thead>\n",
       "  <tbody>\n",
       "    <tr>\n",
       "      <th>0</th>\n",
       "      <td>0</td>\n",
       "      <td>2015-12-27</td>\n",
       "      <td>1.33</td>\n",
       "      <td>64236.62</td>\n",
       "      <td>1036.74</td>\n",
       "      <td>54454.85</td>\n",
       "      <td>48.16</td>\n",
       "      <td>8696.87</td>\n",
       "      <td>8603.62</td>\n",
       "      <td>93.25</td>\n",
       "      <td>0.0</td>\n",
       "      <td>conventional</td>\n",
       "      <td>2015</td>\n",
       "      <td>Albany</td>\n",
       "    </tr>\n",
       "    <tr>\n",
       "      <th>1</th>\n",
       "      <td>1</td>\n",
       "      <td>2015-12-20</td>\n",
       "      <td>1.35</td>\n",
       "      <td>54876.98</td>\n",
       "      <td>674.28</td>\n",
       "      <td>44638.81</td>\n",
       "      <td>58.33</td>\n",
       "      <td>9505.56</td>\n",
       "      <td>9408.07</td>\n",
       "      <td>97.49</td>\n",
       "      <td>0.0</td>\n",
       "      <td>conventional</td>\n",
       "      <td>2015</td>\n",
       "      <td>Albany</td>\n",
       "    </tr>\n",
       "    <tr>\n",
       "      <th>2</th>\n",
       "      <td>2</td>\n",
       "      <td>2015-12-13</td>\n",
       "      <td>0.93</td>\n",
       "      <td>118220.22</td>\n",
       "      <td>794.70</td>\n",
       "      <td>109149.67</td>\n",
       "      <td>130.50</td>\n",
       "      <td>8145.35</td>\n",
       "      <td>8042.21</td>\n",
       "      <td>103.14</td>\n",
       "      <td>0.0</td>\n",
       "      <td>conventional</td>\n",
       "      <td>2015</td>\n",
       "      <td>Albany</td>\n",
       "    </tr>\n",
       "    <tr>\n",
       "      <th>3</th>\n",
       "      <td>3</td>\n",
       "      <td>2015-12-06</td>\n",
       "      <td>1.08</td>\n",
       "      <td>78992.15</td>\n",
       "      <td>1132.00</td>\n",
       "      <td>71976.41</td>\n",
       "      <td>72.58</td>\n",
       "      <td>5811.16</td>\n",
       "      <td>5677.40</td>\n",
       "      <td>133.76</td>\n",
       "      <td>0.0</td>\n",
       "      <td>conventional</td>\n",
       "      <td>2015</td>\n",
       "      <td>Albany</td>\n",
       "    </tr>\n",
       "    <tr>\n",
       "      <th>4</th>\n",
       "      <td>4</td>\n",
       "      <td>2015-11-29</td>\n",
       "      <td>1.28</td>\n",
       "      <td>51039.60</td>\n",
       "      <td>941.48</td>\n",
       "      <td>43838.39</td>\n",
       "      <td>75.78</td>\n",
       "      <td>6183.95</td>\n",
       "      <td>5986.26</td>\n",
       "      <td>197.69</td>\n",
       "      <td>0.0</td>\n",
       "      <td>conventional</td>\n",
       "      <td>2015</td>\n",
       "      <td>Albany</td>\n",
       "    </tr>\n",
       "  </tbody>\n",
       "</table>\n",
       "</div>"
      ],
      "text/plain": [
       "   Unnamed: 0       Date  AveragePrice  ...          type  year  region\n",
       "0           0 2015-12-27          1.33  ...  conventional  2015  Albany\n",
       "1           1 2015-12-20          1.35  ...  conventional  2015  Albany\n",
       "2           2 2015-12-13          0.93  ...  conventional  2015  Albany\n",
       "3           3 2015-12-06          1.08  ...  conventional  2015  Albany\n",
       "4           4 2015-11-29          1.28  ...  conventional  2015  Albany\n",
       "\n",
       "[5 rows x 14 columns]"
      ]
     },
     "execution_count": 73,
     "metadata": {
      "tags": []
     },
     "output_type": "execute_result"
    }
   ],
   "source": [
    "# конвертирование даты в необходимый формат\n",
    "df['Date'] = pd.to_datetime(df['Date'])\n",
    "df.head()"
   ]
  },
  {
   "cell_type": "markdown",
   "metadata": {
    "colab_type": "text",
    "id": "c530M8zGwqAD"
   },
   "source": [
    "В выборке имеется два вида авокадо: промышленный и органический. Выберем промышленный авокадо для анализа."
   ]
  },
  {
   "cell_type": "code",
   "execution_count": 0,
   "metadata": {
    "colab": {},
    "colab_type": "code",
    "id": "d19TPmVew1Q1"
   },
   "outputs": [],
   "source": [
    "PREDICTION_TYPE = 'conventional'\n",
    "df_conv = df[df.type == PREDICTION_TYPE]"
   ]
  },
  {
   "cell_type": "code",
   "execution_count": 75,
   "metadata": {
    "colab": {
     "base_uri": "https://localhost:8080/",
     "height": 969
    },
    "colab_type": "code",
    "id": "kWULyRU2wOVB",
    "outputId": "96ace296-87a8-41d7-c685-ba19abd1c653"
   },
   "outputs": [
    {
     "name": "stdout",
     "output_type": "stream",
     "text": [
      "Всего регионов в выборке : 54\n",
      "--------------------------\n",
      "Albany  :  169\n",
      "Atlanta  :  169\n",
      "BaltimoreWashington  :  169\n",
      "Boise  :  169\n",
      "Boston  :  169\n",
      "BuffaloRochester  :  169\n",
      "California  :  169\n",
      "Charlotte  :  169\n",
      "Chicago  :  169\n",
      "CincinnatiDayton  :  169\n",
      "Columbus  :  169\n",
      "DallasFtWorth  :  169\n",
      "Denver  :  169\n",
      "Detroit  :  169\n",
      "GrandRapids  :  169\n",
      "GreatLakes  :  169\n",
      "HarrisburgScranton  :  169\n",
      "HartfordSpringfield  :  169\n",
      "Houston  :  169\n",
      "Indianapolis  :  169\n",
      "Jacksonville  :  169\n",
      "LasVegas  :  169\n",
      "LosAngeles  :  169\n",
      "Louisville  :  169\n",
      "MiamiFtLauderdale  :  169\n",
      "Midsouth  :  169\n",
      "Nashville  :  169\n",
      "NewOrleansMobile  :  169\n",
      "NewYork  :  169\n",
      "Northeast  :  169\n",
      "NorthernNewEngland  :  169\n",
      "Orlando  :  169\n",
      "Philadelphia  :  169\n",
      "PhoenixTucson  :  169\n",
      "Pittsburgh  :  169\n",
      "Plains  :  169\n",
      "Portland  :  169\n",
      "RaleighGreensboro  :  169\n",
      "RichmondNorfolk  :  169\n",
      "Roanoke  :  169\n",
      "Sacramento  :  169\n",
      "SanDiego  :  169\n",
      "SanFrancisco  :  169\n",
      "Seattle  :  169\n",
      "SouthCarolina  :  169\n",
      "SouthCentral  :  169\n",
      "Southeast  :  169\n",
      "Spokane  :  169\n",
      "StLouis  :  169\n",
      "Syracuse  :  169\n",
      "Tampa  :  169\n",
      "TotalUS  :  169\n",
      "West  :  169\n",
      "WestTexNewMexico  :  169\n"
     ]
    }
   ],
   "source": [
    "regions = df_conv.groupby(df_conv.region)\n",
    "print(\"Всего регионов в выборке :\", len(regions))\n",
    "print(\"--------------------------\")\n",
    "for name, group in regions:\n",
    "    print(name, \" : \", len(group))"
   ]
  },
  {
   "cell_type": "markdown",
   "metadata": {
    "colab_type": "text",
    "id": "NqXn3xWRr_uh"
   },
   "source": [
    "Сравним изменения цен определенного региона: SanFrancisco."
   ]
  },
  {
   "cell_type": "code",
   "execution_count": 95,
   "metadata": {
    "colab": {
     "base_uri": "https://localhost:8080/",
     "height": 294
    },
    "colab_type": "code",
    "id": "YeVkoTYur_Rx",
    "outputId": "4607f8c6-f1d3-459b-d169-e8163be0e024"
   },
   "outputs": [
    {
     "data": {
      "text/plain": [
       "<matplotlib.axes._subplots.AxesSubplot at 0x7f820dd1b2e8>"
      ]
     },
     "execution_count": 95,
     "metadata": {
      "tags": []
     },
     "output_type": "execute_result"
    },
    {
     "data": {
      "image/png": "[encoded data removed]",
      "text/plain": [
       "<Figure size 432x288 with 1 Axes>"
      ]
     },
     "metadata": {
      "tags": []
     },
     "output_type": "display_data"
    }
   ],
   "source": [
    "PREDICTING_FOR = \"SanFrancisco\"\n",
    "date_price_SF = regions.get_group(PREDICTING_FOR)[['Date', 'AveragePrice']].reset_index(drop=True)\n",
    "date_price_SF.plot(x='Date', y='AveragePrice', kind=\"line\")"
   ]
  },
  {
   "cell_type": "code",
   "execution_count": 96,
   "metadata": {
    "colab": {
     "base_uri": "https://localhost:8080/",
     "height": 294
    },
    "colab_type": "code",
    "id": "hU9axoRJsrbK",
    "outputId": "cf0c12ba-6a59-4a05-c9f4-67e1f3377064"
   },
   "outputs": [
    {
     "data": {
      "text/plain": [
       "<matplotlib.axes._subplots.AxesSubplot at 0x7f820dc95da0>"
      ]
     },
     "execution_count": 96,
     "metadata": {
      "tags": []
     },
     "output_type": "execute_result"
    },
    {
     "data": {
      "image/png": "[encoded data removed]",
      "text/plain": [
       "<Figure size 432x288 with 1 Axes>"
      ]
     },
     "metadata": {
      "tags": []
     },
     "output_type": "display_data"
    }
   ],
   "source": [
    "PREDICTING_FOR = \"NewYork\"\n",
    "date_price_NY = regions.get_group(PREDICTING_FOR)[['Date', 'AveragePrice']].reset_index(drop=True)\n",
    "date_price_NY.plot(x='Date', y='AveragePrice', kind=\"line\")"
   ]
  },
  {
   "cell_type": "code",
   "execution_count": 103,
   "metadata": {
    "colab": {
     "base_uri": "https://localhost:8080/",
     "height": 282
    },
    "colab_type": "code",
    "id": "bvngS9iHtHFF",
    "outputId": "22e9be26-029f-467f-8ffc-1ed68381e484"
   },
   "outputs": [
    {
     "data": {
      "text/plain": [
       "[<matplotlib.lines.Line2D at 0x7f820dd37dd8>]"
      ]
     },
     "execution_count": 103,
     "metadata": {
      "tags": []
     },
     "output_type": "execute_result"
    },
    {
     "data": {
      "image/png": "[encoded data removed]",
      "text/plain": [
       "<Figure size 432x288 with 1 Axes>"
      ]
     },
     "metadata": {
      "tags": []
     },
     "output_type": "display_data"
    }
   ],
   "source": [
    "date_price_NY = date_price_NY.sort_values(by=['Date'])\n",
    "plt.plot(date_price_NY['Date'], date_price_NY['AveragePrice'])\n",
    "date_price_SF = date_price_SF.sort_values(by=['Date'])\n",
    "plt.plot(date_price_SF['Date'], date_price_SF['AveragePrice'])"
   ]
  },
  {
   "cell_type": "markdown",
   "metadata": {
    "colab_type": "text",
    "id": "-vfairjUuOLF"
   },
   "source": [
    "Чем отличаются данные временные показания? Есть периоды, когда показания отличаются (некоторые временные промежутки показывают значительные расхождения, некоторые - похожи). "
   ]
  },
  {
   "cell_type": "markdown",
   "metadata": {
    "colab_type": "text",
    "id": "MxrwAUzTuffd"
   },
   "source": [
    "Посчитаем корреляцию двух выборок (распределен):"
   ]
  },
  {
   "cell_type": "code",
   "execution_count": 105,
   "metadata": {
    "colab": {
     "base_uri": "https://localhost:8080/",
     "height": 34
    },
    "colab_type": "code",
    "id": "kwIj1mjHuilm",
    "outputId": "d53e17d2-93cd-4c24-a680-df8fd834800c"
   },
   "outputs": [
    {
     "name": "stdout",
     "output_type": "stream",
     "text": [
      "0.6731956776436995\n"
     ]
    }
   ],
   "source": [
    "corr, p_value = pearsonr(date_price_NY['AveragePrice'], date_price_SF['AveragePrice'])\n",
    "print(corr)"
   ]
  },
  {
   "cell_type": "markdown",
   "metadata": {
    "colab_type": "text",
    "id": "dyZEPErsuzQs"
   },
   "source": [
    "Можно заметить, что корреляция незначительна."
   ]
  },
  {
   "cell_type": "markdown",
   "metadata": {
    "colab_type": "text",
    "id": "IvrnzklQzm34"
   },
   "source": [
    "# Коэффициент корреляции Кендалла и Спирмена"
   ]
  },
  {
   "cell_type": "markdown",
   "metadata": {
    "colab_type": "text",
    "id": "y_dIt8Klzs5m"
   },
   "source": [
    "Если коэффициент корреляции Пирсона показывает **линейную зависимость**, то коэффициент Кендалла и Спирмена показывает зависимость ранговую: возрастание или убывание результативного признака при возрастании факторного. Это показатель тесноты монотонной нелинейной связи."
   ]
  },
  {
   "cell_type": "markdown",
   "metadata": {
    "colab_type": "text",
    "id": "epxSmAef0JB6"
   },
   "source": [
    "https://statpsy.ru/correlation/primer-raschet-kendalla/\n",
    "\n",
    "https://www.statisticssolutions.com/correlation-pearson-kendall-spearman/"
   ]
  },
  {
   "cell_type": "code",
   "execution_count": 111,
   "metadata": {
    "colab": {
     "base_uri": "https://localhost:8080/",
     "height": 51
    },
    "colab_type": "code",
    "id": "o3guEOIEzsI-",
    "outputId": "87c8e052-af80-4b87-b342-3eba92dbf798"
   },
   "outputs": [
    {
     "name": "stdout",
     "output_type": "stream",
     "text": [
      "Spearmans correlation coefficient: 0.587\n",
      "Kendall correlation coefficient: 0.438\n"
     ]
    }
   ],
   "source": [
    "coef, p = sts.spearmanr(date_price_NY['AveragePrice'], date_price_SF['AveragePrice'])\n",
    "print('Spearmans correlation coefficient: %.3f' % coef)\n",
    "\n",
    "coef, p = sts.kendalltau(date_price_NY['AveragePrice'], date_price_SF['AveragePrice'])\n",
    "print('Kendall correlation coefficient: %.3f' % coef)"
   ]
  }
 ],
 "metadata": {
  "colab": {
   "include_colab_link": true,
   "name": "lecture_1.ipynb",
   "provenance": []
  },
  "kernelspec": {
   "display_name": "Python 3",
   "language": "python",
   "name": "python3"
  },
  "language_info": {
   "codemirror_mode": {
    "name": "ipython",
    "version": 3
   },
   "file_extension": ".py",
   "mimetype": "text/x-python",
   "name": "python",
   "nbconvert_exporter": "python",
   "pygments_lexer": "ipython3",
   "version": "3.7.6"
  }
 },
 "nbformat": 4,
 "nbformat_minor": 1
}
