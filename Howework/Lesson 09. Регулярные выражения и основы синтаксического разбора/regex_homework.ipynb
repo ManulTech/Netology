{
 "cells": [
  {
   "cell_type": "markdown",
   "metadata": {},
   "source": [
    "Задание 1.\n",
    "Напишите функцию, которая принимает на вход строку и проверяет является ли она валидным транспортным номером. Если да, то функция должна возвращать отдельно номер и регион."
   ]
  },
  {
   "cell_type": "code",
   "execution_count": 1,
   "metadata": {},
   "outputs": [],
   "source": [
    "import re"
   ]
  },
  {
   "cell_type": "code",
   "execution_count": null,
   "metadata": {},
   "outputs": [],
   "source": [
    "#а111аа777\n",
    "#а111аа77\n",
    "#а 111аа777\n",
    "def check_gos_nomer():\n",
    "    user_input = input('Введите госномер: ')\n",
    "    gos_pattern = r'(^[авекмнорстухАВЕКМНОРСТУХ]\\d{3}[авекмнорстухАВЕКМНОРСТУХ]{2})(\\d{2,3})$'\n",
    "    if re.findall(gos_pattern, user_input):\n",
    "        print('Номер: ', re.findall(gos_pattern, user_input)[0][0])\n",
    "        print('Регион: ', re.findall(gos_pattern, user_input)[0][1])\n",
    "    else:\n",
    "        print('Номер указан некорретно')\n",
    "check_gos_nomer()"
   ]
  },
  {
   "cell_type": "markdown",
   "metadata": {},
   "source": [
    "Задание 2.\n",
    "Постарайтесь написать (в крайнем случае найти) самый полный шаблон для проверки e-mail адресов через регулярное выражение, которая проверяет e-mail адрес на валидность. Можно руководствоваться следующими минимальными требованиями:\n",
    "• адрес должен содержать специальный символ “@”, который отделяет имя пользователя почтовой системы от доменного имени;\n",
    "• адрес не должен содержать следующие символы: “пробел”, “,”, “:”, “;”, “!”, “#”, “%”, “*”, “(”, “)”, “=”, “+”, “{”, “}”, \" \" \", \" ’ \", \" / \", \" \\ \" и “|”;\n",
    "• адрес должен состоять только из латинских символов;\n",
    "• после символа “@” должна быть как минимум одна “.”;\n",
    "• после последней точки должно быть не менее 2-х и не более 4-х символов, причем наличие цифр не допускается;\n",
    "• между последней точкой и символом “@” должно быть не менее 2-х символов\n",
    "• слева от “@” должно быть не менее четырех символов"
   ]
  },
  {
   "cell_type": "code",
   "execution_count": 4,
   "metadata": {},
   "outputs": [],
   "source": [
    "emails = ['aekomin@gmail.com', 'komin_ae@mail.ru', '!d@mail.ru', 'd d@mail.ru', 'вфыв@mail.ru', 'sdf@sdf.12345', 'test mail.ru']"
   ]
  },
  {
   "cell_type": "code",
   "execution_count": 7,
   "metadata": {},
   "outputs": [
    {
     "name": "stdout",
     "output_type": "stream",
     "text": [
      "['aekomin@gmail.com']\n",
      "['aekomin@gmail.com', 'komin_ae@mail.ru']\n",
      "['aekomin@gmail.com', 'komin_ae@mail.ru', '!d@mail.ru']\n",
      "['aekomin@gmail.com', 'komin_ae@mail.ru', '!d@mail.ru', 'd d@mail.ru']\n",
      "['aekomin@gmail.com', 'komin_ae@mail.ru', '!d@mail.ru', 'd d@mail.ru', 'вфыв@mail.ru']\n",
      "['aekomin@gmail.com', 'komin_ae@mail.ru', '!d@mail.ru', 'd d@mail.ru', 'вфыв@mail.ru', 'sdf@sdf.12345']\n",
      "['aekomin@gmail.com', 'komin_ae@mail.ru', '!d@mail.ru', 'd d@mail.ru', 'вфыв@mail.ru', 'sdf@sdf.12345']\n"
     ]
    }
   ],
   "source": [
    "# Cначала нашёл это https://tproger.ru/translations/validating-email-right/, \n",
    "# а потом это https://habr.com/ru/post/175375/ и \n",
    "# https://stackoverflow.com/questions/201323/how-to-validate-an-email-address-using-a-regular-expression\n",
    "# ex-parrot.com/~pdw/Mail-RFC822-Address.html\n",
    "\n",
    "my_list = []\n",
    "for email in emails:\n",
    "    email_pattern = r'\\w+@\\w+\\.'\n",
    "    if re.findall(email_pattern, email):\n",
    "        my_list.append(email)\n",
    "    print(my_list)"
   ]
  },
  {
   "cell_type": "markdown",
   "metadata": {},
   "source": [
    "**Задание 3. **\n",
    "Напишите функцию, которая будет удалять все последовательные повторы слов из заданной строки при помощи регулярных выражений."
   ]
  },
  {
   "cell_type": "code",
   "execution_count": 2,
   "metadata": {},
   "outputs": [
    {
     "name": "stdout",
     "output_type": "stream",
     "text": [
      "Введите строчку: Я иду гулять гулять гулять на улицу улицу улицу\n",
      "[('гулять ', 'гулять '), ('улицу ', 'улицу ')]\n",
      "Я иду гулять на улицу\n"
     ]
    }
   ],
   "source": [
    "#Я иду гулять гулять гулять на улицу улицу улицу\n",
    "def remove_repeats():\n",
    "    user_input = input('Введите строчку: ')\n",
    "    pattern = r'\\b(\\w+\\s)(\\1)'\n",
    "    print(re.findall(pattern, user_input))\n",
    "    print(re.sub(pattern, '', user_input))\n",
    "remove_repeats()\n"
   ]
  },
  {
   "cell_type": "markdown",
   "metadata": {},
   "source": [
    "Напишите функцию, которая будет проверять номер сотового телефона на валидность, если он валиден, то переводить его в формат:\n",
    "+7(xxx)-xxx-xx-xx\n",
    "​\n",
    "Постарайтесь предусмотреть как можно больше адекватных форматов изначального ввода номера. Примеры валидных форматов:\n",
    "​\n",
    "• +7 955 555-55-55;\n",
    "• 9555555555;\n",
    "• 8(955)555-55-55;\n",
    "• +7 955 555 55 55;\n",
    "• 7(955) 555-55-55;\n",
    "• +7 955+555+55+55."
   ]
  },
  {
   "cell_type": "code",
   "execution_count": null,
   "metadata": {},
   "outputs": [],
   "source": [
    "phone_list = ['+7 955 555-55-55', '9555555555', '8(955)555-55-55', '+7 955 555 55 55', '7(955) 555-55-55', '+7 955+555+55+55']\n",
    "new_phone_list = []\n",
    "def check_phone_number():\n",
    "    for phone in phone_list:\n",
    "        if re.findall(r'(\\d{3}).{1,2}(\\d{3}).(\\d{2}).(\\d{2})', phone):\n",
    "            groups = re.findall(r'(\\d{3}).{1,2}(\\d{3}).(\\d{2}).(\\d{2})', phone)\n",
    "            s_phone = str('+7' + '(' + groups[0][0] + ')' + '-' +groups[0][1] + '-' + groups[0][2] +'-' + groups[0][3])\n",
    "            new_phone_list.append(s_phone)\n",
    "        elif re.findall(r'(\\d{3})(\\d{3})(\\d{2})(\\d{2})', phone):\n",
    "            s_phone = str('+7' + '(' + groups[0][0] + ')' + '-' +groups[0][1] + '-' + groups[0][2] +'-' + groups[0][3])\n",
    "            new_phone_list.append(s_phone)\n",
    "        else:\n",
    "            new_phone_list.append(phone)\n",
    "    print(new_phone_list)\n",
    "           \n",
    "check_phone_number()"
   ]
  },
  {
   "cell_type": "code",
   "execution_count": null,
   "metadata": {},
   "outputs": [],
   "source": [
    "phone_list = ['+7 955 555-55-55', '9555555555', '8(955)555-55-55', '+7 955 555 55 55', '7(955) 555-55-55', '+7 955+555+55+55']\n",
    "new_phone_list = []\n",
    "#^((8|\\+7)[\\- ]?)?(\\(?\\d{3}\\)?[\\- ]?)?[\\d\\- ]{7,10}$\n",
    "#r'^\\+?[78]?[-\\s\\(]?\\d{3}\\)?[-\\s]?\\d{3}[-\\s]?\\d{2}[-\\s]?\\d{2}$'\n",
    "#pattern = r'^\\+?[78]?[-\\s\\(]?(\\d{3})[\\W]?[\\W]?(\\d{3})[\\W]?(\\d{2})[\\W]?(\\d{2})$'\n",
    "def check_phone_number():\n",
    "    pattern = r'(\\d{3})[\\W]?[\\W]?(\\d{3})[\\W]?(\\d{2})[\\W]?(\\d{2})$'\n",
    "    for phone in phone_list:\n",
    "        if re.findall(pattern, phone):\n",
    "            groups = re.findall(pattern, phone)\n",
    "            s_phone = str('+7' + '(' + groups[0][0] + ')' + '-' +groups[0][1] + '-' + groups[0][2] +'-' + groups[0][3])\n",
    "            new_phone_list.append(s_phone)\n",
    "        else:\n",
    "            new_phone_list.append(phone)\n",
    "    print(new_phone_list)\n",
    "check_phone_number()"
   ]
  },
  {
   "cell_type": "code",
   "execution_count": null,
   "metadata": {},
   "outputs": [],
   "source": []
  }
 ],
 "metadata": {
  "kernelspec": {
   "display_name": "Python 3",
   "language": "python",
   "name": "python3"
  },
  "language_info": {
   "codemirror_mode": {
    "name": "ipython",
    "version": 3
   },
   "file_extension": ".py",
   "mimetype": "text/x-python",
   "name": "python",
   "nbconvert_exporter": "python",
   "pygments_lexer": "ipython3",
   "version": "3.7.6"
  }
 },
 "nbformat": 4,
 "nbformat_minor": 4
}
