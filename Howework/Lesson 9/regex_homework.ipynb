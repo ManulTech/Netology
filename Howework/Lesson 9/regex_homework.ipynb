{
 "cells": [
  {
   "cell_type": "markdown",
   "metadata": {},
   "source": [
    "Задание 1.\n",
    "Напишите функцию, которая принимает на вход строку и проверяет является ли она валидным транспортным номером. Если да, то функция должна возвращать отдельно номер и регион."
   ]
  },
  {
   "cell_type": "code",
   "execution_count": 2,
   "metadata": {},
   "outputs": [],
   "source": [
    "import re"
   ]
  },
  {
   "cell_type": "code",
   "execution_count": 81,
   "metadata": {},
   "outputs": [
    {
     "name": "stdout",
     "output_type": "stream",
     "text": [
      "Введите госномер:  а558ХС777\n",
      "Номер указан некорретно\n"
     ]
    }
   ],
   "source": [
    "def check_gos_nomer():\n",
    "    user_input = input('Введите госномер: ')\n",
    "    gos_pattern = r'(^[авекмнорстухАВЕКМНОРСТУХ]\\d{3}[авекмнорстухАВЕКМНОРСТУХ]{2})(\\d{3})$'\n",
    "    if re.findall(gos_pattern, user_input):\n",
    "        print('Номер: ', re.findall(gos_pattern, user_input)[0][0])\n",
    "        print('Регион: ', re.findall(gos_pattern, user_input)[0][1])\n",
    "    else:\n",
    "        print('Номер указан некорретно')\n",
    "check_gos_nomer()"
   ]
  },
  {
   "cell_type": "markdown",
   "metadata": {},
   "source": [
    "Задание 2.\n",
    "Постарайтесь написать (в крайнем случае найти) самый полный шаблон для проверки e-mail адресов через регулярное выражение, которая проверяет e-mail адрес на валидность. Можно руководствоваться следующими минимальными требованиями:\n",
    "• адрес должен содержать специальный символ “@”, который отделяет имя пользователя почтовой системы от доменного имени;\n",
    "• адрес не должен содержать следующие символы: “пробел”, “,”, “:”, “;”, “!”, “#”, “%”, “*”, “(”, “)”, “=”, “+”, “{”, “}”, \" \" \", \" ’ \", \" / \", \" \\ \" и “|”;\n",
    "• адрес должен состоять только из латинских символов;\n",
    "• после символа “@” должна быть как минимум одна “.”;\n",
    "• после последней точки должно быть не менее 2-х и не более 4-х символов, причем наличие цифр не допускается;\n",
    "• между последней точкой и символом “@” должно быть не менее 2-х символов\n",
    "• слева от “@” должно быть не менее четырех символов"
   ]
  },
  {
   "cell_type": "code",
   "execution_count": 65,
   "metadata": {},
   "outputs": [],
   "source": [
    "emails = ['aekomin@gmail.com', 'komin_ae@mail.ru', '!d@mail.ru', 'd d@mail.ru', 'вфыв@mail.ru', 'sdf@sdf.12345', 'test mail.ru']"
   ]
  },
  {
   "cell_type": "code",
   "execution_count": 76,
   "metadata": {},
   "outputs": [
    {
     "name": "stdout",
     "output_type": "stream",
     "text": [
      "['aekomin@gmail.com']\n",
      "['aekomin@gmail.com', 'komin_ae@mail.ru']\n",
      "['aekomin@gmail.com', 'komin_ae@mail.ru', '!d@mail.ru']\n",
      "['aekomin@gmail.com', 'komin_ae@mail.ru', '!d@mail.ru', 'd d@mail.ru']\n",
      "['aekomin@gmail.com', 'komin_ae@mail.ru', '!d@mail.ru', 'd d@mail.ru', 'вфыв@mail.ru']\n",
      "['aekomin@gmail.com', 'komin_ae@mail.ru', '!d@mail.ru', 'd d@mail.ru', 'вфыв@mail.ru', 'sdf@sdf.12345']\n"
     ]
    }
   ],
   "source": [
    "#я сдался. сначала нашёл это https://tproger.ru/translations/validating-email-right/, а потом это https://habr.com/ru/post/175375/\n",
    "my_list = []\n",
    "for email in emails:\n",
    "    email_pattern = r'[^ ]([A-Za-z0-9_]*)@([A-Za-z0-9_]*)'\n",
    "    if re.findall(email_pattern, email):\n",
    "        my_list.append(email)\n",
    "    print(my_list)"
   ]
  },
  {
   "cell_type": "markdown",
   "metadata": {},
   "source": [
    "**Задание 3. **\n",
    "Напишите функцию, которая будет удалять все последовательные повторы слов из заданной строки при помощи регулярных выражений."
   ]
  },
  {
   "cell_type": "code",
   "execution_count": 127,
   "metadata": {},
   "outputs": [
    {
     "name": "stdout",
     "output_type": "stream",
     "text": [
      "Введите строчку: Я я иду гулять гулять гулять на улицу улицу улицу\n",
      "['гулять ', 'улицу ']\n",
      "Я я иду гулять на улицу\n"
     ]
    }
   ],
   "source": [
    "#Я иду гулять гулять гулять на улицу улицу улицу\n",
    "def remove_repeats():\n",
    "    user_input = input('Введите строчку: ')\n",
    "    pattern = r'\\b(\\w+\\s)(?:\\1)'\n",
    "    print(re.findall(pattern, user_input))\n",
    "    print(re.sub(pattern, '', user_input))\n",
    "remove_repeats()\n"
   ]
  },
  {
   "cell_type": "markdown",
   "metadata": {},
   "source": [
    "Напишите функцию, которая будет проверять номер сотового телефона на валидность, если он валиден, то переводить его в формат:\n",
    "+7(xxx)-xxx-xx-xx\n",
    "​\n",
    "Постарайтесь предусмотреть как можно больше адекватных форматов изначального ввода номера. Примеры валидных форматов:\n",
    "​\n",
    "• +7 955 555-55-55;\n",
    "• 9555555555;\n",
    "• 8(955)555-55-55;\n",
    "• +7 955 555 55 55;\n",
    "• 7(955) 555-55-55;\n",
    "• +7 955+555+55+55."
   ]
  },
  {
   "cell_type": "code",
   "execution_count": null,
   "metadata": {},
   "outputs": [],
   "source": [
    "phone_list = ['+7 955 555-55-55', '9555555555', '8(955)555-55-55', '+7 955 555 55 55', '7(955) 555-55-55', '+7 955+555+55+55']\n",
    "def check_phone_number():\n",
    "    pattern = r''"
   ]
  }
 ],
 "metadata": {
  "kernelspec": {
   "display_name": "Python 3",
   "language": "python",
   "name": "python3"
  },
  "language_info": {
   "codemirror_mode": {
    "name": "ipython",
    "version": 3
   },
   "file_extension": ".py",
   "mimetype": "text/x-python",
   "name": "python",
   "nbconvert_exporter": "python",
   "pygments_lexer": "ipython3",
   "version": "3.7.6"
  }
 },
 "nbformat": 4,
 "nbformat_minor": 4
}
