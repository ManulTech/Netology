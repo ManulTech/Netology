{
 "cells": [
  {
   "cell_type": "markdown",
   "metadata": {},
   "source": [
    "Домашнее задание¶\n",
    "\n",
    "Переведите содержимое файла purchase_log.txt в словарь purchases вида:\n",
    "{'1840e0b9d4': 'Продукты', ...}"
   ]
  },
  {
   "cell_type": "code",
   "execution_count": 27,
   "metadata": {},
   "outputs": [],
   "source": [
    "import json\n",
    "\n",
    "i = 0\n",
    "purchases = {}\n",
    "with open('purchase_log.txt', 'r', encoding='UTF-8') as f:\n",
    "    for line in f:\n",
    "        purchases[json.loads(line)['user_id']] = json.loads(line)['category']\n",
    "#         i += 1\n",
    "#         if i > 5:\n",
    "#             break\n",
    "\n",
    "del(purchases['user_id']) # есть решение лучше? Может быть можно как-то пропустить первую строчку в файле? \n",
    "#Можно написать условие через enumerate, но, вероятно это добавит нагрузку, если файл большой. То есть будет проверять условие каждый раз. А нужно, по сути, проверить только один, первый раз\n",
    "\n",
    "# print(purchases)\n",
    "f.close()"
   ]
  },
  {
   "attachments": {
    "image.png": {
     "image/png": "[encoded data removed]"
    }
   },
   "cell_type": "markdown",
   "metadata": {},
   "source": [
    "Для каждого user_id в файле visit_log.csv определите третий столбец с категорией покупки (если покупка была, сам файл visit_log.csv изменять не надо). Запишите в файл funnel.csv визиты из файла visit_log.csv, в которых были покупки с указанием категории.\n",
    "Учтите условия на данные:\n",
    "    содержимое purchase_log.txt помещается в оперативную память компьютера\n",
    "    содержимое visit_log.csv - нет; используйте только построчную обработку этого файла\n",
    "\n",
    "purchase_log.txt\n",
    "{\"user_id\": \"user_id\", \"category\": \"category\"}\n",
    "{\"user_id\": \"1840e0b9d4\", \"category\": \"Продукты\"}\n",
    "{\"user_id\": \"4e4f90fcfb\", \"category\": \"Электроника\"}\n",
    "{\"user_id\": \"afea8d72fc\", \"category\": \"Электроника\"}\n",
    "{\"user_id\": \"373a6055fe\", \"category\": \"Бытовая техника\"}\n",
    "\n",
    "visit_log.csv\n",
    "user_id,source\n",
    "6450655ae8,other\n",
    "b4ea53e670,other\n",
    "0e37347152,other\n",
    "96064ae9e0,other\n",
    "![image.png](attachment:image.png)"
   ]
  },
  {
   "cell_type": "code",
   "execution_count": 44,
   "metadata": {},
   "outputs": [],
   "source": [
    "# line = None\n",
    "# with open('purchase_log.txt', 'r', encoding='UTF-8') as f1:\n",
    "#     purchase_log = f1.readlines()\n",
    "# f1.close()\n",
    "# i = 1\n",
    "with open('visit_log.csv', 'r', encoding='UTF-8') as f2:\n",
    "    for line in f2:\n",
    "        line = line.strip().split(',')\n",
    "        if line[0] in purchases:\n",
    "            outcome = str(line[0]) + ',' + str(line[1]) + ',' + str(purchases[line[0]]) + '\\n'\n",
    "#             print(outcome)\n",
    "#             print(line[0], line[1], purchases[line[0]])\n",
    "            with open('funnel.csv', 'a') as f3:\n",
    "                f3.write(outcome)\n",
    "\n",
    "        \n",
    "    \n",
    "    \n",
    "f1.close()\n",
    "f2.close()\n",
    "f3.close()"
   ]
  }
 ],
 "metadata": {
  "kernelspec": {
   "display_name": "Python 3",
   "language": "python",
   "name": "python3"
  },
  "language_info": {
   "codemirror_mode": {
    "name": "ipython",
    "version": 3
   },
   "file_extension": ".py",
   "mimetype": "text/x-python",
   "name": "python",
   "nbconvert_exporter": "python",
   "pygments_lexer": "ipython3",
   "version": "3.7.6"
  }
 },
 "nbformat": 4,
 "nbformat_minor": 4
}
