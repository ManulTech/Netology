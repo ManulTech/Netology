{
 "cells": [
  {
   "cell_type": "code",
   "execution_count": 1,
   "metadata": {},
   "outputs": [
    {
     "name": "stdout",
     "output_type": "stream",
     "text": [
      "дети 6\n",
      "школьники 3\n",
      "студенты 1\n",
      "аспиранты 4\n",
      "молодые ученые 1\n",
      "преподаватели 2\n",
      "Список кончился. Нет элемента с индексом 23\n"
     ]
    }
   ],
   "source": [
    "#интервалы. Много потратил времени. В переписке в слэк не понял, в чём разница между перебором и сравнением из списка.\n",
    "# Не уверен, правильное ли решение.\n",
    "data = [1, 1, 1, 1, 5, 6, 7, 7, 8, 17, 23, 24, 24, 26, 27, 35, 45, 65, 65, 65, 66, 67, 67]\n",
    "ages = {\n",
    "    1: 'дети',\n",
    "    7: 'школьники',\n",
    "    17: 'студенты',\n",
    "    23: 'аспиранты',\n",
    "    27: 'молодые ученые',\n",
    "    35: 'преподаватели',\n",
    "    65: 'пенсионеры',\n",
    "}\n",
    "\n",
    "# print(len(data))\n",
    "def get_closest_value(my_list):\n",
    "    rev_dict = {}\n",
    "    i = 0\n",
    "    while i <= 100:\n",
    "        if i < 7:\n",
    "            rev_dict[i] = 'дети'\n",
    "        elif i < 17:\n",
    "            rev_dict[i] = 'школьники'\n",
    "        elif i < 23:\n",
    "            rev_dict[i] = 'студенты'\n",
    "        elif i < 27:\n",
    "            rev_dict[i] = 'аспиранты'\n",
    "        elif i < 35:\n",
    "            rev_dict[i] = 'молодые ученые'\n",
    "        elif i < 65:\n",
    "            rev_dict[i] = 'преподаватели'\n",
    "        else:\n",
    "            rev_dict[i] = 'пенсионеры'\n",
    "        i += 1\n",
    "        \n",
    "    index = 0\n",
    "    num = 0\n",
    "    for item in my_list:        \n",
    "        try:\n",
    "            if rev_dict[item] == rev_dict[my_list[index + 1]]:\n",
    "                num += 1\n",
    "            else:\n",
    "                num += 1\n",
    "                print(rev_dict[item], num)\n",
    "                num = 0\n",
    "        except IndexError:\n",
    "            print('Список кончился. Нет элемента с индексом', index + 1)\n",
    "        index += 1\n",
    "get_closest_value(data)"
   ]
  },
  {
   "cell_type": "code",
   "execution_count": 2,
   "metadata": {
    "scrolled": true
   },
   "outputs": [
    {
     "data": {
      "text/plain": [
       "7"
      ]
     },
     "execution_count": 2,
     "metadata": {},
     "output_type": "execute_result"
    }
   ],
   "source": [
    "#перебор\n",
    "data = [1, 7, 17, 23, 27, 35, 65]\n",
    "n = 17\n",
    "def get_closest_value(source, x):\n",
    "    i = 0\n",
    "    try:\n",
    "        while x > source[i]:                    \n",
    "            i += 1\n",
    "    except IndexError as index:\n",
    "        print('Закончился список, а искомый элемент всё ещё не найден', index)            \n",
    "    value = source[i - 1]\n",
    "    return value  \n",
    "    \n",
    "get_closest_value(data, n)     "
   ]
  },
  {
   "cell_type": "code",
   "execution_count": 4,
   "metadata": {},
   "outputs": [
    {
     "name": "stdout",
     "output_type": "stream",
     "text": [
      "17\n",
      "ID = 2\n"
     ]
    }
   ],
   "source": [
    "#https://younglinux.info/algorithm/dichotomyю. Не ваш ли это блог?\n",
    "# суть ясна. Находим серидину списка, сравниваем элемент с искомым. Понимаем,влево или вправо двигаться, снова находим середину и т.д.\n",
    "# до тех пор, пока не найдём элемент\n",
    "#перебор\n",
    "data = [1, 7, 17, 23, 27, 35, 65]\n",
    "value = int(input())\n",
    " \n",
    " \n",
    "mid = len(data) // 2\n",
    "low = 0\n",
    "high = len(data) - 1\n",
    " \n",
    "while data[mid] != value and low <= high:\n",
    "    if value > data[mid]:\n",
    "        low = mid + 1\n",
    "    else:\n",
    "        high = mid - 1\n",
    "    mid = (low + high) // 2\n",
    " \n",
    "if low > high:\n",
    "    print(\"No value\")\n",
    "else:\n",
    "    print(\"ID =\", mid)\n"
   ]
  },
  {
   "cell_type": "code",
   "execution_count": null,
   "metadata": {},
   "outputs": [],
   "source": [
    "#Задание 1\n",
    "#Напишите функцию date_range, которая возвращает список дней между датами start_date и end_date. \n",
    "#Даты должны вводиться в формате YYYY-MM-DD\n",
    "\n",
    "\n",
    "def date_range():\n",
    "    from datetime import datetime\n",
    "    try:\n",
    "        start = datetime.strptime(input('Дата начала YYYY-MM-DD: '), '%Y-%m-%d')\n",
    "        end = datetime.strptime(input('Дата конца YYYY-MM-DD: '), '%Y-%m-%d')\n",
    "        if start > end:\n",
    "            print([])\n",
    "        else:\n",
    "            timedelta = end - start\n",
    "            print(timedelta)\n",
    "    except ValueError as e:\n",
    "        print('Некорректно указано время', e)\n",
    "\n",
    "date_range()"
   ]
  },
  {
   "cell_type": "code",
   "execution_count": null,
   "metadata": {},
   "outputs": [],
   "source": [
    "stream = ['2018-04-02', '2018-02-29', '2018-19-02']\n",
    "from datetime import datetime\n",
    "def date_match(x):\n",
    "    for date in stream:\n",
    "        try:\n",
    "            date == datetime.strptime(date, '%Y-%m-%d')\n",
    "            print(date, True)\n",
    "        except ValueError as err:\n",
    "            print(date, False, 'Некорректно указана дата:', err)\n",
    "date_match(stream)        "
   ]
  },
  {
   "cell_type": "code",
   "execution_count": null,
   "metadata": {},
   "outputs": [],
   "source": [
    "default_list=['A100', 'A101', 'A102']"
   ]
  },
  {
   "cell_type": "code",
   "execution_count": null,
   "metadata": {},
   "outputs": [],
   "source": [
    "# Тут длина списка default_list до удаления элемента равна 3. Индексы 0, 1, 2. После первого удаления длина 2, индексы 0, 1.\n",
    "# После повторного удаления длина 1, индекс 0. Но default_list[DEFAULT_USER_COUNT-2] обращается к элементу с индексом 1,\n",
    "# которого в списке больше нет. Ошибка IndexError: list index out of range значит, что нет элемента в списке с этим индексом.\n",
    "DEFAULT_USER_COUNT = 3\n",
    "def delete_and_return_last_user(default_list):\n",
    "    element_to_delete = default_list[-1]\n",
    "    default_list.remove(element_to_delete)\n",
    "    return default_list[DEFAULT_USER_COUNT-2]\n",
    "delete_and_return_last_user(default_list)"
   ]
  }
 ],
 "metadata": {
  "kernelspec": {
   "display_name": "Python 3",
   "language": "python",
   "name": "python3"
  },
  "language_info": {
   "codemirror_mode": {
    "name": "ipython",
    "version": 3
   },
   "file_extension": ".py",
   "mimetype": "text/x-python",
   "name": "python",
   "nbconvert_exporter": "python",
   "pygments_lexer": "ipython3",
   "version": "3.7.6"
  }
 },
 "nbformat": 4,
 "nbformat_minor": 4
}
