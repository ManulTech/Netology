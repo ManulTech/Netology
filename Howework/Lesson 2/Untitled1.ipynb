{
 "cells": [
  {
   "cell_type": "code",
   "execution_count": 4,
   "metadata": {},
   "outputs": [
    {
     "name": "stdout",
     "output_type": "stream",
     "text": [
      "Символов в длинной фразе 62\n",
      "Символов в короткой фразе 61\n"
     ]
    },
    {
     "data": {
      "text/plain": [
       "True"
      ]
     },
     "execution_count": 4,
     "metadata": {},
     "output_type": "execute_result"
    }
   ],
   "source": [
    "#Задание 1\n",
    "\n",
    "long_phrase = 'Насколько проще было бы писать программы, если бы не заказчики'\n",
    "short_phrase = '640Кб должно хватить для любых задач. Билл Гейтс (по легенде)'\n",
    "print('Символов в длинной фразе', len(long_phrase))\n",
    "print('Символов в короткой фразе', len(short_phrase))\n",
    "len(long_phrase) > len(short_phrase)\n",
    "\n"
   ]
  },
  {
   "cell_type": "code",
   "execution_count": 5,
   "metadata": {},
   "outputs": [
    {
     "name": "stdout",
     "output_type": "stream",
     "text": [
      "Введите размер файла в байтах: 1048576\n",
      "Объем файла равен  1.00 Mb\n"
     ]
    }
   ],
   "source": [
    "#Задание 2\n",
    "\n",
    "file_size_bytes = int(input('Введите размер файла в байтах: '))\n",
    "file_size_megabytes = file_size_bytes / (2**20)\n",
    "print('Объем файла равен ', '%.2f' % file_size_megabytes, 'Mb')"
   ]
  },
  {
   "cell_type": "code",
   "execution_count": 6,
   "metadata": {},
   "outputs": [
    {
     "name": "stdout",
     "output_type": "stream",
     "text": [
      "Введите месяц: 5\n",
      "Введите число: 16\n",
      "Телец\n"
     ]
    }
   ],
   "source": [
    "# Задание 3\n",
    "\n",
    "jan = 31\n",
    "feb = jan + 29\n",
    "mar = feb + 31\n",
    "apr = mar + 30\n",
    "may = apr + 31\n",
    "jun = may + 30\n",
    "jul = jun + 31\n",
    "aug = jul + 31\n",
    "sep = aug + 30\n",
    "october = sep + 31\n",
    "nov = october + 30\n",
    "dec = nov + 31\n",
    "\n",
    "month_of_birth = input('Введите месяц: ')\n",
    "month_of_birth = month_of_birth.lower()\n",
    "if month_of_birth == \"январь\" or month_of_birth == \"1\" or month_of_birth == \"01\":\n",
    "    month_number = 1   \n",
    "elif month_of_birth == \"февраль\" or month_of_birth == \"2\" or month_of_birth == \"02\":\n",
    "    month_number = 2\n",
    "elif month_of_birth == \"март\" or month_of_birth == \"3\" or month_of_birth == \"03\":\n",
    "    month_number = 3\n",
    "elif month_of_birth == \"апрель\" or month_of_birth == \"4\" or month_of_birth == \"04\":\n",
    "    month_number = 4\n",
    "elif month_of_birth == \"май\" or month_of_birth == \"5\" or month_of_birth == \"05\":\n",
    "    month_number = 5\n",
    "elif month_of_birth == \"июнь\" or month_of_birth == \"6\" or month_of_birth == \"06\":\n",
    "    month_number = 6\n",
    "elif month_of_birth == \"июль\" or month_of_birth == \"7\" or month_of_birth == \"07\":\n",
    "    month_number = 7\n",
    "elif month_of_birth == \"август\" or month_of_birth == \"8\" or month_of_birth == \"08\":\n",
    "    month_number = 8\n",
    "elif month_of_birth == \"сентябрь\" or month_of_birth == \"9\" or month_of_birth == \"09\":\n",
    "    month_number = 9\n",
    "elif month_of_birth == \"октябрь\" or month_of_birth == \"10\" or month_of_birth == \"10\":\n",
    "    month_number = 10\n",
    "elif month_of_birth == \"ноябрь\" or month_of_birth == \"11\" or month_of_birth == \"11\":\n",
    "    month_number = 11\n",
    "elif month_of_birth == \"декабрь\" or month_of_birth == \"12\" or month_of_birth == \"12\":\n",
    "    month_number = 12   \n",
    "else:\n",
    "    print('Месяц задан неверно')\n",
    "    \n",
    "date_of_birth = input('Введите число: ')\n",
    "while not date_of_birth.isdigit():\n",
    "    date_of_birth = input('Введите корректное число: ')\n",
    "    date_of_birth = int(date_of_birth)\n",
    "    \n",
    "while int(date_of_birth) > 31:   \n",
    "    date_of_birth = input('Введите корректное число: ')\n",
    "    date_of_birth = int(date_of_birth)\n",
    "\n",
    "date_of_birth = int(date_of_birth)\n",
    "\n",
    "#print (type(mar), type(date_of_birth))\n",
    "\n",
    "if month_number == 1:\n",
    "    days_past_from_the_begining_of_year = date_of_birth\n",
    "elif month_number == 2:\n",
    "    days_past_from_the_begining_of_year = jan + date_of_birth\n",
    "elif month_number == 3:\n",
    "    days_past_from_the_begining_of_year = feb + date_of_birth\n",
    "elif month_number == 4:\n",
    "    days_past_from_the_begining_of_year = mar + date_of_birth\n",
    "elif month_number == 5:\n",
    "    days_past_from_the_begining_of_year = apr + date_of_birth\n",
    "elif month_number == 6:\n",
    "    days_past_from_the_begining_of_year = may + date_of_birth\n",
    "elif month_number == 7:\n",
    "    days_past_from_the_begining_of_year = jun + date_of_birth\n",
    "elif month_number == 8:\n",
    "    days_past_from_the_begining_of_year = jul + date_of_birth\n",
    "elif month_number == 9:\n",
    "    days_past_from_the_begining_of_year = aug + date_of_birth\n",
    "elif month_number == 10:\n",
    "    days_past_from_the_begining_of_year = october + date_of_birth\n",
    "elif month_number == 11:\n",
    "    days_past_from_the_begining_of_year = nov + date_of_birth\n",
    "elif month_number == 12:\n",
    "    days_past_from_the_begining_of_year = 366\n",
    "\n",
    "days_past_from_the_begining_of_year = int(days_past_from_the_begining_of_year)\n",
    "#print (days_past_from_the_begining_of_year)\n",
    "\n",
    "if days_past_from_the_begining_of_year < 21 or days_past_from_the_begining_of_year > 356:\n",
    "    print (\"Козерог\")\n",
    "elif days_past_from_the_begining_of_year < 50:\n",
    "    print ('Водолей')\n",
    "elif days_past_from_the_begining_of_year < 81:\n",
    "    print ('Рыбы')\n",
    "elif days_past_from_the_begining_of_year < 112:\n",
    "    print ('Овен')\n",
    "elif days_past_from_the_begining_of_year < 143:\n",
    "    print ('Телец')\n",
    "elif days_past_from_the_begining_of_year < 174:\n",
    "    print ('Близнецы')\n",
    "elif days_past_from_the_begining_of_year < 205:\n",
    "    print ('Рак')\n",
    "elif days_past_from_the_begining_of_year < 236:\n",
    "    print ('Лев')\n",
    "elif days_past_from_the_begining_of_year < 267:\n",
    "    print ('Дева')\n",
    "elif days_past_from_the_begining_of_year < 298:\n",
    "    print ('Весы')\n",
    "elif days_past_from_the_begining_of_year < 328:\n",
    "    print ('Скорпион')\n",
    "elif days_past_from_the_begining_of_year < 357:\n",
    "    print ('Стрелец')"
   ]
  },
  {
   "cell_type": "code",
   "execution_count": 7,
   "metadata": {},
   "outputs": [
    {
     "name": "stdout",
     "output_type": "stream",
     "text": [
      "Введите зарплату 100000\n",
      "Введите % на ипотеку от вашей зарплаты, % 30\n",
      "Введите % на жизнь от вашей зарплаты 50\n",
      "Количество премий в этом году 2\n",
      "На ипотеку было потрачено:  360000.0  рублей Было накоплено:  340000.0  рублей\n"
     ]
    }
   ],
   "source": [
    "#Задание 4\n",
    "\n",
    "user_monthly_salary = input ('Введите зарплату ')\n",
    "user_monthly_salary = int(user_monthly_salary)\n",
    "percent_ipoteca = input ('Введите % на ипотеку от вашей зарплаты, % ')\n",
    "percent_ipoteca = int(percent_ipoteca)\n",
    "percent_for_life = input ('Введите % на жизнь от вашей зарплаты ')\n",
    "percent_for_life = int(percent_for_life)\n",
    "number_of_bonus = input('Количество премий в этом году ')\n",
    "number_of_bonus = int(number_of_bonus)\n",
    "money_for_ipoteca_per_month = user_monthly_salary * percent_ipoteca / 100\n",
    "money_for_life_per_month = user_monthly_salary * percent_for_life / 100\n",
    "rest_money = user_monthly_salary - money_for_ipoteca_per_month - money_for_life_per_month\n",
    "\n",
    "#print(rest_money, type(rest_money))\n",
    "user_salary_bonus = user_monthly_salary\n",
    "money_for_ipoteca_per_year = money_for_ipoteca_per_month * 12 \n",
    "\n",
    "if number_of_bonus == 1:\n",
    "    user_accummulated_money = (rest_money * 12) + (user_salary_bonus / 2)    \n",
    "elif number_of_bonus == 2:\n",
    "    user_accummulated_money = (rest_money * 12) + user_salary_bonus\n",
    "print('На ипотеку было потрачено: ', money_for_ipoteca_per_year, ' рублей', 'Было накоплено: ', user_accummulated_money, ' рублей')\n",
    "\n"
   ]
  }
 ],
 "metadata": {
  "kernelspec": {
   "display_name": "Python 3",
   "language": "python",
   "name": "python3"
  },
  "language_info": {
   "codemirror_mode": {
    "name": "ipython",
    "version": 3
   },
   "file_extension": ".py",
   "mimetype": "text/x-python",
   "name": "python",
   "nbconvert_exporter": "python",
   "pygments_lexer": "ipython3",
   "version": "3.7.6"
  }
 },
 "nbformat": 4,
 "nbformat_minor": 4
}
