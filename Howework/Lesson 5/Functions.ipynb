{
 "cells": [
  {
   "cell_type": "code",
   "execution_count": null,
   "metadata": {},
   "outputs": [],
   "source": [
    "documents = [\n",
    "    {'type': 'passport', 'number': '2207 876234', 'name': 'Василий Гупкин'},\n",
    "    {'type': 'invoice', 'number': '11-2', 'name': 'Геннадий Покемонов'},\n",
    "    {'type': 'insurance', 'number': '10006', 'name': 'Аристарх Павлов'}\n",
    "]\n",
    "\n",
    "directories = {\n",
    "    '1': ['2207 876234', '11-2'],\n",
    "    '2': ['10006'],\n",
    "    '3': []\n",
    "}"
   ]
  },
  {
   "cell_type": "code",
   "execution_count": null,
   "metadata": {},
   "outputs": [],
   "source": [
    "#p – people – команда, которая спросит номер документа и выведет имя человека, которому он принадлежит;\n",
    "def people_search_by(doc_num):\n",
    "    doc_id = input('Введите номер документа: ')\n",
    "    for person in doc_num:\n",
    "        if person['number'] == doc_id:\n",
    "            print('Имя человека: ', person['name'])\n",
    "            result = person['name']\n",
    "    return result "
   ]
  },
  {
   "cell_type": "code",
   "execution_count": null,
   "metadata": {},
   "outputs": [],
   "source": [
    "#s – shelf – команда, которая спросит номер документа и выведет номер полки, на которой он находится\n",
    "def shelf_search_by(doc_num, shelf_dict):\n",
    "    doc_id = input('Введите номер документа: ')\n",
    "    i = 0\n",
    "    for person in doc_num:\n",
    "        if person['number'] == doc_id:\n",
    "            i += 1\n",
    "            for key, value in shelf_dict.items():                 \n",
    "                if doc_id in value:\n",
    "                    result = 'Номер полки ' + str(key)\n",
    "    if i == 0:\n",
    "        result = 'Документ с таким номером не найден'\n",
    "    return result\n",
    "\n",
    "# shelf_search_by(documents, directories)\n",
    "\n",
    "   "
   ]
  },
  {
   "cell_type": "code",
   "execution_count": null,
   "metadata": {},
   "outputs": [],
   "source": [
    "#l – list – команда, которая выведет список всех документов в формате\n",
    "def doc_print(doc_num):\n",
    "    result = ''\n",
    "    for person in doc_num:\n",
    "        for value in person.values():       \n",
    "#             result = result + value + ' ' + '\\n'\n",
    "            result = str(f'{result} {value} \\n')\n",
    "    return result\n",
    "# doc_print(documents)"
   ]
  },
  {
   "cell_type": "code",
   "execution_count": null,
   "metadata": {},
   "outputs": [],
   "source": [
    "#as – add shelf – команда, которая спросит номер новой полки и добавит ее в перечень\n",
    "def add_new_shelf(shelf_dict):\n",
    "    shelf_num = int(input('Введите номер полки, которую хотите добавить: '))\n",
    "    for x in shelf_dict:\n",
    "        if not shelf_num in shelf_dict.keys():\n",
    "            shelf_dict[shelf_num] = ''\n",
    "            result = str(shelf_dict)\n",
    "        else:\n",
    "            print('Такая полка уже существует')\n",
    "            result = shelf_dict\n",
    "        return result"
   ]
  },
  {
   "cell_type": "code",
   "execution_count": null,
   "metadata": {},
   "outputs": [],
   "source": [
    "#d – delete – команда, которая спросит номер документа и удалит его из каталога и из перечня полок\n",
    "def delete_shell_from(doc_num, shelf_dict):\n",
    "    doc_id = input('Введите номер документа: ')\n",
    "    i = 0\n",
    "    for person in doc_num:\n",
    "        if person['number'] == doc_id:\n",
    "            i += 1\n",
    "            person['number'] = ''\n",
    "            for key, value in shelf_dict.items():                 \n",
    "                if doc_id in value:\n",
    "                    value.remove(doc_id)\n",
    "                    result = str(value)\n",
    "                    print (f'После удаления {person}, {result}')\n",
    "    if i == 0:\n",
    "        result = 'Документ с таким номером не найден'\n",
    "    return result\n",
    "delete_shell_from(documents, directories)"
   ]
  },
  {
   "cell_type": "code",
   "execution_count": null,
   "metadata": {},
   "outputs": [],
   "source": [
    "#m – move – команда, которая спросит номер документа и целевую полку и переместит его с текущей полки на целевую\n",
    "def move_shelf_by(shelf_dict):\n",
    "    doc_id = input('Введите номер документа: ')    \n",
    "    i = 0\n",
    "    for key, value in shelf_dict.items():\n",
    "        if doc_id in value:\n",
    "            i += 1\n",
    "            doc_shelf = key #номер текущей полки документа\n",
    "            value.remove(doc_id)\n",
    "            shelf_id = input(f'Документ c номером {doc_id} найден. Введите номер полки для перемещения: ')\n",
    "            break\n",
    "    if i == 0:\n",
    "        result = 'Документ с таким номером не найден'\n",
    "#     elif 0 > int(shelf_id) <= len(shelf_dict):\n",
    "    elif int(shelf_id) <= len(shelf_dict):\n",
    "        shelf_dict[shelf_id].append(doc_id)\n",
    "        result = shelf_dict\n",
    "        print(result)\n",
    "    else:\n",
    "        result = 'Номер полки указан некорретно'\n",
    "    return result \n",
    "# move_shelf_by(directories)"
   ]
  },
  {
   "cell_type": "code",
   "execution_count": 7,
   "metadata": {},
   "outputs": [],
   "source": [
    "#a – add – команда, которая добавит новый документ в каталог и в перечень полок, \n",
    "# спросив его номер, тип, имя владельца и номер полки, на котором он будет храниться\n",
    "def add_new_doc(doc_num, shelf_dict):\n",
    "    doc_type = input('Введите тип документа: ')\n",
    "    doc_id = input('Введите номер документа: ')\n",
    "    doc_fio = input('Введите ФИО: ')\n",
    "    shelf_id = input('Введите номер полки: ')\n",
    "    doc_num.append({'type': doc_type, 'number': doc_id, 'name': doc_fio})  \n",
    "    if shelf_id in shelf_dict:\n",
    "        shelf_dict[shelf_id].append(doc_id)\n",
    "    else:\n",
    "        user_input = input('Полки с таким номером нет. Хотите добавить? Y/N')\n",
    "        if user_input == 'y' or 'Y':\n",
    "            shelf_dict[shelf_id] = [doc_id]\n",
    "        elif user_input == 'n' or 'N':\n",
    "            main()\n",
    "    print(doc_num)\n",
    "    print(shelf_dict)\n",
    "# add_new_doc(documents, directories)"
   ]
  },
  {
   "cell_type": "code",
   "execution_count": 8,
   "metadata": {},
   "outputs": [
    {
     "name": "stdout",
     "output_type": "stream",
     "text": [
      "Введите команду (p, s, l, as, d, m, a, q):a\n",
      "Введите тип документа: 222\n",
      "Введите номер документа: 222\n",
      "Введите ФИО: 222\n",
      "Введите номер полки: 6\n",
      "Полки с таким номером нет. Хотите добавить? Y/Ny\n",
      "[{'type': 'passport', 'number': '2207 876234', 'name': 'Василий Гупкин'}, {'type': 'invoice', 'number': '11-2', 'name': 'Геннадий Покемонов'}, {'type': 'insurance', 'number': '10006', 'name': 'Аристарх Павлов'}, {'type': '222', 'number': '222', 'name': '222'}]\n",
      "{'1': ['2207 876234', '11-2'], '2': ['10006'], '3': [], '6': ['222']}\n",
      "Введите команду (p, s, l, as, d, m, a, q):n\n"
     ]
    }
   ],
   "source": [
    "def main(): \n",
    "    while True:\n",
    "        user_input = input('Введите команду (p, s, l, as, d, m, a, q):')\n",
    "        if user_input == 'p':\n",
    "            people_search_by(documents)\n",
    "        elif user_input == 's':\n",
    "            shelf_search_by(documents, directories)\n",
    "        elif user_input == 'l':\n",
    "            doc_print(documents)\n",
    "        elif user_input == 'as':\n",
    "            add_new_shelf(directories)\n",
    "        elif user_input == 'd':\n",
    "            delete_shell_from(documents, directories)\n",
    "        elif user_input == 'm':\n",
    "            move_shelf_by(directories)\n",
    "        elif user_input == 'a':\n",
    "            add_new_doc(documents, directories)\n",
    "        else:\n",
    "            break\n",
    "main()\n"
   ]
  },
  {
   "cell_type": "code",
   "execution_count": null,
   "metadata": {},
   "outputs": [],
   "source": []
  }
 ],
 "metadata": {
  "kernelspec": {
   "display_name": "Python 3",
   "language": "python",
   "name": "python3"
  },
  "language_info": {
   "codemirror_mode": {
    "name": "ipython",
    "version": 3
   },
   "file_extension": ".py",
   "mimetype": "text/x-python",
   "name": "python",
   "nbconvert_exporter": "python",
   "pygments_lexer": "ipython3",
   "version": "3.7.6"
  }
 },
 "nbformat": 4,
 "nbformat_minor": 4
}
